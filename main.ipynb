{
 "cells": [
  {
   "cell_type": "code",
   "execution_count": 205,
   "metadata": {},
   "outputs": [],
   "source": [
    "import pandas as pd\n",
    "import numpy as np\n",
    "import matplotlib\n",
    "import matplotlib.pyplot as plt\n",
    "import seaborn as sns\n",
    "from datetime import datetime"
   ]
  },
  {
   "cell_type": "markdown",
   "metadata": {},
   "source": [
    "# Introdução"
   ]
  },
  {
   "cell_type": "code",
   "execution_count": 206,
   "metadata": {},
   "outputs": [
    {
     "data": {
      "text/html": [
       "<div>\n",
       "<style scoped>\n",
       "    .dataframe tbody tr th:only-of-type {\n",
       "        vertical-align: middle;\n",
       "    }\n",
       "\n",
       "    .dataframe tbody tr th {\n",
       "        vertical-align: top;\n",
       "    }\n",
       "\n",
       "    .dataframe thead th {\n",
       "        text-align: right;\n",
       "    }\n",
       "</style>\n",
       "<table border=\"1\" class=\"dataframe\">\n",
       "  <thead>\n",
       "    <tr style=\"text-align: right;\">\n",
       "      <th></th>\n",
       "      <th>Regiao - Sigla</th>\n",
       "      <th>Estado - Sigla</th>\n",
       "      <th>Municipio</th>\n",
       "      <th>Revenda</th>\n",
       "      <th>CNPJ da Revenda</th>\n",
       "      <th>Nome da Rua</th>\n",
       "      <th>Numero Rua</th>\n",
       "      <th>Complemento</th>\n",
       "      <th>Bairro</th>\n",
       "      <th>Cep</th>\n",
       "      <th>Produto</th>\n",
       "      <th>Data da Coleta</th>\n",
       "      <th>Valor de Venda</th>\n",
       "      <th>Valor de Compra</th>\n",
       "      <th>Unidade de Medida</th>\n",
       "      <th>Bandeira</th>\n",
       "    </tr>\n",
       "  </thead>\n",
       "  <tbody>\n",
       "    <tr>\n",
       "      <th>0</th>\n",
       "      <td>SE</td>\n",
       "      <td>ES</td>\n",
       "      <td>COLATINA</td>\n",
       "      <td>SAO FRANCISCO DE ASSIS COMERCIO DE COMBUSTIVEI...</td>\n",
       "      <td>08.519.545/0001-10</td>\n",
       "      <td>PRACA FIDELIS FERRARI</td>\n",
       "      <td>35</td>\n",
       "      <td>NaN</td>\n",
       "      <td>LACE</td>\n",
       "      <td>29703-030</td>\n",
       "      <td>GASOLINA ADITIVADA</td>\n",
       "      <td>01/07/2022</td>\n",
       "      <td>7,48</td>\n",
       "      <td>NaN</td>\n",
       "      <td>R$ / litro</td>\n",
       "      <td>VIBRA ENERGIA</td>\n",
       "    </tr>\n",
       "  </tbody>\n",
       "</table>\n",
       "</div>"
      ],
      "text/plain": [
       "  Regiao - Sigla Estado - Sigla Municipio  \\\n",
       "0             SE             ES  COLATINA   \n",
       "\n",
       "                                             Revenda      CNPJ da Revenda  \\\n",
       "0  SAO FRANCISCO DE ASSIS COMERCIO DE COMBUSTIVEI...   08.519.545/0001-10   \n",
       "\n",
       "             Nome da Rua Numero Rua Complemento Bairro        Cep  \\\n",
       "0  PRACA FIDELIS FERRARI         35         NaN   LACE  29703-030   \n",
       "\n",
       "              Produto Data da Coleta Valor de Venda  Valor de Compra  \\\n",
       "0  GASOLINA ADITIVADA     01/07/2022           7,48              NaN   \n",
       "\n",
       "  Unidade de Medida       Bandeira  \n",
       "0        R$ / litro  VIBRA ENERGIA  "
      ]
     },
     "execution_count": 206,
     "metadata": {},
     "output_type": "execute_result"
    }
   ],
   "source": [
    "# Lendo DF em relação ao mês de Julho\n",
    "comb_jul = pd.read_csv('dados/precos-gasolina-etanol-07.csv', delimiter=';')\n",
    "comb_jul.head(1)"
   ]
  },
  {
   "cell_type": "code",
   "execution_count": 207,
   "metadata": {},
   "outputs": [
    {
     "data": {
      "text/html": [
       "<div>\n",
       "<style scoped>\n",
       "    .dataframe tbody tr th:only-of-type {\n",
       "        vertical-align: middle;\n",
       "    }\n",
       "\n",
       "    .dataframe tbody tr th {\n",
       "        vertical-align: top;\n",
       "    }\n",
       "\n",
       "    .dataframe thead th {\n",
       "        text-align: right;\n",
       "    }\n",
       "</style>\n",
       "<table border=\"1\" class=\"dataframe\">\n",
       "  <thead>\n",
       "    <tr style=\"text-align: right;\">\n",
       "      <th></th>\n",
       "      <th>Regiao - Sigla</th>\n",
       "      <th>Estado - Sigla</th>\n",
       "      <th>Municipio</th>\n",
       "      <th>Revenda</th>\n",
       "      <th>CNPJ da Revenda</th>\n",
       "      <th>Nome da Rua</th>\n",
       "      <th>Numero Rua</th>\n",
       "      <th>Complemento</th>\n",
       "      <th>Bairro</th>\n",
       "      <th>Cep</th>\n",
       "      <th>Produto</th>\n",
       "      <th>Data da Coleta</th>\n",
       "      <th>Valor de Venda</th>\n",
       "      <th>Valor de Compra</th>\n",
       "      <th>Unidade de Medida</th>\n",
       "      <th>Bandeira</th>\n",
       "    </tr>\n",
       "  </thead>\n",
       "  <tbody>\n",
       "    <tr>\n",
       "      <th>0</th>\n",
       "      <td>NE</td>\n",
       "      <td>AL</td>\n",
       "      <td>ARAPIRACA</td>\n",
       "      <td>AUTO POSTO M M GARROTE LTDA</td>\n",
       "      <td>08.738.994/0001-50</td>\n",
       "      <td>RODOVIA AL-220</td>\n",
       "      <td>5848</td>\n",
       "      <td>KM    96</td>\n",
       "      <td>BOM SUCESSO</td>\n",
       "      <td>57309-035</td>\n",
       "      <td>ETANOL</td>\n",
       "      <td>01/08/2022</td>\n",
       "      <td>4,79</td>\n",
       "      <td>NaN</td>\n",
       "      <td>R$ / litro</td>\n",
       "      <td>VIBRA ENERGIA</td>\n",
       "    </tr>\n",
       "  </tbody>\n",
       "</table>\n",
       "</div>"
      ],
      "text/plain": [
       "  Regiao - Sigla Estado - Sigla  Municipio                      Revenda  \\\n",
       "0             NE             AL  ARAPIRACA  AUTO POSTO M M GARROTE LTDA   \n",
       "\n",
       "       CNPJ da Revenda     Nome da Rua Numero Rua Complemento       Bairro  \\\n",
       "0   08.738.994/0001-50  RODOVIA AL-220       5848    KM    96  BOM SUCESSO   \n",
       "\n",
       "         Cep Produto Data da Coleta Valor de Venda  Valor de Compra  \\\n",
       "0  57309-035  ETANOL     01/08/2022           4,79              NaN   \n",
       "\n",
       "  Unidade de Medida       Bandeira  \n",
       "0        R$ / litro  VIBRA ENERGIA  "
      ]
     },
     "execution_count": 207,
     "metadata": {},
     "output_type": "execute_result"
    }
   ],
   "source": [
    "# Lendo DF em relação ao mês de Agosto\n",
    "comb_ago = pd.read_csv('dados/precos-gasolina-etanol-08.csv', delimiter=';')\n",
    "comb_ago.head(1)"
   ]
  },
  {
   "cell_type": "code",
   "execution_count": 208,
   "metadata": {},
   "outputs": [
    {
     "data": {
      "text/html": [
       "<div>\n",
       "<style scoped>\n",
       "    .dataframe tbody tr th:only-of-type {\n",
       "        vertical-align: middle;\n",
       "    }\n",
       "\n",
       "    .dataframe tbody tr th {\n",
       "        vertical-align: top;\n",
       "    }\n",
       "\n",
       "    .dataframe thead th {\n",
       "        text-align: right;\n",
       "    }\n",
       "</style>\n",
       "<table border=\"1\" class=\"dataframe\">\n",
       "  <thead>\n",
       "    <tr style=\"text-align: right;\">\n",
       "      <th></th>\n",
       "      <th>Regiao - Sigla</th>\n",
       "      <th>Estado - Sigla</th>\n",
       "      <th>Municipio</th>\n",
       "      <th>Revenda</th>\n",
       "      <th>CNPJ da Revenda</th>\n",
       "      <th>Nome da Rua</th>\n",
       "      <th>Numero Rua</th>\n",
       "      <th>Complemento</th>\n",
       "      <th>Bairro</th>\n",
       "      <th>Cep</th>\n",
       "      <th>Produto</th>\n",
       "      <th>Data da Coleta</th>\n",
       "      <th>Valor de Venda</th>\n",
       "      <th>Valor de Compra</th>\n",
       "      <th>Unidade de Medida</th>\n",
       "      <th>Bandeira</th>\n",
       "    </tr>\n",
       "  </thead>\n",
       "  <tbody>\n",
       "    <tr>\n",
       "      <th>0</th>\n",
       "      <td>SE</td>\n",
       "      <td>ES</td>\n",
       "      <td>COLATINA</td>\n",
       "      <td>SAO FRANCISCO DE ASSIS COMERCIO DE COMBUSTIVEI...</td>\n",
       "      <td>08.519.545/0001-10</td>\n",
       "      <td>PRACA FIDELIS FERRARI</td>\n",
       "      <td>35</td>\n",
       "      <td>NaN</td>\n",
       "      <td>LACE</td>\n",
       "      <td>29703-030</td>\n",
       "      <td>GASOLINA ADITIVADA</td>\n",
       "      <td>01/07/2022</td>\n",
       "      <td>7,48</td>\n",
       "      <td>NaN</td>\n",
       "      <td>R$ / litro</td>\n",
       "      <td>VIBRA ENERGIA</td>\n",
       "    </tr>\n",
       "  </tbody>\n",
       "</table>\n",
       "</div>"
      ],
      "text/plain": [
       "  Regiao - Sigla Estado - Sigla Municipio  \\\n",
       "0             SE             ES  COLATINA   \n",
       "\n",
       "                                             Revenda      CNPJ da Revenda  \\\n",
       "0  SAO FRANCISCO DE ASSIS COMERCIO DE COMBUSTIVEI...   08.519.545/0001-10   \n",
       "\n",
       "             Nome da Rua Numero Rua Complemento Bairro        Cep  \\\n",
       "0  PRACA FIDELIS FERRARI         35         NaN   LACE  29703-030   \n",
       "\n",
       "              Produto Data da Coleta Valor de Venda  Valor de Compra  \\\n",
       "0  GASOLINA ADITIVADA     01/07/2022           7,48              NaN   \n",
       "\n",
       "  Unidade de Medida       Bandeira  \n",
       "0        R$ / litro  VIBRA ENERGIA  "
      ]
     },
     "execution_count": 208,
     "metadata": {},
     "output_type": "execute_result"
    }
   ],
   "source": [
    "# Concatenando os dois DF's\n",
    "conjunto_dados = pd.concat([comb_jul, comb_ago])\n",
    "conjunto_dados.head(1)"
   ]
  },
  {
   "cell_type": "markdown",
   "metadata": {},
   "source": [
    "# Análise Exploratória"
   ]
  },
  {
   "cell_type": "code",
   "execution_count": 209,
   "metadata": {},
   "outputs": [
    {
     "data": {
      "text/plain": [
       "(127176, 16)"
      ]
     },
     "execution_count": 209,
     "metadata": {},
     "output_type": "execute_result"
    }
   ],
   "source": [
    "# Shape\n",
    "conjunto_dados.shape"
   ]
  },
  {
   "cell_type": "code",
   "execution_count": 210,
   "metadata": {},
   "outputs": [],
   "source": [
    "# Dicionario das colunas"
   ]
  },
  {
   "cell_type": "code",
   "execution_count": 211,
   "metadata": {},
   "outputs": [
    {
     "name": "stdout",
     "output_type": "stream",
     "text": [
      "<class 'pandas.core.frame.DataFrame'>\n",
      "Int64Index: 127176 entries, 0 to 69543\n",
      "Data columns (total 16 columns):\n",
      " #   Column             Non-Null Count   Dtype  \n",
      "---  ------             --------------   -----  \n",
      " 0   Regiao - Sigla     127176 non-null  object \n",
      " 1   Estado - Sigla     127176 non-null  object \n",
      " 2   Municipio          127176 non-null  object \n",
      " 3   Revenda            127176 non-null  object \n",
      " 4   CNPJ da Revenda    127176 non-null  object \n",
      " 5   Nome da Rua        127176 non-null  object \n",
      " 6   Numero Rua         127105 non-null  object \n",
      " 7   Complemento        27079 non-null   object \n",
      " 8   Bairro             126764 non-null  object \n",
      " 9   Cep                127176 non-null  object \n",
      " 10  Produto            127176 non-null  object \n",
      " 11  Data da Coleta     127176 non-null  object \n",
      " 12  Valor de Venda     127176 non-null  object \n",
      " 13  Valor de Compra    0 non-null       float64\n",
      " 14  Unidade de Medida  127176 non-null  object \n",
      " 15  Bandeira           127176 non-null  object \n",
      "dtypes: float64(1), object(15)\n",
      "memory usage: 16.5+ MB\n"
     ]
    }
   ],
   "source": [
    "conjunto_dados.info()"
   ]
  },
  {
   "cell_type": "code",
   "execution_count": null,
   "metadata": {},
   "outputs": [],
   "source": [
    "# Checando a % de valores nulos em cada coluna do DF\n",
    "((conjunto_dados.isnull().sum() / conjunto_dados.shape[0]) * 100).sort_values(ascending=False)"
   ]
  },
  {
   "cell_type": "code",
   "execution_count": null,
   "metadata": {},
   "outputs": [],
   "source": [
    "# Dtype\n",
    "conjunto_dados.dtypes"
   ]
  },
  {
   "cell_type": "markdown",
   "metadata": {},
   "source": [
    "## Tratamento"
   ]
  },
  {
   "cell_type": "code",
   "execution_count": null,
   "metadata": {},
   "outputs": [],
   "source": [
    "# Resetando Index no DF concatenado\n",
    "conjunto_dados.reset_index(0, drop=True, inplace=True)"
   ]
  },
  {
   "cell_type": "code",
   "execution_count": null,
   "metadata": {},
   "outputs": [],
   "source": [
    "# Dropando a coluna 'Valor de Compra' pois a mesma contém apenas valores nulos\n",
    "conjunto_dados.drop('Valor de Compra', axis=1, inplace=True)"
   ]
  },
  {
   "cell_type": "code",
   "execution_count": null,
   "metadata": {},
   "outputs": [],
   "source": [
    "# Transformando os valores da coluna 'Valor de Venda' para float\n",
    "conjunto_dados['Valor de Venda'] = conjunto_dados['Valor de Venda'].apply(lambda y: float(str(y.replace(',','.'))))"
   ]
  },
  {
   "cell_type": "code",
   "execution_count": null,
   "metadata": {},
   "outputs": [],
   "source": [
    "# Preenchendo valores nulos da coluna 'Complemento' com 0\n",
    "conjunto_dados.Complemento.fillna('0', inplace=True)"
   ]
  },
  {
   "cell_type": "code",
   "execution_count": null,
   "metadata": {},
   "outputs": [],
   "source": [
    "# Trasnformando as datas da coluna 'Data da Coleta' para datetime\n",
    "conjunto_dados['Data da Coleta'] = pd.to_datetime(conjunto_dados['Data da Coleta'], format='%d/%m/%Y')\n",
    "conjunto_dados.head(1)"
   ]
  },
  {
   "cell_type": "markdown",
   "metadata": {},
   "source": [
    "- Funções"
   ]
  },
  {
   "cell_type": "code",
   "execution_count": null,
   "metadata": {},
   "outputs": [],
   "source": [
    "# Passando strings para minusculas no DF\n",
    "to_title = lambda x: x.title() if isinstance(x, str) else x"
   ]
  },
  {
   "cell_type": "code",
   "execution_count": null,
   "metadata": {},
   "outputs": [],
   "source": [
    "# Criando função que acrecenta coluna de dias da semana\n",
    "def cria_semanas(df):\n",
    "    dias_semana = {'Sunday':'Domingo', 'Monday':'Segunda', 'Tuesday':'Terça', 'Wednesday':'Quarta', 'Thursday':'Quinta', 'Friday':'Sexta', 'Saturday':'Sábado'}\n",
    "    df['Dias da Semana'] = df['Data da Coleta'].apply(lambda x: x.strftime('%A'))\n",
    "    df['Dias da Semana'] = df['Dias da Semana'].replace(dias_semana)\n",
    "    return df"
   ]
  },
  {
   "cell_type": "code",
   "execution_count": null,
   "metadata": {},
   "outputs": [],
   "source": [
    "# Aplicando a função no DF\n",
    "conjunto_dados = cria_semanas(conjunto_dados)"
   ]
  },
  {
   "cell_type": "code",
   "execution_count": null,
   "metadata": {
    "scrolled": true
   },
   "outputs": [],
   "source": [
    "# Passando strings para minusculas no DF\n",
    "conjunto_dados['Municipio'] = conjunto_dados['Municipio'].apply(to_title)\n",
    "conjunto_dados['Revenda'] = conjunto_dados['Revenda'].apply(to_title)\n",
    "conjunto_dados['Nome da Rua'] = conjunto_dados['Nome da Rua'].apply(to_title)\n",
    "conjunto_dados['Complemento'] = conjunto_dados['Complemento'].apply(to_title)\n",
    "conjunto_dados['Bairro'] = conjunto_dados['Bairro'].apply(to_title)\n",
    "conjunto_dados['Produto'] = conjunto_dados['Produto'].apply(to_title)\n",
    "conjunto_dados['Bandeira'] = conjunto_dados['Bandeira'].apply(to_title)"
   ]
  },
  {
   "cell_type": "code",
   "execution_count": null,
   "metadata": {
    "scrolled": true
   },
   "outputs": [],
   "source": [
    "conjunto_dados.head()"
   ]
  },
  {
   "cell_type": "code",
   "execution_count": null,
   "metadata": {
    "scrolled": false
   },
   "outputs": [],
   "source": [
    "conjunto_dados.describe()"
   ]
  },
  {
   "cell_type": "code",
   "execution_count": null,
   "metadata": {
    "scrolled": false
   },
   "outputs": [],
   "source": [
    "conjunto_dados['Valor de Venda'].hist();"
   ]
  },
  {
   "cell_type": "code",
   "execution_count": null,
   "metadata": {
    "scrolled": true
   },
   "outputs": [],
   "source": [
    "conjunto_dados['Valor de Venda'].plot(kind='box', vert=False, figsize=(20, 5))\n",
    "plt.show()"
   ]
  },
  {
   "cell_type": "code",
   "execution_count": null,
   "metadata": {},
   "outputs": [],
   "source": [
    "# Mardown explicando o pq não tiramos os outliers nesse caso"
   ]
  },
  {
   "cell_type": "markdown",
   "metadata": {},
   "source": [
    "## Trabalhando nos dados"
   ]
  },
  {
   "cell_type": "code",
   "execution_count": null,
   "metadata": {},
   "outputs": [],
   "source": [
    "#1 Como se comportam o preço dos combustíveis durante os dois meses citados? (Jul/Ago) Os valores do etanol e da gasolina tiveram uma (tendencia?) de queda ou diminuição?"
   ]
  },
  {
   "cell_type": "code",
   "execution_count": null,
   "metadata": {},
   "outputs": [],
   "source": [
    "comb_jul = conjunto_dados[(conjunto_dados['Data da Coleta'] < '2022-08-01')] \n",
    "comb_ago = conjunto_dados[(conjunto_dados['Data da Coleta'] > '2022-08-01')]"
   ]
  },
  {
   "cell_type": "code",
   "execution_count": null,
   "metadata": {
    "scrolled": true
   },
   "outputs": [],
   "source": [
    "# Criando DF's dos preços de combustíveis para julho e agosto\n",
    "preco_comb_jul = comb_jul.groupby(['Regiao - Sigla']).mean()\n",
    "preco_comb_jul.columns = ['Preço Médio']\n",
    "\n",
    "preco_comb_ago = comb_ago.groupby(['Regiao - Sigla']).mean()\n",
    "preco_comb_ago.columns = ['Preço Médio']"
   ]
  },
  {
   "cell_type": "code",
   "execution_count": null,
   "metadata": {},
   "outputs": [],
   "source": [
    "plt.figure(figsize=(10, 5), dpi=80)\n",
    "\n",
    "sns.kdeplot(comb_jul['Valor de Venda'], shade=True, color='g', label='Julho', alpha=.7)\n",
    "sns.kdeplot(comb_ago['Valor de Venda'], shade=True, color='r', label='Agosto', alpha=.7)\n",
    "\n",
    "plt.title('Densidade de Preços (Julho - Agosto)', fontsize=12)\n",
    "plt.legend()\n",
    "plt.show()"
   ]
  },
  {
   "cell_type": "code",
   "execution_count": null,
   "metadata": {},
   "outputs": [],
   "source": [
    "display(preco_comb_jul.sort_values(by='Preço Médio', ascending=True))\n",
    "\n",
    "display(preco_comb_ago.sort_values(by='Preço Médio', ascending=True))"
   ]
  },
  {
   "cell_type": "code",
   "execution_count": null,
   "metadata": {},
   "outputs": [],
   "source": [
    "# 2. Qual o preço médio da gasolina e do etanol nesses dois meses?"
   ]
  },
  {
   "cell_type": "code",
   "execution_count": null,
   "metadata": {
    "scrolled": false
   },
   "outputs": [],
   "source": [
    "relacao_comb_preco_jul = comb_jul[['Produto','Valor de Venda', 'Regiao - Sigla']].groupby(['Produto', 'Regiao - Sigla']).mean()\n",
    "relacao_comb_preco_jul.columns = ['Preço Médio']\n",
    "\n",
    "relacao_comb_preco_jul.sort_values(by='Produto', ascending=True)"
   ]
  },
  {
   "cell_type": "code",
   "execution_count": null,
   "metadata": {},
   "outputs": [],
   "source": [
    "relacao_comb_preco_jul.unstack(level=0).plot(kind='bar', figsize=(10,5), layout=(2,3))\n",
    "plt.show()"
   ]
  },
  {
   "cell_type": "code",
   "execution_count": null,
   "metadata": {
    "scrolled": false
   },
   "outputs": [],
   "source": [
    "relacao_comb_preco_ago = comb_ago[['Produto','Valor de Venda', 'Regiao - Sigla']].groupby(['Produto', 'Regiao - Sigla']).mean()\n",
    "relacao_comb_preco_ago.columns = ['Preço Médio']\n",
    "\n",
    "relacao_comb_preco_ago.sort_values(by='Produto', ascending=True)"
   ]
  },
  {
   "cell_type": "code",
   "execution_count": null,
   "metadata": {},
   "outputs": [],
   "source": [
    "relacao_comb_preco_ago.unstack(level=0).plot(kind='bar', figsize=(10,5), layout=(2,3))\n",
    "plt.show()"
   ]
  },
  {
   "cell_type": "code",
   "execution_count": null,
   "metadata": {
    "scrolled": true
   },
   "outputs": [],
   "source": [
    "# 3. Quais os 5 estados com o preço médio da gasolina e do etanol mais caros?\n",
    "\n",
    "# Levando em consideração os 2 meses e os 2 combustíveis juntos,Gasolina(comum/aditiva) e Etanol.\n",
    "dados_agrupados_estado = conjunto_dados.copy()\n",
    "\n",
    "media_combs_estados = dados_agrupados_estado.groupby(dados_agrupados_estado['Estado - Sigla'])[['Valor de Venda']].mean()\n",
    "media_combs_estados.columns = ['Preço Médio']"
   ]
  },
  {
   "cell_type": "code",
   "execution_count": null,
   "metadata": {},
   "outputs": [],
   "source": [
    "media_combs_estados.sort_values(by='Preço Médio', ascending=False).head().plot(kind='bar', ylim=5.5);"
   ]
  },
  {
   "cell_type": "code",
   "execution_count": null,
   "metadata": {},
   "outputs": [],
   "source": [
    "print('OS 5 ESTADOS COM O MAIOR PREÇO MÉDIO DE GASOLINA COMUM/ADITIVADA E ETANOL NO BIMESTRE.')\n",
    "display(media_combs_estados.sort_values(by='Preço Médio', ascending=False).head())"
   ]
  },
  {
   "cell_type": "code",
   "execution_count": null,
   "metadata": {},
   "outputs": [],
   "source": [
    "# Fazendo a média bimestral com a Gasolina, Gasolina Aditivada e o Etanol separados.\n",
    "\n",
    "# GAS ADITIVADA\n",
    "media_gas_adt_estado = dados_agrupados_estado.loc[dados_agrupados_estado['Produto'] == 'Gasolina Aditivada'].groupby(dados_agrupados_estado['Estado - Sigla'])\n",
    "\n",
    "df_media_gas_adt_estado = media_gas_adt_estado[['Valor de Venda']].mean()\n",
    "df_media_gas_adt_estado.columns = ['Preço Médio']"
   ]
  },
  {
   "cell_type": "code",
   "execution_count": null,
   "metadata": {
    "scrolled": false
   },
   "outputs": [],
   "source": [
    "df_media_gas_adt_estado.sort_values(by='Preço Médio', ascending=False).head().plot(kind='bar', ylim=5.5);"
   ]
  },
  {
   "cell_type": "code",
   "execution_count": null,
   "metadata": {},
   "outputs": [],
   "source": [
    "print('OS 5 ESTADOS COM O MAIOR PREÇO MÉDIO DE GASOLINA ADITIVADA NO BIMESTRE.')\n",
    "display(df_media_gas_adt_estado.sort_values(by='Preço Médio', ascending=False).head())"
   ]
  },
  {
   "cell_type": "code",
   "execution_count": null,
   "metadata": {
    "scrolled": true
   },
   "outputs": [],
   "source": [
    "# GASOLINA\n",
    "\n",
    "media_gas_estado = dados_agrupados_estado.loc[dados_agrupados_estado['Produto'] == 'Gasolina'].groupby(dados_agrupados_estado['Estado - Sigla'])\n",
    "df_media_gas_estado = media_gas_estado[['Valor de Venda']].mean()\n",
    "df_media_gas_estado.columns = ['Preço Médio']"
   ]
  },
  {
   "cell_type": "code",
   "execution_count": null,
   "metadata": {
    "scrolled": false
   },
   "outputs": [],
   "source": [
    "df_media_gas_estado.sort_values(by='Preço Médio', ascending=False).head().plot(kind='bar', ylim=5.5);"
   ]
  },
  {
   "cell_type": "code",
   "execution_count": null,
   "metadata": {},
   "outputs": [],
   "source": [
    "print('OS 5 ESTADOS COM O MAIOR PREÇO MÉDIO DE GASOLINA COMUM NO BIMESTRE.')\n",
    "display(df_media_gas_estado.sort_values(by='Preço Médio', ascending=False).head())"
   ]
  },
  {
   "cell_type": "code",
   "execution_count": null,
   "metadata": {
    "scrolled": true
   },
   "outputs": [],
   "source": [
    "# ETANOL\n",
    "\n",
    "media_etanol_estado = dados_agrupados_estado.loc[dados_agrupados_estado['Produto'] == 'Etanol'].groupby(dados_agrupados_estado['Estado - Sigla'])\n",
    "df_media_etanol_estado = media_etanol_estado[['Valor de Venda']].mean()\n",
    "df_media_etanol_estado.columns = ['Preço Médio']"
   ]
  },
  {
   "cell_type": "code",
   "execution_count": null,
   "metadata": {
    "scrolled": true
   },
   "outputs": [],
   "source": [
    "df_media_etanol_estado.sort_values(by='Preço Médio', ascending=False).head().plot(kind='bar', ylim=5.0);"
   ]
  },
  {
   "cell_type": "code",
   "execution_count": null,
   "metadata": {},
   "outputs": [],
   "source": [
    "print('OS 5 ESTADOS COM O MAIOR PREÇO MÉDIO DE ETANOL NO BIMESTRE.')\n",
    "display(df_media_etanol_estado.sort_values(by='Preço Médio', ascending=False).head())"
   ]
  },
  {
   "cell_type": "code",
   "execution_count": null,
   "metadata": {
    "scrolled": false
   },
   "outputs": [],
   "source": [
    "# 4. Qual o preço médio da gasolina e do etanol por estado?\n",
    "\n",
    "# Fazendo a média bimestral da Gasolina,da Gasolina Aditivada e do Etanol.\n",
    "df_media_comb_estado = pd.concat([df_media_gas_adt_estado, df_media_gas_estado, df_media_etanol_estado], axis=1)\n",
    "df_media_comb_estado.columns = ['Gasolina Aditivada','Gasolina Comum','Etanol']"
   ]
  },
  {
   "cell_type": "code",
   "execution_count": null,
   "metadata": {},
   "outputs": [],
   "source": [
    "df_media_comb_estado.plot(kind='bar', figsize=(25,10), subplots=True, layout=(2,4) , ylim = 3.5, ylabel = 'Preço Médio dos Combustíveis')\n",
    "plt.tight_layout()"
   ]
  },
  {
   "cell_type": "code",
   "execution_count": null,
   "metadata": {},
   "outputs": [],
   "source": [
    "print('Tabela com a média dos combustíveis por estado:\\n')\n",
    "\n",
    "df_media_comb_estado.style.highlight_max(color='#CF0909', axis=0).highlight_min(color='#0C9E02')"
   ]
  },
  {
   "cell_type": "code",
   "execution_count": null,
   "metadata": {},
   "outputs": [],
   "source": [
    "# 5-Qual o município que possui o menor preço para a gasolina e para o etanol?\n",
    "\n",
    "# primeiro, criamos um dataframe novo agrupando os dados de Produto e Municipio\n",
    "produto_municipio = conjunto_dados.groupby([\"Produto\", \"Estado - Sigla\", 'Municipio'])"
   ]
  },
  {
   "cell_type": "code",
   "execution_count": null,
   "metadata": {
    "scrolled": true
   },
   "outputs": [],
   "source": [
    "# Em seguida, extraimos apenas os valores mínimos, de acordo com a pergunta\n",
    "min_municipio = produto_municipio[['Valor de Venda']].min()\n",
    "\n",
    "# Criamos um dataframe contendo apenas os dados que retornavam as querys contendo Etanol, classificamos pelos valor de venda e resetamos o index na primeira linha\n",
    "min_municipio_etanol = min_municipio.query(\"Produto == 'Etanol'\").sort_values(by='Valor de Venda').head(1)\n",
    "\n",
    "# Criamos um dataframe contendo apenas os dados que retornavam as querys contendo Gasolina, classificamos pelos valor de venda e resetamos o index na primeira linha\n",
    "min_municipio_gas = min_municipio.query(\"Produto == 'Gasolina'\").sort_values(by='Valor de Venda').head(1)\n",
    "\n",
    "# Criamos um dataframe contendo apenas os dados que retornavam as querys contendo Gasolina Aditivada, classificamos pelos valor de venda e resetamos o index na primeira linha\n",
    "min_municipio_gas_adi = min_municipio.query(\"Produto == 'Gasolina Aditivada'\").sort_values(by='Valor de Venda').head(1)\n",
    "\n",
    "# Concatenamos os três arquivos\n",
    "minimas = pd.concat([min_municipio_etanol, min_municipio_gas, min_municipio_gas_adi])\n",
    "minimas.columns = ['Menor Preço']\n",
    "minimas"
   ]
  },
  {
   "cell_type": "code",
   "execution_count": null,
   "metadata": {},
   "outputs": [],
   "source": [
    "# 6-Qual o município que possui o maior preço para a gasolina e para o etanol?\n",
    "\n",
    "# extraimos apenas os valores máximos, de acordo com a pergunta\n",
    "max_municipio = produto_municipio[['Valor de Venda']].max()\n",
    "\n",
    "# Criamos um dataframe contendo apenas os dados que retornavam as querys contendo Etanol, classificamos pelos valor de venda e resetamos o index na primeira linha\n",
    "max_municipio_etanol = min_municipio.query(\"Produto == 'Etanol'\").sort_values(by='Valor de Venda', ascending=False).head(1)\n",
    "\n",
    "# Criamos um dataframe contendo apenas os dados que retornavam as querys contendo Gasolina, classificamos pelos valor de venda e resetamos o index na primeira linha\n",
    "max_municipio_gas = max_municipio.query(\"Produto == 'Gasolina'\").sort_values(by='Valor de Venda', ascending=False).head(1)\n",
    "\n",
    "# Criamos um dataframe contendo apenas os dados que retornavam as querys contendo Gasolina Aditivada, classificamos pelos valor de venda e resetamos o index na primeira linha\n",
    "max_municipio_gas_adi = max_municipio.query(\"Produto == 'Gasolina Aditivada'\").sort_values(by='Valor de Venda', ascending=False).head(1)\n",
    "\n",
    "# Concatenamos os três arquivos\n",
    "maximas = pd.concat([max_municipio_etanol, max_municipio_gas, max_municipio_gas_adi])\n",
    "maximas.columns = ['Maior Preço']\n",
    "maximas"
   ]
  },
  {
   "cell_type": "code",
   "execution_count": null,
   "metadata": {
    "scrolled": false
   },
   "outputs": [],
   "source": [
    "# 7. Qual a região que possui o maior valor médio da gasolina?\n",
    "\n",
    "# Criando uma cópia do DF original onde temos apenas os registros da Gasolina\n",
    "df_gas = conjunto_dados.query('Produto == \"Gasolina\"').copy()\n",
    "\n",
    "# Ordenando o novo dataframe com o valor de venda da gasolina por região\n",
    "produtos_gas = df_gas.groupby(['Produto', 'Regiao - Sigla'])[['Valor de Venda']].mean()\n",
    "produtos_gas.columns = ['Maior Valor Médio']\n",
    "\n",
    "produtos_gas.style.highlight_max(color='#CF0909')"
   ]
  },
  {
   "cell_type": "code",
   "execution_count": null,
   "metadata": {},
   "outputs": [],
   "source": [
    "produtos_gas.unstack(level=0).plot(kind='bar', figsize=(10,5), layout=(2,3), ylim=5.0)\n",
    "\n",
    "for index, values in enumerate(produtos_gas['Maior Valor Médio'].values):\n",
    "    plt.text(index, values, str(f'R$ {values:.3f}'), horizontalalignment='center', verticalalignment='bottom', fontdict={'fontweight':500, 'size':12})\n",
    "\n",
    "plt.show()"
   ]
  },
  {
   "cell_type": "code",
   "execution_count": null,
   "metadata": {},
   "outputs": [],
   "source": [
    "# Criando uma cópia do DF original onde temos apenas os registros da Gasolina Aditivada\n",
    "df_gas_adi = conjunto_dados.query('Produto == \"Gasolina Aditivada\"').copy()\n",
    "\n",
    "# Ordenando o novo dataframe com o valor de venda da gasolina aditivada por região\n",
    "produtos_gas_adi = df_gas_adi.groupby(['Produto', 'Regiao - Sigla'])[['Valor de Venda']].mean()\n",
    "produtos_gas_adi.columns = ['Maior Valor Médio']\n",
    "\n",
    "produtos_gas_adi.style.highlight_max(color='#CF0909')"
   ]
  },
  {
   "cell_type": "code",
   "execution_count": null,
   "metadata": {},
   "outputs": [],
   "source": [
    "produtos_gas_adi.unstack(level=0).plot(kind='bar', figsize=(10,5), layout=(2,3), ylim=5.0)\n",
    "\n",
    "for index, values in enumerate(produtos_gas_adi['Maior Valor Médio'].values):\n",
    "    plt.text(index, values, str(f'R$ {values:.3f}'), horizontalalignment='center', verticalalignment='bottom', fontdict={'fontweight':500, 'size':12})\n",
    "\n",
    "plt.show()"
   ]
  },
  {
   "cell_type": "code",
   "execution_count": null,
   "metadata": {
    "scrolled": true
   },
   "outputs": [],
   "source": [
    "# 8. Qual a região que possui o menor valor médio do etanol?\n",
    "\n",
    "# Criando uma cópia do DF original onde temos apenas os registros do Etanol\n",
    "df_etanol = conjunto_dados.query('Produto == \"Etanol\"').copy()\n",
    "\n",
    "# Ordenando o novo dataframe com o valor de venda do etanol por região\n",
    "produtos_etanol = df_etanol.groupby(['Produto', 'Regiao - Sigla'])[['Valor de Venda']].mean()\n",
    "produtos_etanol.columns = ['Menor Valor Médio']\n",
    "\n",
    "produtos_etanol.style.highlight_min(color='#0C9E02')"
   ]
  },
  {
   "cell_type": "code",
   "execution_count": null,
   "metadata": {},
   "outputs": [],
   "source": [
    "produtos_etanol.unstack(level=0).plot(kind='bar', figsize=(10,5), layout=(2,3), ylim=3.5)\n",
    "\n",
    "for index, values in enumerate(produtos_etanol['Menor Valor Médio'].values):\n",
    "    plt.text(index, values, str(f'R$ {values:.3f}'), horizontalalignment='center', verticalalignment='bottom', fontdict={'fontweight':500, 'size':12})\n",
    "\n",
    "plt.show()"
   ]
  },
  {
   "cell_type": "code",
   "execution_count": null,
   "metadata": {},
   "outputs": [],
   "source": [
    "#9. Há alguma correlação entre o valor do combustível (gasolina e etanol) e a região onde ele é vendido?\n",
    "#   Há uma correlação positiva muito forte entre os valores do combustível com base na média por região."
   ]
  },
  {
   "cell_type": "code",
   "execution_count": null,
   "metadata": {
    "scrolled": false
   },
   "outputs": [],
   "source": [
    "media_combs_regiao = conjunto_dados.groupby(['Regiao - Sigla','Produto'])[['Valor de Venda']].mean()\n",
    "media_combs_regiao.columns = ['Preço Médio']\n",
    "\n",
    "media_combs_regiao"
   ]
  },
  {
   "cell_type": "code",
   "execution_count": null,
   "metadata": {},
   "outputs": [],
   "source": [
    "media_regiao_2 = media_combs_regiao.unstack('Regiao - Sigla', 'Produto')\n",
    "media_regiao_2\n",
    "\n",
    "# Plotar gráfico multi-barras e explciar a correlação a partir dai"
   ]
  },
  {
   "cell_type": "code",
   "execution_count": null,
   "metadata": {},
   "outputs": [],
   "source": [
    "ax = media_regiao_2.plot()\n",
    "media_regiao_2.reindex(media_regiao_2.index).plot(marker = 'o', linestyle = 'none', color = 'g', ax = ax, figsize=(15,10));"
   ]
  },
  {
   "cell_type": "code",
   "execution_count": null,
   "metadata": {},
   "outputs": [],
   "source": [
    "# 10. Há alguma correlação entre o valor do combustível (gasolina e etanol) e a bandeira que vende ele?"
   ]
  },
  {
   "cell_type": "code",
   "execution_count": null,
   "metadata": {},
   "outputs": [],
   "source": [
    "media_combs_bandeira = conjunto_dados.groupby(['Bandeira', 'Produto'])[['Valor de Venda']].mean()\n",
    "media_combs_bandeira"
   ]
  },
  {
   "cell_type": "code",
   "execution_count": null,
   "metadata": {
    "scrolled": true
   },
   "outputs": [],
   "source": [
    "media_bandeira_1 = media_combs_bandeira.unstack()\n",
    "media_bandeira_1.head()\n",
    "\n",
    "# Verificar o que cada bandeira vende, pois isso pode explicar os valores nulos em alguma delas"
   ]
  },
  {
   "cell_type": "code",
   "execution_count": null,
   "metadata": {},
   "outputs": [],
   "source": [
    "media_bandeira_1.reset_index(inplace=True)\n",
    "media_bandeira_1.head()"
   ]
  },
  {
   "cell_type": "code",
   "execution_count": null,
   "metadata": {},
   "outputs": [],
   "source": [
    "# Criando um groupby dos registros da SUL COMBUSTÍVEIS e mostrando o df\n",
    "bandeira_sul_comb = conjunto_dados.loc[(conjunto_dados['Bandeira'] == 'Sul Combustíveis'), :].copy()\n",
    "bandeira_sul_comb.head()"
   ]
  },
  {
   "cell_type": "code",
   "execution_count": null,
   "metadata": {},
   "outputs": [],
   "source": [
    "# Conferindo os valores únicos desses registros e confirmando que a SUL COMBUSTÍVEIS \n",
    "bandeira_sul_comb['Produto'].value_counts()"
   ]
  },
  {
   "cell_type": "code",
   "execution_count": null,
   "metadata": {},
   "outputs": [],
   "source": [
    "# Criando um groupby dos registros da RUFF C.J. e mostrando o df\n",
    "bandeira_ruff_comb = conjunto_dados.loc[(conjunto_dados['Bandeira'] == 'Ruff C.J.'), :].copy()\n",
    "bandeira_ruff_comb.head()"
   ]
  },
  {
   "cell_type": "code",
   "execution_count": null,
   "metadata": {
    "scrolled": true
   },
   "outputs": [],
   "source": [
    "bandeira_ruff_comb['Produto'].value_counts()"
   ]
  },
  {
   "cell_type": "code",
   "execution_count": null,
   "metadata": {
    "scrolled": true
   },
   "outputs": [],
   "source": [
    "media_bandeira_1['Bandeira'] = media_bandeira_1['Bandeira'].astype('category').cat.codes\n",
    "media_bandeira_1.corr()"
   ]
  },
  {
   "cell_type": "code",
   "execution_count": null,
   "metadata": {},
   "outputs": [],
   "source": [
    "# IDEIAS\n",
    "\n",
    "# - Pegar as principais bandeiras (que vende todos os combs e esta presente em todas regioes) e plotar\n",
    "#   um gráfico de barras\n",
    "\n",
    "# - Fazer igual aquele gráfico de barras azuis que o José fez nos testes dele (cada barra uma bandeira\n",
    "#   e seus preços médios)\n",
    "#        - separar por combustivel"
   ]
  },
  {
   "cell_type": "code",
   "execution_count": null,
   "metadata": {},
   "outputs": [],
   "source": [
    "#media_bandeira2 = media_combustivel_bandeira.unstack('Bandeira')\n",
    "#media_bandeira2"
   ]
  },
  {
   "cell_type": "code",
   "execution_count": null,
   "metadata": {},
   "outputs": [],
   "source": [
    "#correlacao4 = media_bandeira2.corr()\n",
    "#correlacao4"
   ]
  },
  {
   "cell_type": "code",
   "execution_count": null,
   "metadata": {},
   "outputs": [],
   "source": [
    "#sns.heatmap(media_bandeira_1, annot = True, fmt=\".1f\")"
   ]
  },
  {
   "cell_type": "code",
   "execution_count": null,
   "metadata": {},
   "outputs": [],
   "source": [
    "media_combs_regiao = conjunto_dados.groupby(['Regiao - Sigla','Produto'])[['Valor de Venda']].mean()\n",
    "media_combs_regiao.columns = ['Preço Médio']\n",
    "media_combs_regiao"
   ]
  },
  {
   "cell_type": "code",
   "execution_count": null,
   "metadata": {},
   "outputs": [],
   "source": [
    "# EXTRA 1: Qual dia da semana possui o valor dos combustíveis mais caros?\n",
    "# Inicialmente fizemos um dataframe agrupando a média do valor de venda por dias da semana. Foi verificado que os dados estão contidos em dias úteis.\n",
    "vendasemana = conjunto_dados.groupby(['Dias da Semana'])[['Valor de Venda']].mean()\n",
    "# Classificamos pelo Valor de venda para o maior número\n",
    "vendasemana.sort_values('Valor de Venda',inplace=True,ascending=False)\n",
    "# Estilizamos para o formato de 3 números após a vírgula\n",
    "vendasemana.style.format(' R$ {:,.3f}').background_gradient(cmap='Reds')\n",
    "# Sextas possuem valores mais caros em todos os combustíveis.\n",
    "# offtopic: Podemos colocar como gráfico de barras também\n",
    "#sns.barplot(x=vendasemana.index,y='Valor de Venda',data = vendasemana)\n"
   ]
  },
  {
   "cell_type": "code",
   "execution_count": null,
   "metadata": {},
   "outputs": [],
   "source": [
    "# Ainda o EXTRA 1\n",
    "# Para os combustiveis separadamente\n",
    "vendaprodutosemana = conjunto_dados.groupby(['Dias da Semana', 'Produto'])[['Valor de Venda']].mean()\n",
    "vendaprodutosemana.columns = ['Média']\n",
    "#vendaprodutosemana.sort_values('Média',inplace=True,ascending=False)\n",
    "vendaprodutosemana.style.format(' R$ {:,.3f}').background_gradient(cmap='Reds')\n",
    "# Gasolina aditivada na sexta é o valor mais caro."
   ]
  }
 ],
 "metadata": {
  "kernelspec": {
   "display_name": "Python 3 (ipykernel)",
   "language": "python",
   "name": "python3"
  },
  "language_info": {
   "codemirror_mode": {
    "name": "ipython",
    "version": 3
   },
   "file_extension": ".py",
   "mimetype": "text/x-python",
   "name": "python",
   "nbconvert_exporter": "python",
   "pygments_lexer": "ipython3",
   "version": "3.9.12"
  },
  "vscode": {
   "interpreter": {
    "hash": "11938c6bc6919ae2720b4d5011047913343b08a43b18698fd82dedb0d4417594"
   }
  }
 },
 "nbformat": 4,
 "nbformat_minor": 2
}
