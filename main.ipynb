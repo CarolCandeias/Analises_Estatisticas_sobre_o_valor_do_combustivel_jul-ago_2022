{
 "cells": [
  {
   "cell_type": "code",
   "execution_count": 78,
   "metadata": {},
   "outputs": [],
   "source": [
    "import pandas as pd\n",
    "import numpy as np\n",
    "import matplotlib\n",
    "import matplotlib.pyplot as plt\n",
    "import seaborn as sns\n",
    "from datetime import datetime"
   ]
  },
  {
   "cell_type": "markdown",
   "metadata": {},
   "source": [
    "# Introdução"
   ]
  },
  {
   "cell_type": "code",
   "execution_count": 79,
   "metadata": {},
   "outputs": [
    {
     "data": {
      "text/html": [
       "<div>\n",
       "<style scoped>\n",
       "    .dataframe tbody tr th:only-of-type {\n",
       "        vertical-align: middle;\n",
       "    }\n",
       "\n",
       "    .dataframe tbody tr th {\n",
       "        vertical-align: top;\n",
       "    }\n",
       "\n",
       "    .dataframe thead th {\n",
       "        text-align: right;\n",
       "    }\n",
       "</style>\n",
       "<table border=\"1\" class=\"dataframe\">\n",
       "  <thead>\n",
       "    <tr style=\"text-align: right;\">\n",
       "      <th></th>\n",
       "      <th>Regiao - Sigla</th>\n",
       "      <th>Estado - Sigla</th>\n",
       "      <th>Municipio</th>\n",
       "      <th>Revenda</th>\n",
       "      <th>CNPJ da Revenda</th>\n",
       "      <th>Nome da Rua</th>\n",
       "      <th>Numero Rua</th>\n",
       "      <th>Complemento</th>\n",
       "      <th>Bairro</th>\n",
       "      <th>Cep</th>\n",
       "      <th>Produto</th>\n",
       "      <th>Data da Coleta</th>\n",
       "      <th>Valor de Venda</th>\n",
       "      <th>Valor de Compra</th>\n",
       "      <th>Unidade de Medida</th>\n",
       "      <th>Bandeira</th>\n",
       "    </tr>\n",
       "  </thead>\n",
       "  <tbody>\n",
       "    <tr>\n",
       "      <th>0</th>\n",
       "      <td>SE</td>\n",
       "      <td>ES</td>\n",
       "      <td>COLATINA</td>\n",
       "      <td>SAO FRANCISCO DE ASSIS COMERCIO DE COMBUSTIVEI...</td>\n",
       "      <td>08.519.545/0001-10</td>\n",
       "      <td>PRACA FIDELIS FERRARI</td>\n",
       "      <td>35</td>\n",
       "      <td>NaN</td>\n",
       "      <td>LACE</td>\n",
       "      <td>29703-030</td>\n",
       "      <td>GASOLINA ADITIVADA</td>\n",
       "      <td>01/07/2022</td>\n",
       "      <td>7,48</td>\n",
       "      <td>NaN</td>\n",
       "      <td>R$ / litro</td>\n",
       "      <td>VIBRA ENERGIA</td>\n",
       "    </tr>\n",
       "  </tbody>\n",
       "</table>\n",
       "</div>"
      ],
      "text/plain": [
       "  Regiao - Sigla Estado - Sigla Municipio  \\\n",
       "0             SE             ES  COLATINA   \n",
       "\n",
       "                                             Revenda      CNPJ da Revenda  \\\n",
       "0  SAO FRANCISCO DE ASSIS COMERCIO DE COMBUSTIVEI...   08.519.545/0001-10   \n",
       "\n",
       "             Nome da Rua Numero Rua Complemento Bairro        Cep  \\\n",
       "0  PRACA FIDELIS FERRARI         35         NaN   LACE  29703-030   \n",
       "\n",
       "              Produto Data da Coleta Valor de Venda  Valor de Compra  \\\n",
       "0  GASOLINA ADITIVADA     01/07/2022           7,48              NaN   \n",
       "\n",
       "  Unidade de Medida       Bandeira  \n",
       "0        R$ / litro  VIBRA ENERGIA  "
      ]
     },
     "execution_count": 79,
     "metadata": {},
     "output_type": "execute_result"
    }
   ],
   "source": [
    "# Lendo DF em relação ao mês de Julho\n",
    "comb_jul = pd.read_csv('dados/precos-gasolina-etanol-07.csv', delimiter=';')\n",
    "comb_jul.head(1)"
   ]
  },
  {
   "cell_type": "code",
   "execution_count": 80,
   "metadata": {},
   "outputs": [
    {
     "data": {
      "text/html": [
       "<div>\n",
       "<style scoped>\n",
       "    .dataframe tbody tr th:only-of-type {\n",
       "        vertical-align: middle;\n",
       "    }\n",
       "\n",
       "    .dataframe tbody tr th {\n",
       "        vertical-align: top;\n",
       "    }\n",
       "\n",
       "    .dataframe thead th {\n",
       "        text-align: right;\n",
       "    }\n",
       "</style>\n",
       "<table border=\"1\" class=\"dataframe\">\n",
       "  <thead>\n",
       "    <tr style=\"text-align: right;\">\n",
       "      <th></th>\n",
       "      <th>Regiao - Sigla</th>\n",
       "      <th>Estado - Sigla</th>\n",
       "      <th>Municipio</th>\n",
       "      <th>Revenda</th>\n",
       "      <th>CNPJ da Revenda</th>\n",
       "      <th>Nome da Rua</th>\n",
       "      <th>Numero Rua</th>\n",
       "      <th>Complemento</th>\n",
       "      <th>Bairro</th>\n",
       "      <th>Cep</th>\n",
       "      <th>Produto</th>\n",
       "      <th>Data da Coleta</th>\n",
       "      <th>Valor de Venda</th>\n",
       "      <th>Valor de Compra</th>\n",
       "      <th>Unidade de Medida</th>\n",
       "      <th>Bandeira</th>\n",
       "    </tr>\n",
       "  </thead>\n",
       "  <tbody>\n",
       "    <tr>\n",
       "      <th>0</th>\n",
       "      <td>NE</td>\n",
       "      <td>AL</td>\n",
       "      <td>ARAPIRACA</td>\n",
       "      <td>AUTO POSTO M M GARROTE LTDA</td>\n",
       "      <td>08.738.994/0001-50</td>\n",
       "      <td>RODOVIA AL-220</td>\n",
       "      <td>5848</td>\n",
       "      <td>KM    96</td>\n",
       "      <td>BOM SUCESSO</td>\n",
       "      <td>57309-035</td>\n",
       "      <td>ETANOL</td>\n",
       "      <td>01/08/2022</td>\n",
       "      <td>4,79</td>\n",
       "      <td>NaN</td>\n",
       "      <td>R$ / litro</td>\n",
       "      <td>VIBRA ENERGIA</td>\n",
       "    </tr>\n",
       "  </tbody>\n",
       "</table>\n",
       "</div>"
      ],
      "text/plain": [
       "  Regiao - Sigla Estado - Sigla  Municipio                      Revenda  \\\n",
       "0             NE             AL  ARAPIRACA  AUTO POSTO M M GARROTE LTDA   \n",
       "\n",
       "       CNPJ da Revenda     Nome da Rua Numero Rua Complemento       Bairro  \\\n",
       "0   08.738.994/0001-50  RODOVIA AL-220       5848    KM    96  BOM SUCESSO   \n",
       "\n",
       "         Cep Produto Data da Coleta Valor de Venda  Valor de Compra  \\\n",
       "0  57309-035  ETANOL     01/08/2022           4,79              NaN   \n",
       "\n",
       "  Unidade de Medida       Bandeira  \n",
       "0        R$ / litro  VIBRA ENERGIA  "
      ]
     },
     "execution_count": 80,
     "metadata": {},
     "output_type": "execute_result"
    }
   ],
   "source": [
    "# Lendo DF em relação ao mês de Agosto\n",
    "comb_ago = pd.read_csv('dados/precos-gasolina-etanol-08.csv', delimiter=';')\n",
    "comb_ago.head(1)"
   ]
  },
  {
   "cell_type": "code",
   "execution_count": 81,
   "metadata": {},
   "outputs": [
    {
     "data": {
      "text/html": [
       "<div>\n",
       "<style scoped>\n",
       "    .dataframe tbody tr th:only-of-type {\n",
       "        vertical-align: middle;\n",
       "    }\n",
       "\n",
       "    .dataframe tbody tr th {\n",
       "        vertical-align: top;\n",
       "    }\n",
       "\n",
       "    .dataframe thead th {\n",
       "        text-align: right;\n",
       "    }\n",
       "</style>\n",
       "<table border=\"1\" class=\"dataframe\">\n",
       "  <thead>\n",
       "    <tr style=\"text-align: right;\">\n",
       "      <th></th>\n",
       "      <th>Regiao - Sigla</th>\n",
       "      <th>Estado - Sigla</th>\n",
       "      <th>Municipio</th>\n",
       "      <th>Revenda</th>\n",
       "      <th>CNPJ da Revenda</th>\n",
       "      <th>Nome da Rua</th>\n",
       "      <th>Numero Rua</th>\n",
       "      <th>Complemento</th>\n",
       "      <th>Bairro</th>\n",
       "      <th>Cep</th>\n",
       "      <th>Produto</th>\n",
       "      <th>Data da Coleta</th>\n",
       "      <th>Valor de Venda</th>\n",
       "      <th>Valor de Compra</th>\n",
       "      <th>Unidade de Medida</th>\n",
       "      <th>Bandeira</th>\n",
       "    </tr>\n",
       "  </thead>\n",
       "  <tbody>\n",
       "    <tr>\n",
       "      <th>0</th>\n",
       "      <td>SE</td>\n",
       "      <td>ES</td>\n",
       "      <td>COLATINA</td>\n",
       "      <td>SAO FRANCISCO DE ASSIS COMERCIO DE COMBUSTIVEI...</td>\n",
       "      <td>08.519.545/0001-10</td>\n",
       "      <td>PRACA FIDELIS FERRARI</td>\n",
       "      <td>35</td>\n",
       "      <td>NaN</td>\n",
       "      <td>LACE</td>\n",
       "      <td>29703-030</td>\n",
       "      <td>GASOLINA ADITIVADA</td>\n",
       "      <td>01/07/2022</td>\n",
       "      <td>7,48</td>\n",
       "      <td>NaN</td>\n",
       "      <td>R$ / litro</td>\n",
       "      <td>VIBRA ENERGIA</td>\n",
       "    </tr>\n",
       "  </tbody>\n",
       "</table>\n",
       "</div>"
      ],
      "text/plain": [
       "  Regiao - Sigla Estado - Sigla Municipio  \\\n",
       "0             SE             ES  COLATINA   \n",
       "\n",
       "                                             Revenda      CNPJ da Revenda  \\\n",
       "0  SAO FRANCISCO DE ASSIS COMERCIO DE COMBUSTIVEI...   08.519.545/0001-10   \n",
       "\n",
       "             Nome da Rua Numero Rua Complemento Bairro        Cep  \\\n",
       "0  PRACA FIDELIS FERRARI         35         NaN   LACE  29703-030   \n",
       "\n",
       "              Produto Data da Coleta Valor de Venda  Valor de Compra  \\\n",
       "0  GASOLINA ADITIVADA     01/07/2022           7,48              NaN   \n",
       "\n",
       "  Unidade de Medida       Bandeira  \n",
       "0        R$ / litro  VIBRA ENERGIA  "
      ]
     },
     "execution_count": 81,
     "metadata": {},
     "output_type": "execute_result"
    }
   ],
   "source": [
    "# Concatenando os dois DF's\n",
    "conjunto_dados = pd.concat([comb_jul, comb_ago])\n",
    "conjunto_dados.head(1)"
   ]
  },
  {
   "cell_type": "markdown",
   "metadata": {},
   "source": [
    "# Análise Exploratória"
   ]
  },
  {
   "cell_type": "code",
   "execution_count": 82,
   "metadata": {},
   "outputs": [
    {
     "data": {
      "text/plain": [
       "(127176, 16)"
      ]
     },
     "execution_count": 82,
     "metadata": {},
     "output_type": "execute_result"
    }
   ],
   "source": [
    "# Shape\n",
    "conjunto_dados.shape"
   ]
  },
  {
   "cell_type": "code",
   "execution_count": 83,
   "metadata": {},
   "outputs": [],
   "source": [
    "# Dicionario das colunas"
   ]
  },
  {
   "cell_type": "code",
   "execution_count": 84,
   "metadata": {},
   "outputs": [
    {
     "name": "stdout",
     "output_type": "stream",
     "text": [
      "<class 'pandas.core.frame.DataFrame'>\n",
      "Int64Index: 127176 entries, 0 to 69543\n",
      "Data columns (total 16 columns):\n",
      " #   Column             Non-Null Count   Dtype  \n",
      "---  ------             --------------   -----  \n",
      " 0   Regiao - Sigla     127176 non-null  object \n",
      " 1   Estado - Sigla     127176 non-null  object \n",
      " 2   Municipio          127176 non-null  object \n",
      " 3   Revenda            127176 non-null  object \n",
      " 4   CNPJ da Revenda    127176 non-null  object \n",
      " 5   Nome da Rua        127176 non-null  object \n",
      " 6   Numero Rua         127105 non-null  object \n",
      " 7   Complemento        27079 non-null   object \n",
      " 8   Bairro             126764 non-null  object \n",
      " 9   Cep                127176 non-null  object \n",
      " 10  Produto            127176 non-null  object \n",
      " 11  Data da Coleta     127176 non-null  object \n",
      " 12  Valor de Venda     127176 non-null  object \n",
      " 13  Valor de Compra    0 non-null       float64\n",
      " 14  Unidade de Medida  127176 non-null  object \n",
      " 15  Bandeira           127176 non-null  object \n",
      "dtypes: float64(1), object(15)\n",
      "memory usage: 16.5+ MB\n"
     ]
    }
   ],
   "source": [
    "conjunto_dados.info()"
   ]
  },
  {
   "cell_type": "code",
   "execution_count": 85,
   "metadata": {},
   "outputs": [
    {
     "data": {
      "text/plain": [
       "Valor de Compra      100.000000\n",
       "Complemento           78.707461\n",
       "Bairro                 0.323960\n",
       "Numero Rua             0.055828\n",
       "Regiao - Sigla         0.000000\n",
       "Estado - Sigla         0.000000\n",
       "Municipio              0.000000\n",
       "Revenda                0.000000\n",
       "CNPJ da Revenda        0.000000\n",
       "Nome da Rua            0.000000\n",
       "Cep                    0.000000\n",
       "Produto                0.000000\n",
       "Data da Coleta         0.000000\n",
       "Valor de Venda         0.000000\n",
       "Unidade de Medida      0.000000\n",
       "Bandeira               0.000000\n",
       "dtype: float64"
      ]
     },
     "execution_count": 85,
     "metadata": {},
     "output_type": "execute_result"
    }
   ],
   "source": [
    "# Checando a % de valores nulos em cada coluna do DF\n",
    "((conjunto_dados.isnull().sum() / conjunto_dados.shape[0]) * 100).sort_values(ascending=False)"
   ]
  },
  {
   "cell_type": "code",
   "execution_count": 86,
   "metadata": {},
   "outputs": [
    {
     "data": {
      "text/plain": [
       "Regiao - Sigla        object\n",
       "Estado - Sigla        object\n",
       "Municipio             object\n",
       "Revenda               object\n",
       "CNPJ da Revenda       object\n",
       "Nome da Rua           object\n",
       "Numero Rua            object\n",
       "Complemento           object\n",
       "Bairro                object\n",
       "Cep                   object\n",
       "Produto               object\n",
       "Data da Coleta        object\n",
       "Valor de Venda        object\n",
       "Valor de Compra      float64\n",
       "Unidade de Medida     object\n",
       "Bandeira              object\n",
       "dtype: object"
      ]
     },
     "execution_count": 86,
     "metadata": {},
     "output_type": "execute_result"
    }
   ],
   "source": [
    "# Dtype\n",
    "conjunto_dados.dtypes"
   ]
  },
  {
   "cell_type": "markdown",
   "metadata": {},
   "source": [
    "## Tratamento"
   ]
  },
  {
   "cell_type": "code",
   "execution_count": 87,
   "metadata": {},
   "outputs": [],
   "source": [
    "# Resetando Index no DF concatenado\n",
    "conjunto_dados.reset_index(0, drop=True, inplace=True)"
   ]
  },
  {
   "cell_type": "code",
   "execution_count": 88,
   "metadata": {},
   "outputs": [],
   "source": [
    "# Dropando a coluna 'Valor de Compra' pois a mesma contém apenas valores nulos\n",
    "conjunto_dados.drop('Valor de Compra', axis=1, inplace=True)"
   ]
  },
  {
   "cell_type": "code",
   "execution_count": 89,
   "metadata": {},
   "outputs": [],
   "source": [
    "# Transformando os valores da coluna 'Valor de Venda' para float\n",
    "conjunto_dados['Valor de Venda'] = conjunto_dados['Valor de Venda'].apply(lambda y: float(str(y.replace(',','.'))))"
   ]
  },
  {
   "cell_type": "code",
   "execution_count": 90,
   "metadata": {},
   "outputs": [],
   "source": [
    "# Preenchendo valores nulos da coluna 'Complemento' com 0\n",
    "conjunto_dados.Complemento.fillna('0', inplace=True)"
   ]
  },
  {
   "cell_type": "code",
   "execution_count": 91,
   "metadata": {},
   "outputs": [
    {
     "data": {
      "text/html": [
       "<div>\n",
       "<style scoped>\n",
       "    .dataframe tbody tr th:only-of-type {\n",
       "        vertical-align: middle;\n",
       "    }\n",
       "\n",
       "    .dataframe tbody tr th {\n",
       "        vertical-align: top;\n",
       "    }\n",
       "\n",
       "    .dataframe thead th {\n",
       "        text-align: right;\n",
       "    }\n",
       "</style>\n",
       "<table border=\"1\" class=\"dataframe\">\n",
       "  <thead>\n",
       "    <tr style=\"text-align: right;\">\n",
       "      <th></th>\n",
       "      <th>Regiao - Sigla</th>\n",
       "      <th>Estado - Sigla</th>\n",
       "      <th>Municipio</th>\n",
       "      <th>Revenda</th>\n",
       "      <th>CNPJ da Revenda</th>\n",
       "      <th>Nome da Rua</th>\n",
       "      <th>Numero Rua</th>\n",
       "      <th>Complemento</th>\n",
       "      <th>Bairro</th>\n",
       "      <th>Cep</th>\n",
       "      <th>Produto</th>\n",
       "      <th>Data da Coleta</th>\n",
       "      <th>Valor de Venda</th>\n",
       "      <th>Unidade de Medida</th>\n",
       "      <th>Bandeira</th>\n",
       "    </tr>\n",
       "  </thead>\n",
       "  <tbody>\n",
       "    <tr>\n",
       "      <th>0</th>\n",
       "      <td>SE</td>\n",
       "      <td>ES</td>\n",
       "      <td>COLATINA</td>\n",
       "      <td>SAO FRANCISCO DE ASSIS COMERCIO DE COMBUSTIVEI...</td>\n",
       "      <td>08.519.545/0001-10</td>\n",
       "      <td>PRACA FIDELIS FERRARI</td>\n",
       "      <td>35</td>\n",
       "      <td>0</td>\n",
       "      <td>LACE</td>\n",
       "      <td>29703-030</td>\n",
       "      <td>GASOLINA ADITIVADA</td>\n",
       "      <td>2022-07-01</td>\n",
       "      <td>7.48</td>\n",
       "      <td>R$ / litro</td>\n",
       "      <td>VIBRA ENERGIA</td>\n",
       "    </tr>\n",
       "  </tbody>\n",
       "</table>\n",
       "</div>"
      ],
      "text/plain": [
       "  Regiao - Sigla Estado - Sigla Municipio  \\\n",
       "0             SE             ES  COLATINA   \n",
       "\n",
       "                                             Revenda      CNPJ da Revenda  \\\n",
       "0  SAO FRANCISCO DE ASSIS COMERCIO DE COMBUSTIVEI...   08.519.545/0001-10   \n",
       "\n",
       "             Nome da Rua Numero Rua Complemento Bairro        Cep  \\\n",
       "0  PRACA FIDELIS FERRARI         35           0   LACE  29703-030   \n",
       "\n",
       "              Produto Data da Coleta  Valor de Venda Unidade de Medida  \\\n",
       "0  GASOLINA ADITIVADA     2022-07-01            7.48        R$ / litro   \n",
       "\n",
       "        Bandeira  \n",
       "0  VIBRA ENERGIA  "
      ]
     },
     "execution_count": 91,
     "metadata": {},
     "output_type": "execute_result"
    }
   ],
   "source": [
    "# Trasnformando as datas da coluna 'Data da Coleta' para datetime\n",
    "conjunto_dados['Data da Coleta'] = pd.to_datetime(conjunto_dados['Data da Coleta'], format='%d/%m/%Y')\n",
    "conjunto_dados.head(1)"
   ]
  },
  {
   "cell_type": "markdown",
   "metadata": {},
   "source": [
    "- Funções"
   ]
  },
  {
   "cell_type": "code",
   "execution_count": 92,
   "metadata": {},
   "outputs": [],
   "source": [
    "# Passando strings para minusculas no DF\n",
    "to_title = lambda x: x.title() if isinstance(x, str) else x"
   ]
  },
  {
   "cell_type": "code",
   "execution_count": 93,
   "metadata": {},
   "outputs": [],
   "source": [
    "# Criando função que acrecenta coluna de dias da semana\n",
    "def cria_semanas(df):\n",
    "    dias_semana = {'Sunday':'Domingo', 'Monday':'Segunda', 'Tuesday':'Terça', 'Wednesday':'Quarta', 'Thursday':'Quinta', 'Friday':'Sexta', 'Saturday':'Sábado'}\n",
    "    df['Dias da Semana'] = df['Data da Coleta'].apply(lambda x: x.strftime('%A'))\n",
    "    df['Dias da Semana'] = df['Dias da Semana'].replace(dias_semana)\n",
    "    return df"
   ]
  },
  {
   "cell_type": "code",
   "execution_count": 94,
   "metadata": {},
   "outputs": [],
   "source": [
    "# Aplicando a função no DF\n",
    "conjunto_dados = cria_semanas(conjunto_dados)"
   ]
  },
  {
   "cell_type": "code",
   "execution_count": 95,
   "metadata": {
    "scrolled": true
   },
   "outputs": [],
   "source": [
    "# Passando strings para minusculas no DF\n",
    "conjunto_dados['Municipio'] = conjunto_dados['Municipio'].apply(to_title)\n",
    "conjunto_dados['Revenda'] = conjunto_dados['Revenda'].apply(to_title)\n",
    "conjunto_dados['Nome da Rua'] = conjunto_dados['Nome da Rua'].apply(to_title)\n",
    "conjunto_dados['Complemento'] = conjunto_dados['Complemento'].apply(to_title)\n",
    "conjunto_dados['Bairro'] = conjunto_dados['Bairro'].apply(to_title)\n",
    "conjunto_dados['Produto'] = conjunto_dados['Produto'].apply(to_title)\n",
    "conjunto_dados['Bandeira'] = conjunto_dados['Bandeira'].apply(to_title)"
   ]
  },
  {
   "cell_type": "code",
   "execution_count": 96,
   "metadata": {
    "scrolled": true
   },
   "outputs": [
    {
     "data": {
      "text/html": [
       "<div>\n",
       "<style scoped>\n",
       "    .dataframe tbody tr th:only-of-type {\n",
       "        vertical-align: middle;\n",
       "    }\n",
       "\n",
       "    .dataframe tbody tr th {\n",
       "        vertical-align: top;\n",
       "    }\n",
       "\n",
       "    .dataframe thead th {\n",
       "        text-align: right;\n",
       "    }\n",
       "</style>\n",
       "<table border=\"1\" class=\"dataframe\">\n",
       "  <thead>\n",
       "    <tr style=\"text-align: right;\">\n",
       "      <th></th>\n",
       "      <th>Regiao - Sigla</th>\n",
       "      <th>Estado - Sigla</th>\n",
       "      <th>Municipio</th>\n",
       "      <th>Revenda</th>\n",
       "      <th>CNPJ da Revenda</th>\n",
       "      <th>Nome da Rua</th>\n",
       "      <th>Numero Rua</th>\n",
       "      <th>Complemento</th>\n",
       "      <th>Bairro</th>\n",
       "      <th>Cep</th>\n",
       "      <th>Produto</th>\n",
       "      <th>Data da Coleta</th>\n",
       "      <th>Valor de Venda</th>\n",
       "      <th>Unidade de Medida</th>\n",
       "      <th>Bandeira</th>\n",
       "      <th>Dias da Semana</th>\n",
       "    </tr>\n",
       "  </thead>\n",
       "  <tbody>\n",
       "    <tr>\n",
       "      <th>0</th>\n",
       "      <td>SE</td>\n",
       "      <td>ES</td>\n",
       "      <td>Colatina</td>\n",
       "      <td>Sao Francisco De Assis Comercio De Combustivei...</td>\n",
       "      <td>08.519.545/0001-10</td>\n",
       "      <td>Praca Fidelis Ferrari</td>\n",
       "      <td>35</td>\n",
       "      <td>0</td>\n",
       "      <td>Lace</td>\n",
       "      <td>29703-030</td>\n",
       "      <td>Gasolina Aditivada</td>\n",
       "      <td>2022-07-01</td>\n",
       "      <td>7.48</td>\n",
       "      <td>R$ / litro</td>\n",
       "      <td>Vibra Energia</td>\n",
       "      <td>Sexta</td>\n",
       "    </tr>\n",
       "    <tr>\n",
       "      <th>1</th>\n",
       "      <td>SE</td>\n",
       "      <td>ES</td>\n",
       "      <td>Colatina</td>\n",
       "      <td>Sao Francisco De Assis Comercio De Combustivei...</td>\n",
       "      <td>08.519.545/0001-10</td>\n",
       "      <td>Praca Fidelis Ferrari</td>\n",
       "      <td>35</td>\n",
       "      <td>0</td>\n",
       "      <td>Lace</td>\n",
       "      <td>29703-030</td>\n",
       "      <td>Gasolina</td>\n",
       "      <td>2022-07-01</td>\n",
       "      <td>7.38</td>\n",
       "      <td>R$ / litro</td>\n",
       "      <td>Vibra Energia</td>\n",
       "      <td>Sexta</td>\n",
       "    </tr>\n",
       "    <tr>\n",
       "      <th>2</th>\n",
       "      <td>SE</td>\n",
       "      <td>ES</td>\n",
       "      <td>Colatina</td>\n",
       "      <td>Posto Motocap Ltda</td>\n",
       "      <td>04.814.652/0001-10</td>\n",
       "      <td>Praca Almirante Barroso</td>\n",
       "      <td>52</td>\n",
       "      <td>Letra A</td>\n",
       "      <td>Lace</td>\n",
       "      <td>29703-055</td>\n",
       "      <td>Etanol</td>\n",
       "      <td>2022-07-01</td>\n",
       "      <td>5.99</td>\n",
       "      <td>R$ / litro</td>\n",
       "      <td>Vibra Energia</td>\n",
       "      <td>Sexta</td>\n",
       "    </tr>\n",
       "    <tr>\n",
       "      <th>3</th>\n",
       "      <td>SE</td>\n",
       "      <td>ES</td>\n",
       "      <td>Colatina</td>\n",
       "      <td>Posto Motocap Ltda</td>\n",
       "      <td>04.814.652/0001-10</td>\n",
       "      <td>Praca Almirante Barroso</td>\n",
       "      <td>52</td>\n",
       "      <td>Letra A</td>\n",
       "      <td>Lace</td>\n",
       "      <td>29703-055</td>\n",
       "      <td>Gasolina</td>\n",
       "      <td>2022-07-01</td>\n",
       "      <td>7.39</td>\n",
       "      <td>R$ / litro</td>\n",
       "      <td>Vibra Energia</td>\n",
       "      <td>Sexta</td>\n",
       "    </tr>\n",
       "    <tr>\n",
       "      <th>4</th>\n",
       "      <td>CO</td>\n",
       "      <td>GO</td>\n",
       "      <td>Goiania</td>\n",
       "      <td>Justiniano &amp; Justiniano Ltda</td>\n",
       "      <td>04.489.287/0001-16</td>\n",
       "      <td>Avenida Jose Leandro Da Cruz</td>\n",
       "      <td>2,36</td>\n",
       "      <td>Quadra 18, Lote 01</td>\n",
       "      <td>Parque Amazonia</td>\n",
       "      <td>74840-390</td>\n",
       "      <td>Gasolina Aditivada</td>\n",
       "      <td>2022-07-01</td>\n",
       "      <td>6.49</td>\n",
       "      <td>R$ / litro</td>\n",
       "      <td>Ipiranga</td>\n",
       "      <td>Sexta</td>\n",
       "    </tr>\n",
       "  </tbody>\n",
       "</table>\n",
       "</div>"
      ],
      "text/plain": [
       "  Regiao - Sigla Estado - Sigla Municipio  \\\n",
       "0             SE             ES  Colatina   \n",
       "1             SE             ES  Colatina   \n",
       "2             SE             ES  Colatina   \n",
       "3             SE             ES  Colatina   \n",
       "4             CO             GO   Goiania   \n",
       "\n",
       "                                             Revenda      CNPJ da Revenda  \\\n",
       "0  Sao Francisco De Assis Comercio De Combustivei...   08.519.545/0001-10   \n",
       "1  Sao Francisco De Assis Comercio De Combustivei...   08.519.545/0001-10   \n",
       "2                                 Posto Motocap Ltda   04.814.652/0001-10   \n",
       "3                                 Posto Motocap Ltda   04.814.652/0001-10   \n",
       "4                       Justiniano & Justiniano Ltda   04.489.287/0001-16   \n",
       "\n",
       "                    Nome da Rua Numero Rua         Complemento  \\\n",
       "0         Praca Fidelis Ferrari         35                   0   \n",
       "1         Praca Fidelis Ferrari         35                   0   \n",
       "2       Praca Almirante Barroso         52             Letra A   \n",
       "3       Praca Almirante Barroso         52             Letra A   \n",
       "4  Avenida Jose Leandro Da Cruz       2,36  Quadra 18, Lote 01   \n",
       "\n",
       "            Bairro        Cep             Produto Data da Coleta  \\\n",
       "0             Lace  29703-030  Gasolina Aditivada     2022-07-01   \n",
       "1             Lace  29703-030            Gasolina     2022-07-01   \n",
       "2             Lace  29703-055              Etanol     2022-07-01   \n",
       "3             Lace  29703-055            Gasolina     2022-07-01   \n",
       "4  Parque Amazonia  74840-390  Gasolina Aditivada     2022-07-01   \n",
       "\n",
       "   Valor de Venda Unidade de Medida       Bandeira Dias da Semana  \n",
       "0            7.48        R$ / litro  Vibra Energia          Sexta  \n",
       "1            7.38        R$ / litro  Vibra Energia          Sexta  \n",
       "2            5.99        R$ / litro  Vibra Energia          Sexta  \n",
       "3            7.39        R$ / litro  Vibra Energia          Sexta  \n",
       "4            6.49        R$ / litro       Ipiranga          Sexta  "
      ]
     },
     "execution_count": 96,
     "metadata": {},
     "output_type": "execute_result"
    }
   ],
   "source": [
    "conjunto_dados.head()"
   ]
  },
  {
   "cell_type": "code",
   "execution_count": 97,
   "metadata": {
    "scrolled": false
   },
   "outputs": [
    {
     "data": {
      "text/html": [
       "<div>\n",
       "<style scoped>\n",
       "    .dataframe tbody tr th:only-of-type {\n",
       "        vertical-align: middle;\n",
       "    }\n",
       "\n",
       "    .dataframe tbody tr th {\n",
       "        vertical-align: top;\n",
       "    }\n",
       "\n",
       "    .dataframe thead th {\n",
       "        text-align: right;\n",
       "    }\n",
       "</style>\n",
       "<table border=\"1\" class=\"dataframe\">\n",
       "  <thead>\n",
       "    <tr style=\"text-align: right;\">\n",
       "      <th></th>\n",
       "      <th>Valor de Venda</th>\n",
       "    </tr>\n",
       "  </thead>\n",
       "  <tbody>\n",
       "    <tr>\n",
       "      <th>count</th>\n",
       "      <td>127176.000000</td>\n",
       "    </tr>\n",
       "    <tr>\n",
       "      <th>mean</th>\n",
       "      <td>5.355503</td>\n",
       "    </tr>\n",
       "    <tr>\n",
       "      <th>std</th>\n",
       "      <td>0.860449</td>\n",
       "    </tr>\n",
       "    <tr>\n",
       "      <th>min</th>\n",
       "      <td>2.890000</td>\n",
       "    </tr>\n",
       "    <tr>\n",
       "      <th>25%</th>\n",
       "      <td>4.880000</td>\n",
       "    </tr>\n",
       "    <tr>\n",
       "      <th>50%</th>\n",
       "      <td>5.490000</td>\n",
       "    </tr>\n",
       "    <tr>\n",
       "      <th>75%</th>\n",
       "      <td>5.890000</td>\n",
       "    </tr>\n",
       "    <tr>\n",
       "      <th>max</th>\n",
       "      <td>9.270000</td>\n",
       "    </tr>\n",
       "  </tbody>\n",
       "</table>\n",
       "</div>"
      ],
      "text/plain": [
       "       Valor de Venda\n",
       "count   127176.000000\n",
       "mean         5.355503\n",
       "std          0.860449\n",
       "min          2.890000\n",
       "25%          4.880000\n",
       "50%          5.490000\n",
       "75%          5.890000\n",
       "max          9.270000"
      ]
     },
     "execution_count": 97,
     "metadata": {},
     "output_type": "execute_result"
    }
   ],
   "source": [
    "conjunto_dados.describe()"
   ]
  },
  {
   "cell_type": "code",
   "execution_count": 98,
   "metadata": {
    "scrolled": false
   },
   "outputs": [
    {
     "data": {
      "image/png": "[encoded data removed]",
      "text/plain": [
       "<Figure size 432x288 with 1 Axes>"
      ]
     },
     "metadata": {
      "needs_background": "light"
     },
     "output_type": "display_data"
    }
   ],
   "source": [
    "conjunto_dados['Valor de Venda'].hist();"
   ]
  },
  {
   "cell_type": "code",
   "execution_count": 99,
   "metadata": {
    "scrolled": true
   },
   "outputs": [
    {
     "data": {
      "image/png": "[encoded data removed]",
      "text/plain": [
       "<Figure size 1440x360 with 1 Axes>"
      ]
     },
     "metadata": {
      "needs_background": "light"
     },
     "output_type": "display_data"
    }
   ],
   "source": [
    "conjunto_dados['Valor de Venda'].plot(kind='box', vert=False, figsize=(20, 5))\n",
    "plt.show()"
   ]
  },
  {
   "cell_type": "code",
   "execution_count": 100,
   "metadata": {},
   "outputs": [],
   "source": [
    "# Mardown explicando o pq não tiramos os outliers nesse caso"
   ]
  },
  {
   "cell_type": "markdown",
   "metadata": {},
   "source": [
    "## Trabalhando nos dados"
   ]
  },
  {
   "cell_type": "code",
   "execution_count": 101,
   "metadata": {},
   "outputs": [],
   "source": [
    "#1 Como se comportam o preço dos combustíveis durante os dois meses citados? (Jul/Ago) Os valores do etanol e da gasolina tiveram uma (tendencia?) de queda ou diminuição?"
   ]
  },
  {
   "cell_type": "code",
   "execution_count": 102,
   "metadata": {},
   "outputs": [],
   "source": [
    "comb_jul = conjunto_dados[(conjunto_dados['Data da Coleta'] < '2022-08-01')] \n",
    "comb_ago = conjunto_dados[(conjunto_dados['Data da Coleta'] > '2022-08-01')]"
   ]
  },
  {
   "cell_type": "code",
   "execution_count": 103,
   "metadata": {
    "scrolled": true
   },
   "outputs": [],
   "source": [
    "# Criando DF's dos preços de combustíveis para julho e agosto\n",
    "preco_comb_jul = comb_jul.groupby(['Regiao - Sigla']).mean()\n",
    "preco_comb_jul.columns = ['Preço Médio']\n",
    "\n",
    "preco_comb_ago = comb_ago.groupby(['Regiao - Sigla']).mean()\n",
    "preco_comb_ago.columns = ['Preço Médio']"
   ]
  },
  {
   "cell_type": "code",
   "execution_count": 104,
   "metadata": {},
   "outputs": [
    {
     "data": {
      "image/png": "[encoded data removed]",
      "text/plain": [
       "<Figure size 800x400 with 1 Axes>"
      ]
     },
     "metadata": {
      "needs_background": "light"
     },
     "output_type": "display_data"
    }
   ],
   "source": [
    "plt.figure(figsize=(10, 5), dpi=80)\n",
    "\n",
    "sns.kdeplot(comb_jul['Valor de Venda'], shade=True, color='g', label='Julho', alpha=.7)\n",
    "sns.kdeplot(comb_ago['Valor de Venda'], shade=True, color='r', label='Agosto', alpha=.7)\n",
    "\n",
    "plt.title('Densidade de Preços (Julho - Agosto)', fontsize=12)\n",
    "plt.legend()\n",
    "plt.show()"
   ]
  },
  {
   "cell_type": "code",
   "execution_count": 105,
   "metadata": {},
   "outputs": [
    {
     "data": {
      "text/html": [
       "<div>\n",
       "<style scoped>\n",
       "    .dataframe tbody tr th:only-of-type {\n",
       "        vertical-align: middle;\n",
       "    }\n",
       "\n",
       "    .dataframe tbody tr th {\n",
       "        vertical-align: top;\n",
       "    }\n",
       "\n",
       "    .dataframe thead th {\n",
       "        text-align: right;\n",
       "    }\n",
       "</style>\n",
       "<table border=\"1\" class=\"dataframe\">\n",
       "  <thead>\n",
       "    <tr style=\"text-align: right;\">\n",
       "      <th></th>\n",
       "      <th>Preço Médio</th>\n",
       "    </tr>\n",
       "    <tr>\n",
       "      <th>Regiao - Sigla</th>\n",
       "      <th></th>\n",
       "    </tr>\n",
       "  </thead>\n",
       "  <tbody>\n",
       "    <tr>\n",
       "      <th>CO</th>\n",
       "      <td>5.326755</td>\n",
       "    </tr>\n",
       "    <tr>\n",
       "      <th>SE</th>\n",
       "      <td>5.408082</td>\n",
       "    </tr>\n",
       "    <tr>\n",
       "      <th>S</th>\n",
       "      <td>5.775341</td>\n",
       "    </tr>\n",
       "    <tr>\n",
       "      <th>NE</th>\n",
       "      <td>6.206380</td>\n",
       "    </tr>\n",
       "    <tr>\n",
       "      <th>N</th>\n",
       "      <td>6.213738</td>\n",
       "    </tr>\n",
       "  </tbody>\n",
       "</table>\n",
       "</div>"
      ],
      "text/plain": [
       "                Preço Médio\n",
       "Regiao - Sigla             \n",
       "CO                 5.326755\n",
       "SE                 5.408082\n",
       "S                  5.775341\n",
       "NE                 6.206380\n",
       "N                  6.213738"
      ]
     },
     "metadata": {},
     "output_type": "display_data"
    },
    {
     "data": {
      "text/html": [
       "<div>\n",
       "<style scoped>\n",
       "    .dataframe tbody tr th:only-of-type {\n",
       "        vertical-align: middle;\n",
       "    }\n",
       "\n",
       "    .dataframe tbody tr th {\n",
       "        vertical-align: top;\n",
       "    }\n",
       "\n",
       "    .dataframe thead th {\n",
       "        text-align: right;\n",
       "    }\n",
       "</style>\n",
       "<table border=\"1\" class=\"dataframe\">\n",
       "  <thead>\n",
       "    <tr style=\"text-align: right;\">\n",
       "      <th></th>\n",
       "      <th>Preço Médio</th>\n",
       "    </tr>\n",
       "    <tr>\n",
       "      <th>Regiao - Sigla</th>\n",
       "      <th></th>\n",
       "    </tr>\n",
       "  </thead>\n",
       "  <tbody>\n",
       "    <tr>\n",
       "      <th>CO</th>\n",
       "      <td>4.803764</td>\n",
       "    </tr>\n",
       "    <tr>\n",
       "      <th>SE</th>\n",
       "      <td>4.890828</td>\n",
       "    </tr>\n",
       "    <tr>\n",
       "      <th>S</th>\n",
       "      <td>5.224502</td>\n",
       "    </tr>\n",
       "    <tr>\n",
       "      <th>NE</th>\n",
       "      <td>5.369108</td>\n",
       "    </tr>\n",
       "    <tr>\n",
       "      <th>N</th>\n",
       "      <td>5.594068</td>\n",
       "    </tr>\n",
       "  </tbody>\n",
       "</table>\n",
       "</div>"
      ],
      "text/plain": [
       "                Preço Médio\n",
       "Regiao - Sigla             \n",
       "CO                 4.803764\n",
       "SE                 4.890828\n",
       "S                  5.224502\n",
       "NE                 5.369108\n",
       "N                  5.594068"
      ]
     },
     "metadata": {},
     "output_type": "display_data"
    }
   ],
   "source": [
    "display(preco_comb_jul.sort_values(by='Preço Médio', ascending=True))\n",
    "\n",
    "display(preco_comb_ago.sort_values(by='Preço Médio', ascending=True))"
   ]
  },
  {
   "cell_type": "code",
   "execution_count": 106,
   "metadata": {},
   "outputs": [],
   "source": [
    "# 2. Qual o preço médio da gasolina e do etanol nesses dois meses?"
   ]
  },
  {
   "cell_type": "code",
   "execution_count": 107,
   "metadata": {
    "scrolled": false
   },
   "outputs": [
    {
     "data": {
      "text/html": [
       "<div>\n",
       "<style scoped>\n",
       "    .dataframe tbody tr th:only-of-type {\n",
       "        vertical-align: middle;\n",
       "    }\n",
       "\n",
       "    .dataframe tbody tr th {\n",
       "        vertical-align: top;\n",
       "    }\n",
       "\n",
       "    .dataframe thead th {\n",
       "        text-align: right;\n",
       "    }\n",
       "</style>\n",
       "<table border=\"1\" class=\"dataframe\">\n",
       "  <thead>\n",
       "    <tr style=\"text-align: right;\">\n",
       "      <th></th>\n",
       "      <th></th>\n",
       "      <th>Preço Médio</th>\n",
       "    </tr>\n",
       "    <tr>\n",
       "      <th>Produto</th>\n",
       "      <th>Regiao - Sigla</th>\n",
       "      <th></th>\n",
       "    </tr>\n",
       "  </thead>\n",
       "  <tbody>\n",
       "    <tr>\n",
       "      <th rowspan=\"5\" valign=\"top\">Etanol</th>\n",
       "      <th>CO</th>\n",
       "      <td>4.324710</td>\n",
       "    </tr>\n",
       "    <tr>\n",
       "      <th>N</th>\n",
       "      <td>5.637043</td>\n",
       "    </tr>\n",
       "    <tr>\n",
       "      <th>NE</th>\n",
       "      <td>5.605162</td>\n",
       "    </tr>\n",
       "    <tr>\n",
       "      <th>S</th>\n",
       "      <td>5.104525</td>\n",
       "    </tr>\n",
       "    <tr>\n",
       "      <th>SE</th>\n",
       "      <td>4.364011</td>\n",
       "    </tr>\n",
       "    <tr>\n",
       "      <th rowspan=\"5\" valign=\"top\">Gasolina</th>\n",
       "      <th>CO</th>\n",
       "      <td>5.894329</td>\n",
       "    </tr>\n",
       "    <tr>\n",
       "      <th>N</th>\n",
       "      <td>6.322346</td>\n",
       "    </tr>\n",
       "    <tr>\n",
       "      <th>NE</th>\n",
       "      <td>6.443064</td>\n",
       "    </tr>\n",
       "    <tr>\n",
       "      <th>S</th>\n",
       "      <td>5.939016</td>\n",
       "    </tr>\n",
       "    <tr>\n",
       "      <th>SE</th>\n",
       "      <td>5.926829</td>\n",
       "    </tr>\n",
       "    <tr>\n",
       "      <th rowspan=\"5\" valign=\"top\">Gasolina Aditivada</th>\n",
       "      <th>CO</th>\n",
       "      <td>6.034480</td>\n",
       "    </tr>\n",
       "    <tr>\n",
       "      <th>N</th>\n",
       "      <td>6.457643</td>\n",
       "    </tr>\n",
       "    <tr>\n",
       "      <th>NE</th>\n",
       "      <td>6.600561</td>\n",
       "    </tr>\n",
       "    <tr>\n",
       "      <th>S</th>\n",
       "      <td>6.079456</td>\n",
       "    </tr>\n",
       "    <tr>\n",
       "      <th>SE</th>\n",
       "      <td>6.140690</td>\n",
       "    </tr>\n",
       "  </tbody>\n",
       "</table>\n",
       "</div>"
      ],
      "text/plain": [
       "                                   Preço Médio\n",
       "Produto            Regiao - Sigla             \n",
       "Etanol             CO                 4.324710\n",
       "                   N                  5.637043\n",
       "                   NE                 5.605162\n",
       "                   S                  5.104525\n",
       "                   SE                 4.364011\n",
       "Gasolina           CO                 5.894329\n",
       "                   N                  6.322346\n",
       "                   NE                 6.443064\n",
       "                   S                  5.939016\n",
       "                   SE                 5.926829\n",
       "Gasolina Aditivada CO                 6.034480\n",
       "                   N                  6.457643\n",
       "                   NE                 6.600561\n",
       "                   S                  6.079456\n",
       "                   SE                 6.140690"
      ]
     },
     "execution_count": 107,
     "metadata": {},
     "output_type": "execute_result"
    }
   ],
   "source": [
    "relacao_comb_preco_jul = comb_jul[['Produto','Valor de Venda', 'Regiao - Sigla']].groupby(['Produto', 'Regiao - Sigla']).mean()\n",
    "relacao_comb_preco_jul.columns = ['Preço Médio']\n",
    "\n",
    "relacao_comb_preco_jul.sort_values(by='Produto', ascending=True)"
   ]
  },
  {
   "cell_type": "code",
   "execution_count": 108,
   "metadata": {},
   "outputs": [
    {
     "data": {
      "image/png": "[encoded data removed]",
      "text/plain": [
       "<Figure size 720x360 with 1 Axes>"
      ]
     },
     "metadata": {
      "needs_background": "light"
     },
     "output_type": "display_data"
    }
   ],
   "source": [
    "relacao_comb_preco_jul.unstack(level=0).plot(kind='bar', figsize=(10,5), layout=(2,3))\n",
    "plt.show()"
   ]
  },
  {
   "cell_type": "code",
   "execution_count": 109,
   "metadata": {
    "scrolled": false
   },
   "outputs": [
    {
     "data": {
      "text/html": [
       "<div>\n",
       "<style scoped>\n",
       "    .dataframe tbody tr th:only-of-type {\n",
       "        vertical-align: middle;\n",
       "    }\n",
       "\n",
       "    .dataframe tbody tr th {\n",
       "        vertical-align: top;\n",
       "    }\n",
       "\n",
       "    .dataframe thead th {\n",
       "        text-align: right;\n",
       "    }\n",
       "</style>\n",
       "<table border=\"1\" class=\"dataframe\">\n",
       "  <thead>\n",
       "    <tr style=\"text-align: right;\">\n",
       "      <th></th>\n",
       "      <th></th>\n",
       "      <th>Preço Médio</th>\n",
       "    </tr>\n",
       "    <tr>\n",
       "      <th>Produto</th>\n",
       "      <th>Regiao - Sigla</th>\n",
       "      <th></th>\n",
       "    </tr>\n",
       "  </thead>\n",
       "  <tbody>\n",
       "    <tr>\n",
       "      <th rowspan=\"5\" valign=\"top\">Etanol</th>\n",
       "      <th>CO</th>\n",
       "      <td>3.912062</td>\n",
       "    </tr>\n",
       "    <tr>\n",
       "      <th>N</th>\n",
       "      <td>5.098039</td>\n",
       "    </tr>\n",
       "    <tr>\n",
       "      <th>NE</th>\n",
       "      <td>4.925200</td>\n",
       "    </tr>\n",
       "    <tr>\n",
       "      <th>S</th>\n",
       "      <td>4.612057</td>\n",
       "    </tr>\n",
       "    <tr>\n",
       "      <th>SE</th>\n",
       "      <td>3.964701</td>\n",
       "    </tr>\n",
       "    <tr>\n",
       "      <th rowspan=\"5\" valign=\"top\">Gasolina</th>\n",
       "      <th>CO</th>\n",
       "      <td>5.301479</td>\n",
       "    </tr>\n",
       "    <tr>\n",
       "      <th>N</th>\n",
       "      <td>5.680932</td>\n",
       "    </tr>\n",
       "    <tr>\n",
       "      <th>NE</th>\n",
       "      <td>5.528224</td>\n",
       "    </tr>\n",
       "    <tr>\n",
       "      <th>S</th>\n",
       "      <td>5.373290</td>\n",
       "    </tr>\n",
       "    <tr>\n",
       "      <th>SE</th>\n",
       "      <td>5.343207</td>\n",
       "    </tr>\n",
       "    <tr>\n",
       "      <th rowspan=\"5\" valign=\"top\">Gasolina Aditivada</th>\n",
       "      <th>CO</th>\n",
       "      <td>5.445814</td>\n",
       "    </tr>\n",
       "    <tr>\n",
       "      <th>N</th>\n",
       "      <td>5.808880</td>\n",
       "    </tr>\n",
       "    <tr>\n",
       "      <th>NE</th>\n",
       "      <td>5.681207</td>\n",
       "    </tr>\n",
       "    <tr>\n",
       "      <th>S</th>\n",
       "      <td>5.505014</td>\n",
       "    </tr>\n",
       "    <tr>\n",
       "      <th>SE</th>\n",
       "      <td>5.551107</td>\n",
       "    </tr>\n",
       "  </tbody>\n",
       "</table>\n",
       "</div>"
      ],
      "text/plain": [
       "                                   Preço Médio\n",
       "Produto            Regiao - Sigla             \n",
       "Etanol             CO                 3.912062\n",
       "                   N                  5.098039\n",
       "                   NE                 4.925200\n",
       "                   S                  4.612057\n",
       "                   SE                 3.964701\n",
       "Gasolina           CO                 5.301479\n",
       "                   N                  5.680932\n",
       "                   NE                 5.528224\n",
       "                   S                  5.373290\n",
       "                   SE                 5.343207\n",
       "Gasolina Aditivada CO                 5.445814\n",
       "                   N                  5.808880\n",
       "                   NE                 5.681207\n",
       "                   S                  5.505014\n",
       "                   SE                 5.551107"
      ]
     },
     "execution_count": 109,
     "metadata": {},
     "output_type": "execute_result"
    }
   ],
   "source": [
    "relacao_comb_preco_ago = comb_ago[['Produto','Valor de Venda', 'Regiao - Sigla']].groupby(['Produto', 'Regiao - Sigla']).mean()\n",
    "relacao_comb_preco_ago.columns = ['Preço Médio']\n",
    "\n",
    "relacao_comb_preco_ago.sort_values(by='Produto', ascending=True)"
   ]
  },
  {
   "cell_type": "code",
   "execution_count": 110,
   "metadata": {},
   "outputs": [
    {
     "data": {
      "image/png": "[encoded data removed]",
      "text/plain": [
       "<Figure size 720x360 with 1 Axes>"
      ]
     },
     "metadata": {
      "needs_background": "light"
     },
     "output_type": "display_data"
    }
   ],
   "source": [
    "relacao_comb_preco_ago.unstack(level=0).plot(kind='bar', figsize=(10,5), layout=(2,3))\n",
    "plt.show()"
   ]
  },
  {
   "cell_type": "code",
   "execution_count": 111,
   "metadata": {
    "scrolled": true
   },
   "outputs": [],
   "source": [
    "# 3. Quais os 5 estados com o preço médio da gasolina e do etanol mais caros?\n",
    "\n",
    "# Levando em consideração os 2 meses e os 2 combustíveis juntos,Gasolina(comum/aditiva) e Etanol.\n",
    "dados_agrupados_estado = conjunto_dados.copy()\n",
    "\n",
    "media_combs_estados = dados_agrupados_estado.groupby(dados_agrupados_estado['Estado - Sigla'])[['Valor de Venda']].mean()\n",
    "media_combs_estados.columns = ['Preço Médio']"
   ]
  },
  {
   "cell_type": "code",
   "execution_count": 112,
   "metadata": {},
   "outputs": [
    {
     "data": {
      "image/png": "[encoded data removed]",
      "text/plain": [
       "<Figure size 432x288 with 1 Axes>"
      ]
     },
     "metadata": {
      "needs_background": "light"
     },
     "output_type": "display_data"
    }
   ],
   "source": [
    "media_combs_estados.sort_values(by='Preço Médio', ascending=False).head().plot(kind='bar', ylim=5.5);"
   ]
  },
  {
   "cell_type": "code",
   "execution_count": 113,
   "metadata": {},
   "outputs": [
    {
     "name": "stdout",
     "output_type": "stream",
     "text": [
      "OS 5 ESTADOS COM O MAIOR PREÇO MÉDIO DE GASOLINA COMUM/ADITIVADA E ETANOL NO BIMESTRE.\n"
     ]
    },
    {
     "data": {
      "text/html": [
       "<div>\n",
       "<style scoped>\n",
       "    .dataframe tbody tr th:only-of-type {\n",
       "        vertical-align: middle;\n",
       "    }\n",
       "\n",
       "    .dataframe tbody tr th {\n",
       "        vertical-align: top;\n",
       "    }\n",
       "\n",
       "    .dataframe thead th {\n",
       "        text-align: right;\n",
       "    }\n",
       "</style>\n",
       "<table border=\"1\" class=\"dataframe\">\n",
       "  <thead>\n",
       "    <tr style=\"text-align: right;\">\n",
       "      <th></th>\n",
       "      <th>Preço Médio</th>\n",
       "    </tr>\n",
       "    <tr>\n",
       "      <th>Estado - Sigla</th>\n",
       "      <th></th>\n",
       "    </tr>\n",
       "  </thead>\n",
       "  <tbody>\n",
       "    <tr>\n",
       "      <th>RR</th>\n",
       "      <td>6.020909</td>\n",
       "    </tr>\n",
       "    <tr>\n",
       "      <th>PA</th>\n",
       "      <td>5.998639</td>\n",
       "    </tr>\n",
       "    <tr>\n",
       "      <th>AC</th>\n",
       "      <td>5.996797</td>\n",
       "    </tr>\n",
       "    <tr>\n",
       "      <th>CE</th>\n",
       "      <td>5.867937</td>\n",
       "    </tr>\n",
       "    <tr>\n",
       "      <th>RN</th>\n",
       "      <td>5.852482</td>\n",
       "    </tr>\n",
       "  </tbody>\n",
       "</table>\n",
       "</div>"
      ],
      "text/plain": [
       "                Preço Médio\n",
       "Estado - Sigla             \n",
       "RR                 6.020909\n",
       "PA                 5.998639\n",
       "AC                 5.996797\n",
       "CE                 5.867937\n",
       "RN                 5.852482"
      ]
     },
     "metadata": {},
     "output_type": "display_data"
    }
   ],
   "source": [
    "print('OS 5 ESTADOS COM O MAIOR PREÇO MÉDIO DE GASOLINA COMUM/ADITIVADA E ETANOL NO BIMESTRE.')\n",
    "display(media_combs_estados.sort_values(by='Preço Médio', ascending=False).head())"
   ]
  },
  {
   "cell_type": "code",
   "execution_count": 114,
   "metadata": {},
   "outputs": [],
   "source": [
    "# Fazendo a média bimestral com a Gasolina, Gasolina Aditivada e o Etanol separados.\n",
    "\n",
    "# GAS ADITIVADA\n",
    "media_gas_adt_estado = dados_agrupados_estado.loc[dados_agrupados_estado['Produto'] == 'gasolina aditivada'].groupby(dados_agrupados_estado['Estado - Sigla'])\n",
    "\n",
    "df_media_gas_adt_estado = media_gas_adt_estado[['Valor de Venda']].mean()\n",
    "df_media_gas_adt_estado.columns = ['Preço Médio']"
   ]
  },
  {
   "cell_type": "code",
   "execution_count": 115,
   "metadata": {
    "scrolled": false
   },
   "outputs": [
    {
     "ename": "IndexError",
     "evalue": "index 0 is out of bounds for axis 0 with size 0",
     "output_type": "error",
     "traceback": [
      "\u001b[1;31m---------------------------------------------------------------------------\u001b[0m",
      "\u001b[1;31mIndexError\u001b[0m                                Traceback (most recent call last)",
      "Input \u001b[1;32mIn [115]\u001b[0m, in \u001b[0;36m<cell line: 1>\u001b[1;34m()\u001b[0m\n\u001b[1;32m----> 1\u001b[0m \u001b[43mdf_media_gas_adt_estado\u001b[49m\u001b[38;5;241;43m.\u001b[39;49m\u001b[43msort_values\u001b[49m\u001b[43m(\u001b[49m\u001b[43mby\u001b[49m\u001b[38;5;241;43m=\u001b[39;49m\u001b[38;5;124;43m'\u001b[39;49m\u001b[38;5;124;43mPreço Médio\u001b[39;49m\u001b[38;5;124;43m'\u001b[39;49m\u001b[43m,\u001b[49m\u001b[43m \u001b[49m\u001b[43mascending\u001b[49m\u001b[38;5;241;43m=\u001b[39;49m\u001b[38;5;28;43;01mFalse\u001b[39;49;00m\u001b[43m)\u001b[49m\u001b[38;5;241;43m.\u001b[39;49m\u001b[43mhead\u001b[49m\u001b[43m(\u001b[49m\u001b[43m)\u001b[49m\u001b[38;5;241;43m.\u001b[39;49m\u001b[43mplot\u001b[49m\u001b[43m(\u001b[49m\u001b[43mkind\u001b[49m\u001b[38;5;241;43m=\u001b[39;49m\u001b[38;5;124;43m'\u001b[39;49m\u001b[38;5;124;43mbar\u001b[39;49m\u001b[38;5;124;43m'\u001b[39;49m\u001b[43m,\u001b[49m\u001b[43m \u001b[49m\u001b[43mylim\u001b[49m\u001b[38;5;241;43m=\u001b[39;49m\u001b[38;5;241;43m5.5\u001b[39;49m\u001b[43m)\u001b[49m\n",
      "File \u001b[1;32m~\\anaconda3\\lib\\site-packages\\pandas\\plotting\\_core.py:972\u001b[0m, in \u001b[0;36mPlotAccessor.__call__\u001b[1;34m(self, *args, **kwargs)\u001b[0m\n\u001b[0;32m    969\u001b[0m             label_name \u001b[38;5;241m=\u001b[39m label_kw \u001b[38;5;129;01mor\u001b[39;00m data\u001b[38;5;241m.\u001b[39mcolumns\n\u001b[0;32m    970\u001b[0m             data\u001b[38;5;241m.\u001b[39mcolumns \u001b[38;5;241m=\u001b[39m label_name\n\u001b[1;32m--> 972\u001b[0m \u001b[38;5;28;01mreturn\u001b[39;00m plot_backend\u001b[38;5;241m.\u001b[39mplot(data, kind\u001b[38;5;241m=\u001b[39mkind, \u001b[38;5;241m*\u001b[39m\u001b[38;5;241m*\u001b[39mkwargs)\n",
      "File \u001b[1;32m~\\anaconda3\\lib\\site-packages\\pandas\\plotting\\_matplotlib\\__init__.py:71\u001b[0m, in \u001b[0;36mplot\u001b[1;34m(data, kind, **kwargs)\u001b[0m\n\u001b[0;32m     69\u001b[0m         kwargs[\u001b[38;5;124m\"\u001b[39m\u001b[38;5;124max\u001b[39m\u001b[38;5;124m\"\u001b[39m] \u001b[38;5;241m=\u001b[39m \u001b[38;5;28mgetattr\u001b[39m(ax, \u001b[38;5;124m\"\u001b[39m\u001b[38;5;124mleft_ax\u001b[39m\u001b[38;5;124m\"\u001b[39m, ax)\n\u001b[0;32m     70\u001b[0m plot_obj \u001b[38;5;241m=\u001b[39m PLOT_CLASSES[kind](data, \u001b[38;5;241m*\u001b[39m\u001b[38;5;241m*\u001b[39mkwargs)\n\u001b[1;32m---> 71\u001b[0m \u001b[43mplot_obj\u001b[49m\u001b[38;5;241;43m.\u001b[39;49m\u001b[43mgenerate\u001b[49m\u001b[43m(\u001b[49m\u001b[43m)\u001b[49m\n\u001b[0;32m     72\u001b[0m plot_obj\u001b[38;5;241m.\u001b[39mdraw()\n\u001b[0;32m     73\u001b[0m \u001b[38;5;28;01mreturn\u001b[39;00m plot_obj\u001b[38;5;241m.\u001b[39mresult\n",
      "File \u001b[1;32m~\\anaconda3\\lib\\site-packages\\pandas\\plotting\\_matplotlib\\core.py:336\u001b[0m, in \u001b[0;36mMPLPlot.generate\u001b[1;34m(self)\u001b[0m\n\u001b[0;32m    334\u001b[0m \u001b[38;5;28;01mfor\u001b[39;00m ax \u001b[38;5;129;01min\u001b[39;00m \u001b[38;5;28mself\u001b[39m\u001b[38;5;241m.\u001b[39maxes:\n\u001b[0;32m    335\u001b[0m     \u001b[38;5;28mself\u001b[39m\u001b[38;5;241m.\u001b[39m_post_plot_logic_common(ax, \u001b[38;5;28mself\u001b[39m\u001b[38;5;241m.\u001b[39mdata)\n\u001b[1;32m--> 336\u001b[0m     \u001b[38;5;28;43mself\u001b[39;49m\u001b[38;5;241;43m.\u001b[39;49m\u001b[43m_post_plot_logic\u001b[49m\u001b[43m(\u001b[49m\u001b[43max\u001b[49m\u001b[43m,\u001b[49m\u001b[43m \u001b[49m\u001b[38;5;28;43mself\u001b[39;49m\u001b[38;5;241;43m.\u001b[39;49m\u001b[43mdata\u001b[49m\u001b[43m)\u001b[49m\n",
      "File \u001b[1;32m~\\anaconda3\\lib\\site-packages\\pandas\\plotting\\_matplotlib\\core.py:1577\u001b[0m, in \u001b[0;36mBarPlot._post_plot_logic\u001b[1;34m(self, ax, data)\u001b[0m\n\u001b[0;32m   1574\u001b[0m     str_index \u001b[38;5;241m=\u001b[39m [pprint_thing(key) \u001b[38;5;28;01mfor\u001b[39;00m key \u001b[38;5;129;01min\u001b[39;00m \u001b[38;5;28mrange\u001b[39m(data\u001b[38;5;241m.\u001b[39mshape[\u001b[38;5;241m0\u001b[39m])]\n\u001b[0;32m   1575\u001b[0m name \u001b[38;5;241m=\u001b[39m \u001b[38;5;28mself\u001b[39m\u001b[38;5;241m.\u001b[39m_get_index_name()\n\u001b[1;32m-> 1577\u001b[0m s_edge \u001b[38;5;241m=\u001b[39m \u001b[38;5;28;43mself\u001b[39;49m\u001b[38;5;241;43m.\u001b[39;49m\u001b[43max_pos\u001b[49m\u001b[43m[\u001b[49m\u001b[38;5;241;43m0\u001b[39;49m\u001b[43m]\u001b[49m \u001b[38;5;241m-\u001b[39m \u001b[38;5;241m0.25\u001b[39m \u001b[38;5;241m+\u001b[39m \u001b[38;5;28mself\u001b[39m\u001b[38;5;241m.\u001b[39mlim_offset\n\u001b[0;32m   1578\u001b[0m e_edge \u001b[38;5;241m=\u001b[39m \u001b[38;5;28mself\u001b[39m\u001b[38;5;241m.\u001b[39max_pos[\u001b[38;5;241m-\u001b[39m\u001b[38;5;241m1\u001b[39m] \u001b[38;5;241m+\u001b[39m \u001b[38;5;241m0.25\u001b[39m \u001b[38;5;241m+\u001b[39m \u001b[38;5;28mself\u001b[39m\u001b[38;5;241m.\u001b[39mbar_width \u001b[38;5;241m+\u001b[39m \u001b[38;5;28mself\u001b[39m\u001b[38;5;241m.\u001b[39mlim_offset\n\u001b[0;32m   1580\u001b[0m \u001b[38;5;28mself\u001b[39m\u001b[38;5;241m.\u001b[39m_decorate_ticks(ax, name, str_index, s_edge, e_edge)\n",
      "\u001b[1;31mIndexError\u001b[0m: index 0 is out of bounds for axis 0 with size 0"
     ]
    },
    {
     "data": {
      "image/png": "[encoded data removed]",
      "text/plain": [
       "<Figure size 432x288 with 1 Axes>"
      ]
     },
     "metadata": {
      "needs_background": "light"
     },
     "output_type": "display_data"
    }
   ],
   "source": [
    "df_media_gas_adt_estado.sort_values(by='Preço Médio', ascending=False).head().plot(kind='bar', ylim=5.5);"
   ]
  },
  {
   "cell_type": "code",
   "execution_count": null,
   "metadata": {},
   "outputs": [],
   "source": [
    "print('OS 5 ESTADOS COM O MAIOR PREÇO MÉDIO DE GASOLINA ADITIVADA NO BIMESTRE.')\n",
    "display(df_media_gas_adt_estado.sort_values(by='Preço Médio', ascending=False).head())"
   ]
  },
  {
   "cell_type": "code",
   "execution_count": null,
   "metadata": {
    "scrolled": true
   },
   "outputs": [],
   "source": [
    "# GASOLINA\n",
    "\n",
    "media_gas_estado = dados_agrupados_estado.loc[dados_agrupados_estado['Produto'] == 'gasolina'].groupby(dados_agrupados_estado['Estado - Sigla'])\n",
    "df_media_gas_estado = media_gas_estado[['Valor de Venda']].mean()\n",
    "df_media_gas_estado.columns = ['Preço Médio']"
   ]
  },
  {
   "cell_type": "code",
   "execution_count": null,
   "metadata": {
    "scrolled": false
   },
   "outputs": [],
   "source": [
    "df_media_gas_estado.sort_values(by='Preço Médio', ascending=False).head().plot(kind='bar', ylim=5.5);"
   ]
  },
  {
   "cell_type": "code",
   "execution_count": null,
   "metadata": {},
   "outputs": [],
   "source": [
    "print('OS 5 ESTADOS COM O MAIOR PREÇO MÉDIO DE GASOLINA COMUM NO BIMESTRE.')\n",
    "display(df_media_gas_estado.sort_values(by='Preço Médio', ascending=False).head())"
   ]
  },
  {
   "cell_type": "code",
   "execution_count": null,
   "metadata": {
    "scrolled": true
   },
   "outputs": [],
   "source": [
    "# ETANOL\n",
    "\n",
    "media_etanol_estado = dados_agrupados_estado.loc[dados_agrupados_estado['Produto'] == 'etanol'].groupby(dados_agrupados_estado['Estado - Sigla'])\n",
    "df_media_etanol_estado = media_etanol_estado[['Valor de Venda']].mean()\n",
    "df_media_etanol_estado.columns = ['Preço Médio']"
   ]
  },
  {
   "cell_type": "code",
   "execution_count": null,
   "metadata": {
    "scrolled": true
   },
   "outputs": [],
   "source": [
    "df_media_etanol_estado.sort_values(by='Preço Médio', ascending=False).head().plot(kind='bar', ylim=5.0);"
   ]
  },
  {
   "cell_type": "code",
   "execution_count": null,
   "metadata": {},
   "outputs": [],
   "source": [
    "print('OS 5 ESTADOS COM O MAIOR PREÇO MÉDIO DE ETANOL NO BIMESTRE.')\n",
    "display(df_media_etanol_estado.sort_values(by='Preço Médio', ascending=False).head())"
   ]
  },
  {
   "cell_type": "code",
   "execution_count": null,
   "metadata": {
    "scrolled": false
   },
   "outputs": [],
   "source": [
    "# 4. Qual o preço médio da gasolina e do etanol por estado?\n",
    "\n",
    "# Fazendo a média bimestral da Gasolina,da Gasolina Aditivada e do Etanol.\n",
    "df_media_comb_estado = pd.concat([df_media_gas_adt_estado, df_media_gas_estado, df_media_etanol_estado], axis=1)\n",
    "df_media_comb_estado.columns = ['Gasolina Aditivada','Gasolina Comum','Etanol']"
   ]
  },
  {
   "cell_type": "code",
   "execution_count": null,
   "metadata": {},
   "outputs": [],
   "source": [
    "df_media_comb_estado.plot(kind='bar', figsize=(25,10), subplots=True, layout=(2,4) , ylim = 3.5, ylabel = 'Preço Médio dos Combustíveis')\n",
    "plt.tight_layout()"
   ]
  },
  {
   "cell_type": "code",
   "execution_count": null,
   "metadata": {},
   "outputs": [],
   "source": [
    "print('Tabela com a média dos combustíveis por estado:\\n')\n",
    "\n",
    "df_media_comb_estado.style.highlight_max(color='#CF0909', axis=0).highlight_min(color='#0C9E02')"
   ]
  },
  {
   "cell_type": "code",
   "execution_count": null,
   "metadata": {},
   "outputs": [],
   "source": [
    "# 5-Qual o município que possui o menor preço para a gasolina e para o etanol?\n",
    "\n",
    "# primeiro, criamos um dataframe novo agrupando os dados de Produto e Municipio\n",
    "produto_municipio = conjunto_dados.groupby([\"Produto\", \"Estado - Sigla\", 'Municipio'])"
   ]
  },
  {
   "cell_type": "code",
   "execution_count": null,
   "metadata": {
    "scrolled": true
   },
   "outputs": [],
   "source": [
    "# Em seguida, extraimos apenas os valores mínimos, de acordo com a pergunta\n",
    "min_municipio = produto_municipio[['Valor de Venda']].min()\n",
    "\n",
    "# Criamos um dataframe contendo apenas os dados que retornavam as querys contendo Etanol, classificamos pelos valor de venda e resetamos o index na primeira linha\n",
    "min_municipio_etanol = min_municipio.query(\"Produto == 'etanol'\").sort_values(by='Valor de Venda').head(1)\n",
    "\n",
    "# Criamos um dataframe contendo apenas os dados que retornavam as querys contendo Gasolina, classificamos pelos valor de venda e resetamos o index na primeira linha\n",
    "min_municipio_gas = min_municipio.query(\"Produto == 'gasolina'\").sort_values(by='Valor de Venda').head(1)\n",
    "\n",
    "# Criamos um dataframe contendo apenas os dados que retornavam as querys contendo Gasolina Aditivada, classificamos pelos valor de venda e resetamos o index na primeira linha\n",
    "min_municipio_gas_adi = min_municipio.query(\"Produto == 'gasolina aditivada'\").sort_values(by='Valor de Venda').head(1)\n",
    "\n",
    "# Concatenamos os três arquivos\n",
    "minimas = pd.concat([min_municipio_etanol, min_municipio_gas, min_municipio_gas_adi])\n",
    "minimas.columns = ['Menor Preço']\n",
    "minimas"
   ]
  },
  {
   "cell_type": "code",
   "execution_count": null,
   "metadata": {},
   "outputs": [],
   "source": [
    "# 6-Qual o município que possui o maior preço para a gasolina e para o etanol?\n",
    "\n",
    "# extraimos apenas os valores máximos, de acordo com a pergunta\n",
    "max_municipio = produto_municipio[['Valor de Venda']].max()\n",
    "\n",
    "# Criamos um dataframe contendo apenas os dados que retornavam as querys contendo Etanol, classificamos pelos valor de venda e resetamos o index na primeira linha\n",
    "max_municipio_etanol = min_municipio.query(\"Produto == 'etanol'\").sort_values(by='Valor de Venda', ascending=False).head(1)\n",
    "\n",
    "# Criamos um dataframe contendo apenas os dados que retornavam as querys contendo Gasolina, classificamos pelos valor de venda e resetamos o index na primeira linha\n",
    "max_municipio_gas = max_municipio.query(\"Produto == 'gasolina'\").sort_values(by='Valor de Venda', ascending=False).head(1)\n",
    "\n",
    "# Criamos um dataframe contendo apenas os dados que retornavam as querys contendo Gasolina Aditivada, classificamos pelos valor de venda e resetamos o index na primeira linha\n",
    "max_municipio_gas_adi = max_municipio.query(\"Produto == 'gasolina aditivada'\").sort_values(by='Valor de Venda', ascending=False).head(1)\n",
    "\n",
    "# Concatenamos os três arquivos\n",
    "maximas = pd.concat([max_municipio_etanol, max_municipio_gas, max_municipio_gas_adi])\n",
    "maximas.columns = ['Maior Preço']\n",
    "maximas"
   ]
  },
  {
   "cell_type": "code",
   "execution_count": null,
   "metadata": {
    "scrolled": false
   },
   "outputs": [],
   "source": [
    "# 7. Qual a região que possui o maior valor médio da gasolina?\n",
    "\n",
    "# Criando uma cópia do DF original onde temos apenas os registros da Gasolina\n",
    "df_gas = conjunto_dados.query('Produto == \"gasolina\"').copy()\n",
    "\n",
    "# Ordenando o novo dataframe com o valor de venda da gasolina por região\n",
    "produtos_gas = df_gas.groupby(['Produto', 'Regiao - Sigla'])[['Valor de Venda']].mean()\n",
    "produtos_gas.columns = ['Maior Valor Médio']\n",
    "\n",
    "produtos_gas.style.highlight_max(color='#CF0909')"
   ]
  },
  {
   "cell_type": "code",
   "execution_count": null,
   "metadata": {},
   "outputs": [],
   "source": [
    "produtos_gas.unstack(level=0).plot(kind='bar', figsize=(10,5), layout=(2,3), ylim=5.0)\n",
    "\n",
    "for index, values in enumerate(produtos_gas['Maior Valor Médio'].values):\n",
    "    plt.text(index, values, str(f'R$ {values:.3f}'), horizontalalignment='center', verticalalignment='bottom', fontdict={'fontweight':500, 'size':12})\n",
    "\n",
    "plt.show()"
   ]
  },
  {
   "cell_type": "code",
   "execution_count": null,
   "metadata": {},
   "outputs": [],
   "source": [
    "# Criando uma cópia do DF original onde temos apenas os registros da Gasolina Aditivada\n",
    "df_gas_adi = conjunto_dados.query('Produto == \"gasolina aditivada\"').copy()\n",
    "\n",
    "# Ordenando o novo dataframe com o valor de venda da gasolina aditivada por região\n",
    "produtos_gas_adi = df_gas_adi.groupby(['Produto', 'Regiao - Sigla'])[['Valor de Venda']].mean()\n",
    "produtos_gas_adi.columns = ['Maior Valor Médio']\n",
    "\n",
    "produtos_gas_adi.style.highlight_max(color='#CF0909')"
   ]
  },
  {
   "cell_type": "code",
   "execution_count": null,
   "metadata": {},
   "outputs": [],
   "source": [
    "produtos_gas_adi.unstack(level=0).plot(kind='bar', figsize=(10,5), layout=(2,3), ylim=5.0)\n",
    "\n",
    "for index, values in enumerate(produtos_gas_adi['Maior Valor Médio'].values):\n",
    "    plt.text(index, values, str(f'R$ {values:.3f}'), horizontalalignment='center', verticalalignment='bottom', fontdict={'fontweight':500, 'size':12})\n",
    "\n",
    "plt.show()"
   ]
  },
  {
   "cell_type": "code",
   "execution_count": null,
   "metadata": {
    "scrolled": true
   },
   "outputs": [],
   "source": [
    "# 8. Qual a região que possui o menor valor médio do etanol?\n",
    "\n",
    "# Criando uma cópia do DF original onde temos apenas os registros do Etanol\n",
    "df_etanol = conjunto_dados.query('Produto == \"etanol\"').copy()\n",
    "\n",
    "# Ordenando o novo dataframe com o valor de venda do etanol por região\n",
    "produtos_etanol = df_etanol.groupby(['Produto', 'Regiao - Sigla'])[['Valor de Venda']].mean()\n",
    "produtos_etanol.columns = ['Menor Valor Médio']\n",
    "\n",
    "produtos_etanol.style.highlight_min(color='#0C9E02')"
   ]
  },
  {
   "cell_type": "code",
   "execution_count": null,
   "metadata": {},
   "outputs": [],
   "source": [
    "produtos_etanol.unstack(level=0).plot(kind='bar', figsize=(10,5), layout=(2,3), ylim=3.5)\n",
    "\n",
    "for index, values in enumerate(produtos_etanol['Menor Valor Médio'].values):\n",
    "    plt.text(index, values, str(f'R$ {values:.3f}'), horizontalalignment='center', verticalalignment='bottom', fontdict={'fontweight':500, 'size':12})\n",
    "\n",
    "plt.show()"
   ]
  },
  {
   "cell_type": "code",
   "execution_count": null,
   "metadata": {},
   "outputs": [],
   "source": [
    "#9. Há alguma correlação entre o valor do combustível (gasolina e etanol) e a região onde ele é vendido?\n",
    "#   Há uma correlação positiva muito forte entre os valores do combustível com base na média por região."
   ]
  },
  {
   "cell_type": "code",
   "execution_count": null,
   "metadata": {
    "scrolled": false
   },
   "outputs": [],
   "source": [
    "media_combs_regiao = conjunto_dados.groupby(['Regiao - Sigla','Produto'])[['Valor de Venda']].mean()\n",
    "media_combs_regiao.columns = ['Preço Médio']\n",
    "\n",
    "media_combs_regiao"
   ]
  },
  {
   "cell_type": "code",
   "execution_count": null,
   "metadata": {},
   "outputs": [],
   "source": [
    "media_regiao_2 = media_combs_regiao.unstack('Regiao - Sigla', 'Produto')\n",
    "media_regiao_2\n",
    "\n",
    "# Plotar gráfico multi-barras e explciar a correlação a partir dai"
   ]
  },
  {
   "cell_type": "code",
   "execution_count": null,
   "metadata": {},
   "outputs": [],
   "source": [
    "ax = media_regiao_2.plot()\n",
    "media_regiao_2.reindex(media_regiao_2.index).plot(marker = 'o', linestyle = 'none', color = 'g', ax = ax, figsize=(15,10));"
   ]
  },
  {
   "cell_type": "code",
   "execution_count": null,
   "metadata": {},
   "outputs": [],
   "source": [
    "# 10. Há alguma correlação entre o valor do combustível (gasolina e etanol) e a bandeira que vende ele?"
   ]
  },
  {
   "cell_type": "code",
   "execution_count": null,
   "metadata": {},
   "outputs": [],
   "source": [
    "media_combs_bandeira = conjunto_dados.groupby(['Bandeira', 'Produto'])[['Valor de Venda']].mean()\n",
    "media_combs_bandeira"
   ]
  },
  {
   "cell_type": "code",
   "execution_count": null,
   "metadata": {
    "scrolled": true
   },
   "outputs": [],
   "source": [
    "media_bandeira_1 = media_combs_bandeira.unstack()\n",
    "media_bandeira_1.head()\n",
    "\n",
    "# Verificar o que cada bandeira vende, pois isso pode explicar os valores nulos em alguma delas"
   ]
  },
  {
   "cell_type": "code",
   "execution_count": null,
   "metadata": {},
   "outputs": [],
   "source": [
    "media_bandeira_1.reset_index(inplace=True)\n",
    "media_bandeira_1.head()"
   ]
  },
  {
   "cell_type": "code",
   "execution_count": null,
   "metadata": {},
   "outputs": [],
   "source": [
    "# Criando um groupby dos registros da SUL COMBUSTÍVEIS e mostrando o df\n",
    "bandeira_sul_comb = conjunto_dados.loc[(conjunto_dados['Bandeira'] == 'sul combustíveis'), :].copy()\n",
    "bandeira_sul_comb.head()"
   ]
  },
  {
   "cell_type": "code",
   "execution_count": null,
   "metadata": {},
   "outputs": [],
   "source": [
    "# Conferindo os valores únicos desses registros e confirmando que a SUL COMBUSTÍVEIS \n",
    "bandeira_sul_comb['Produto'].value_counts()"
   ]
  },
  {
   "cell_type": "code",
   "execution_count": null,
   "metadata": {},
   "outputs": [],
   "source": [
    "# Criando um groupby dos registros da RUFF C.J. e mostrando o df\n",
    "bandeira_ruff_comb = conjunto_dados.loc[(conjunto_dados['Bandeira'] == 'ruff c.j.'), :].copy()\n",
    "bandeira_ruff_comb.head()"
   ]
  },
  {
   "cell_type": "code",
   "execution_count": null,
   "metadata": {
    "scrolled": true
   },
   "outputs": [],
   "source": [
    "bandeira_ruff_comb['Produto'].value_counts()"
   ]
  },
  {
   "cell_type": "code",
   "execution_count": null,
   "metadata": {
    "scrolled": true
   },
   "outputs": [],
   "source": [
    "media_bandeira_1['Bandeira'] = media_bandeira_1['Bandeira'].astype('category').cat.codes\n",
    "media_bandeira_1.corr()"
   ]
  },
  {
   "cell_type": "code",
   "execution_count": 116,
   "metadata": {},
   "outputs": [],
   "source": [
    "# IDEIAS\n",
    "\n",
    "# - Pegar as principais bandeiras (que vende todos os combs e esta presente em todas regioes) e plotar\n",
    "#   um gráfico de barras\n",
    "\n",
    "# - Fazer igual aquele gráfico de barras azuis que o José fez nos testes dele (cada barra uma bandeira\n",
    "#   e seus preços médios)\n",
    "#        - separar por combustivel"
   ]
  },
  {
   "cell_type": "code",
   "execution_count": 117,
   "metadata": {},
   "outputs": [],
   "source": [
    "#media_bandeira2 = media_combustivel_bandeira.unstack('Bandeira')\n",
    "#media_bandeira2"
   ]
  },
  {
   "cell_type": "code",
   "execution_count": 118,
   "metadata": {},
   "outputs": [],
   "source": [
    "#correlacao4 = media_bandeira2.corr()\n",
    "#correlacao4"
   ]
  },
  {
   "cell_type": "code",
   "execution_count": 119,
   "metadata": {},
   "outputs": [],
   "source": [
    "#sns.heatmap(media_bandeira_1, annot = True, fmt=\".1f\")"
   ]
  },
  {
   "cell_type": "code",
   "execution_count": 120,
   "metadata": {},
   "outputs": [
    {
     "data": {
      "text/html": [
       "<div>\n",
       "<style scoped>\n",
       "    .dataframe tbody tr th:only-of-type {\n",
       "        vertical-align: middle;\n",
       "    }\n",
       "\n",
       "    .dataframe tbody tr th {\n",
       "        vertical-align: top;\n",
       "    }\n",
       "\n",
       "    .dataframe thead th {\n",
       "        text-align: right;\n",
       "    }\n",
       "</style>\n",
       "<table border=\"1\" class=\"dataframe\">\n",
       "  <thead>\n",
       "    <tr style=\"text-align: right;\">\n",
       "      <th></th>\n",
       "      <th></th>\n",
       "      <th>Preço Médio</th>\n",
       "    </tr>\n",
       "    <tr>\n",
       "      <th>Regiao - Sigla</th>\n",
       "      <th>Produto</th>\n",
       "      <th></th>\n",
       "    </tr>\n",
       "  </thead>\n",
       "  <tbody>\n",
       "    <tr>\n",
       "      <th rowspan=\"3\" valign=\"top\">CO</th>\n",
       "      <th>Etanol</th>\n",
       "      <td>4.107305</td>\n",
       "    </tr>\n",
       "    <tr>\n",
       "      <th>Gasolina</th>\n",
       "      <td>5.581603</td>\n",
       "    </tr>\n",
       "    <tr>\n",
       "      <th>Gasolina Aditivada</th>\n",
       "      <td>5.721266</td>\n",
       "    </tr>\n",
       "    <tr>\n",
       "      <th rowspan=\"3\" valign=\"top\">N</th>\n",
       "      <th>Etanol</th>\n",
       "      <td>5.340633</td>\n",
       "    </tr>\n",
       "    <tr>\n",
       "      <th>Gasolina</th>\n",
       "      <td>5.972082</td>\n",
       "    </tr>\n",
       "    <tr>\n",
       "      <th>Gasolina Aditivada</th>\n",
       "      <td>6.105695</td>\n",
       "    </tr>\n",
       "    <tr>\n",
       "      <th rowspan=\"3\" valign=\"top\">NE</th>\n",
       "      <th>Etanol</th>\n",
       "      <td>5.246069</td>\n",
       "    </tr>\n",
       "    <tr>\n",
       "      <th>Gasolina</th>\n",
       "      <td>5.955809</td>\n",
       "    </tr>\n",
       "    <tr>\n",
       "      <th>Gasolina Aditivada</th>\n",
       "      <td>6.109450</td>\n",
       "    </tr>\n",
       "    <tr>\n",
       "      <th rowspan=\"3\" valign=\"top\">S</th>\n",
       "      <th>Etanol</th>\n",
       "      <td>4.842372</td>\n",
       "    </tr>\n",
       "    <tr>\n",
       "      <th>Gasolina</th>\n",
       "      <td>5.641161</td>\n",
       "    </tr>\n",
       "    <tr>\n",
       "      <th>Gasolina Aditivada</th>\n",
       "      <td>5.777628</td>\n",
       "    </tr>\n",
       "    <tr>\n",
       "      <th rowspan=\"3\" valign=\"top\">SE</th>\n",
       "      <th>Etanol</th>\n",
       "      <td>4.149964</td>\n",
       "    </tr>\n",
       "    <tr>\n",
       "      <th>Gasolina</th>\n",
       "      <td>5.615655</td>\n",
       "    </tr>\n",
       "    <tr>\n",
       "      <th>Gasolina Aditivada</th>\n",
       "      <td>5.827207</td>\n",
       "    </tr>\n",
       "  </tbody>\n",
       "</table>\n",
       "</div>"
      ],
      "text/plain": [
       "                                   Preço Médio\n",
       "Regiao - Sigla Produto                        \n",
       "CO             Etanol                 4.107305\n",
       "               Gasolina               5.581603\n",
       "               Gasolina Aditivada     5.721266\n",
       "N              Etanol                 5.340633\n",
       "               Gasolina               5.972082\n",
       "               Gasolina Aditivada     6.105695\n",
       "NE             Etanol                 5.246069\n",
       "               Gasolina               5.955809\n",
       "               Gasolina Aditivada     6.109450\n",
       "S              Etanol                 4.842372\n",
       "               Gasolina               5.641161\n",
       "               Gasolina Aditivada     5.777628\n",
       "SE             Etanol                 4.149964\n",
       "               Gasolina               5.615655\n",
       "               Gasolina Aditivada     5.827207"
      ]
     },
     "execution_count": 120,
     "metadata": {},
     "output_type": "execute_result"
    }
   ],
   "source": [
    "media_combs_regiao = conjunto_dados.groupby(['Regiao - Sigla','Produto'])[['Valor de Venda']].mean()\n",
    "media_combs_regiao.columns = ['Preço Médio']\n",
    "media_combs_regiao"
   ]
  },
  {
   "cell_type": "code",
   "execution_count": 121,
   "metadata": {},
   "outputs": [
    {
     "data": {
      "text/html": [
       "<style type=\"text/css\">\n",
       "#T_f1081_row0_col0 {\n",
       "  background-color: #67000d;\n",
       "  color: #f1f1f1;\n",
       "}\n",
       "#T_f1081_row1_col0 {\n",
       "  background-color: #e22e27;\n",
       "  color: #f1f1f1;\n",
       "}\n",
       "#T_f1081_row2_col0 {\n",
       "  background-color: #e53228;\n",
       "  color: #f1f1f1;\n",
       "}\n",
       "#T_f1081_row3_col0 {\n",
       "  background-color: #fee5d9;\n",
       "  color: #000000;\n",
       "}\n",
       "#T_f1081_row4_col0 {\n",
       "  background-color: #fff5f0;\n",
       "  color: #000000;\n",
       "}\n",
       "</style>\n",
       "<table id=\"T_f1081\">\n",
       "  <thead>\n",
       "    <tr>\n",
       "      <th class=\"blank level0\" >&nbsp;</th>\n",
       "      <th id=\"T_f1081_level0_col0\" class=\"col_heading level0 col0\" >Valor de Venda</th>\n",
       "    </tr>\n",
       "    <tr>\n",
       "      <th class=\"index_name level0\" >Dias da Semana</th>\n",
       "      <th class=\"blank col0\" >&nbsp;</th>\n",
       "    </tr>\n",
       "  </thead>\n",
       "  <tbody>\n",
       "    <tr>\n",
       "      <th id=\"T_f1081_level0_row0\" class=\"row_heading level0 row0\" >Sexta</th>\n",
       "      <td id=\"T_f1081_row0_col0\" class=\"data row0 col0\" > R$ 5.444</td>\n",
       "    </tr>\n",
       "    <tr>\n",
       "      <th id=\"T_f1081_level0_row1\" class=\"row_heading level0 row1\" >Segunda</th>\n",
       "      <td id=\"T_f1081_row1_col0\" class=\"data row1 col0\" > R$ 5.394</td>\n",
       "    </tr>\n",
       "    <tr>\n",
       "      <th id=\"T_f1081_level0_row2\" class=\"row_heading level0 row2\" >Terça</th>\n",
       "      <td id=\"T_f1081_row2_col0\" class=\"data row2 col0\" > R$ 5.393</td>\n",
       "    </tr>\n",
       "    <tr>\n",
       "      <th id=\"T_f1081_level0_row3\" class=\"row_heading level0 row3\" >Quarta</th>\n",
       "      <td id=\"T_f1081_row3_col0\" class=\"data row3 col0\" > R$ 5.307</td>\n",
       "    </tr>\n",
       "    <tr>\n",
       "      <th id=\"T_f1081_level0_row4\" class=\"row_heading level0 row4\" >Quinta</th>\n",
       "      <td id=\"T_f1081_row4_col0\" class=\"data row4 col0\" > R$ 5.293</td>\n",
       "    </tr>\n",
       "  </tbody>\n",
       "</table>\n"
      ],
      "text/plain": [
       "<pandas.io.formats.style.Styler at 0x197aaa31fa0>"
      ]
     },
     "execution_count": 121,
     "metadata": {},
     "output_type": "execute_result"
    }
   ],
   "source": [
    "# EXTRA 1: Qual dia da semana possui o valor dos combustíveis mais caros?\n",
    "# Inicialmente fizemos um dataframe agrupando a média do valor de venda por dias da semana. Foi verificado que os dados estão contidos em dias úteis.\n",
    "vendasemana = conjunto_dados.groupby(['Dias da Semana'])[['Valor de Venda']].mean()\n",
    "# Classificamos pelo Valor de venda para o maior número\n",
    "vendasemana.sort_values('Valor de Venda',inplace=True,ascending=False)\n",
    "# Estilizamos para o formato de 3 números após a vírgula\n",
    "vendasemana.style.format(' R$ {:,.3f}').background_gradient(cmap='Reds')\n",
    "# Sextas possuem valores mais caros em todos os combustíveis.\n",
    "# offtopic: Podemos colocar como gráfico de barras também\n",
    "#sns.barplot(x=vendasemana.index,y='Valor de Venda',data = vendasemana)\n"
   ]
  },
  {
   "cell_type": "code",
   "execution_count": 122,
   "metadata": {},
   "outputs": [
    {
     "data": {
      "text/html": [
       "<style type=\"text/css\">\n",
       "#T_4584c_row0_col0, #T_4584c_row3_col0 {\n",
       "  background-color: #fff5f0;\n",
       "  color: #000000;\n",
       "}\n",
       "#T_4584c_row1_col0 {\n",
       "  background-color: #b61319;\n",
       "  color: #f1f1f1;\n",
       "}\n",
       "#T_4584c_row2_col0 {\n",
       "  background-color: #860811;\n",
       "  color: #f1f1f1;\n",
       "}\n",
       "#T_4584c_row4_col0 {\n",
       "  background-color: #bb141a;\n",
       "  color: #f1f1f1;\n",
       "}\n",
       "#T_4584c_row5_col0 {\n",
       "  background-color: #920a13;\n",
       "  color: #f1f1f1;\n",
       "}\n",
       "#T_4584c_row6_col0 {\n",
       "  background-color: #ffebe2;\n",
       "  color: #000000;\n",
       "}\n",
       "#T_4584c_row7_col0 {\n",
       "  background-color: #a10e15;\n",
       "  color: #f1f1f1;\n",
       "}\n",
       "#T_4584c_row8_col0, #T_4584c_row11_col0 {\n",
       "  background-color: #67000d;\n",
       "  color: #f1f1f1;\n",
       "}\n",
       "#T_4584c_row9_col0 {\n",
       "  background-color: #ffefe8;\n",
       "  color: #000000;\n",
       "}\n",
       "#T_4584c_row10_col0 {\n",
       "  background-color: #960b13;\n",
       "  color: #f1f1f1;\n",
       "}\n",
       "#T_4584c_row12_col0 {\n",
       "  background-color: #fee8dd;\n",
       "  color: #000000;\n",
       "}\n",
       "#T_4584c_row13_col0 {\n",
       "  background-color: #aa1016;\n",
       "  color: #f1f1f1;\n",
       "}\n",
       "#T_4584c_row14_col0 {\n",
       "  background-color: #6d010e;\n",
       "  color: #f1f1f1;\n",
       "}\n",
       "</style>\n",
       "<table id=\"T_4584c\">\n",
       "  <thead>\n",
       "    <tr>\n",
       "      <th class=\"blank\" >&nbsp;</th>\n",
       "      <th class=\"blank level0\" >&nbsp;</th>\n",
       "      <th id=\"T_4584c_level0_col0\" class=\"col_heading level0 col0\" >Média</th>\n",
       "    </tr>\n",
       "    <tr>\n",
       "      <th class=\"index_name level0\" >Dias da Semana</th>\n",
       "      <th class=\"index_name level1\" >Produto</th>\n",
       "      <th class=\"blank col0\" >&nbsp;</th>\n",
       "    </tr>\n",
       "  </thead>\n",
       "  <tbody>\n",
       "    <tr>\n",
       "      <th id=\"T_4584c_level0_row0\" class=\"row_heading level0 row0\" rowspan=\"3\">Quarta</th>\n",
       "      <th id=\"T_4584c_level1_row0\" class=\"row_heading level1 row0\" >Etanol</th>\n",
       "      <td id=\"T_4584c_row0_col0\" class=\"data row0 col0\" > R$ 4.450</td>\n",
       "    </tr>\n",
       "    <tr>\n",
       "      <th id=\"T_4584c_level1_row1\" class=\"row_heading level1 row1\" >Gasolina</th>\n",
       "      <td id=\"T_4584c_row1_col0\" class=\"data row1 col0\" > R$ 5.670</td>\n",
       "    </tr>\n",
       "    <tr>\n",
       "      <th id=\"T_4584c_level1_row2\" class=\"row_heading level1 row2\" >Gasolina Aditivada</th>\n",
       "      <td id=\"T_4584c_row2_col0\" class=\"data row2 col0\" > R$ 5.846</td>\n",
       "    </tr>\n",
       "    <tr>\n",
       "      <th id=\"T_4584c_level0_row3\" class=\"row_heading level0 row3\" rowspan=\"3\">Quinta</th>\n",
       "      <th id=\"T_4584c_level1_row3\" class=\"row_heading level1 row3\" >Etanol</th>\n",
       "      <td id=\"T_4584c_row3_col0\" class=\"data row3 col0\" > R$ 4.445</td>\n",
       "    </tr>\n",
       "    <tr>\n",
       "      <th id=\"T_4584c_level1_row4\" class=\"row_heading level1 row4\" >Gasolina</th>\n",
       "      <td id=\"T_4584c_row4_col0\" class=\"data row4 col0\" > R$ 5.644</td>\n",
       "    </tr>\n",
       "    <tr>\n",
       "      <th id=\"T_4584c_level1_row5\" class=\"row_heading level1 row5\" >Gasolina Aditivada</th>\n",
       "      <td id=\"T_4584c_row5_col0\" class=\"data row5 col0\" > R$ 5.808</td>\n",
       "    </tr>\n",
       "    <tr>\n",
       "      <th id=\"T_4584c_level0_row6\" class=\"row_heading level0 row6\" rowspan=\"3\">Segunda</th>\n",
       "      <th id=\"T_4584c_level1_row6\" class=\"row_heading level1 row6\" >Etanol</th>\n",
       "      <td id=\"T_4584c_row6_col0\" class=\"data row6 col0\" > R$ 4.533</td>\n",
       "    </tr>\n",
       "    <tr>\n",
       "      <th id=\"T_4584c_level1_row7\" class=\"row_heading level1 row7\" >Gasolina</th>\n",
       "      <td id=\"T_4584c_row7_col0\" class=\"data row7 col0\" > R$ 5.763</td>\n",
       "    </tr>\n",
       "    <tr>\n",
       "      <th id=\"T_4584c_level1_row8\" class=\"row_heading level1 row8\" >Gasolina Aditivada</th>\n",
       "      <td id=\"T_4584c_row8_col0\" class=\"data row8 col0\" > R$ 5.937</td>\n",
       "    </tr>\n",
       "    <tr>\n",
       "      <th id=\"T_4584c_level0_row9\" class=\"row_heading level0 row9\" rowspan=\"3\">Sexta</th>\n",
       "      <th id=\"T_4584c_level1_row9\" class=\"row_heading level1 row9\" >Etanol</th>\n",
       "      <td id=\"T_4584c_row9_col0\" class=\"data row9 col0\" > R$ 4.501</td>\n",
       "    </tr>\n",
       "    <tr>\n",
       "      <th id=\"T_4584c_level1_row10\" class=\"row_heading level1 row10\" >Gasolina</th>\n",
       "      <td id=\"T_4584c_row10_col0\" class=\"data row10 col0\" > R$ 5.796</td>\n",
       "    </tr>\n",
       "    <tr>\n",
       "      <th id=\"T_4584c_level1_row11\" class=\"row_heading level1 row11\" >Gasolina Aditivada</th>\n",
       "      <td id=\"T_4584c_row11_col0\" class=\"data row11 col0\" > R$ 5.940</td>\n",
       "    </tr>\n",
       "    <tr>\n",
       "      <th id=\"T_4584c_level0_row12\" class=\"row_heading level0 row12\" rowspan=\"3\">Terça</th>\n",
       "      <th id=\"T_4584c_level1_row12\" class=\"row_heading level1 row12\" >Etanol</th>\n",
       "      <td id=\"T_4584c_row12_col0\" class=\"data row12 col0\" > R$ 4.567</td>\n",
       "    </tr>\n",
       "    <tr>\n",
       "      <th id=\"T_4584c_level1_row13\" class=\"row_heading level1 row13\" >Gasolina</th>\n",
       "      <td id=\"T_4584c_row13_col0\" class=\"data row13 col0\" > R$ 5.729</td>\n",
       "    </tr>\n",
       "    <tr>\n",
       "      <th id=\"T_4584c_level1_row14\" class=\"row_heading level1 row14\" >Gasolina Aditivada</th>\n",
       "      <td id=\"T_4584c_row14_col0\" class=\"data row14 col0\" > R$ 5.917</td>\n",
       "    </tr>\n",
       "  </tbody>\n",
       "</table>\n"
      ],
      "text/plain": [
       "<pandas.io.formats.style.Styler at 0x1979d5972b0>"
      ]
     },
     "execution_count": 122,
     "metadata": {},
     "output_type": "execute_result"
    }
   ],
   "source": [
    "# Ainda o EXTRA 1\n",
    "# Para os combustiveis separadamente\n",
    "vendaprodutosemana = conjunto_dados.groupby(['Dias da Semana', 'Produto'])[['Valor de Venda']].mean()\n",
    "vendaprodutosemana.columns = ['Média']\n",
    "#vendaprodutosemana.sort_values('Média',inplace=True,ascending=False)\n",
    "vendaprodutosemana.style.format(' R$ {:,.3f}').background_gradient(cmap='Reds')\n",
    "# Gasolina aditivada na sexta é o valor mais caro."
   ]
  }
 ],
 "metadata": {
  "kernelspec": {
   "display_name": "Python 3 (ipykernel)",
   "language": "python",
   "name": "python3"
  },
  "language_info": {
   "codemirror_mode": {
    "name": "ipython",
    "version": 3
   },
   "file_extension": ".py",
   "mimetype": "text/x-python",
   "name": "python",
   "nbconvert_exporter": "python",
   "pygments_lexer": "ipython3",
   "version": "3.9.12"
  },
  "vscode": {
   "interpreter": {
    "hash": "11938c6bc6919ae2720b4d5011047913343b08a43b18698fd82dedb0d4417594"
   }
  }
 },
 "nbformat": 4,
 "nbformat_minor": 2
}
