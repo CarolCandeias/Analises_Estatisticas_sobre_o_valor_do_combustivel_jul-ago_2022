{
 "cells": [
  {
   "cell_type": "markdown",
   "metadata": {},
   "source": [
    "# <font color ='gold'><font size=5>**_Análise Exploratória: Preços dos Combustíveis no Brasil (Agosto-Julho/2022)_** </font>"
   ]
  },
  {
   "cell_type": "markdown",
   "metadata": {},
   "source": [
    "<img src=\"https://media.ale.com.br/uploads/2021/07/tipos-de-combustiveis-existentes-em-um-posto-de-servicos-1.png\" width=1000 height=350>"
   ]
  },
  {
   "cell_type": "markdown",
   "metadata": {},
   "source": [
    "## **<font color ='gold'><font size=4>1. Descrição e Objetivo do Projeto</font>** 🎯"
   ]
  },
  {
   "cell_type": "markdown",
   "metadata": {},
   "source": [
    "--- \n",
    "Nesse projeto, fomos escalados pela <font color='02A711'>**_Agência Nacional de Petróleo e Gás Natural e Biocombustíveis (ANP)_**</font> para realizar uma análise exploratória relacionada à série histórica de preço de venda da gasolina e do etanol. Utilizaremos os arquivos dos meses de Julho e Agosto de 2022 contendo a série histórica dos preços da gasolina e do etanol em todo o Brasil que estão disponíveis no portal [dados.gov.br](https://dados.gov.br/dataset/serie-historica-de-precos-de-combustiveis-por-revenda).\n",
    "\n",
    "Com um dataset desse tipo (precificação de combustíveis), podemos abordar a análise buscando questionar os dados em busca de certas informações, com o objetivo de compreender a variação desses valores em todo território nacional.\n",
    "\n",
    "---\n",
    "\n",
    "<font color='gold'>**1.1. Detalhes:**</font>\n",
    "\n",
    "As perguntas a ser respondidas são:\n",
    "\n",
    "- <font color='gold'>**1.**</font> **_Como se comportaram o preço dos combustíveis durante os dois meses citados? Os valores do etanol e da gasolina tiveram uma tendência de queda ou aumento?_**\n",
    "\n",
    "- <font color='gold'>**2.**</font> **_Qual o preço médio da gasolina e do etanol nesses dois meses?_**\n",
    "\n",
    "- <font color='gold'>**3.**</font> **_Quais os 5 estados com o preço médio da gasolina e do etanol mais caros?_**\n",
    "\n",
    "- <font color='gold'>**4.**</font> **_Qual o preço médio da gasolina e do etanol por estado?_**\n",
    "\n",
    "- <font color='gold'>**5.**</font> **_Qual o município que possui o menor preço para a gasolina e para o etanol?_**\n",
    "\n",
    "- <font color='gold'>**6.**</font> **_Qual o município que possui o maior preço para a gasolina e para o etanol?_**\n",
    "\n",
    "- <font color='gold'>**7.**</font> **_Qual a região que possui o maior valor médio da gasolina?_**\n",
    "\n",
    "- <font color='gold'>**8.**</font> **_Qual a região que possui o menor valor médio do etanol?_**\n",
    "\n",
    "- <font color='gold'>**9.**</font> **_Há alguma correlação entre o valor do combustível (gasolina e etanol) e a região onde ele é vendido?_**\n",
    "\n",
    "- <font color='gold'>**10.**</font> **_Há alguma correlação entre o valor do combustível (gasolina e etanol) e a bandeira que vende ele?_**\n",
    "\n",
    "Com elas, poderemos ter uma compreensão melhor acerca dos fatos em torno da precificação dos combustíveis no Brasil. \n",
    "\n",
    "Também iremos realizar algumas análises extras, que julgamos pertinentes no contexto do DataSet.\n",
    "\n",
    "---\n",
    "\n",
    "<font color='gold'>**1.2. Análises Extras:**</font>\n",
    "\n",
    "- <font color='gold'>**1.**</font> **_Quais dias da semana tendem a vender mais gasolina (por região)._**\n",
    "\n",
    "- <font color='gold'>**2.**</font> **_Plotar um Mapa do Brasil com as vendas por estado._**\n",
    "\n",
    "---\n",
    "\n",
    "<font color='gold'>**1.3. Metodologia:**</font>\n",
    "\n",
    " - Utilizaremos o Jupyter Notebook para a realização das análises;\n",
    "\n",
    " - Realizaremos a limpeza dos dados;\n",
    "\n",
    " - Realizaremos a análise exploratória do DataSet;\n",
    "\n",
    " - Abordaremos cada uma das perguntas com a visualização mais adequada utilizando gráficos;\n",
    "\n",
    " - O notebook utilizado na análise estará organizado, com descrições do passo a passo da análise em markdown, apresentando os resultados e insights gerados;"
   ]
  },
  {
   "cell_type": "markdown",
   "metadata": {},
   "source": [
    "## **<font color ='gold'><font size=4>2. Coleta e Análise Inicial dos Dados</font>** 📋\n",
    "\n",
    "Primeiramente, para podermos iniciar nossos trabalhos, iremos coletar nossos dados e ter nosso primeiro contato com eles, compreendendo suas características que o definem e sua estrutura.\n",
    "\n",
    "---"
   ]
  },
  {
   "cell_type": "markdown",
   "metadata": {},
   "source": [
    "##### **<font color ='gold'><font size=4>2.1. Coleta</font>**\n",
    "\n",
    "Por meio do supracitado portal [dados.gov.br](https://dados.gov.br/dataset/serie-historica-de-precos-de-combustiveis-por-revenda), iremos baixar dois arquivos CSV que contém as informações dos preços dos combustíveis em relação aos meses de **_Julho e Agosto_** respectivamente.\n",
    "\n",
    "---"
   ]
  },
  {
   "cell_type": "markdown",
   "metadata": {},
   "source": [
    "- <font color='9E36CE'>**_Importando_**</font> **_as bibliotecas que serão utilizadas para nosso manuseio dos dados:_**\n"
   ]
  },
  {
   "cell_type": "code",
   "execution_count": 1,
   "metadata": {},
   "outputs": [
    {
     "name": "stdout",
     "output_type": "stream",
     "text": [
      "Requirement already satisfied: geopy in c:\\users\\jr_fe\\anaconda3\\lib\\site-packages (2.2.0)\n",
      "Requirement already satisfied: geographiclib<2,>=1.49 in c:\\users\\jr_fe\\anaconda3\\lib\\site-packages (from geopy) (1.52)\n"
     ]
    }
   ],
   "source": [
    "!pip install geopy\n",
    "import pandas as pd\n",
    "import numpy as np\n",
    "import matplotlib\n",
    "import matplotlib.pyplot as plt\n",
    "import seaborn as sns\n",
    "from datetime import datetime\n",
    "from geopy.geocoders import Nominatim\n",
    "from IPython.display import Image\n",
    "import folium\n",
    "sns.set(rc={'figure.figsize':(11.7,8.27)})\n",
    "sns.set(style=\"darkgrid\")"
   ]
  },
  {
   "cell_type": "markdown",
   "metadata": {},
   "source": [
    "- **_Carregando o DataSet em relação a Julho:_**"
   ]
  },
  {
   "cell_type": "code",
   "execution_count": 2,
   "metadata": {},
   "outputs": [
    {
     "data": {
      "text/html": [
       "<div>\n",
       "<style scoped>\n",
       "    .dataframe tbody tr th:only-of-type {\n",
       "        vertical-align: middle;\n",
       "    }\n",
       "\n",
       "    .dataframe tbody tr th {\n",
       "        vertical-align: top;\n",
       "    }\n",
       "\n",
       "    .dataframe thead th {\n",
       "        text-align: right;\n",
       "    }\n",
       "</style>\n",
       "<table border=\"1\" class=\"dataframe\">\n",
       "  <thead>\n",
       "    <tr style=\"text-align: right;\">\n",
       "      <th></th>\n",
       "      <th>Regiao - Sigla</th>\n",
       "      <th>Estado - Sigla</th>\n",
       "      <th>Municipio</th>\n",
       "      <th>Revenda</th>\n",
       "      <th>CNPJ da Revenda</th>\n",
       "      <th>Nome da Rua</th>\n",
       "      <th>Numero Rua</th>\n",
       "      <th>Complemento</th>\n",
       "      <th>Bairro</th>\n",
       "      <th>Cep</th>\n",
       "      <th>Produto</th>\n",
       "      <th>Data da Coleta</th>\n",
       "      <th>Valor de Venda</th>\n",
       "      <th>Valor de Compra</th>\n",
       "      <th>Unidade de Medida</th>\n",
       "      <th>Bandeira</th>\n",
       "    </tr>\n",
       "  </thead>\n",
       "  <tbody>\n",
       "    <tr>\n",
       "      <th>0</th>\n",
       "      <td>SE</td>\n",
       "      <td>ES</td>\n",
       "      <td>COLATINA</td>\n",
       "      <td>SAO FRANCISCO DE ASSIS COMERCIO DE COMBUSTIVEI...</td>\n",
       "      <td>08.519.545/0001-10</td>\n",
       "      <td>PRACA FIDELIS FERRARI</td>\n",
       "      <td>35</td>\n",
       "      <td>NaN</td>\n",
       "      <td>LACE</td>\n",
       "      <td>29703-030</td>\n",
       "      <td>GASOLINA ADITIVADA</td>\n",
       "      <td>01/07/2022</td>\n",
       "      <td>7,48</td>\n",
       "      <td>NaN</td>\n",
       "      <td>R$ / litro</td>\n",
       "      <td>VIBRA ENERGIA</td>\n",
       "    </tr>\n",
       "  </tbody>\n",
       "</table>\n",
       "</div>"
      ],
      "text/plain": [
       "  Regiao - Sigla Estado - Sigla Municipio  \\\n",
       "0             SE             ES  COLATINA   \n",
       "\n",
       "                                             Revenda      CNPJ da Revenda  \\\n",
       "0  SAO FRANCISCO DE ASSIS COMERCIO DE COMBUSTIVEI...   08.519.545/0001-10   \n",
       "\n",
       "             Nome da Rua Numero Rua Complemento Bairro        Cep  \\\n",
       "0  PRACA FIDELIS FERRARI         35         NaN   LACE  29703-030   \n",
       "\n",
       "              Produto Data da Coleta Valor de Venda  Valor de Compra  \\\n",
       "0  GASOLINA ADITIVADA     01/07/2022           7,48              NaN   \n",
       "\n",
       "  Unidade de Medida       Bandeira  \n",
       "0        R$ / litro  VIBRA ENERGIA  "
      ]
     },
     "execution_count": 2,
     "metadata": {},
     "output_type": "execute_result"
    }
   ],
   "source": [
    "comb_jul = pd.read_csv('https://www.gov.br/anp/pt-br/centrais-de-conteudo/dados-abertos/arquivos/shpc/dsan/2022/precos-gasolina-etanol-07.csv', delimiter=';')\n",
    "comb_jul.head(1)"
   ]
  },
  {
   "cell_type": "markdown",
   "metadata": {},
   "source": [
    "- **_Carregando o DataSet em relação a Agosto:_**"
   ]
  },
  {
   "cell_type": "code",
   "execution_count": null,
   "metadata": {},
   "outputs": [],
   "source": [
    "comb_ago = pd.read_csv('https://www.gov.br/anp/pt-br/centrais-de-conteudo/dados-abertos/arquivos/shpc/dsan/2022/precos-gasolina-etanol-08.csv', delimiter=';')\n",
    "comb_ago.head(1)"
   ]
  },
  {
   "cell_type": "markdown",
   "metadata": {},
   "source": [
    "- **_Concatenando os dois DataSets para facilitar a manipulação dos dados:_**"
   ]
  },
  {
   "cell_type": "code",
   "execution_count": null,
   "metadata": {},
   "outputs": [],
   "source": [
    "conjunto_dados = pd.concat([comb_jul, comb_ago])\n",
    "conjunto_dados.head(1)"
   ]
  },
  {
   "cell_type": "markdown",
   "metadata": {},
   "source": [
    "##### **<font color ='gold'><font size=4>2.2. Análise Inicial do DataSet</font>**\n",
    "\n",
    "Com nosso DataSet carregado, iremos realizar uma análise exploratória inicial dos dados, buscando compreendê-los e descrevê-los de maneira que possamos ter uma visão completa do Banco de Dados em mãos.\n",
    "\n",
    "Essa etapa é essencial para o projeto, pois é a partir daqui que teremos a compreensão acerca desses dados, para em seguida podermos realizar o tratamento apropriado deles, assim possibilitando a resolução das perguntas postuladas no início."
   ]
  },
  {
   "cell_type": "markdown",
   "metadata": {},
   "source": [
    "- **_Checando a dimensão do DataSet concatenado:_**"
   ]
  },
  {
   "cell_type": "code",
   "execution_count": null,
   "metadata": {},
   "outputs": [],
   "source": [
    "conjunto_dados.shape"
   ]
  },
  {
   "cell_type": "markdown",
   "metadata": {},
   "source": [
    "Com essa checagem, podemos verificar que nosso DataSet contém **_127.176_** linhas/registros por **_16_** colunas/variáveis.\n",
    "\n",
    "Com um número tão expressívo de colunas, é interessante realizarmos um dicionário que contenha uma explicação do que cada uma dessas colunas representa e abriga no DataSet."
   ]
  },
  {
   "cell_type": "markdown",
   "metadata": {},
   "source": [
    "- **_Verificação e listagem das colunas presentes no DataSet:_**"
   ]
  },
  {
   "cell_type": "code",
   "execution_count": null,
   "metadata": {},
   "outputs": [],
   "source": [
    "conjunto_dados.info()"
   ]
  },
  {
   "cell_type": "markdown",
   "metadata": {},
   "source": [
    "**_Com essas informações, podemos definir e compreender as colunas em relação aos dados da revenda pesquisada dos combustíveis:_**\n",
    "        \n",
    "* **`Regiao - Sigla`** - Sigla da Região.\n",
    "\n",
    "* **`Estado - Sigla`** - Sigla da Unidade Federativa (UF).\n",
    "\n",
    "* **`Municipio`** - Nome do município.\n",
    "\n",
    "* **`Revenda`** - Nome do estabelecimento.\n",
    "\n",
    "* **`CNPJ da Revenda`** - Número do Cadastro Nacional de Pessoa Jurídica.\n",
    "\n",
    "* **`Nome da Rua`** - Nome do logradouro.\n",
    "\n",
    "* **`Numero da Rua`** - Número do logradouro.\n",
    "\n",
    "* **`Complemento`** - Complemento do logradouro.\n",
    "\n",
    "* **`Bairro`** - Nome do bairro.\n",
    "\n",
    "* **`Cep`** - Número do Código do Endereço Postal (CEP) do logradouro.\n",
    "\n",
    "* **`Produto`** - Nome do combustível pesquisado.\n",
    "\n",
    "* **`Data da Coleta`** - Data da coleta do(s) preço(s).\n",
    "\n",
    "* **`Valor de Venda`** - Preço de venda ao consumidor final praticado pelo revendedor, na data da coleta.\n",
    "\n",
    "* **`Valor de Compra`** - Preço de distribuição (preço de venda da distribuidora para o posto revendedor de combustível)**. \n",
    "\n",
    "* **`Unidade de Medida`** - Unidade de Medida.\n",
    "\n",
    "* **`Bandeira`** - Nome da Bandeira da revenda.***\n",
    "\n",
    "\n",
    "\n",
    "*<font size=2>Informações acerca do significado de cada coluna disponível para visualização e consulta no [PDF oficial](https://www.gov.br/anp/pt-br/centrais-de-conteudo/dados-abertos/arquivos/shpc/metadados-serie-historica-precos-combustiveis.pdf) que acompanha o banco de dados.\n",
    "\n",
    "**<font size=2>Série disponível apenas até agosto de 2020 no momento da realização do presente projeto de Análise de Dados.\n",
    "\n",
    "***<font size=2>O Posto bandeirado é aquele que opta por exibir a marca comercial de um distribuidor, o posto deverá vender somente combustíveis fornecidos pelo distribuidor detentor da marca comercial exibida aos consumidores. Já o Posto bandeira branca é o que opta por não exibir marca comercial de nenhuma distribuidora. (informações retiradas do PDF oficial)\n",
    "\n",
    "\n",
    "Outra informação importante que conseguimos ver é o Dtype (tipo de dados) presentes em cada uma das colunas.\n",
    "\n",
    "Todas estão no formato **_object_** (**_str_**), tendo apenas a coluna `Valor de Compra` no formato **_float64_**.\n",
    "\n",
    "---"
   ]
  },
  {
   "cell_type": "markdown",
   "metadata": {},
   "source": [
    "**_Com nossas colunas categorizadas e descritas, podemos checar outra informação importante: O percentual de valores nulos em cada uma delas:_**"
   ]
  },
  {
   "cell_type": "code",
   "execution_count": null,
   "metadata": {
    "scrolled": true
   },
   "outputs": [],
   "source": [
    "(((conjunto_dados.isnull().sum() / conjunto_dados.shape[0]) * 100).sort_values(ascending=False)).round(4)"
   ]
  },
  {
   "cell_type": "markdown",
   "metadata": {},
   "source": [
    "Podemos reparar que duas colunas se sobressaem, sendo elas a coluna de `Valor de Compra` que possui **_100% dos seus valores nulos_**, e a coluna `Complemento` que possui cerca de **_79% de seus valores nulos._**\n",
    "\n",
    "A partir disso, precisamos abordar certas mudanças em algumas das colunas durante o processo de limpeza do DataSet. Sendo elas:\n",
    "\n",
    "- Resetar o index do DataFrame concatenado;\n",
    "\n",
    "- Retirar a coluna `Valor de Compra`, pois a mesma é composta apenas por **_valores NaN;_**\n",
    "- Alterar o Dtype da coluna `Valor de Venda` de **_str_** para **_float64_**, para podermos realizar operações e análises a partir dela;\n",
    "- Preencher os valores NaN da coluna `Complemento`, já que eles compõe cerca de 79% dos registros.\n",
    "- Alterar o Dtype da coluna `Data da Coleta` de str para DateTime, para podermos realizar filtragens e pesquisas a partir das datas;\n",
    "\n",
    "Algumas mudanças extras também serão realizadas, sendo elas:\n",
    "\n",
    "- Criação de uma nova coluna para alocar os dias da semana que as datas representam;\n",
    "    - Essa adição será feita para possibilitar a resolução da primeira questão extra.\n",
    "\n",
    "- Passar as strings do DataSet para um formato mais limpo, mais legível, pois todas elas estão em maiúsculas.\n",
    "\n",
    "Com esse tratamento dos dados, poderemos aprofundar mais nossa análise exploratória e compreender ainda melhor o nosso DataSet."
   ]
  },
  {
   "cell_type": "markdown",
   "metadata": {},
   "source": [
    "## **<font color ='gold'><font size=4>3. Tratamento dos Dados</font>** 📁\n",
    "\n",
    "A partir das análises iniciais realizadas no DataSet, iremos tratar os dados de forma que o trabalho de Análise e resposta das perguntas postuladas, sejam realizados da melhor maneira possível.\n",
    "\n",
    "---"
   ]
  },
  {
   "cell_type": "markdown",
   "metadata": {},
   "source": [
    "##### **<font color ='gold'><font size=4>3.1. Alterações e Limpeza de Colunas</font>**\n",
    "\n",
    "Seguindo com nossas pontuações anteriores, iremos aqui tratar as colunas do DataSet.\n",
    "\n",
    "---"
   ]
  },
  {
   "cell_type": "markdown",
   "metadata": {},
   "source": [
    "- **_Resetando o Index no DataFrame concatenado:_**"
   ]
  },
  {
   "cell_type": "code",
   "execution_count": null,
   "metadata": {},
   "outputs": [],
   "source": [
    "conjunto_dados.reset_index(0, drop=True, inplace=True)"
   ]
  },
  {
   "cell_type": "markdown",
   "metadata": {},
   "source": [
    "- **_Retirando a coluna_** `Valor de Compra` **_do DataFrame, pois a mesma contém apenas valores nulos:_**"
   ]
  },
  {
   "cell_type": "code",
   "execution_count": null,
   "metadata": {},
   "outputs": [],
   "source": [
    "conjunto_dados.drop('Valor de Compra', axis=1, inplace=True)"
   ]
  },
  {
   "cell_type": "markdown",
   "metadata": {},
   "source": [
    "- **_Transformando os valores da coluna_** `Valor de Venda` **_para float:_**\n"
   ]
  },
  {
   "cell_type": "code",
   "execution_count": null,
   "metadata": {},
   "outputs": [],
   "source": [
    "conjunto_dados['Valor de Venda'] = conjunto_dados['Valor de Venda'].apply(lambda y: float(str(y.replace(',','.'))))"
   ]
  },
  {
   "cell_type": "markdown",
   "metadata": {},
   "source": [
    "- **_Preenchendo valores nulos da coluna_** `Complemento` **_com 0:_**"
   ]
  },
  {
   "cell_type": "code",
   "execution_count": null,
   "metadata": {},
   "outputs": [],
   "source": [
    "conjunto_dados.Complemento.fillna('0', inplace=True)"
   ]
  },
  {
   "cell_type": "markdown",
   "metadata": {},
   "source": [
    "- **_Transformando as datas da coluna_** `Data da Coleta` **_para datetime:_**"
   ]
  },
  {
   "cell_type": "code",
   "execution_count": null,
   "metadata": {},
   "outputs": [],
   "source": [
    "conjunto_dados['Data da Coleta'] = pd.to_datetime(conjunto_dados['Data da Coleta'], format='%d/%m/%Y')"
   ]
  },
  {
   "cell_type": "markdown",
   "metadata": {},
   "source": [
    "Também utilizaremos algumas funções para serem aplicadas no DataFrame."
   ]
  },
  {
   "cell_type": "markdown",
   "metadata": {},
   "source": [
    "- **_Função <font color='1D9BDA'>lambda</font> para passar strings de maiúsculas para minúsculas no DataFrame:_**"
   ]
  },
  {
   "cell_type": "code",
   "execution_count": null,
   "metadata": {},
   "outputs": [],
   "source": [
    "to_title = lambda x: x.title() if isinstance(x, str) else x"
   ]
  },
  {
   "cell_type": "markdown",
   "metadata": {},
   "source": [
    "- **_Criando função que acrescenta coluna de dias da semana:_**"
   ]
  },
  {
   "cell_type": "code",
   "execution_count": null,
   "metadata": {},
   "outputs": [],
   "source": [
    "def cria_semanas(df):\n",
    "    dias_semana = {\n",
    "        'Sunday':'Domingo', \n",
    "        'Monday':'Segunda', \n",
    "        'Tuesday':'Terça', \n",
    "        'Wednesday':'Quarta', \n",
    "        'Thursday':'Quinta', \n",
    "        'Friday':'Sexta', \n",
    "        'Saturday':'Sábado'}\n",
    "    df['Dias da Semana'] = df['Data da Coleta'].apply(lambda x: x.strftime('%A'))\n",
    "    df['Dias da Semana'] = df['Dias da Semana'].replace(dias_semana)\n",
    "    return df"
   ]
  },
  {
   "cell_type": "markdown",
   "metadata": {},
   "source": [
    "Agora podemos aplicar nossas funções no nosso DataFrame."
   ]
  },
  {
   "cell_type": "markdown",
   "metadata": {},
   "source": [
    "- **_Criando a coluna de dias da semana:_**"
   ]
  },
  {
   "cell_type": "code",
   "execution_count": null,
   "metadata": {},
   "outputs": [],
   "source": [
    "conjunto_dados = cria_semanas(conjunto_dados)"
   ]
  },
  {
   "cell_type": "markdown",
   "metadata": {},
   "source": [
    "- **_Passando strings para minúsculas no DataFrame:_**"
   ]
  },
  {
   "cell_type": "code",
   "execution_count": null,
   "metadata": {},
   "outputs": [],
   "source": [
    "conjunto_dados['Municipio'] = conjunto_dados['Municipio'].apply(to_title)\n",
    "conjunto_dados['Revenda'] = conjunto_dados['Revenda'].apply(to_title)\n",
    "conjunto_dados['Nome da Rua'] = conjunto_dados['Nome da Rua'].apply(to_title)\n",
    "conjunto_dados['Complemento'] = conjunto_dados['Complemento'].apply(to_title)\n",
    "conjunto_dados['Bairro'] = conjunto_dados['Bairro'].apply(to_title)\n",
    "conjunto_dados['Produto'] = conjunto_dados['Produto'].apply(to_title)\n",
    "conjunto_dados['Bandeira'] = conjunto_dados['Bandeira'].apply(to_title)"
   ]
  },
  {
   "cell_type": "markdown",
   "metadata": {},
   "source": [
    "**Com todas essas alterações realizadas, vamos primeiramente checar novamente nossos DataTypes das colunas.**"
   ]
  },
  {
   "cell_type": "code",
   "execution_count": null,
   "metadata": {},
   "outputs": [],
   "source": [
    "conjunto_dados.dtypes"
   ]
  },
  {
   "cell_type": "markdown",
   "metadata": {},
   "source": [
    "Como podemos ver, nossas mudanças foram realizadas com sucesso, agora temos os tipos de dados corretos para as colunas apropriadas.\n",
    "\n",
    "Vamos visualizar os 5 registros iniciais do DataFrame:"
   ]
  },
  {
   "cell_type": "code",
   "execution_count": null,
   "metadata": {},
   "outputs": [],
   "source": [
    "conjunto_dados.head()"
   ]
  },
  {
   "cell_type": "markdown",
   "metadata": {},
   "source": [
    "##### **<font color ='gold'><font size=4>3.2. Checando Outliers</font>**\n",
    "\n",
    "Com o DataSet devidamente organizado e limpo, partimos para a etapa de checar a situação de valores Outliers nos dados. Essa etapa será relativamente simples pois a única coluna dos nossos dados que permite esse tipo de checagem, ou seja, a única coluna com valores numéricos, é a de `Valor de Venda`.\n",
    "\n",
    "Para realizar essa checagem, aplicaremos alguns métodos:\n",
    "\n",
    "- Uma análise do resumo estatístico dos valores da coluna utilizando o método `describe()`;\n",
    "\n",
    "- Plotagem de um `histograma` para termos uma visualização gráfica da distribuição dos dados;\n",
    "\n",
    "- Plotagem de um `boxplot`, o que deixará evidente onde e quantos são os outliers, caso existam, na coluna.\n",
    "\n",
    "---"
   ]
  },
  {
   "cell_type": "markdown",
   "metadata": {},
   "source": [
    "- **_Resumo estatístico dos valores com o método describe:_**"
   ]
  },
  {
   "cell_type": "code",
   "execution_count": null,
   "metadata": {},
   "outputs": [],
   "source": [
    "conjunto_dados.describe().round(3)"
   ]
  },
  {
   "cell_type": "markdown",
   "metadata": {},
   "source": [
    "Com isso, podemos ter uma compreensão mais apurada acerca da coluna, notavelmente: \n",
    "\n",
    "- Temos a contagem dos registros: **_127.176_**;\n",
    "\n",
    "- A média dos preços de venda dos combustíveis é de cerca de **`R$5.356`**;\n",
    "- Temos um desvio padrão relativamente baixo, de **0.860**;\n",
    "- O valor mais baixo registrado no DataSet é de **`R$2.890`**;\n",
    "- O valor mais alto registrado foi de **`R$9.270`**.\n",
    "\n",
    "Além disso, temos as informações acerca da distribuição desses dados:\n",
    "\n",
    "- **25%** dos dados vão até **`R$4.880`**;\n",
    "\n",
    "- **50%** dos dados vão até **`R$5.490`**;\n",
    "\n",
    "- **75%** dos dados vão até **`R$5.890`**;\n",
    "\n",
    "---\n",
    "\n",
    "Com essas informações, podemos observar uma anomalia. Temos até **75%** dos valores indo até **`R$5.890`**, porém, o valor máximo é de **`R$9.270`**. "
   ]
  },
  {
   "cell_type": "code",
   "execution_count": null,
   "metadata": {},
   "outputs": [],
   "source": [
    "conjunto_dados['Valor de Venda'].quantile(.99)"
   ]
  },
  {
   "cell_type": "markdown",
   "metadata": {},
   "source": [
    "Podemos observar também que **99%**  dos valores se encontram numa faixa de preço que está a **`R$1.94`** abaixo do valor máximo, e indica a presença de outliers.\n",
    "\n",
    "Para termos outras visualizações disso, vamos plotar um histograma da coluna `Valor de Venda`:\n"
   ]
  },
  {
   "cell_type": "code",
   "execution_count": null,
   "metadata": {},
   "outputs": [],
   "source": [
    "sns.histplot(data=conjunto_dados['Valor de Venda'], kde=True, binwidth=0.2)\n",
    "\n",
    "plt.title('Histograma da Coluna \"Valor de Venda\"', fontsize=12, fontweight='bold')\n",
    "plt.ylabel('Num. Registros', fontsize=12, fontweight='bold')\n",
    "plt.xlabel('Valor de Venda (R$)', fontsize=12, fontweight='bold')\n",
    "plt.show()"
   ]
  },
  {
   "cell_type": "markdown",
   "metadata": {},
   "source": [
    "Com o histograma, podemos notar uma distribuição que tende mais a esquerda dos valores, onde as barras são visíveis até por volta de **`R$7`** e **`R$8`** porém o gráfico demonstra que temos valores até **`R$9`** e acima, indicando novamente os outliers.\n",
    "\n",
    "- Vamos plotar um boxplot, para checar efetivamente esses valores."
   ]
  },
  {
   "cell_type": "code",
   "execution_count": null,
   "metadata": {},
   "outputs": [],
   "source": [
    "conjunto_dados['Valor de Venda'].plot(kind='box', vert=False, figsize=(20, 5), fontsize=12)\n",
    "plt.show()\n",
    "\n",
    "print(\"Valores de Venda acima de R$7,50:\")\n",
    "print(\"{} entradas\".format(len(conjunto_dados[conjunto_dados['Valor de Venda'] > 7.5])))\n",
    "print(\"{:.4f}%\".format((len(conjunto_dados[conjunto_dados['Valor de Venda'] > 7.5]) / conjunto_dados.shape[0]) * 100))\n",
    "print(\"=+=\" * 15)\n",
    "print(\"Valores de Venda abaixo de R$3,20:\")\n",
    "print(\"{} entradas\".format(len(conjunto_dados[conjunto_dados['Valor de Venda'] < 3.2])))\n",
    "print(\"{:.4f}%\".format((len(conjunto_dados[conjunto_dados['Valor de Venda'] < 3.2]) / conjunto_dados.shape[0]) * 100))"
   ]
  },
  {
   "cell_type": "markdown",
   "metadata": {},
   "source": [
    "Com o boxplot, podemos ver que temos outliers tanto acima quanto abaixo dos quartis em si. \n",
    "\n",
    "- Temos **_638 valores_** acima de **`R$7,50`** e **_195 valores_** abaixo de **`R$3,20`**.\n",
    "\n",
    "Nesse caso específico, achamos válido seguir com as análises mantendo os outliers, devido a natureza do nosso DataSet.\n",
    "\n",
    "Como ele é composto por valores de **_três combustíveis diferentes_** pesquisados em **_todas as regiões do Brasil_**, essa variância nos dados é esperada e sentimos que remover esses valores, poderia fornecer uma análise não tão precisa da realidade dos fatos, pois com esses outliers, podemos observar alguns fenômenos:\n",
    "\n",
    "- A precificação dos combustíveis em todo território nacional aparentemente não possui uma regularização tão abrangente, o que é mostrado na variância desses dados;\n",
    "\n",
    "- Essa variância de preço entre as regiões pode estar ligada a alguns fatores como infraestrutura, local de coleta e produção desses combustíveis, métodos de transporte, impostos locais em cima dos produtos, etc.\n",
    "\n",
    "\n",
    "No entanto, nesse projeto buscamos responder sumariamente às perguntas do escopo do projeto. Desta forma, **_optamos por manter e trabalhar_** com esses outliers."
   ]
  },
  {
   "cell_type": "markdown",
   "metadata": {},
   "source": [
    "## **<font color ='gold'><font size=4>4. Respondendo Perguntas</font>** ✅\n",
    "\n",
    "Com essas verificações e tratamentos feitos, vamos dar inicio ao nosso trabalho de resolução das nossas perguntas iniciais.\n",
    "\n",
    "---"
   ]
  },
  {
   "cell_type": "markdown",
   "metadata": {},
   "source": [
    "##### **<font color ='gold'><font size=4>4.1. Como se comportam o preço dos combustíveis durante os dois meses citados? (Jul/Ago) Os valores do etanol e da gasolina tiveram uma tendência de queda ou aumento?</font>**\n",
    "\n",
    "---"
   ]
  },
  {
   "cell_type": "markdown",
   "metadata": {},
   "source": [
    "- **_Primeiramente, dividiremos o nosso DataFrame entre os meses de Julho e Agosto:_**"
   ]
  },
  {
   "cell_type": "code",
   "execution_count": null,
   "metadata": {},
   "outputs": [],
   "source": [
    "comb_jul = conjunto_dados[(conjunto_dados['Data da Coleta'] < '2022-08-01')] \n",
    "comb_ago = conjunto_dados[(conjunto_dados['Data da Coleta'] > '2022-08-01')]"
   ]
  },
  {
   "cell_type": "markdown",
   "metadata": {},
   "source": [
    "- **_Criando DataFrames dos preços de combustíveis para julho e agosto, subdividindo os DataFrames acima para conter a sigla da região e a média de preço dos combustíveis:_**"
   ]
  },
  {
   "cell_type": "code",
   "execution_count": null,
   "metadata": {},
   "outputs": [],
   "source": [
    "preco_comb_jul = comb_jul.groupby(['Regiao - Sigla']).mean()\n",
    "preco_comb_jul.columns = ['Preço Médio']\n",
    "\n",
    "preco_comb_ago = comb_ago.groupby(['Regiao - Sigla']).mean()\n",
    "preco_comb_ago.columns = ['Preço Médio']"
   ]
  },
  {
   "cell_type": "markdown",
   "metadata": {},
   "source": [
    "- **_Plotando gráfico para visualização dos dados e para identificarmos qual foi a tendência dos valores dos combustíveis:_**"
   ]
  },
  {
   "cell_type": "code",
   "execution_count": null,
   "metadata": {},
   "outputs": [],
   "source": [
    "plt.figure(figsize=(10, 5), dpi=80)\n",
    "\n",
    "sns.kdeplot(comb_jul['Valor de Venda'], shade=True, color='g', label='Julho', alpha=.7)\n",
    "sns.kdeplot(comb_ago['Valor de Venda'], shade=True, color='r', label='Agosto', alpha=.7)\n",
    "\n",
    "plt.title('Densidade de Preços (Julho - Agosto)', fontsize=12, fontweight='bold')\n",
    "plt.ylabel('Densidade', fontsize=12, fontweight='bold')\n",
    "plt.xlabel('Valor de Venda (R$)', fontsize=12, fontweight='bold')\n",
    "plt.legend(loc='upper right',fancybox=True, shadow=True, ncol=1)\n",
    "plt.show()"
   ]
  },
  {
   "cell_type": "markdown",
   "metadata": {},
   "source": [
    "Identificamos que existe uma clara **_tendência de queda_** no preço dos combustíveis entre o mês de Julho e Agosto. O gráfico de **_Agosto_** se posiciona mais a esquerda, indicando **_menores valores_**, e possui um pico mais baixo do que o gráfico de Julho.\n",
    "\n",
    "Além disso, percebemos que a **_densidade de valores mais baixos aumentou_**, fazendo com que o pico da primeira onda vermelha seja consideravelmente maior do que a de Julho.\n",
    "- **_Apresentando os valores agrupados em um formato de tabela:_**"
   ]
  },
  {
   "cell_type": "code",
   "execution_count": null,
   "metadata": {},
   "outputs": [],
   "source": [
    "print('VALORES MÉDIOS DOS COMBUSTÍVEIS POR REGIÃO (JULHO):')\n",
    "display(preco_comb_jul.sort_values(by='Preço Médio', ascending=True))\n",
    "print()\n",
    "print()\n",
    "print('VALORES MÉDIOS DOS COMBUSTÍVEIS POR REGIÃO (AGOSTO):')\n",
    "display(preco_comb_ago.sort_values(by='Preço Médio', ascending=True))\n",
    "print()\n",
    "print()\n",
    "print('DIFERENÇA AGOSTO - JULHO')\n",
    "display(preco_comb_ago - preco_comb_jul)"
   ]
  },
  {
   "cell_type": "markdown",
   "metadata": {},
   "source": [
    "Comparando os valores de cada região separadamente, observamos novamente que existe uma tendência de queda nos valores dos combustíveis."
   ]
  },
  {
   "cell_type": "markdown",
   "metadata": {},
   "source": [
    "##### **<font color ='gold'><font size=4>4.2. Qual o preço médio da gasolina e do etanol nesses dois meses?</font>**"
   ]
  },
  {
   "cell_type": "markdown",
   "metadata": {},
   "source": [
    "- **_Separando os combustíveis e argumentos, cores:_**"
   ]
  },
  {
   "cell_type": "code",
   "execution_count": null,
   "metadata": {},
   "outputs": [],
   "source": [
    "# Definindo eixos para plotagem posterior do gráfico\n",
    "x_col = 'Data da Coleta'\n",
    "y_col = 'Valor de Venda'\n",
    "\n",
    "# Criando uma cópia do DataFrame original e alterando o nome da coluna 'Região - Sigla' para 'Região'\n",
    "conjunto_dados_reg = conjunto_dados.copy()\n",
    "conjunto_dados_reg.rename(columns={'Regiao - Sigla':'Regiao'}, inplace=True)\n",
    "\n",
    "# Subdividindo a cópia do DataFrame em três, um para cada produto\n",
    "etanol = conjunto_dados_reg.loc[conjunto_dados_reg['Produto'] == 'Etanol']\n",
    "gasolina = conjunto_dados_reg.loc[conjunto_dados_reg['Produto'] == 'Gasolina']\n",
    "gasolina_aditivada = conjunto_dados_reg.loc[conjunto_dados_reg['Produto'] == 'Gasolina Aditivada']\n",
    "\n",
    "# Definindo cores para plotagem das linhas no gráfico a seguir\n",
    "cor_centro = '#CF0000'\n",
    "cor_norte = '#7ECA9C'\n",
    "cor_nordeste = '#E48900'\n",
    "cor_sudeste = '#005F99'\n",
    "cor_sul = '#440A67'\n",
    "cor_brasil = \"#11ff00\"\n"
   ]
  },
  {
   "cell_type": "code",
   "execution_count": null,
   "metadata": {},
   "outputs": [],
   "source": [
    "# Essas variáveis serão utilizadas no gráfico abaixo, e na questão 9. \n",
    "\n",
    "nordesteEta = etanol.query('Regiao == \"NE\"')\n",
    "nordesteGas = gasolina.query('Regiao == \"NE\"')\n",
    "nordesteGasAdt = gasolina_aditivada.query('Regiao == \"NE\"')\n",
    "\n",
    "norteEta = etanol.query('Regiao == \"N\"')\n",
    "norteGas = gasolina.query('Regiao == \"N\"')\n",
    "norteGasAdt = gasolina_aditivada.query('Regiao == \"N\"')\n",
    "\n",
    "sulEta = etanol.query('Regiao == \"S\"')\n",
    "sulGas = gasolina.query('Regiao == \"S\"')\n",
    "sulGasAdt = gasolina_aditivada.query('Regiao == \"S\"')\n",
    "\n",
    "sudesteEta = etanol.query('Regiao == \"SE\"')\n",
    "sudesteGas = gasolina.query('Regiao == \"SE\"')\n",
    "sudesteGasAdt = gasolina_aditivada.query('Regiao == \"SE\"')\n",
    "\n",
    "centroOesteEta = etanol.query('Regiao == \"CO\"')\n",
    "centroOesteGas = gasolina.query('Regiao == \"CO\"')\n",
    "centroOesteGasAdt = gasolina_aditivada.query('Regiao == \"CO\"')"
   ]
  },
  {
   "cell_type": "markdown",
   "metadata": {},
   "source": [
    "Agora podemos plotar um gráfico de linhas do Seaborn, para ver o **_histórico da precificação média_** de cada combustível por região:"
   ]
  },
  {
   "cell_type": "code",
   "execution_count": null,
   "metadata": {},
   "outputs": [],
   "source": [
    "# Plotando os gráficos para cada tipo de combustível\n",
    "figura = plt.figure(figsize=(35, 10))\n",
    "\n",
    "# Etanol\n",
    "figura.add_subplot(131)\n",
    "sns.lineplot(x=x_col, y=y_col, color=cor_nordeste, data=nordesteEta, label='NE')\n",
    "sns.lineplot(x=x_col, y=y_col, color=cor_norte, data=norteEta, label='N')\n",
    "sns.lineplot(x=x_col, y=y_col, color=cor_centro, data=centroOesteEta, label='CO')\n",
    "sns.lineplot(x=x_col, y=y_col, color=cor_sul, data=sulEta, label='S')\n",
    "sns.lineplot(x=x_col, y=y_col, color=cor_sudeste, data=sudesteEta, label='SE')\n",
    "\n",
    "plt.title('Média de preços do Etanol por região', fontsize=12, fontweight='bold')\n",
    "plt.legend(loc='upper right',fancybox=True, shadow=True, ncol=1)\n",
    "plt.ylabel('Valor (R$)', fontsize=12, fontweight='bold')\n",
    "plt.xlabel('Semana', fontsize=12, fontweight='bold')\n",
    "\n",
    "# Gasolina\n",
    "figura.add_subplot(132)\n",
    "sns.lineplot(x=x_col, y=y_col, color=cor_nordeste, data=nordesteGas, label='NE')\n",
    "sns.lineplot(x=x_col, y=y_col, color=cor_norte, data=norteGas, label='N')\n",
    "sns.lineplot(x=x_col, y=y_col, color=cor_centro, data=centroOesteGas, label='CO')\n",
    "sns.lineplot(x=x_col, y=y_col, color=cor_sul, data=sulGas, label='S')\n",
    "sns.lineplot(x=x_col, y=y_col, color=cor_sudeste, data=sudesteGas, label='SE')\n",
    "\n",
    "plt.title('Média de preços da Gasolina por região', fontsize=12, fontweight='bold')\n",
    "plt.legend(loc='upper right',fancybox=True, shadow=True, ncol=1)\n",
    "plt.ylabel('Valor (R$)', fontsize=12, fontweight='bold')\n",
    "plt.xlabel('Semana', fontsize=12, fontweight='bold')\n",
    "\n",
    "# Gasolina Aditivada\n",
    "figura.add_subplot(133)\n",
    "sns.lineplot(x=x_col, y=y_col, color=cor_nordeste, data=nordesteGasAdt, label='NE')\n",
    "sns.lineplot(x=x_col, y=y_col, color=cor_norte, data=norteGasAdt, label='N')\n",
    "sns.lineplot(x=x_col, y=y_col, color=cor_centro, data=centroOesteGasAdt, label='CO')\n",
    "sns.lineplot(x=x_col, y=y_col, color=cor_sul, data=sulGasAdt, label='S')\n",
    "sns.lineplot(x=x_col, y=y_col, color=cor_sudeste, data=sudesteGasAdt, label='SE')\n",
    "\n",
    "plt.title('Média de preços da Gasolina Aditivada por região', fontsize=12, fontweight='bold')\n",
    "plt.legend(loc='upper right',fancybox=True, shadow=True, ncol=1)\n",
    "plt.ylabel('Valor (R$)', fontsize=12, fontweight='bold')\n",
    "plt.xlabel('Semana', fontsize=12, fontweight='bold')\n",
    "\n",
    "plt.tight_layout()"
   ]
  },
  {
   "cell_type": "markdown",
   "metadata": {},
   "source": [
    "**_A partir da visualização dos gráficos, algumas características podem ser notadas:_**\n",
    "\n",
    "- Tivemos a tendência de redução do preço dos combustíveis no bimestre apontada na questão anterior demonstrada novamente, onde todos os três gráficos apontam por meio de suas linhas esse declínio de preços;\n",
    "\n",
    "- Em todos os gráficos temos uma recorrência em relação a <font color='gold'>**região Nordeste (linha Amarela)**</font> e <font color='1CBB23'>**Norte (linha Verde)**</font>, onde essas duas regiões terminaram o intervalo analisado com os preços mais caros nos três combustíveis. Existem pontos em que essas regiões são ultrapassadas por outras, principalmente no caso da gasolina, mas no geral as duas regiões tem preços mais altos;\n",
    "\n",
    " \n",
    "- Mais explícitamente no gráfico em relação ao Etanol porém presente em todos eles, a <font color='1C58BB'>**região Sudeste (Linha Azul)**</font> teve uma alta subita nos preços por volta do dia de 15/07/2022;\n",
    "\n",
    "- Enquanto a região tem esse aumento súbito no dia 15, o inverso ocorre na mesma data na região Norte, onde os preços subitamente caem nesse período, porém no gráfico da gasolina aditivada esse fenômeno ocorre de maneira bem mais sutíl, tendo esse declínio bem mais leve nos preços da região Norte enquanto a região Sudeste tem seu pico."
   ]
  },
  {
   "cell_type": "markdown",
   "metadata": {},
   "source": [
    "**Podemos ter uma visão tabular desses preços a seguir:**"
   ]
  },
  {
   "cell_type": "markdown",
   "metadata": {},
   "source": [
    "- **Tabulação de preços dos combustíveis por região nos meses de Julho e Agosto respectivamente:**"
   ]
  },
  {
   "cell_type": "code",
   "execution_count": null,
   "metadata": {
    "scrolled": false
   },
   "outputs": [],
   "source": [
    "# Criação dos DataFrames com os preços, produtos e siglas das regiões no mês de julho\n",
    "relacao_comb_preco_jul = comb_jul[['Produto', 'Valor de Venda', 'Regiao - Sigla']].groupby(['Produto', 'Regiao - Sigla']).mean()\n",
    "relacao_comb_preco_jul.columns = ['Preço Médio']\n",
    "relacao_comb_preco_jul.sort_values(by='Produto', ascending=True, inplace=True)\n",
    "\n",
    "# Dando usntack no DataFrame e subdividindo em três categorias\n",
    "novo = relacao_comb_preco_jul.unstack().copy().T\n",
    "novo_etanol = novo['Etanol']\n",
    "novo_gas = novo['Gasolina']\n",
    "novo_gas_adt = novo['Gasolina Aditivada']\n",
    "\n",
    "# Reorganizando o DataFrame original com os dados tabulares\n",
    "relacao_comb_preco_jul = pd.DataFrame([novo_etanol ,novo_gas, novo_gas_adt])\n",
    "relacao_comb_preco_jul = relacao_comb_preco_jul['Preço Médio'].T\n",
    "\n",
    "print('MÉDIA DOS COMBUSTÍVEIS POR REGIÃO (JULHO):')\n",
    "display(relacao_comb_preco_jul)\n",
    "print()\n",
    "print()\n",
    "\n",
    "# Criação dos DataFrames com os preços, produtos e siglas das regiões no mês de Agosto\n",
    "relacao_comb_preco_ago = comb_ago[['Produto', 'Valor de Venda', 'Regiao - Sigla']].groupby(['Produto', 'Regiao - Sigla']).mean()\n",
    "relacao_comb_preco_ago.columns = ['Preço Médio']\n",
    "relacao_comb_preco_ago.sort_values(by='Produto', ascending=True, inplace=True)\n",
    "\n",
    "# Dando usntack no DataFrame e subdividindo em três categorias\n",
    "novo = relacao_comb_preco_ago.unstack().copy().T\n",
    "novo_etanol = novo['Etanol']\n",
    "novo_gas = novo['Gasolina']\n",
    "novo_gas_adt = novo['Gasolina Aditivada']\n",
    "\n",
    "# Reorganizando o DataFrame original com os dados tabulares\n",
    "relacao_comb_preco_ago = pd.DataFrame([novo_etanol ,novo_gas, novo_gas_adt])\n",
    "relacao_comb_preco_ago = relacao_comb_preco_ago['Preço Médio'].T\n",
    "\n",
    "print('MÉDIA DOS COMBUSTÍVEIS POR REGIÃO (AGOSTO):')\n",
    "display(relacao_comb_preco_ago)"
   ]
  },
  {
   "cell_type": "markdown",
   "metadata": {},
   "source": [
    "##### **<font color ='gold'><font size=4>4.3. Quais os 5 estados com o preço médio da gasolina e do etanol mais caros?</font>**"
   ]
  },
  {
   "cell_type": "markdown",
   "metadata": {},
   "source": [
    "Para a resolução dessa questão, vamos primeiro abordar o preço médio dos combustíveis juntos por região, e depois, de cada combustível separado, para termos uma visão mais completa acerca dos valores."
   ]
  },
  {
   "cell_type": "markdown",
   "metadata": {},
   "source": [
    "- **_Levando em consideração os 2 meses e os 2 combustíveis juntos, Gasolina(comum/aditivada) e Etanol:_**"
   ]
  },
  {
   "cell_type": "code",
   "execution_count": null,
   "metadata": {},
   "outputs": [],
   "source": [
    "# Criação de uma cópia do DataFrame original\n",
    "dados_agrupados_estado = conjunto_dados.copy()\n",
    "\n",
    "# Subdividindo a cópia para termos os dados necessários\n",
    "media_combs_estados = dados_agrupados_estado.groupby(['Regiao - Sigla', 'Estado - Sigla'])[['Valor de Venda']].mean()\n",
    "media_combs_estados.columns = ['Preço Médio']\n",
    "\n",
    "print('5 ESTADOS COM O PREÇO MÉDIO DE TODOS OS COMBUSTÍVEIS JUNTOS:')\n",
    "media_combs_estados.sort_values(by='Preço Médio', ascending=False).head()"
   ]
  },
  {
   "cell_type": "markdown",
   "metadata": {},
   "source": [
    "**_Para uma melhor visualização desses dados, vamos demonstrá-los num gráfico de barras:_**"
   ]
  },
  {
   "cell_type": "code",
   "execution_count": null,
   "metadata": {},
   "outputs": [],
   "source": [
    "media_combs_estados.sort_values(by='Preço Médio', ascending=False).head().plot(kind='bar', ylim=5.5, colormap='coolwarm');\n",
    "\n",
    "for index, values in enumerate(media_combs_estados['Preço Médio'].sort_values(ascending=False).head()):\n",
    "    plt.text(index, values, str(f'R$ {values:.3f}'), horizontalalignment='center', verticalalignment='bottom', fontdict={'fontweight':500, 'size':12})\n",
    "\n",
    "plt.title('Preço Médio Mais Alto por Estado (Combustíveis, Bimestre)', fontsize=12, fontweight='bold')\n",
    "plt.ylabel('Valor de Venda (R$)', fontsize=12, fontweight='bold')\n",
    "plt.xlabel('Estado - Sigla', fontsize=12, fontweight='bold')\n",
    "plt.xticks(rotation=360)\n",
    "plt.show()"
   ]
  },
  {
   "cell_type": "markdown",
   "metadata": {},
   "source": [
    "**Fazendo a média bimestral com a Gasolina, Gasolina Aditivada e o Etanol separados.**"
   ]
  },
  {
   "cell_type": "markdown",
   "metadata": {},
   "source": [
    "- **_Gasolina Aditivada_**"
   ]
  },
  {
   "cell_type": "code",
   "execution_count": null,
   "metadata": {},
   "outputs": [],
   "source": [
    "media_gas_adt_estado = dados_agrupados_estado.loc[dados_agrupados_estado['Produto'] == 'Gasolina Aditivada'].groupby(['Regiao - Sigla', 'Estado - Sigla'])\n",
    "\n",
    "df_media_gas_adt_estado = media_gas_adt_estado[['Valor de Venda']].mean()\n",
    "df_media_gas_adt_estado.columns = ['Preço Médio']\n",
    "\n",
    "print('OS 5 ESTADOS COM O MAIOR PREÇO MÉDIO DE GASOLINA ADITIVADA NO BIMESTRE.')\n",
    "display(df_media_gas_adt_estado.sort_values(by='Preço Médio', ascending=False).head())"
   ]
  },
  {
   "cell_type": "code",
   "execution_count": null,
   "metadata": {},
   "outputs": [],
   "source": [
    "df_media_gas_adt_estado.sort_values(by='Preço Médio', ascending=False).head().plot(kind='bar', ylim=5.5, colormap='coolwarm');\n",
    "\n",
    "for index, values in enumerate(df_media_gas_adt_estado['Preço Médio'].sort_values(ascending=False).head()):\n",
    "    plt.text(index, values, str(f'R$ {values:.3f}'), horizontalalignment='center', verticalalignment='bottom', fontdict={'fontweight':500, 'size':12})\n",
    "\n",
    "plt.title('Preço Médio Mais Alto por Estado (Gas. Aditivada, Bimestre)', fontsize=12, fontweight='bold')\n",
    "plt.ylabel('Valor de Venda (R$)', fontsize=12, fontweight='bold')\n",
    "plt.xlabel('Estado - Sigla', fontsize=12, fontweight='bold')\n",
    "plt.xticks(rotation=360)\n",
    "plt.show()"
   ]
  },
  {
   "cell_type": "markdown",
   "metadata": {},
   "source": [
    "- **_Gasolina_**"
   ]
  },
  {
   "cell_type": "code",
   "execution_count": null,
   "metadata": {},
   "outputs": [],
   "source": [
    "media_gas_estado = dados_agrupados_estado.loc[dados_agrupados_estado['Produto'] == 'Gasolina'].groupby(['Regiao - Sigla', 'Estado - Sigla'])\n",
    "df_media_gas_estado = media_gas_estado[['Valor de Venda']].mean()\n",
    "df_media_gas_estado.columns = ['Preço Médio']\n",
    "\n",
    "print('OS 5 ESTADOS COM O MAIOR PREÇO MÉDIO DE GASOLINA COMUM NO BIMESTRE.')\n",
    "print()\n",
    "display(df_media_gas_estado.sort_values(by='Preço Médio', ascending=False).head())"
   ]
  },
  {
   "cell_type": "code",
   "execution_count": null,
   "metadata": {},
   "outputs": [],
   "source": [
    "df_media_gas_estado.sort_values(by='Preço Médio', ascending=False).head().plot(kind='bar', ylim=5.5, colormap='coolwarm');\n",
    "\n",
    "for index, values in enumerate(df_media_gas_estado['Preço Médio'].sort_values(ascending=False).head()):\n",
    "    plt.text(index, values, str(f'R$ {values:.3f}'), horizontalalignment='center', verticalalignment='bottom', fontdict={'fontweight':500, 'size':12})\n",
    "\n",
    "plt.title('Preço Médio Mais Alto por Estado (Gasolina, Bimestre)', fontsize=12, fontweight='bold')\n",
    "plt.ylabel('Valor de Venda (R$)', fontsize=12, fontweight='bold')\n",
    "plt.xlabel('Estado - Sigla', fontsize=12, fontweight='bold')\n",
    "plt.xticks(rotation=360)\n",
    "plt.show()"
   ]
  },
  {
   "cell_type": "markdown",
   "metadata": {},
   "source": [
    "- **_Etanol_**"
   ]
  },
  {
   "cell_type": "code",
   "execution_count": null,
   "metadata": {},
   "outputs": [],
   "source": [
    "media_etanol_estado = dados_agrupados_estado.loc[dados_agrupados_estado['Produto'] == 'Etanol'].groupby(['Regiao - Sigla', 'Estado - Sigla'])\n",
    "df_media_etanol_estado = media_etanol_estado[['Valor de Venda']].mean()\n",
    "df_media_etanol_estado.columns = ['Preço Médio']\n",
    "\n",
    "print('OS 5 ESTADOS COM O MAIOR PREÇO MÉDIO DE ETANOL NO BIMESTRE.')\n",
    "print()\n",
    "display(df_media_etanol_estado.sort_values(by='Preço Médio', ascending=False).head())"
   ]
  },
  {
   "cell_type": "code",
   "execution_count": null,
   "metadata": {},
   "outputs": [],
   "source": [
    "df_media_etanol_estado.sort_values(by='Preço Médio', ascending=False).head().plot(kind='bar', ylim=5.0, colormap='coolwarm');\n",
    "\n",
    "for index, values in enumerate(df_media_etanol_estado['Preço Médio'].sort_values(ascending=False).head()):\n",
    "    plt.text(index, values, str(f'R$ {values:.3f}'), horizontalalignment='center', verticalalignment='bottom', fontdict={'fontweight':500, 'size':12})\n",
    "\n",
    "plt.title('Preço Médio Mais Alto por Estado (Etanol, Bimestre)', fontsize=12, fontweight='bold')\n",
    "plt.ylabel('Valor de Venda (R$)', fontsize=12, fontweight='bold')\n",
    "plt.xticks(rotation=360)\n",
    "plt.xlabel('Estado - Sigla', fontsize=12, fontweight='bold')\n",
    "plt.show()"
   ]
  },
  {
   "cell_type": "markdown",
   "metadata": {},
   "source": [
    "Com a visualização gráfica dos três produtos, podemos notar algumas características:\n",
    "\n",
    "- A <font color='3CCE05'>**região Norte (N)**</font> é a mais repetidas vezes aparente nos gráficos, contando com <font color='3CCE05'>**_13 registros_**</font>, sendo os estados mais presentes **Acre (AC) e Pará (PA)** com **3 aparições** cada;\n",
    "\n",
    "- <font color='gold'>**A região Nordeste (NE)**</font> foi a segunda com mais aparições, contando com os estados do **Ceará (CE) e Piauí (PI)** com as maiores vezes presentes, <font color='gold'>**2**</font>;\n",
    "\n",
    "- A <font color='9F0EF2'>**região Sul (S)**</font> aparece apenas uma vez com o estado do **Rio Grande do Sul (RS)** somente na categoria de preços mais altos do Etanol, sendo o único registro de um estado que não está contido no eixo Norte - Nordeste do país;\n",
    "\n",
    "Essas características apontam novamente a uma tendência de que os preços dos combustíveis são mais caros no geral na região Norte e Nordeste do Brasil."
   ]
  },
  {
   "cell_type": "markdown",
   "metadata": {},
   "source": [
    "##### **<font color ='gold'><font size=4>4.4. Qual o preço médio da gasolina e do etanol por estado?</font>**\n",
    "\n",
    "Para realizarmos essa análise, iremos fazer a média bimestral da Gasolina,da Gasolina Aditivada e do Etanol por estado, depois, plotaremos gráficos para a visualização desses dados e análise posterior."
   ]
  },
  {
   "cell_type": "code",
   "execution_count": null,
   "metadata": {},
   "outputs": [],
   "source": [
    "# Fazendo a média bimestral da Gasolina, Gasolina Aditivada e do Etanol.\n",
    "df_media_comb_estado = pd.concat([df_media_gas_adt_estado, df_media_gas_estado, df_media_etanol_estado], axis=1)\n",
    "df_media_comb_estado.columns = ['Gasolina Aditivada', 'Gasolina Comum', 'Etanol']\n",
    "\n",
    "print('TABELA COM A MÉDIA DO PREÇO DE COMBUSTÍVEIS POR ESTADO:\\n')\n",
    "df_media_comb_estado.style.highlight_max(color='#CF0909', axis=0).highlight_min(color='#0C9E02')"
   ]
  },
  {
   "cell_type": "markdown",
   "metadata": {},
   "source": [
    "De acordo com a tabela, podemos ver as médias de preços mais altos e baixos registrados no país:\n",
    "\n",
    "---\n",
    "\n",
    "<font color='E8100D'>**_MÉDIA MAIS ALTA_**</font>\n",
    "\n",
    "- **_Gasolina_**\n",
    "  - Estado do Acre (AC) com a média de **`R$6.211`**;\n",
    "\n",
    "- **_Gasolina Aditivada_**\n",
    "  - Estado do Piauí (PI) com a média de **`R$ 6.314`**;\n",
    "\n",
    "- **_Etanol_**\n",
    "  - Estado do Amapá (AP) com a média de **`R$ 5.896`**;\n",
    "\n",
    "<font color='2EE80D'>**_MÉDIA MAIS BAIXA_**</font>\n",
    "\n",
    "- **_Gasolina_**\n",
    "  - Estado do Amapá (AP) com a média de **`R$ 5.107`**;\n",
    "\n",
    "- **_Gasolina Aditivada_**\n",
    "  - Estado do Amapá (AP) com a média de **`R$ 5.433`**;\n",
    "\n",
    "- **_Etanol_**\n",
    "  - Estado do Mato Grosso com a média de **`R$ 3.805`**;\n",
    "\n",
    "---\n",
    "\n",
    "É notável a aparição do estado do Amapá, que possuí simultâneamente as médias de preços mais caras de Etanol e as médias de preços mais baratos de Gasolina e Gasolina Aditivada no país.\n",
    "\n",
    "Isso pode indicar uma relação entre a distância/local do foco de produção do Etanol no Brasil que está localizado no eixo Sudeste - Centro e no litoral Nordeste*\n",
    "\n",
    "Já a média de preços mais baixos da Gasolina comum e Aditivada não pode ser explicada pela distância/local do foco de produção/refinamento dos combustíveis, pois os mesmos estão focados em sua maioria na região Sudeste, o que supostamente o tornariam mais caros no estado. A relação causa e efeito dos preços mais baixos observados no Amapá dos combustíveis fosseis não é tão clara nos limites do escopo do projeto, sendo necessário uma análise mais profunda da questão que foje no objetivo da pesquisa em si.\n",
    "\n",
    "*<font size=2>Informações baseadas no [Mapa Dinâmico de Produtores de Etanol no Brasil](https://www.gov.br/anp/pt-br/centrais-de-conteudo/paineis-dinamicos-da-anp/paineis-e-mapa-dinamicos-de-produtores-de-combustiveis-e-derivados), um PowerBI disponível no site Gov.br do Ministério de Minas e Energia."
   ]
  },
  {
   "cell_type": "markdown",
   "metadata": {},
   "source": [
    "**_Gráfico de Barras_**"
   ]
  },
  {
   "cell_type": "code",
   "execution_count": null,
   "metadata": {},
   "outputs": [],
   "source": [
    "# Gasolina Aditivada\n",
    "figura = plt.figure(figsize=(25, 15))\n",
    "figura.suptitle('Preço Médio dos Combustíveis por Estado', fontsize=14, fontweight='bold')\n",
    "\n",
    "figura.add_subplot(131)\n",
    "df_media_comb_estado['Gasolina Aditivada'].plot(kind='bar', figsize=(25, 10), ylim=3.5, ylabel='Preço Médio dos Combustíveis')\n",
    "plt.ylabel('Preço Médio (R$)', fontsize=12, fontweight='bold')\n",
    "plt.xlabel('Estado - Sigla', fontsize=12, fontweight='bold')\n",
    "plt.legend()\n",
    "plt.title('Gasolina Aditivada', fontsize=12, fontweight='bold')\n",
    "\n",
    "# Gasolina Comum\n",
    "figura.add_subplot(132)\n",
    "df_media_comb_estado['Gasolina Comum'].plot(kind='bar', figsize=(25, 10), ylim=3.5, ylabel='Preço Médio dos Combustíveis', color='#FF5733')\n",
    "plt.ylabel('Preço Médio (R$)', fontsize=12, fontweight='bold')\n",
    "plt.xlabel('Estado - Sigla', fontsize=12, fontweight='bold')\n",
    "plt.legend()\n",
    "plt.title('Gasolina Comum', fontsize=12, fontweight='bold')\n",
    "\n",
    "# Etanol\n",
    "figura.add_subplot(133)\n",
    "df_media_comb_estado['Etanol'].plot(kind='bar', figsize=(25, 10), ylim=3.5, ylabel='Preço Médio dos Combustíveis', color='green')\n",
    "plt.ylabel('Preço Médio (R$)', fontsize=12, fontweight='bold')\n",
    "plt.xlabel('Estado - Sigla', fontsize=12, fontweight='bold')\n",
    "plt.legend()\n",
    "plt.title('Etanol', fontsize=12, fontweight='bold')\n",
    "\n",
    "plt.tight_layout()"
   ]
  },
  {
   "cell_type": "markdown",
   "metadata": {},
   "source": [
    "##### **<font color ='gold'><font size=4>4.5. Qual o município que possui o menor preço para a gasolina e para o etanol?</font>**"
   ]
  },
  {
   "cell_type": "code",
   "execution_count": null,
   "metadata": {},
   "outputs": [],
   "source": [
    "# Primeiro, criamos um dataframe novo agrupando os dados de Produto e Municipio\n",
    "produto_municipio = conjunto_dados.groupby([\"Produto\", \"Estado - Sigla\", 'Municipio'])"
   ]
  },
  {
   "cell_type": "code",
   "execution_count": null,
   "metadata": {},
   "outputs": [],
   "source": [
    "# Em seguida, extraimos apenas os valores mínimos, de acordo com a pergunta\n",
    "min_municipio = produto_municipio[['Valor de Venda']].min()\n",
    "\n",
    "# Criamos um dataframe contendo apenas os dados que retornavam as querys contendo Etanol e classificamos pelos valor de venda\n",
    "min_municipio_etanol = min_municipio.query(\"Produto == 'Etanol'\").sort_values(by='Valor de Venda').head(1)\n",
    "\n",
    "# Criamos um dataframe contendo apenas os dados que retornavam as querys contendo Gasolina e classificamos pelos valor de venda\n",
    "min_municipio_gas = min_municipio.query(\"Produto == 'Gasolina'\").sort_values(by='Valor de Venda').head(1)\n",
    "\n",
    "# Criamos um dataframe contendo apenas os dados que retornavam as querys contendo Gasolina Aditivada e classificamos pelos valor de venda\n",
    "min_municipio_gas_adi = min_municipio.query(\"Produto == 'Gasolina Aditivada'\").sort_values(by='Valor de Venda').head(1)\n",
    "\n",
    "# Concatenamos os três arquivos\n",
    "minimas = pd.concat([min_municipio_etanol, min_municipio_gas, min_municipio_gas_adi])\n",
    "minimas.columns = ['Menor Preço']\n",
    "\n",
    "print('MUNICÍPIOS COM O MENOR PREÇO DOS COMBUSTÍVEIS:')\n",
    "print()\n",
    "minimas"
   ]
  },
  {
   "cell_type": "markdown",
   "metadata": {},
   "source": [
    "Temos na tabela explícito que os três municípios com o valor mais baixo registrado dos combustíveis, todos estão no eixo Sul-Sudeste, em São Paulo e no Rio Grande do Sul mais especificamente. "
   ]
  },
  {
   "cell_type": "markdown",
   "metadata": {},
   "source": [
    "##### **<font color ='gold'><font size=4>4.6. Qual o município que possui o maior preço para a gasolina e para o etanol?</font>**"
   ]
  },
  {
   "cell_type": "code",
   "execution_count": null,
   "metadata": {},
   "outputs": [],
   "source": [
    "# extraimos apenas os valores máximos, de acordo com a pergunta\n",
    "max_municipio = produto_municipio[['Valor de Venda']].max()\n",
    "\n",
    "# Criamos um dataframe contendo apenas os dados que retornavam as querys contendo Etanol, classificamos pelos valor de venda e resetamos o index na primeira linha\n",
    "max_municipio_etanol = min_municipio.query(\"Produto == 'Etanol'\").sort_values(by='Valor de Venda', ascending=False).head(1)\n",
    "\n",
    "# Criamos um dataframe contendo apenas os dados que retornavam as querys contendo Gasolina, classificamos pelos valor de venda e resetamos o index na primeira linha\n",
    "max_municipio_gas = max_municipio.query(\"Produto == 'Gasolina'\").sort_values(by='Valor de Venda', ascending=False).head(1)\n",
    "\n",
    "# Criamos um dataframe contendo apenas os dados que retornavam as querys contendo Gasolina Aditivada, classificamos pelos valor de venda e resetamos o index na primeira linha\n",
    "max_municipio_gas_adi = max_municipio.query(\"Produto == 'Gasolina Aditivada'\").sort_values(by='Valor de Venda', ascending=False).head(1)\n",
    "\n",
    "# Concatenamos os três arquivos\n",
    "maximas = pd.concat([max_municipio_etanol, max_municipio_gas, max_municipio_gas_adi])\n",
    "maximas.columns = ['Maior Preço']\n",
    "\n",
    "print('MUNICÍPIOS COM O MAIOR PREÇO DOS COMBUSTÍVEIS:')\n",
    "print()\n",
    "maximas"
   ]
  },
  {
   "cell_type": "markdown",
   "metadata": {},
   "source": [
    "Percebemos que dos três municípios, dois deles estão no eixo Sul-Sudeste novamente, no Rio de Janeiro e no Rio Grande do Sul, tendo apenas o município de Gurupi fora disso, localizado na região Norte no estado de Tocantins."
   ]
  },
  {
   "cell_type": "markdown",
   "metadata": {},
   "source": [
    "##### **<font color ='gold'><font size=4>4.7. Qual a região que possui o maior valor médio da gasolina?</font>**\n",
    "\n",
    "Aqui iremos analisar tanto a Gasolina Comum quanto a Gasolina Aditivada."
   ]
  },
  {
   "cell_type": "markdown",
   "metadata": {},
   "source": [
    "- **_Gasolina_**"
   ]
  },
  {
   "cell_type": "code",
   "execution_count": null,
   "metadata": {},
   "outputs": [],
   "source": [
    "# Criando uma cópia do DF original onde temos apenas os registros da Gasolina\n",
    "df_gas = conjunto_dados.query('Produto == \"Gasolina\"').copy()\n",
    "\n",
    "# Ordenando o novo dataframe com o valor de venda da gasolina por região\n",
    "produtos_gas = df_gas.groupby(['Produto', 'Regiao - Sigla'])[['Valor de Venda']].mean()\n",
    "produtos_gas.columns = ['Maior Valor Médio']\n",
    "\n",
    "# Realizando Unstack do DataFrame\n",
    "novo = produtos_gas.unstack(level=0).copy()\n",
    "novo_gas = novo['Maior Valor Médio']['Gasolina']\n",
    "\n",
    "# Reorganizando o novo DataFrame\n",
    "produtos_gas = pd.DataFrame([novo_gas])\n",
    "produtos_gas = produtos_gas.T\n",
    "produtos_gas = produtos_gas.rename(columns={'Gasolina':'Maior Média'})\n",
    "\n",
    "print('MAIOR MÉDIA DE PREÇOS DA GASOLINA POR REGIÃO:')\n",
    "print()\n",
    "display(produtos_gas.style.highlight_max(color='#CF0909'))"
   ]
  },
  {
   "cell_type": "markdown",
   "metadata": {},
   "source": [
    "**_Para facilitar a visualização, vamos plotar um gráfico de barras com esses dados:_**"
   ]
  },
  {
   "cell_type": "code",
   "execution_count": null,
   "metadata": {},
   "outputs": [],
   "source": [
    "produtos_gas.unstack(level=0).plot(kind='bar', figsize=(10, 5), layout=(2, 3), ylim=5.0, color=[cor_centro, cor_norte, cor_nordeste, cor_sul, cor_sudeste])\n",
    "\n",
    "for index, values in enumerate(produtos_gas['Maior Média'].values):\n",
    "    plt.text(index, values, str(f'R$ {values:.3f}'), horizontalalignment='center', verticalalignment='bottom', fontdict={'fontweight':500, 'size':12})\n",
    "\n",
    "plt.ylabel('Preço Médio (R$)', fontsize=12, fontweight='bold')\n",
    "plt.xlabel('Estado - Sigla', fontsize=12, fontweight='bold')\n",
    "plt.xticks(rotation = 360)\n",
    "plt.title('Valor Médio de Gasolina por Região', fontsize=12, fontweight='bold')\n",
    "plt.show()"
   ]
  },
  {
   "cell_type": "markdown",
   "metadata": {},
   "source": [
    "Podemos reparar novamente a prevalência das regiões Norte e Nordeste nos preços mais altos dos combustíveis, e também da região Centro-Oeste como tendo os preços mais baixos."
   ]
  },
  {
   "cell_type": "markdown",
   "metadata": {},
   "source": [
    "- **_Gasolina Aditivada_**"
   ]
  },
  {
   "cell_type": "code",
   "execution_count": null,
   "metadata": {},
   "outputs": [],
   "source": [
    "# Criando uma cópia do DF original onde temos apenas os registros da Gasolina Aditivada\n",
    "df_gas_adi = conjunto_dados.query('Produto == \"Gasolina Aditivada\"').copy()\n",
    "\n",
    "# Ordenando o novo dataframe com o valor de venda da gasolina aditivada por região\n",
    "produtos_gas_adi = df_gas_adi.groupby(['Produto', 'Regiao - Sigla'])[['Valor de Venda']].mean()\n",
    "produtos_gas_adi.columns = ['Maior Valor Médio']\n",
    "\n",
    "# Realizando Unstack do DataFrame\n",
    "novo = produtos_gas_adi.unstack(level=0).copy()\n",
    "novo_gas_adi = novo['Maior Valor Médio']['Gasolina Aditivada']\n",
    "\n",
    "# Reorganizando o novo DataFrame\n",
    "produtos_gas_adi = pd.DataFrame([novo_gas_adi])\n",
    "produtos_gas_adi = produtos_gas_adi.T\n",
    "produtos_gas_adi = produtos_gas_adi.rename(columns={'Gasolina Aditivada':'Maior Média'})\n",
    "\n",
    "print('MAIOR MÉDIA DE PREÇOS DA GASOLINA ADITIVADA POR REGIÃO:')\n",
    "print()\n",
    "display(produtos_gas_adi.style.highlight_max(color='#CF0909'))"
   ]
  },
  {
   "cell_type": "code",
   "execution_count": null,
   "metadata": {},
   "outputs": [],
   "source": [
    "produtos_gas_adi.unstack(level=0).plot(kind='bar', figsize=(10, 5), layout=(2, 3), ylim=5.0, color=[cor_centro, cor_norte, cor_nordeste, cor_sul, cor_sudeste])\n",
    "\n",
    "for index, values in enumerate(produtos_gas_adi['Maior Média'].values):\n",
    "    plt.text(index, values, str(f'R$ {values:.3f}'), horizontalalignment='center', verticalalignment='bottom', fontdict={'fontweight':500, 'size':12})\n",
    "    \n",
    "plt.ylabel('Preço Médio (R$)', fontsize=12, fontweight='bold')\n",
    "plt.xlabel('Estado - Sigla', fontsize=12, fontweight='bold')\n",
    "plt.xticks(rotation=360)\n",
    "plt.title('Valor Médio de Gasolina Aditivada por Região', fontsize=12, fontweight='bold')\n",
    "plt.show()"
   ]
  },
  {
   "cell_type": "markdown",
   "metadata": {},
   "source": [
    "Podemos observar que o gráfico e os dados em relação a Gasolina Comum e a Gasolina Aditivada são muito semelhantes, tendo as regiões Norte e Nordeste com os valores mais altos e a região Centro-Oeste com o valor mais baixo.\n",
    "\n",
    "Isso indica, além da já aparente relação entre região-preço, que os preços da Gasolina e da Gasolina Aditivada estão correlacionados positivamente, onde quando um tem uma tendência de variação, o outro tende a ter a mesma."
   ]
  },
  {
   "cell_type": "markdown",
   "metadata": {},
   "source": [
    "##### **<font color ='gold'><font size=4>4.8. Qual a região que possui o menor valor médio do etanol?</font>**"
   ]
  },
  {
   "cell_type": "code",
   "execution_count": null,
   "metadata": {},
   "outputs": [],
   "source": [
    "# Criando uma cópia do DF original onde temos apenas os registros do Etanol\n",
    "df_etanol = conjunto_dados.query('Produto == \"Etanol\"').copy()\n",
    "\n",
    "# Ordenando o novo dataframe com o valor de venda do etanol por região\n",
    "produtos_etanol = df_etanol.groupby(['Produto', 'Regiao - Sigla'])[['Valor de Venda']].mean()\n",
    "produtos_etanol.columns = ['Menor Valor Médio']\n",
    "\n",
    "# Realizando Unstack do DataFrame\n",
    "novo = produtos_etanol.unstack(level=0).copy()\n",
    "novo_et = novo['Menor Valor Médio']['Etanol']\n",
    "\n",
    "# Reorganizando o novo DataFrame\n",
    "produtos_etanol = pd.DataFrame([novo_et])\n",
    "produtos_etanol = produtos_etanol.T\n",
    "produtos_etanol = produtos_etanol.rename(columns={'Etanol':'Menor Média'}) \n",
    "\n",
    "print('MENORES PREÇOS MÉDIOS DO ETANOL POR REGIÃO:')\n",
    "print()\n",
    "display(produtos_etanol.style.highlight_min(color='#0C9E02'))"
   ]
  },
  {
   "cell_type": "code",
   "execution_count": null,
   "metadata": {},
   "outputs": [],
   "source": [
    "produtos_etanol.unstack(level=0).plot(kind='bar', figsize=(10, 5), layout=(2, 3), ylim=3.5, color=[cor_centro, cor_norte, cor_nordeste, cor_sul, cor_sudeste])\n",
    "\n",
    "for index, values in enumerate(produtos_etanol['Menor Média'].values):\n",
    "    plt.text(index, values, str(f'R$ {values:.3f}'), horizontalalignment='center', verticalalignment='bottom', fontdict={'fontweight':500, 'size':12})\n",
    "    \n",
    "plt.ylabel('Preço Médio (R$)', fontsize=12, fontweight='bold')\n",
    "plt.xlabel('Estado - Sigla', fontsize=12, fontweight='bold')\n",
    "plt.xticks(rotation=360)\n",
    "plt.title('Menores Valores Médios de Etanol por Região', fontsize=12, fontweight='bold')\n",
    "plt.show()"
   ]
  },
  {
   "cell_type": "markdown",
   "metadata": {},
   "source": [
    "A tendência reparada nos gráficos e dados da Gasolina e Gasolina Aditivada seguem aparente em relação ao Etanol. Regiões Norte e Nordeste com valores mais altos, Centro-Oeste com o valor mais baixo."
   ]
  },
  {
   "cell_type": "markdown",
   "metadata": {},
   "source": [
    "##### **<font color ='gold'><font size=4>4.9. Há alguma correlação entre o valor do combustível (gasolina e etanol) e a região onde ele é vendido?</font>**\n",
    "\n",
    "Nessa análise, buscaremos compreender a relação entre os preços dos combustíveis e a região onde ele é vendido.\n",
    "\n",
    "Com base nas análises feitas até aqui, temos a hipótese de que sim, existe uma tendência de correlação entre eles, aparente pelas inúmeras vezes em que as regiões Norte e Nordeste apareceram como tendo os preços mais caros e a região Centro-Oeste como tendo os preços mais baixos."
   ]
  },
  {
   "cell_type": "markdown",
   "metadata": {},
   "source": [
    "___________________\n",
    "Interpretação 1"
   ]
  },
  {
   "cell_type": "code",
   "execution_count": null,
   "metadata": {
    "scrolled": true
   },
   "outputs": [],
   "source": [
    "# Criando uma cópia do DF original onde temos os registros das médias dos valores dos combustíveis por região\n",
    "media_combs_regiao = conjunto_dados.groupby(['Regiao - Sigla','Produto'])[['Valor de Venda']].mean()\n",
    "media_combs_regiao.columns = ['Preço Médio']\n",
    "\n",
    "# Realizando o Unstack do DataFrame\n",
    "novo = media_combs_regiao.unstack().copy()\n",
    "novo_etanol = novo['Preço Médio']['Etanol']\n",
    "novo_gas = novo['Preço Médio']['Gasolina']\n",
    "novo_gasadt = novo['Preço Médio']['Gasolina Aditivada']\n",
    "\n",
    "# Reorganizando o novo DataFrame\n",
    "novo_df = pd.DataFrame(data=[novo_etanol, novo_gas, novo_gasadt])\n",
    "nova_media_combs_regiao = novo_df.swapaxes('index', 'columns')\n",
    "\n",
    "print('MEDIA DOS PREÇOS DOS COMBUSTÍVEIS POR REGIÃO:')\n",
    "print()\n",
    "display(nova_media_combs_regiao)"
   ]
  },
  {
   "cell_type": "code",
   "execution_count": null,
   "metadata": {},
   "outputs": [],
   "source": [
    "ax = nova_media_combs_regiao.plot()\n",
    "nova_media_combs_regiao.plot(marker='o', linestyle='none', color='g', ax=ax, figsize=(15, 10));\n"
   ]
  },
  {
   "cell_type": "markdown",
   "metadata": {},
   "source": [
    "Com o gráfico podemos visualizar que a tendência de relação entre combustível-região é aparente, já que:\n",
    "\n",
    "- **_ETANOL_**\n",
    "  - O eixo Sudeste-Centro possui a média de preços mais baixas em relação ao Etanol. Isso pode ser indício da maior taxa de produção e exportação do produto no ano de 2022, [de acordo com análise realizada em Abril deste ano](https://diariodocomercio.com.br/economia/centro-sul-elevara-producao-de-etanol/).\n",
    "\n",
    "  - Com o foco de produção do bio-combustível localizado nesta região, o fato dos preços serem consideravelmente mais baixos aqui do que em outras áreas do Brasil é uma proposição a ser considerada.\n",
    "\n",
    "- **_GASOLINA E GASOLINA ADITIVADA_**\n",
    "  - O primeiro fator a ser notado é a relação explícita no gráfico entre o preço dos dois produtos, tendo que suas linhas quase que duplicadas em suas semelhanças, sendo apenas notável a diferença nos preços entre as duas nas variações entre a região Sul e Sudeste.\n",
    "\n",
    "Com essas análises e com o gráfico como um todo, podemos perceber que existe uma correlação aparente entre as regiões e os preços dos combustíveis, sendo essa correlação mais notável nos preços do Etanol, porém seus padrões (Norte e Nordeste mais caro, Centro-Oeste mais barato) seguem verdadeiras para Gasolina e Gasolina Aditivada."
   ]
  },
  {
   "cell_type": "markdown",
   "metadata": {},
   "source": [
    "___________________\n",
    "Interpretação 2"
   ]
  },
  {
   "cell_type": "code",
   "execution_count": null,
   "metadata": {},
   "outputs": [],
   "source": [
    "dataEtanol = {\n",
    "    'Brasil':etanol['Valor de Venda'], \n",
    "    'Nordeste':nordesteEta['Valor de Venda'], \n",
    "    'Sudeste':sudesteEta['Valor de Venda'], \n",
    "    'Norte':norteEta['Valor de Venda'], \n",
    "    'CentroOeste':centroOesteEta['Valor de Venda'], \n",
    "    'Sul':sulEta['Valor de Venda']}\n",
    "\n",
    "fig, ax = plt.subplots()\n",
    "ax.boxplot(dataEtanol.values())\n",
    "ax.set_xticklabels(dataEtanol.keys())\n",
    "plt.title('Etanol por Estado');"
   ]
  },
  {
   "cell_type": "markdown",
   "metadata": {},
   "source": [
    "Com o gráfico acima, podemos perceber:\n",
    "> O Sudeste tem uma quantidade imensa de valores, incluindo valores que o gráfico considera outliers (decidimos manter pela quantidade de estados e distribuição logística do combustível).\n",
    ">> Apesar de apresentar muitos outliers, sua mediana é uma das menores, ficando abaixo da média nacional.\n",
    "\n",
    "> A região sul é uma região que conta com preços médios, entre as outras regiões. Porém, ela também apresenta vários dos outliers mais altos do Brasil.\n",
    "\n",
    "> A região Norte e a Nordeste apresentam preços muito parecidos, porém os menores valores do N são mais caros que do NE, e os outliers no N são mais altos.\n",
    ">> Isso pode ter relação com a distribuição do combustível e infraestrutura nas regiões, já que o Norte é uma região com muitos pontos isolados, de difícil acesso, o que pode refletir no valor dos combustíveis."
   ]
  },
  {
   "cell_type": "code",
   "execution_count": null,
   "metadata": {},
   "outputs": [],
   "source": [
    "#from IPython.display import Image\n",
    "Image(url='https://i.imgur.com/S2Ji9p4.png', height=813, width=793)"
   ]
  },
  {
   "cell_type": "markdown",
   "metadata": {},
   "source": [
    "Comparando com o [mapa interativo disponibilizado pela ANP]('https://app.powerbi.com/view?r=eyJrIjoiZWU1MTc0ZjYtMjVhYi00YTEwLWJhODMtODQ0MDdhNmJiMWYwIiwidCI6IjQ0OTlmNGZmLTI0YTYtNGI0Mi1iN2VmLTEyNGFmY2FkYzkxMyJ9&pageName=ReportSection8aa0cee5b2b8a941e5e0'), onde temos a matéria prima e produção total por região em Março e Junho:\n",
    "> Observamos que as regiões que mais produzem a matéria prima (dependendo da sazonalidade, alternam o Sudeste e Centro-Oeste) são as maiores produtoras, e consequentementeas que tem o valor mais barato."
   ]
  },
  {
   "cell_type": "markdown",
   "metadata": {},
   "source": [
    "##### **<font color ='gold'><font size=4>4.10. Há alguma correlação entre o valor do combustível (gasolina e etanol) e a bandeira que vende ele?</font>**"
   ]
  },
  {
   "cell_type": "markdown",
   "metadata": {},
   "source": [
    "**_Primeiramente, precisamos entender o que a Bandeira representa._**\n",
    "\n",
    "- A Bandeira no caso é a fornecedora de combustível. Quando um posto de gasolina assume um vínculo com uma Bandeira/marca ele não só deverá revender apenas combustíveis daquela marca, mas também terá que cumprir com os valores de revenda, identidade visual, leiautes e metas estabelecidos pela Bandeira;\n",
    "\n",
    "- Entretanto, existem também os postos de bandeira branca ou postos sem bandeira, que não assumem um relacionamento com uma marca específica, dando mais liberdade para seus negociantes em suas tratativas, que podem encontrar valores mais baixos;\n",
    "\n",
    "- Segundo os dados da **_Agência Nacional de Petróleo e Gás Natural e Biocombustíveis (ANP)_** no período de junho/2022 a julho/2022 47,3% dos postos são de bandeira branca, outros 43,2% são de grandes redes (BR, Ipiranga, Raízen e ALE) e apenas 11,3% pertencem a pequenas redes.\n",
    "\n",
    "*<font size=2>Para mais informações sobre o ranking de bandeiras no Brasil, [clique aqui](https://blog.clubpetro.com/ranking-de-bandeiras-no-brasil-em-junho-de-2022/)."
   ]
  },
  {
   "cell_type": "markdown",
   "metadata": {},
   "source": [
    "**_Com esse entendendimento prévio acerca da divisão das bandeiras, faremos duas análises:_**\n",
    "\n",
    "- A primeira comparando o valor médio dos combustíveis dos postos sem bandeira (Bandeira Branca);\n",
    "\n",
    "- O mesmo processo para os os postos bandeirados onde a diferença de valores pode chegar a 5%, tendo todos os combustíveis de postos bandeirados com valores maiores."
   ]
  },
  {
   "cell_type": "code",
   "execution_count": null,
   "metadata": {},
   "outputs": [],
   "source": [
    "# Criando um DataFrame para os dados e valores médios de Bandeira Branca\n",
    "media_band_branca = conjunto_dados.loc[(conjunto_dados['Bandeira'] == 'Branca'), ['Bandeira', 'Produto', 'Valor de Venda']].groupby('Produto').mean()\n",
    "media_band_branca.columns = ['Bandeira Branca']\n",
    "media_band_branca\n",
    "\n",
    "# Criando um DataFrame para os dados e valores médios de redes Bandeiradas\n",
    "bandeirados = conjunto_dados.query('Bandeira != \"Branca\"')\n",
    "media_bandeirados = bandeirados[['Bandeira', 'Produto', 'Valor de Venda']].groupby('Produto').mean()\n",
    "media_bandeirados.columns = ['Bandeirados']\n",
    "media_bandeirados\n",
    "\n",
    "# Combinando os dois DataFrames \n",
    "media_combs_band = pd.merge(media_band_branca, media_bandeirados, how='inner', on='Produto')\n",
    "media_combs_band = media_combs_band.T\n",
    "display(media_combs_band)\n",
    "\n",
    "media_combs_band.reset_index(inplace=True)\n"
   ]
  },
  {
   "cell_type": "markdown",
   "metadata": {},
   "source": [
    "**_Plotando gráfico de barras para melhor visualização:_**"
   ]
  },
  {
   "cell_type": "code",
   "execution_count": null,
   "metadata": {},
   "outputs": [],
   "source": [
    "ax = media_combs_band.plot(x='index', y=['Etanol', 'Gasolina', 'Gasolina Aditivada'], kind='bar', figsize=(10, 5), ylim=4.0, color=['green', 'red', 'blue'])\n",
    "\n",
    "ax.legend(loc='upper center', fancybox=True, shadow=True, ncol=1)\n",
    "plt.xticks(rotation=360)\n",
    "plt.xlabel('Postos', fontweight='bold')\n",
    "plt.ylabel('Preço Médio (R$)', fontsize=12, fontweight='bold')\n",
    "plt.title('Média de Preços dos Combustíveis por Tipo de Posto', fontsize=12, fontweight='bold')\n",
    "plt.show()"
   ]
  },
  {
   "cell_type": "markdown",
   "metadata": {},
   "source": [
    "Já na segunda análise, feita entre os postos com bandeiras de **grandes e pequenas redes**, a diferença no valor médio do etanol, por exemplo, pode chegar a ser 8% mais caro para consumidores das pequenas redes, no entanto, a gasolina aditivada quase não apresenta variações."
   ]
  },
  {
   "cell_type": "code",
   "execution_count": null,
   "metadata": {},
   "outputs": [],
   "source": [
    "# Criando um DataFrame para os dados e valores médios de Bandeiras Grandes\n",
    "band_grandes = conjunto_dados.query('Bandeira == \"Raizen\" or Bandeira == \"Ipiranga\" or Bandeira == \"Alesat\" or Bandeira == \"Vibra Energia\"')\n",
    "media_band_grandes = band_grandes[['Bandeira', 'Produto', 'Valor de Venda']].groupby('Produto').mean()\n",
    "media_band_grandes.columns = ['Grandes Redes']\n",
    "media_band_grandes\n",
    "\n",
    "# Criando um DataFrame para os dados e valores médios de Bandeiras Pequenas\n",
    "outras_band = conjunto_dados.query('Bandeira != \"Raizen\" & Bandeira != \"Ipiranga\" & Bandeira != \"Alesat\" & Bandeira != \"Vibra Energia\" & Bandeira != \"Branca\"')\n",
    "media_outras_band = outras_band[['Bandeira', 'Produto', 'Valor de Venda']].groupby('Produto').mean()\n",
    "media_outras_band.columns = ['Pequenas Redes']\n",
    "media_outras_band\n",
    "\n",
    "# Combinando os dois DataFrames \n",
    "media_combs_band2 = pd.merge(media_outras_band, media_band_grandes, how='inner', on='Produto')\n",
    "media_combs_band2 = media_combs_band2.T\n",
    "display(media_combs_band2)\n",
    "media_combs_band2.reset_index(inplace=True)\n"
   ]
  },
  {
   "cell_type": "code",
   "execution_count": null,
   "metadata": {},
   "outputs": [],
   "source": [
    "ax = media_combs_band2.plot(x='index', y=['Etanol', 'Gasolina', 'Gasolina Aditivada'], kind='bar', figsize=(10, 5), ylim=4.0, color=['green', 'red', 'blue'])\n",
    "\n",
    "ax.legend(loc='upper center', fancybox=True, shadow=True, ncol=1)\n",
    "plt.xticks(rotation=360)\n",
    "plt.xlabel('Postos', fontweight='bold')\n",
    "plt.ylabel('Preço Médio (R$)', fontsize=12, fontweight='bold')\n",
    "plt.title('Média dos combustíveis de postos de Pequenas Redes e Grandes Redes', fontsize=12, fontweight='bold')\n",
    "plt.show()"
   ]
  },
  {
   "cell_type": "markdown",
   "metadata": {},
   "source": [
    "## **<font color ='gold'><font size=4>5. Análises Extras</font>**\n",
    "\n",
    "Durante a exploração desse DataSet, possuíamos algumas outras questões que achamos interessantes de serem abordadas para termos mais informações ainda, com isso em mente, chegamos nas seguintes proposições de análise:"
   ]
  },
  {
   "cell_type": "markdown",
   "metadata": {},
   "source": [
    "##### **<font color ='gold'><font size=4>5.1. Qual dia da semana possui o valor dos combustíveis mais caros?</font>**"
   ]
  },
  {
   "cell_type": "markdown",
   "metadata": {},
   "source": [
    "- **_Inicialmente fizemos um dataframe agrupando a média do valor de venda por dias da semana. Foi verificado que os dados estão contidos em dias úteis._**"
   ]
  },
  {
   "cell_type": "code",
   "execution_count": null,
   "metadata": {},
   "outputs": [],
   "source": [
    "venda_semana = conjunto_dados.groupby(['Dias da Semana'])[['Valor de Venda']].mean()\n",
    "\n",
    "# Classificamos pelo Valor de venda para o maior número\n",
    "venda_semana.sort_values('Valor de Venda', inplace=True, ascending=False)\n",
    "venda_semana = venda_semana.rename(columns={'Valor de Venda':'Média'})\n",
    "\n",
    "print('MÉDIA DOS PREÇOS DOS COMBUSTÍVEIS POR DIA DA SEMANA:')\n",
    "print()\n",
    "display(venda_semana.style.background_gradient(cmap='Reds'))"
   ]
  },
  {
   "cell_type": "code",
   "execution_count": null,
   "metadata": {},
   "outputs": [],
   "source": [
    "venda_semana.unstack(level=0).plot(kind='bar', figsize=(10, 5), layout=(2, 3), ylim=3.5, color=[cor_centro, cor_norte, cor_nordeste, cor_sul, cor_sudeste])\n",
    "\n",
    "for index, values in enumerate(venda_semana['Média'].values):\n",
    "    plt.text(index, values, str(f'R$ {values:.3f}'), horizontalalignment='center', verticalalignment='bottom', fontdict={'fontweight':500, 'size':12})\n",
    "    \n",
    "plt.ylabel('Preço Médio (R$)', fontsize=12, fontweight='bold')\n",
    "plt.xlabel('Dia da Semana', fontsize=12, fontweight='bold')\n",
    "plt.xticks(rotation=360)\n",
    "plt.title('Média de Valores dos Combustíves por Dia da Semana', fontsize=12, fontweight='bold')\n",
    "plt.show()"
   ]
  },
  {
   "cell_type": "markdown",
   "metadata": {},
   "source": [
    "De acordo com os dados, o dia da semana onde a média dos preços do combustíveis tendem a ser mais caros é na Sexta-Feira, sendo o mais barato o dia anterior, Quinta-Feira.\n",
    "\n",
    "- **_Porém, achamos interessante mostrar também esses dados com os três combustíveis separados por dia da semana:_**"
   ]
  },
  {
   "cell_type": "code",
   "execution_count": null,
   "metadata": {},
   "outputs": [],
   "source": [
    "# Para os combustiveis separadamente\n",
    "venda_produto_semana = conjunto_dados.groupby(['Dias da Semana', 'Produto'])[['Valor de Venda']].mean()\n",
    "venda_produto_semana.columns = ['Média']\n",
    "\n",
    "#vendaprodutosemana.sort_values('Média',inplace=True,ascending=False)\n",
    "print('MÉDIA DOS PREÇOS DOS COMBUSTÍVEIS POR DIA DA SEMANA:')\n",
    "print()\n",
    "display(venda_produto_semana.style.background_gradient(cmap='Reds'))\n",
    "\n",
    "# Gasolina aditivada na sexta é o valor mais caro."
   ]
  },
  {
   "cell_type": "code",
   "execution_count": null,
   "metadata": {},
   "outputs": [],
   "source": [
    "venda_produto_semana.T.unstack(level=0).plot(kind='barh', figsize=(10, 7), layout=(2, 3), ylim=3.5, color=[cor_norte, cor_sul, cor_nordeste])\n",
    "\n",
    "for index, value in enumerate(venda_produto_semana['Média']):\n",
    "    plt.text(value, index, str(f'R$ {value:.3f}'), fontdict={'fontweight':400, 'size':11})\n",
    "    \n",
    "plt.ylabel('Dias da Semana, Combustível', fontsize=12, fontweight='bold')\n",
    "plt.xlabel('Preço Médio (R$)', fontsize=12, fontweight='bold')\n",
    "plt.xticks(rotation=90)\n",
    "plt.title('Média de Valores dos Combustíves por Dia da Semana', fontsize=12, fontweight='bold')\n",
    "plt.show()"
   ]
  },
  {
   "cell_type": "markdown",
   "metadata": {},
   "source": [
    "[texto do link](https://) Com o gráfico, temos as seguintes informações acerca dos produtos:\n",
    "\n",
    " <font color='2EE80D'>**_DIA MAIS BARATO_**</font>\n",
    "  - **_Etanol_**\n",
    "      - Quinta-Feira no valor médio de **`R$ 4.445`**;\n",
    "    \n",
    "  - **_Gasolina_**\n",
    "      - Quinta-Feira no valor médio de **`R$ 5.644`**;\n",
    "\n",
    "  - **_Gasolina Aditivada_**\n",
    "      - Quinta-Feira no valor médio de **`R$ 5.808`**;\n",
    "\n",
    "<font color='E8100D'>**_DIA MAIS CARO_**</font>\n",
    "  - **_Etanol_**\n",
    "    - Terça-Feira no valor médio de **`R$ 4.567`**;\n",
    "  \n",
    "  - **_Gasolina_**\n",
    "    - Sexta-Feira no valor médio de **`R$ 5.796`**;\n",
    "\n",
    "  - **_Gasolina Aditivda_**\n",
    "    - Sexta-Feira no valor médio de **`R$ 5.940`**;\n"
   ]
  },
  {
   "cell_type": "markdown",
   "metadata": {},
   "source": [
    "##### **<font color ='gold'><font size=4>5.2. Qual o Estado que possui o maior valor médio dos combustíveis?</font>**\n",
    "\n",
    "Para essa questão, iremos fazer um mapa coroplético buscando ter uma visão final de todos os dados e informações que vimos até aqui, de forma a ter uma apresentação diferenciada dos resultados das análises."
   ]
  },
  {
   "cell_type": "markdown",
   "metadata": {},
   "source": [
    "- **_Nessa variável, o usuário pode inserir qualquer um dos três produtos, que vai determinar em base em quais valores o mapa sera gerado;_**"
   ]
  },
  {
   "cell_type": "code",
   "execution_count": null,
   "metadata": {},
   "outputs": [],
   "source": [
    "combustivel = 'Gasolina'  # Teste com: 'Gasolina', 'Etanol', 'Gasolina Aditivada'"
   ]
  },
  {
   "cell_type": "markdown",
   "metadata": {},
   "source": [
    "- **_Agora, iremos criar um novo DataFrame que contém o Município, o Estado e a média dos preços do combustível selecionado na variável acima;_**"
   ]
  },
  {
   "cell_type": "code",
   "execution_count": null,
   "metadata": {},
   "outputs": [],
   "source": [
    "todos_municipios_geo = conjunto_dados[conjunto_dados['Produto'] == combustivel].groupby(['Municipio', 'Estado - Sigla'])[['Valor de Venda']].mean()\n",
    "todos_municipios_geo = todos_municipios_geo.reset_index().round(3)"
   ]
  },
  {
   "cell_type": "markdown",
   "metadata": {},
   "source": [
    "- **_Criando uma lista com todas as capitais de cada estado, isso foi feito para podermos pegar a geo-localização delas;_**"
   ]
  },
  {
   "cell_type": "code",
   "execution_count": null,
   "metadata": {},
   "outputs": [],
   "source": [
    "capitais = ['Porto Velho', 'Manaus', 'Rio Branco', 'Campo Grande', 'Macapa', 'Brasilia', 'Boa Vista', 'Cuiaba', 'Palmas', \n",
    "            'Sao Paulo', 'Teresina', 'Rio De Janeiro', 'Belem', 'Goiania', 'Salvador', 'Florianopolis', 'Sao Luis', 'Maceio',\n",
    "            'Porto Alegre', 'Curitiba', 'Belo Horizonte', 'Fortaleza', 'Recife', 'Joao Pessoa', 'Aracaju', 'Natal', 'Vitoria']\n",
    "\n",
    "# Iterando sobre as linhas do DataFrame e coletando as informações de cada registro em cada capital\n",
    "capitais_dados = []\n",
    "for index, dados in todos_municipios_geo.iterrows():\n",
    "     if dados[0].title() in capitais:\n",
    "        capitais_dados.append(dados)\n",
    "        \n",
    "# Passando essa nova lista para um DataFrame       \n",
    "capitais_dados = pd.DataFrame(capitais_dados)\n",
    "todos_municipios_geo = capitais_dados.round(3)\n",
    "\n",
    "tabela = todos_municipios_geo"
   ]
  },
  {
   "cell_type": "markdown",
   "metadata": {},
   "source": [
    "- **_Utilizando a biblioteca Folium, vamos dar início a criação do nosso mapa;_**"
   ]
  },
  {
   "cell_type": "code",
   "execution_count": null,
   "metadata": {},
   "outputs": [],
   "source": [
    "brasil = folium.Map(\n",
    "    location=[-16.1237611, -59.9219642],    # Coordenadas retiradas do Google Maps\n",
    "    zoom_start=4   # Define o nível de zoom do mapa no carregamento, o default é 10\n",
    ")"
   ]
  },
  {
   "cell_type": "markdown",
   "metadata": {},
   "source": [
    "- **_Coletando as coordenadas geográficas (Latitude e Longitude) por nome de cidade utilizando a biblioteca GeoPy;_**"
   ]
  },
  {
   "cell_type": "code",
   "execution_count": null,
   "metadata": {},
   "outputs": [],
   "source": [
    "saida = []\n",
    "for index, dados in tabela.iterrows():\n",
    "    loc = Nominatim(user_agent=\"GetLoc\") \n",
    "    getLoc = loc.geocode(f'{dados[0]} {dados[1]} Brasil')\n",
    "    location = getLoc\n",
    "    saida.append([[location.latitude, location.longitude], f'{dados[0]}:{round(dados[2],2)}'])"
   ]
  },
  {
   "cell_type": "markdown",
   "metadata": {},
   "source": [
    "- **_Com base nessas coordenadas, podemos inserir marcadores no mapa do Brasil;_**"
   ]
  },
  {
   "cell_type": "code",
   "execution_count": null,
   "metadata": {},
   "outputs": [],
   "source": [
    "mapa = brasil\n",
    "tabela = tabela.rename(columns={'Estado - Sigla': 'UF'})\n",
    "url = (\n",
    "    \"https://raw.githubusercontent.com/luizpedone/municipal-brazilian-geodata/master/data\" # Repositório que contém as coordenadas\n",
    ")\n",
    "\n",
    "# Definindo características do mapa\n",
    "state_geo = f\"{url}/Brasil.json\"\n",
    "folium.Choropleth(\n",
    "    geo_data=state_geo,\n",
    "    name=\"choropleth\",\n",
    "    data=tabela,\n",
    "    columns=['UF', 'Valor de Venda'],\n",
    "    key_on=\"feature.properties.UF\",\n",
    "    fill_color=\"YlOrRd\",\n",
    "    fill_opacity=0.7,\n",
    "    line_opacity=0.2,\n",
    "    legend_name=\"Média\"\n",
    ").add_to(mapa)\n",
    "\n",
    "folium.LayerControl().add_to(mapa)\n",
    "\n",
    "mapa"
   ]
  }
 ],
 "metadata": {
  "kernelspec": {
   "display_name": "Python 3 (ipykernel)",
   "language": "python",
   "name": "python3"
  },
  "language_info": {
   "codemirror_mode": {
    "name": "ipython",
    "version": 3
   },
   "file_extension": ".py",
   "mimetype": "text/x-python",
   "name": "python",
   "nbconvert_exporter": "python",
   "pygments_lexer": "ipython3",
   "version": "3.9.12"
  },
  "vscode": {
   "interpreter": {
    "hash": "11938c6bc6919ae2720b4d5011047913343b08a43b18698fd82dedb0d4417594"
   }
  }
 },
 "nbformat": 4,
 "nbformat_minor": 2
}
