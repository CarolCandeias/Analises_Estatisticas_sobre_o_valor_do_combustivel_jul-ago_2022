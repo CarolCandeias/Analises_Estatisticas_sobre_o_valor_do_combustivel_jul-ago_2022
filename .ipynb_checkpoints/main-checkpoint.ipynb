{
 "cells": [
  {
   "cell_type": "code",
   "execution_count": 2,
   "metadata": {},
   "outputs": [],
   "source": [
    "import pandas as pd\n",
    "import numpy as np\n",
    "import matplotlib\n",
    "import matplotlib.pyplot as plt\n",
    "import seaborn as sns\n",
    "from datetime import datetime"
   ]
  },
  {
   "cell_type": "markdown",
   "metadata": {},
   "source": [
    "# Introdução"
   ]
  },
  {
   "cell_type": "code",
   "execution_count": 3,
   "metadata": {},
   "outputs": [
    {
     "data": {
      "text/html": [
       "<div>\n",
       "<style scoped>\n",
       "    .dataframe tbody tr th:only-of-type {\n",
       "        vertical-align: middle;\n",
       "    }\n",
       "\n",
       "    .dataframe tbody tr th {\n",
       "        vertical-align: top;\n",
       "    }\n",
       "\n",
       "    .dataframe thead th {\n",
       "        text-align: right;\n",
       "    }\n",
       "</style>\n",
       "<table border=\"1\" class=\"dataframe\">\n",
       "  <thead>\n",
       "    <tr style=\"text-align: right;\">\n",
       "      <th></th>\n",
       "      <th>Regiao - Sigla</th>\n",
       "      <th>Estado - Sigla</th>\n",
       "      <th>Municipio</th>\n",
       "      <th>Revenda</th>\n",
       "      <th>CNPJ da Revenda</th>\n",
       "      <th>Nome da Rua</th>\n",
       "      <th>Numero Rua</th>\n",
       "      <th>Complemento</th>\n",
       "      <th>Bairro</th>\n",
       "      <th>Cep</th>\n",
       "      <th>Produto</th>\n",
       "      <th>Data da Coleta</th>\n",
       "      <th>Valor de Venda</th>\n",
       "      <th>Valor de Compra</th>\n",
       "      <th>Unidade de Medida</th>\n",
       "      <th>Bandeira</th>\n",
       "    </tr>\n",
       "  </thead>\n",
       "  <tbody>\n",
       "    <tr>\n",
       "      <th>0</th>\n",
       "      <td>SE</td>\n",
       "      <td>ES</td>\n",
       "      <td>COLATINA</td>\n",
       "      <td>SAO FRANCISCO DE ASSIS COMERCIO DE COMBUSTIVEI...</td>\n",
       "      <td>08.519.545/0001-10</td>\n",
       "      <td>PRACA FIDELIS FERRARI</td>\n",
       "      <td>35</td>\n",
       "      <td>NaN</td>\n",
       "      <td>LACE</td>\n",
       "      <td>29703-030</td>\n",
       "      <td>GASOLINA ADITIVADA</td>\n",
       "      <td>01/07/2022</td>\n",
       "      <td>7,48</td>\n",
       "      <td>NaN</td>\n",
       "      <td>R$ / litro</td>\n",
       "      <td>VIBRA ENERGIA</td>\n",
       "    </tr>\n",
       "  </tbody>\n",
       "</table>\n",
       "</div>"
      ],
      "text/plain": [
       "  Regiao - Sigla Estado - Sigla Municipio  \\\n",
       "0             SE             ES  COLATINA   \n",
       "\n",
       "                                             Revenda      CNPJ da Revenda  \\\n",
       "0  SAO FRANCISCO DE ASSIS COMERCIO DE COMBUSTIVEI...   08.519.545/0001-10   \n",
       "\n",
       "             Nome da Rua Numero Rua Complemento Bairro        Cep  \\\n",
       "0  PRACA FIDELIS FERRARI         35         NaN   LACE  29703-030   \n",
       "\n",
       "              Produto Data da Coleta Valor de Venda  Valor de Compra  \\\n",
       "0  GASOLINA ADITIVADA     01/07/2022           7,48              NaN   \n",
       "\n",
       "  Unidade de Medida       Bandeira  \n",
       "0        R$ / litro  VIBRA ENERGIA  "
      ]
     },
     "execution_count": 3,
     "metadata": {},
     "output_type": "execute_result"
    }
   ],
   "source": [
    "# Lendo DF em relação ao mês de Julho\n",
    "comb_jul = pd.read_csv('dados/precos-gasolina-etanol-07.csv', delimiter=';')\n",
    "comb_jul.head(1)"
   ]
  },
  {
   "cell_type": "code",
   "execution_count": 4,
   "metadata": {},
   "outputs": [
    {
     "data": {
      "text/html": [
       "<div>\n",
       "<style scoped>\n",
       "    .dataframe tbody tr th:only-of-type {\n",
       "        vertical-align: middle;\n",
       "    }\n",
       "\n",
       "    .dataframe tbody tr th {\n",
       "        vertical-align: top;\n",
       "    }\n",
       "\n",
       "    .dataframe thead th {\n",
       "        text-align: right;\n",
       "    }\n",
       "</style>\n",
       "<table border=\"1\" class=\"dataframe\">\n",
       "  <thead>\n",
       "    <tr style=\"text-align: right;\">\n",
       "      <th></th>\n",
       "      <th>Regiao - Sigla</th>\n",
       "      <th>Estado - Sigla</th>\n",
       "      <th>Municipio</th>\n",
       "      <th>Revenda</th>\n",
       "      <th>CNPJ da Revenda</th>\n",
       "      <th>Nome da Rua</th>\n",
       "      <th>Numero Rua</th>\n",
       "      <th>Complemento</th>\n",
       "      <th>Bairro</th>\n",
       "      <th>Cep</th>\n",
       "      <th>Produto</th>\n",
       "      <th>Data da Coleta</th>\n",
       "      <th>Valor de Venda</th>\n",
       "      <th>Valor de Compra</th>\n",
       "      <th>Unidade de Medida</th>\n",
       "      <th>Bandeira</th>\n",
       "    </tr>\n",
       "  </thead>\n",
       "  <tbody>\n",
       "    <tr>\n",
       "      <th>0</th>\n",
       "      <td>NE</td>\n",
       "      <td>AL</td>\n",
       "      <td>ARAPIRACA</td>\n",
       "      <td>AUTO POSTO M M GARROTE LTDA</td>\n",
       "      <td>08.738.994/0001-50</td>\n",
       "      <td>RODOVIA AL-220</td>\n",
       "      <td>5848</td>\n",
       "      <td>KM    96</td>\n",
       "      <td>BOM SUCESSO</td>\n",
       "      <td>57309-035</td>\n",
       "      <td>ETANOL</td>\n",
       "      <td>01/08/2022</td>\n",
       "      <td>4,79</td>\n",
       "      <td>NaN</td>\n",
       "      <td>R$ / litro</td>\n",
       "      <td>VIBRA ENERGIA</td>\n",
       "    </tr>\n",
       "  </tbody>\n",
       "</table>\n",
       "</div>"
      ],
      "text/plain": [
       "  Regiao - Sigla Estado - Sigla  Municipio                      Revenda  \\\n",
       "0             NE             AL  ARAPIRACA  AUTO POSTO M M GARROTE LTDA   \n",
       "\n",
       "       CNPJ da Revenda     Nome da Rua Numero Rua Complemento       Bairro  \\\n",
       "0   08.738.994/0001-50  RODOVIA AL-220       5848    KM    96  BOM SUCESSO   \n",
       "\n",
       "         Cep Produto Data da Coleta Valor de Venda  Valor de Compra  \\\n",
       "0  57309-035  ETANOL     01/08/2022           4,79              NaN   \n",
       "\n",
       "  Unidade de Medida       Bandeira  \n",
       "0        R$ / litro  VIBRA ENERGIA  "
      ]
     },
     "execution_count": 4,
     "metadata": {},
     "output_type": "execute_result"
    }
   ],
   "source": [
    "# Lendo DF em relação ao mês de Agosto\n",
    "comb_ago = pd.read_csv('dados/precos-gasolina-etanol-08.csv', delimiter=';')\n",
    "comb_ago.head(1)"
   ]
  },
  {
   "cell_type": "code",
   "execution_count": 5,
   "metadata": {},
   "outputs": [
    {
     "data": {
      "text/html": [
       "<div>\n",
       "<style scoped>\n",
       "    .dataframe tbody tr th:only-of-type {\n",
       "        vertical-align: middle;\n",
       "    }\n",
       "\n",
       "    .dataframe tbody tr th {\n",
       "        vertical-align: top;\n",
       "    }\n",
       "\n",
       "    .dataframe thead th {\n",
       "        text-align: right;\n",
       "    }\n",
       "</style>\n",
       "<table border=\"1\" class=\"dataframe\">\n",
       "  <thead>\n",
       "    <tr style=\"text-align: right;\">\n",
       "      <th></th>\n",
       "      <th>Regiao - Sigla</th>\n",
       "      <th>Estado - Sigla</th>\n",
       "      <th>Municipio</th>\n",
       "      <th>Revenda</th>\n",
       "      <th>CNPJ da Revenda</th>\n",
       "      <th>Nome da Rua</th>\n",
       "      <th>Numero Rua</th>\n",
       "      <th>Complemento</th>\n",
       "      <th>Bairro</th>\n",
       "      <th>Cep</th>\n",
       "      <th>Produto</th>\n",
       "      <th>Data da Coleta</th>\n",
       "      <th>Valor de Venda</th>\n",
       "      <th>Valor de Compra</th>\n",
       "      <th>Unidade de Medida</th>\n",
       "      <th>Bandeira</th>\n",
       "    </tr>\n",
       "  </thead>\n",
       "  <tbody>\n",
       "    <tr>\n",
       "      <th>0</th>\n",
       "      <td>SE</td>\n",
       "      <td>ES</td>\n",
       "      <td>COLATINA</td>\n",
       "      <td>SAO FRANCISCO DE ASSIS COMERCIO DE COMBUSTIVEI...</td>\n",
       "      <td>08.519.545/0001-10</td>\n",
       "      <td>PRACA FIDELIS FERRARI</td>\n",
       "      <td>35</td>\n",
       "      <td>NaN</td>\n",
       "      <td>LACE</td>\n",
       "      <td>29703-030</td>\n",
       "      <td>GASOLINA ADITIVADA</td>\n",
       "      <td>01/07/2022</td>\n",
       "      <td>7,48</td>\n",
       "      <td>NaN</td>\n",
       "      <td>R$ / litro</td>\n",
       "      <td>VIBRA ENERGIA</td>\n",
       "    </tr>\n",
       "  </tbody>\n",
       "</table>\n",
       "</div>"
      ],
      "text/plain": [
       "  Regiao - Sigla Estado - Sigla Municipio  \\\n",
       "0             SE             ES  COLATINA   \n",
       "\n",
       "                                             Revenda      CNPJ da Revenda  \\\n",
       "0  SAO FRANCISCO DE ASSIS COMERCIO DE COMBUSTIVEI...   08.519.545/0001-10   \n",
       "\n",
       "             Nome da Rua Numero Rua Complemento Bairro        Cep  \\\n",
       "0  PRACA FIDELIS FERRARI         35         NaN   LACE  29703-030   \n",
       "\n",
       "              Produto Data da Coleta Valor de Venda  Valor de Compra  \\\n",
       "0  GASOLINA ADITIVADA     01/07/2022           7,48              NaN   \n",
       "\n",
       "  Unidade de Medida       Bandeira  \n",
       "0        R$ / litro  VIBRA ENERGIA  "
      ]
     },
     "execution_count": 5,
     "metadata": {},
     "output_type": "execute_result"
    }
   ],
   "source": [
    "# Concatenando os dois DF's\n",
    "conjunto_dados = pd.concat([comb_jul, comb_ago])\n",
    "conjunto_dados.head(1)"
   ]
  },
  {
   "cell_type": "markdown",
   "metadata": {},
   "source": [
    "# Análise Exploratória"
   ]
  },
  {
   "cell_type": "code",
   "execution_count": 6,
   "metadata": {},
   "outputs": [
    {
     "data": {
      "text/plain": [
       "(127176, 16)"
      ]
     },
     "execution_count": 6,
     "metadata": {},
     "output_type": "execute_result"
    }
   ],
   "source": [
    "# Shape\n",
    "conjunto_dados.shape"
   ]
  },
  {
   "cell_type": "code",
   "execution_count": 7,
   "metadata": {},
   "outputs": [],
   "source": [
    "# Dicionario das colunas"
   ]
  },
  {
   "cell_type": "code",
   "execution_count": 8,
   "metadata": {},
   "outputs": [
    {
     "name": "stdout",
     "output_type": "stream",
     "text": [
      "<class 'pandas.core.frame.DataFrame'>\n",
      "Int64Index: 127176 entries, 0 to 69543\n",
      "Data columns (total 16 columns):\n",
      " #   Column             Non-Null Count   Dtype  \n",
      "---  ------             --------------   -----  \n",
      " 0   Regiao - Sigla     127176 non-null  object \n",
      " 1   Estado - Sigla     127176 non-null  object \n",
      " 2   Municipio          127176 non-null  object \n",
      " 3   Revenda            127176 non-null  object \n",
      " 4   CNPJ da Revenda    127176 non-null  object \n",
      " 5   Nome da Rua        127176 non-null  object \n",
      " 6   Numero Rua         127105 non-null  object \n",
      " 7   Complemento        27079 non-null   object \n",
      " 8   Bairro             126764 non-null  object \n",
      " 9   Cep                127176 non-null  object \n",
      " 10  Produto            127176 non-null  object \n",
      " 11  Data da Coleta     127176 non-null  object \n",
      " 12  Valor de Venda     127176 non-null  object \n",
      " 13  Valor de Compra    0 non-null       float64\n",
      " 14  Unidade de Medida  127176 non-null  object \n",
      " 15  Bandeira           127176 non-null  object \n",
      "dtypes: float64(1), object(15)\n",
      "memory usage: 16.5+ MB\n"
     ]
    }
   ],
   "source": [
    "conjunto_dados.info()"
   ]
  },
  {
   "cell_type": "code",
   "execution_count": 9,
   "metadata": {},
   "outputs": [
    {
     "data": {
      "text/plain": [
       "Valor de Compra      100.000000\n",
       "Complemento           78.707461\n",
       "Bairro                 0.323960\n",
       "Numero Rua             0.055828\n",
       "Regiao - Sigla         0.000000\n",
       "Estado - Sigla         0.000000\n",
       "Municipio              0.000000\n",
       "Revenda                0.000000\n",
       "CNPJ da Revenda        0.000000\n",
       "Nome da Rua            0.000000\n",
       "Cep                    0.000000\n",
       "Produto                0.000000\n",
       "Data da Coleta         0.000000\n",
       "Valor de Venda         0.000000\n",
       "Unidade de Medida      0.000000\n",
       "Bandeira               0.000000\n",
       "dtype: float64"
      ]
     },
     "execution_count": 9,
     "metadata": {},
     "output_type": "execute_result"
    }
   ],
   "source": [
    "# Checando a % de valores nulos em cada coluna do DF\n",
    "((conjunto_dados.isnull().sum() / conjunto_dados.shape[0]) * 100).sort_values(ascending=False)"
   ]
  },
  {
   "cell_type": "code",
   "execution_count": 10,
   "metadata": {},
   "outputs": [
    {
     "data": {
      "text/plain": [
       "Regiao - Sigla        object\n",
       "Estado - Sigla        object\n",
       "Municipio             object\n",
       "Revenda               object\n",
       "CNPJ da Revenda       object\n",
       "Nome da Rua           object\n",
       "Numero Rua            object\n",
       "Complemento           object\n",
       "Bairro                object\n",
       "Cep                   object\n",
       "Produto               object\n",
       "Data da Coleta        object\n",
       "Valor de Venda        object\n",
       "Valor de Compra      float64\n",
       "Unidade de Medida     object\n",
       "Bandeira              object\n",
       "dtype: object"
      ]
     },
     "execution_count": 10,
     "metadata": {},
     "output_type": "execute_result"
    }
   ],
   "source": [
    "# Dtype\n",
    "conjunto_dados.dtypes"
   ]
  },
  {
   "cell_type": "markdown",
   "metadata": {},
   "source": [
    "## Tratamento"
   ]
  },
  {
   "cell_type": "code",
   "execution_count": 11,
   "metadata": {},
   "outputs": [],
   "source": [
    "# Resetando Index no DF concatenado\n",
    "conjunto_dados.reset_index(0, drop=True, inplace=True)"
   ]
  },
  {
   "cell_type": "code",
   "execution_count": 12,
   "metadata": {},
   "outputs": [],
   "source": [
    "# Dropando a coluna 'Valor de Compra' pois a mesma contém apenas valores nulos\n",
    "conjunto_dados.drop('Valor de Compra', axis=1, inplace=True)"
   ]
  },
  {
   "cell_type": "code",
   "execution_count": 13,
   "metadata": {},
   "outputs": [],
   "source": [
    "# Transformando os valores da coluna 'Valor de Venda' para float\n",
    "conjunto_dados['Valor de Venda'] = conjunto_dados['Valor de Venda'].apply(lambda y: float(str(y.replace(',','.'))))"
   ]
  },
  {
   "cell_type": "code",
   "execution_count": 14,
   "metadata": {},
   "outputs": [],
   "source": [
    "# Preenchendo valores nulos da coluna 'Complemento' com 0\n",
    "conjunto_dados.Complemento.fillna('0', inplace=True)"
   ]
  },
  {
   "cell_type": "code",
   "execution_count": 15,
   "metadata": {},
   "outputs": [
    {
     "data": {
      "text/html": [
       "<div>\n",
       "<style scoped>\n",
       "    .dataframe tbody tr th:only-of-type {\n",
       "        vertical-align: middle;\n",
       "    }\n",
       "\n",
       "    .dataframe tbody tr th {\n",
       "        vertical-align: top;\n",
       "    }\n",
       "\n",
       "    .dataframe thead th {\n",
       "        text-align: right;\n",
       "    }\n",
       "</style>\n",
       "<table border=\"1\" class=\"dataframe\">\n",
       "  <thead>\n",
       "    <tr style=\"text-align: right;\">\n",
       "      <th></th>\n",
       "      <th>Regiao - Sigla</th>\n",
       "      <th>Estado - Sigla</th>\n",
       "      <th>Municipio</th>\n",
       "      <th>Revenda</th>\n",
       "      <th>CNPJ da Revenda</th>\n",
       "      <th>Nome da Rua</th>\n",
       "      <th>Numero Rua</th>\n",
       "      <th>Complemento</th>\n",
       "      <th>Bairro</th>\n",
       "      <th>Cep</th>\n",
       "      <th>Produto</th>\n",
       "      <th>Data da Coleta</th>\n",
       "      <th>Valor de Venda</th>\n",
       "      <th>Unidade de Medida</th>\n",
       "      <th>Bandeira</th>\n",
       "    </tr>\n",
       "  </thead>\n",
       "  <tbody>\n",
       "    <tr>\n",
       "      <th>0</th>\n",
       "      <td>SE</td>\n",
       "      <td>ES</td>\n",
       "      <td>COLATINA</td>\n",
       "      <td>SAO FRANCISCO DE ASSIS COMERCIO DE COMBUSTIVEI...</td>\n",
       "      <td>08.519.545/0001-10</td>\n",
       "      <td>PRACA FIDELIS FERRARI</td>\n",
       "      <td>35</td>\n",
       "      <td>0</td>\n",
       "      <td>LACE</td>\n",
       "      <td>29703-030</td>\n",
       "      <td>GASOLINA ADITIVADA</td>\n",
       "      <td>2022-07-01</td>\n",
       "      <td>7.48</td>\n",
       "      <td>R$ / litro</td>\n",
       "      <td>VIBRA ENERGIA</td>\n",
       "    </tr>\n",
       "  </tbody>\n",
       "</table>\n",
       "</div>"
      ],
      "text/plain": [
       "  Regiao - Sigla Estado - Sigla Municipio  \\\n",
       "0             SE             ES  COLATINA   \n",
       "\n",
       "                                             Revenda      CNPJ da Revenda  \\\n",
       "0  SAO FRANCISCO DE ASSIS COMERCIO DE COMBUSTIVEI...   08.519.545/0001-10   \n",
       "\n",
       "             Nome da Rua Numero Rua Complemento Bairro        Cep  \\\n",
       "0  PRACA FIDELIS FERRARI         35           0   LACE  29703-030   \n",
       "\n",
       "              Produto Data da Coleta  Valor de Venda Unidade de Medida  \\\n",
       "0  GASOLINA ADITIVADA     2022-07-01            7.48        R$ / litro   \n",
       "\n",
       "        Bandeira  \n",
       "0  VIBRA ENERGIA  "
      ]
     },
     "execution_count": 15,
     "metadata": {},
     "output_type": "execute_result"
    }
   ],
   "source": [
    "# Trasnformando as datas da coluna 'Data da Coleta' para datetime\n",
    "conjunto_dados['Data da Coleta'] = pd.to_datetime(conjunto_dados['Data da Coleta'], format='%d/%m/%Y')\n",
    "conjunto_dados.head(1)"
   ]
  },
  {
   "cell_type": "markdown",
   "metadata": {},
   "source": [
    "- Funções"
   ]
  },
  {
   "cell_type": "code",
   "execution_count": 16,
   "metadata": {},
   "outputs": [],
   "source": [
    "# Passando strings para minusculas no DF\n",
    "to_title = lambda x: x.title() if isinstance(x, str) else x"
   ]
  },
  {
   "cell_type": "code",
   "execution_count": 17,
   "metadata": {},
   "outputs": [],
   "source": [
    "# Criando função que acrecenta coluna de dias da semana\n",
    "def cria_semanas(df):\n",
    "    dias_semana = {'Sunday':'Domingo', 'Monday':'Segunda', 'Tuesday':'Terça', 'Wednesday':'Quarta', 'Thursday':'Quinta', 'Friday':'Sexta', 'Saturday':'Sábado'}\n",
    "    df['Dias da Semana'] = df['Data da Coleta'].apply(lambda x: x.strftime('%A'))\n",
    "    df['Dias da Semana'] = df['Dias da Semana'].replace(dias_semana)\n",
    "    return df"
   ]
  },
  {
   "cell_type": "code",
   "execution_count": 18,
   "metadata": {},
   "outputs": [],
   "source": [
    "# Aplicando a função no DF\n",
    "conjunto_dados = cria_semanas(conjunto_dados)"
   ]
  },
  {
   "cell_type": "code",
   "execution_count": 19,
   "metadata": {
    "scrolled": true
   },
   "outputs": [],
   "source": [
    "# Passando strings para minusculas no DF\n",
    "conjunto_dados['Municipio'] = conjunto_dados['Municipio'].apply(to_title)\n",
    "conjunto_dados['Revenda'] = conjunto_dados['Revenda'].apply(to_title)\n",
    "conjunto_dados['Nome da Rua'] = conjunto_dados['Nome da Rua'].apply(to_title)\n",
    "conjunto_dados['Complemento'] = conjunto_dados['Complemento'].apply(to_title)\n",
    "conjunto_dados['Bairro'] = conjunto_dados['Bairro'].apply(to_title)\n",
    "conjunto_dados['Produto'] = conjunto_dados['Produto'].apply(to_title)\n",
    "conjunto_dados['Bandeira'] = conjunto_dados['Bandeira'].apply(to_title)"
   ]
  },
  {
   "cell_type": "code",
   "execution_count": 20,
   "metadata": {
    "scrolled": true
   },
   "outputs": [
    {
     "data": {
      "text/html": [
       "<div>\n",
       "<style scoped>\n",
       "    .dataframe tbody tr th:only-of-type {\n",
       "        vertical-align: middle;\n",
       "    }\n",
       "\n",
       "    .dataframe tbody tr th {\n",
       "        vertical-align: top;\n",
       "    }\n",
       "\n",
       "    .dataframe thead th {\n",
       "        text-align: right;\n",
       "    }\n",
       "</style>\n",
       "<table border=\"1\" class=\"dataframe\">\n",
       "  <thead>\n",
       "    <tr style=\"text-align: right;\">\n",
       "      <th></th>\n",
       "      <th>Regiao - Sigla</th>\n",
       "      <th>Estado - Sigla</th>\n",
       "      <th>Municipio</th>\n",
       "      <th>Revenda</th>\n",
       "      <th>CNPJ da Revenda</th>\n",
       "      <th>Nome da Rua</th>\n",
       "      <th>Numero Rua</th>\n",
       "      <th>Complemento</th>\n",
       "      <th>Bairro</th>\n",
       "      <th>Cep</th>\n",
       "      <th>Produto</th>\n",
       "      <th>Data da Coleta</th>\n",
       "      <th>Valor de Venda</th>\n",
       "      <th>Unidade de Medida</th>\n",
       "      <th>Bandeira</th>\n",
       "      <th>Dias da Semana</th>\n",
       "    </tr>\n",
       "  </thead>\n",
       "  <tbody>\n",
       "    <tr>\n",
       "      <th>0</th>\n",
       "      <td>SE</td>\n",
       "      <td>ES</td>\n",
       "      <td>Colatina</td>\n",
       "      <td>Sao Francisco De Assis Comercio De Combustivei...</td>\n",
       "      <td>08.519.545/0001-10</td>\n",
       "      <td>Praca Fidelis Ferrari</td>\n",
       "      <td>35</td>\n",
       "      <td>0</td>\n",
       "      <td>Lace</td>\n",
       "      <td>29703-030</td>\n",
       "      <td>Gasolina Aditivada</td>\n",
       "      <td>2022-07-01</td>\n",
       "      <td>7.48</td>\n",
       "      <td>R$ / litro</td>\n",
       "      <td>Vibra Energia</td>\n",
       "      <td>Sexta</td>\n",
       "    </tr>\n",
       "    <tr>\n",
       "      <th>1</th>\n",
       "      <td>SE</td>\n",
       "      <td>ES</td>\n",
       "      <td>Colatina</td>\n",
       "      <td>Sao Francisco De Assis Comercio De Combustivei...</td>\n",
       "      <td>08.519.545/0001-10</td>\n",
       "      <td>Praca Fidelis Ferrari</td>\n",
       "      <td>35</td>\n",
       "      <td>0</td>\n",
       "      <td>Lace</td>\n",
       "      <td>29703-030</td>\n",
       "      <td>Gasolina</td>\n",
       "      <td>2022-07-01</td>\n",
       "      <td>7.38</td>\n",
       "      <td>R$ / litro</td>\n",
       "      <td>Vibra Energia</td>\n",
       "      <td>Sexta</td>\n",
       "    </tr>\n",
       "    <tr>\n",
       "      <th>2</th>\n",
       "      <td>SE</td>\n",
       "      <td>ES</td>\n",
       "      <td>Colatina</td>\n",
       "      <td>Posto Motocap Ltda</td>\n",
       "      <td>04.814.652/0001-10</td>\n",
       "      <td>Praca Almirante Barroso</td>\n",
       "      <td>52</td>\n",
       "      <td>Letra A</td>\n",
       "      <td>Lace</td>\n",
       "      <td>29703-055</td>\n",
       "      <td>Etanol</td>\n",
       "      <td>2022-07-01</td>\n",
       "      <td>5.99</td>\n",
       "      <td>R$ / litro</td>\n",
       "      <td>Vibra Energia</td>\n",
       "      <td>Sexta</td>\n",
       "    </tr>\n",
       "    <tr>\n",
       "      <th>3</th>\n",
       "      <td>SE</td>\n",
       "      <td>ES</td>\n",
       "      <td>Colatina</td>\n",
       "      <td>Posto Motocap Ltda</td>\n",
       "      <td>04.814.652/0001-10</td>\n",
       "      <td>Praca Almirante Barroso</td>\n",
       "      <td>52</td>\n",
       "      <td>Letra A</td>\n",
       "      <td>Lace</td>\n",
       "      <td>29703-055</td>\n",
       "      <td>Gasolina</td>\n",
       "      <td>2022-07-01</td>\n",
       "      <td>7.39</td>\n",
       "      <td>R$ / litro</td>\n",
       "      <td>Vibra Energia</td>\n",
       "      <td>Sexta</td>\n",
       "    </tr>\n",
       "    <tr>\n",
       "      <th>4</th>\n",
       "      <td>CO</td>\n",
       "      <td>GO</td>\n",
       "      <td>Goiania</td>\n",
       "      <td>Justiniano &amp; Justiniano Ltda</td>\n",
       "      <td>04.489.287/0001-16</td>\n",
       "      <td>Avenida Jose Leandro Da Cruz</td>\n",
       "      <td>2,36</td>\n",
       "      <td>Quadra 18, Lote 01</td>\n",
       "      <td>Parque Amazonia</td>\n",
       "      <td>74840-390</td>\n",
       "      <td>Gasolina Aditivada</td>\n",
       "      <td>2022-07-01</td>\n",
       "      <td>6.49</td>\n",
       "      <td>R$ / litro</td>\n",
       "      <td>Ipiranga</td>\n",
       "      <td>Sexta</td>\n",
       "    </tr>\n",
       "  </tbody>\n",
       "</table>\n",
       "</div>"
      ],
      "text/plain": [
       "  Regiao - Sigla Estado - Sigla Municipio  \\\n",
       "0             SE             ES  Colatina   \n",
       "1             SE             ES  Colatina   \n",
       "2             SE             ES  Colatina   \n",
       "3             SE             ES  Colatina   \n",
       "4             CO             GO   Goiania   \n",
       "\n",
       "                                             Revenda      CNPJ da Revenda  \\\n",
       "0  Sao Francisco De Assis Comercio De Combustivei...   08.519.545/0001-10   \n",
       "1  Sao Francisco De Assis Comercio De Combustivei...   08.519.545/0001-10   \n",
       "2                                 Posto Motocap Ltda   04.814.652/0001-10   \n",
       "3                                 Posto Motocap Ltda   04.814.652/0001-10   \n",
       "4                       Justiniano & Justiniano Ltda   04.489.287/0001-16   \n",
       "\n",
       "                    Nome da Rua Numero Rua         Complemento  \\\n",
       "0         Praca Fidelis Ferrari         35                   0   \n",
       "1         Praca Fidelis Ferrari         35                   0   \n",
       "2       Praca Almirante Barroso         52             Letra A   \n",
       "3       Praca Almirante Barroso         52             Letra A   \n",
       "4  Avenida Jose Leandro Da Cruz       2,36  Quadra 18, Lote 01   \n",
       "\n",
       "            Bairro        Cep             Produto Data da Coleta  \\\n",
       "0             Lace  29703-030  Gasolina Aditivada     2022-07-01   \n",
       "1             Lace  29703-030            Gasolina     2022-07-01   \n",
       "2             Lace  29703-055              Etanol     2022-07-01   \n",
       "3             Lace  29703-055            Gasolina     2022-07-01   \n",
       "4  Parque Amazonia  74840-390  Gasolina Aditivada     2022-07-01   \n",
       "\n",
       "   Valor de Venda Unidade de Medida       Bandeira Dias da Semana  \n",
       "0            7.48        R$ / litro  Vibra Energia          Sexta  \n",
       "1            7.38        R$ / litro  Vibra Energia          Sexta  \n",
       "2            5.99        R$ / litro  Vibra Energia          Sexta  \n",
       "3            7.39        R$ / litro  Vibra Energia          Sexta  \n",
       "4            6.49        R$ / litro       Ipiranga          Sexta  "
      ]
     },
     "execution_count": 20,
     "metadata": {},
     "output_type": "execute_result"
    }
   ],
   "source": [
    "conjunto_dados.head()"
   ]
  },
  {
   "cell_type": "code",
   "execution_count": 21,
   "metadata": {
    "scrolled": false
   },
   "outputs": [
    {
     "data": {
      "text/html": [
       "<div>\n",
       "<style scoped>\n",
       "    .dataframe tbody tr th:only-of-type {\n",
       "        vertical-align: middle;\n",
       "    }\n",
       "\n",
       "    .dataframe tbody tr th {\n",
       "        vertical-align: top;\n",
       "    }\n",
       "\n",
       "    .dataframe thead th {\n",
       "        text-align: right;\n",
       "    }\n",
       "</style>\n",
       "<table border=\"1\" class=\"dataframe\">\n",
       "  <thead>\n",
       "    <tr style=\"text-align: right;\">\n",
       "      <th></th>\n",
       "      <th>Valor de Venda</th>\n",
       "    </tr>\n",
       "  </thead>\n",
       "  <tbody>\n",
       "    <tr>\n",
       "      <th>count</th>\n",
       "      <td>127176.000000</td>\n",
       "    </tr>\n",
       "    <tr>\n",
       "      <th>mean</th>\n",
       "      <td>5.355503</td>\n",
       "    </tr>\n",
       "    <tr>\n",
       "      <th>std</th>\n",
       "      <td>0.860449</td>\n",
       "    </tr>\n",
       "    <tr>\n",
       "      <th>min</th>\n",
       "      <td>2.890000</td>\n",
       "    </tr>\n",
       "    <tr>\n",
       "      <th>25%</th>\n",
       "      <td>4.880000</td>\n",
       "    </tr>\n",
       "    <tr>\n",
       "      <th>50%</th>\n",
       "      <td>5.490000</td>\n",
       "    </tr>\n",
       "    <tr>\n",
       "      <th>75%</th>\n",
       "      <td>5.890000</td>\n",
       "    </tr>\n",
       "    <tr>\n",
       "      <th>max</th>\n",
       "      <td>9.270000</td>\n",
       "    </tr>\n",
       "  </tbody>\n",
       "</table>\n",
       "</div>"
      ],
      "text/plain": [
       "       Valor de Venda\n",
       "count   127176.000000\n",
       "mean         5.355503\n",
       "std          0.860449\n",
       "min          2.890000\n",
       "25%          4.880000\n",
       "50%          5.490000\n",
       "75%          5.890000\n",
       "max          9.270000"
      ]
     },
     "execution_count": 21,
     "metadata": {},
     "output_type": "execute_result"
    }
   ],
   "source": [
    "conjunto_dados.describe()"
   ]
  },
  {
   "cell_type": "code",
   "execution_count": 22,
   "metadata": {
    "scrolled": false
   },
   "outputs": [
    {
     "data": {
      "image/png": "[encoded data removed]",
      "text/plain": [
       "<Figure size 432x288 with 1 Axes>"
      ]
     },
     "metadata": {
      "needs_background": "light"
     },
     "output_type": "display_data"
    }
   ],
   "source": [
    "conjunto_dados['Valor de Venda'].hist();"
   ]
  },
  {
   "cell_type": "code",
   "execution_count": 23,
   "metadata": {
    "scrolled": true
   },
   "outputs": [
    {
     "data": {
      "image/png": "[encoded data removed]",
      "text/plain": [
       "<Figure size 1440x360 with 1 Axes>"
      ]
     },
     "metadata": {
      "needs_background": "light"
     },
     "output_type": "display_data"
    }
   ],
   "source": [
    "conjunto_dados['Valor de Venda'].plot(kind='box', vert=False, figsize=(20, 5))\n",
    "plt.show()"
   ]
  },
  {
   "cell_type": "code",
   "execution_count": 24,
   "metadata": {},
   "outputs": [],
   "source": [
    "# Mardown explicando o pq não tiramos os outliers nesse caso"
   ]
  },
  {
   "cell_type": "markdown",
   "metadata": {},
   "source": [
    "## Trabalhando nos dados"
   ]
  },
  {
   "cell_type": "code",
   "execution_count": 25,
   "metadata": {},
   "outputs": [],
   "source": [
    "#1 Como se comportam o preço dos combustíveis durante os dois meses citados? (Jul/Ago) Os valores do etanol e da gasolina tiveram uma (tendencia?) de queda ou diminuição?"
   ]
  },
  {
   "cell_type": "code",
   "execution_count": 26,
   "metadata": {},
   "outputs": [],
   "source": [
    "comb_jul = conjunto_dados[(conjunto_dados['Data da Coleta'] < '2022-08-01')] \n",
    "comb_ago = conjunto_dados[(conjunto_dados['Data da Coleta'] > '2022-08-01')]"
   ]
  },
  {
   "cell_type": "code",
   "execution_count": 27,
   "metadata": {
    "scrolled": true
   },
   "outputs": [],
   "source": [
    "# Criando DF's dos preços de combustíveis para julho e agosto\n",
    "preco_comb_jul = comb_jul.groupby(['Regiao - Sigla']).mean()\n",
    "preco_comb_jul.columns = ['Preço Médio']\n",
    "\n",
    "preco_comb_ago = comb_ago.groupby(['Regiao - Sigla']).mean()\n",
    "preco_comb_ago.columns = ['Preço Médio']"
   ]
  },
  {
   "cell_type": "code",
   "execution_count": 28,
   "metadata": {},
   "outputs": [
    {
     "data": {
      "image/png": "[encoded data removed]",
      "text/plain": [
       "<Figure size 800x400 with 1 Axes>"
      ]
     },
     "metadata": {
      "needs_background": "light"
     },
     "output_type": "display_data"
    }
   ],
   "source": [
    "plt.figure(figsize=(10, 5), dpi=80)\n",
    "\n",
    "sns.kdeplot(comb_jul['Valor de Venda'], shade=True, color='g', label='Julho', alpha=.7)\n",
    "sns.kdeplot(comb_ago['Valor de Venda'], shade=True, color='r', label='Agosto', alpha=.7)\n",
    "\n",
    "plt.title('Densidade de Preços (Julho - Agosto)', fontsize=12)\n",
    "plt.legend()\n",
    "plt.show()"
   ]
  },
  {
   "cell_type": "code",
   "execution_count": 29,
   "metadata": {},
   "outputs": [
    {
     "data": {
      "text/html": [
       "<div>\n",
       "<style scoped>\n",
       "    .dataframe tbody tr th:only-of-type {\n",
       "        vertical-align: middle;\n",
       "    }\n",
       "\n",
       "    .dataframe tbody tr th {\n",
       "        vertical-align: top;\n",
       "    }\n",
       "\n",
       "    .dataframe thead th {\n",
       "        text-align: right;\n",
       "    }\n",
       "</style>\n",
       "<table border=\"1\" class=\"dataframe\">\n",
       "  <thead>\n",
       "    <tr style=\"text-align: right;\">\n",
       "      <th></th>\n",
       "      <th>Preço Médio</th>\n",
       "    </tr>\n",
       "    <tr>\n",
       "      <th>Regiao - Sigla</th>\n",
       "      <th></th>\n",
       "    </tr>\n",
       "  </thead>\n",
       "  <tbody>\n",
       "    <tr>\n",
       "      <th>CO</th>\n",
       "      <td>5.326755</td>\n",
       "    </tr>\n",
       "    <tr>\n",
       "      <th>SE</th>\n",
       "      <td>5.408082</td>\n",
       "    </tr>\n",
       "    <tr>\n",
       "      <th>S</th>\n",
       "      <td>5.775341</td>\n",
       "    </tr>\n",
       "    <tr>\n",
       "      <th>NE</th>\n",
       "      <td>6.206380</td>\n",
       "    </tr>\n",
       "    <tr>\n",
       "      <th>N</th>\n",
       "      <td>6.213738</td>\n",
       "    </tr>\n",
       "  </tbody>\n",
       "</table>\n",
       "</div>"
      ],
      "text/plain": [
       "                Preço Médio\n",
       "Regiao - Sigla             \n",
       "CO                 5.326755\n",
       "SE                 5.408082\n",
       "S                  5.775341\n",
       "NE                 6.206380\n",
       "N                  6.213738"
      ]
     },
     "metadata": {},
     "output_type": "display_data"
    },
    {
     "data": {
      "text/html": [
       "<div>\n",
       "<style scoped>\n",
       "    .dataframe tbody tr th:only-of-type {\n",
       "        vertical-align: middle;\n",
       "    }\n",
       "\n",
       "    .dataframe tbody tr th {\n",
       "        vertical-align: top;\n",
       "    }\n",
       "\n",
       "    .dataframe thead th {\n",
       "        text-align: right;\n",
       "    }\n",
       "</style>\n",
       "<table border=\"1\" class=\"dataframe\">\n",
       "  <thead>\n",
       "    <tr style=\"text-align: right;\">\n",
       "      <th></th>\n",
       "      <th>Preço Médio</th>\n",
       "    </tr>\n",
       "    <tr>\n",
       "      <th>Regiao - Sigla</th>\n",
       "      <th></th>\n",
       "    </tr>\n",
       "  </thead>\n",
       "  <tbody>\n",
       "    <tr>\n",
       "      <th>CO</th>\n",
       "      <td>4.803764</td>\n",
       "    </tr>\n",
       "    <tr>\n",
       "      <th>SE</th>\n",
       "      <td>4.890828</td>\n",
       "    </tr>\n",
       "    <tr>\n",
       "      <th>S</th>\n",
       "      <td>5.224502</td>\n",
       "    </tr>\n",
       "    <tr>\n",
       "      <th>NE</th>\n",
       "      <td>5.369108</td>\n",
       "    </tr>\n",
       "    <tr>\n",
       "      <th>N</th>\n",
       "      <td>5.594068</td>\n",
       "    </tr>\n",
       "  </tbody>\n",
       "</table>\n",
       "</div>"
      ],
      "text/plain": [
       "                Preço Médio\n",
       "Regiao - Sigla             \n",
       "CO                 4.803764\n",
       "SE                 4.890828\n",
       "S                  5.224502\n",
       "NE                 5.369108\n",
       "N                  5.594068"
      ]
     },
     "metadata": {},
     "output_type": "display_data"
    }
   ],
   "source": [
    "display(preco_comb_jul.sort_values(by='Preço Médio', ascending=True))\n",
    "\n",
    "display(preco_comb_ago.sort_values(by='Preço Médio', ascending=True))"
   ]
  },
  {
   "cell_type": "code",
   "execution_count": 30,
   "metadata": {},
   "outputs": [],
   "source": [
    "# 2. Qual o preço médio da gasolina e do etanol nesses dois meses?"
   ]
  },
  {
   "cell_type": "code",
   "execution_count": 31,
   "metadata": {
    "scrolled": false
   },
   "outputs": [
    {
     "data": {
      "text/html": [
       "<div>\n",
       "<style scoped>\n",
       "    .dataframe tbody tr th:only-of-type {\n",
       "        vertical-align: middle;\n",
       "    }\n",
       "\n",
       "    .dataframe tbody tr th {\n",
       "        vertical-align: top;\n",
       "    }\n",
       "\n",
       "    .dataframe thead th {\n",
       "        text-align: right;\n",
       "    }\n",
       "</style>\n",
       "<table border=\"1\" class=\"dataframe\">\n",
       "  <thead>\n",
       "    <tr style=\"text-align: right;\">\n",
       "      <th></th>\n",
       "      <th>Etanol</th>\n",
       "      <th>Gasolina</th>\n",
       "      <th>Gasolina Aditivada</th>\n",
       "    </tr>\n",
       "    <tr>\n",
       "      <th>Regiao - Sigla</th>\n",
       "      <th></th>\n",
       "      <th></th>\n",
       "      <th></th>\n",
       "    </tr>\n",
       "  </thead>\n",
       "  <tbody>\n",
       "    <tr>\n",
       "      <th>CO</th>\n",
       "      <td>4.324710</td>\n",
       "      <td>5.894329</td>\n",
       "      <td>6.034480</td>\n",
       "    </tr>\n",
       "    <tr>\n",
       "      <th>N</th>\n",
       "      <td>5.637043</td>\n",
       "      <td>6.322346</td>\n",
       "      <td>6.457643</td>\n",
       "    </tr>\n",
       "    <tr>\n",
       "      <th>NE</th>\n",
       "      <td>5.605162</td>\n",
       "      <td>6.443064</td>\n",
       "      <td>6.600561</td>\n",
       "    </tr>\n",
       "    <tr>\n",
       "      <th>S</th>\n",
       "      <td>5.104525</td>\n",
       "      <td>5.939016</td>\n",
       "      <td>6.079456</td>\n",
       "    </tr>\n",
       "    <tr>\n",
       "      <th>SE</th>\n",
       "      <td>4.364011</td>\n",
       "      <td>5.926829</td>\n",
       "      <td>6.140690</td>\n",
       "    </tr>\n",
       "  </tbody>\n",
       "</table>\n",
       "</div>"
      ],
      "text/plain": [
       "                  Etanol  Gasolina  Gasolina Aditivada\n",
       "Regiao - Sigla                                        \n",
       "CO              4.324710  5.894329            6.034480\n",
       "N               5.637043  6.322346            6.457643\n",
       "NE              5.605162  6.443064            6.600561\n",
       "S               5.104525  5.939016            6.079456\n",
       "SE              4.364011  5.926829            6.140690"
      ]
     },
     "metadata": {},
     "output_type": "display_data"
    }
   ],
   "source": [
    "relacao_comb_preco_jul = comb_jul[['Produto','Valor de Venda', 'Regiao - Sigla']].groupby(['Produto', 'Regiao - Sigla']).mean()\n",
    "relacao_comb_preco_jul.columns = ['Preço Médio']\n",
    "\n",
    "relacao_comb_preco_jul.sort_values(by='Produto', ascending=True,inplace = True)\n",
    "novo = relacao_comb_preco_jul.unstack().copy().T\n",
    "novo_etanol = novo['Etanol']\n",
    "novo_gas = novo['Gasolina']\n",
    "novo_gasadt = novo['Gasolina Aditivada']\n",
    "relacao_comb_preco_jul = pd.DataFrame([novo_etanol,novo_gas,novo_gasadt])\n",
    "relacao_comb_preco_jul = relacao_comb_preco_jul['Preço Médio'].T\n",
    "display(relacao_comb_preco_jul)"
   ]
  },
  {
   "cell_type": "code",
   "execution_count": 79,
   "metadata": {
    "scrolled": false
   },
   "outputs": [
    {
     "data": {
      "text/html": [
       "<div>\n",
       "<style scoped>\n",
       "    .dataframe tbody tr th:only-of-type {\n",
       "        vertical-align: middle;\n",
       "    }\n",
       "\n",
       "    .dataframe tbody tr th {\n",
       "        vertical-align: top;\n",
       "    }\n",
       "\n",
       "    .dataframe thead th {\n",
       "        text-align: right;\n",
       "    }\n",
       "</style>\n",
       "<table border=\"1\" class=\"dataframe\">\n",
       "  <thead>\n",
       "    <tr style=\"text-align: right;\">\n",
       "      <th></th>\n",
       "      <th>Etanol</th>\n",
       "      <th>Gasolina</th>\n",
       "      <th>Gasolina Aditivada</th>\n",
       "    </tr>\n",
       "    <tr>\n",
       "      <th>Regiao - Sigla</th>\n",
       "      <th></th>\n",
       "      <th></th>\n",
       "      <th></th>\n",
       "    </tr>\n",
       "  </thead>\n",
       "  <tbody>\n",
       "    <tr>\n",
       "      <th>CO</th>\n",
       "      <td>3.912062</td>\n",
       "      <td>5.301479</td>\n",
       "      <td>5.445814</td>\n",
       "    </tr>\n",
       "    <tr>\n",
       "      <th>N</th>\n",
       "      <td>5.098039</td>\n",
       "      <td>5.680932</td>\n",
       "      <td>5.808880</td>\n",
       "    </tr>\n",
       "    <tr>\n",
       "      <th>NE</th>\n",
       "      <td>4.925200</td>\n",
       "      <td>5.528224</td>\n",
       "      <td>5.681207</td>\n",
       "    </tr>\n",
       "    <tr>\n",
       "      <th>S</th>\n",
       "      <td>4.612057</td>\n",
       "      <td>5.373290</td>\n",
       "      <td>5.505014</td>\n",
       "    </tr>\n",
       "    <tr>\n",
       "      <th>SE</th>\n",
       "      <td>3.964701</td>\n",
       "      <td>5.343207</td>\n",
       "      <td>5.551107</td>\n",
       "    </tr>\n",
       "  </tbody>\n",
       "</table>\n",
       "</div>"
      ],
      "text/plain": [
       "                  Etanol  Gasolina  Gasolina Aditivada\n",
       "Regiao - Sigla                                        \n",
       "CO              3.912062  5.301479            5.445814\n",
       "N               5.098039  5.680932            5.808880\n",
       "NE              4.925200  5.528224            5.681207\n",
       "S               4.612057  5.373290            5.505014\n",
       "SE              3.964701  5.343207            5.551107"
      ]
     },
     "metadata": {},
     "output_type": "display_data"
    }
   ],
   "source": [
    "relacao_comb_preco_ago = comb_ago[['Produto','Valor de Venda', 'Regiao - Sigla']].groupby(['Produto', 'Regiao - Sigla']).mean()\n",
    "relacao_comb_preco_ago.columns = ['Preço Médio']\n",
    "\n",
    "relacao_comb_preco_ago.sort_values(by='Produto', ascending=True, inplace = True)\n",
    "\n",
    "novo = relacao_comb_preco_ago.unstack().copy().T\n",
    "novo_etanol = novo['Etanol']\n",
    "novo_gas = novo['Gasolina']\n",
    "novo_gasadt = novo['Gasolina Aditivada']\n",
    "relacao_comb_preco_ago = pd.DataFrame([novo_etanol,novo_gas,novo_gasadt])\n",
    "relacao_comb_preco_ago = relacao_comb_preco_ago['Preço Médio'].T\n",
    "display(relacao_comb_preco_ago)"
   ]
  },
  {
   "cell_type": "code",
   "execution_count": 35,
   "metadata": {
    "scrolled": true
   },
   "outputs": [],
   "source": [
    "# 3. Quais os 5 estados com o preço médio da gasolina e do etanol mais caros?\n",
    "\n",
    "# Levando em consideração os 2 meses e os 2 combustíveis juntos,Gasolina(comum/aditiva) e Etanol.\n",
    "dados_agrupados_estado = conjunto_dados.copy()\n",
    "\n",
    "media_combs_estados = dados_agrupados_estado.groupby(dados_agrupados_estado['Estado - Sigla'])[['Valor de Venda']].mean()\n",
    "media_combs_estados.columns = ['Preço Médio']"
   ]
  },
  {
   "cell_type": "code",
   "execution_count": 36,
   "metadata": {},
   "outputs": [
    {
     "data": {
      "image/png": "[encoded data removed]",
      "text/plain": [
       "<Figure size 432x288 with 1 Axes>"
      ]
     },
     "metadata": {
      "needs_background": "light"
     },
     "output_type": "display_data"
    }
   ],
   "source": [
    "media_combs_estados.sort_values(by='Preço Médio', ascending=False).head().plot(kind='bar', ylim=5.5);"
   ]
  },
  {
   "cell_type": "code",
   "execution_count": 37,
   "metadata": {},
   "outputs": [
    {
     "name": "stdout",
     "output_type": "stream",
     "text": [
      "OS 5 ESTADOS COM O MAIOR PREÇO MÉDIO DE GASOLINA COMUM/ADITIVADA E ETANOL NO BIMESTRE.\n"
     ]
    },
    {
     "data": {
      "text/html": [
       "<div>\n",
       "<style scoped>\n",
       "    .dataframe tbody tr th:only-of-type {\n",
       "        vertical-align: middle;\n",
       "    }\n",
       "\n",
       "    .dataframe tbody tr th {\n",
       "        vertical-align: top;\n",
       "    }\n",
       "\n",
       "    .dataframe thead th {\n",
       "        text-align: right;\n",
       "    }\n",
       "</style>\n",
       "<table border=\"1\" class=\"dataframe\">\n",
       "  <thead>\n",
       "    <tr style=\"text-align: right;\">\n",
       "      <th></th>\n",
       "      <th>Preço Médio</th>\n",
       "    </tr>\n",
       "    <tr>\n",
       "      <th>Estado - Sigla</th>\n",
       "      <th></th>\n",
       "    </tr>\n",
       "  </thead>\n",
       "  <tbody>\n",
       "    <tr>\n",
       "      <th>RR</th>\n",
       "      <td>6.020909</td>\n",
       "    </tr>\n",
       "    <tr>\n",
       "      <th>PA</th>\n",
       "      <td>5.998639</td>\n",
       "    </tr>\n",
       "    <tr>\n",
       "      <th>AC</th>\n",
       "      <td>5.996797</td>\n",
       "    </tr>\n",
       "    <tr>\n",
       "      <th>CE</th>\n",
       "      <td>5.867937</td>\n",
       "    </tr>\n",
       "    <tr>\n",
       "      <th>RN</th>\n",
       "      <td>5.852482</td>\n",
       "    </tr>\n",
       "  </tbody>\n",
       "</table>\n",
       "</div>"
      ],
      "text/plain": [
       "                Preço Médio\n",
       "Estado - Sigla             \n",
       "RR                 6.020909\n",
       "PA                 5.998639\n",
       "AC                 5.996797\n",
       "CE                 5.867937\n",
       "RN                 5.852482"
      ]
     },
     "metadata": {},
     "output_type": "display_data"
    }
   ],
   "source": [
    "print('OS 5 ESTADOS COM O MAIOR PREÇO MÉDIO DE GASOLINA COMUM/ADITIVADA E ETANOL NO BIMESTRE.')\n",
    "display(media_combs_estados.sort_values(by='Preço Médio', ascending=False).head())"
   ]
  },
  {
   "cell_type": "code",
   "execution_count": 38,
   "metadata": {},
   "outputs": [],
   "source": [
    "# Fazendo a média bimestral com a Gasolina, Gasolina Aditivada e o Etanol separados.\n",
    "\n",
    "# GAS ADITIVADA\n",
    "media_gas_adt_estado = dados_agrupados_estado.loc[dados_agrupados_estado['Produto'] == 'Gasolina Aditivada'].groupby(dados_agrupados_estado['Estado - Sigla'])\n",
    "\n",
    "df_media_gas_adt_estado = media_gas_adt_estado[['Valor de Venda']].mean()\n",
    "df_media_gas_adt_estado.columns = ['Preço Médio']"
   ]
  },
  {
   "cell_type": "code",
   "execution_count": 39,
   "metadata": {
    "scrolled": false
   },
   "outputs": [
    {
     "data": {
      "image/png": "[encoded data removed]",
      "text/plain": [
       "<Figure size 432x288 with 1 Axes>"
      ]
     },
     "metadata": {
      "needs_background": "light"
     },
     "output_type": "display_data"
    }
   ],
   "source": [
    "df_media_gas_adt_estado.sort_values(by='Preço Médio', ascending=False).head().plot(kind='bar', ylim=5.5);"
   ]
  },
  {
   "cell_type": "code",
   "execution_count": 40,
   "metadata": {},
   "outputs": [
    {
     "name": "stdout",
     "output_type": "stream",
     "text": [
      "OS 5 ESTADOS COM O MAIOR PREÇO MÉDIO DE GASOLINA ADITIVADA NO BIMESTRE.\n"
     ]
    },
    {
     "data": {
      "text/html": [
       "<div>\n",
       "<style scoped>\n",
       "    .dataframe tbody tr th:only-of-type {\n",
       "        vertical-align: middle;\n",
       "    }\n",
       "\n",
       "    .dataframe tbody tr th {\n",
       "        vertical-align: top;\n",
       "    }\n",
       "\n",
       "    .dataframe thead th {\n",
       "        text-align: right;\n",
       "    }\n",
       "</style>\n",
       "<table border=\"1\" class=\"dataframe\">\n",
       "  <thead>\n",
       "    <tr style=\"text-align: right;\">\n",
       "      <th></th>\n",
       "      <th>Preço Médio</th>\n",
       "    </tr>\n",
       "    <tr>\n",
       "      <th>Estado - Sigla</th>\n",
       "      <th></th>\n",
       "    </tr>\n",
       "  </thead>\n",
       "  <tbody>\n",
       "    <tr>\n",
       "      <th>PI</th>\n",
       "      <td>6.314518</td>\n",
       "    </tr>\n",
       "    <tr>\n",
       "      <th>CE</th>\n",
       "      <td>6.197571</td>\n",
       "    </tr>\n",
       "    <tr>\n",
       "      <th>AC</th>\n",
       "      <td>6.177801</td>\n",
       "    </tr>\n",
       "    <tr>\n",
       "      <th>TO</th>\n",
       "      <td>6.176667</td>\n",
       "    </tr>\n",
       "    <tr>\n",
       "      <th>PA</th>\n",
       "      <td>6.174368</td>\n",
       "    </tr>\n",
       "  </tbody>\n",
       "</table>\n",
       "</div>"
      ],
      "text/plain": [
       "                Preço Médio\n",
       "Estado - Sigla             \n",
       "PI                 6.314518\n",
       "CE                 6.197571\n",
       "AC                 6.177801\n",
       "TO                 6.176667\n",
       "PA                 6.174368"
      ]
     },
     "metadata": {},
     "output_type": "display_data"
    }
   ],
   "source": [
    "print('OS 5 ESTADOS COM O MAIOR PREÇO MÉDIO DE GASOLINA ADITIVADA NO BIMESTRE.')\n",
    "display(df_media_gas_adt_estado.sort_values(by='Preço Médio', ascending=False).head())"
   ]
  },
  {
   "cell_type": "code",
   "execution_count": 41,
   "metadata": {
    "scrolled": true
   },
   "outputs": [],
   "source": [
    "# GASOLINA\n",
    "\n",
    "media_gas_estado = dados_agrupados_estado.loc[dados_agrupados_estado['Produto'] == 'Gasolina'].groupby(dados_agrupados_estado['Estado - Sigla'])\n",
    "df_media_gas_estado = media_gas_estado[['Valor de Venda']].mean()\n",
    "df_media_gas_estado.columns = ['Preço Médio']"
   ]
  },
  {
   "cell_type": "code",
   "execution_count": 42,
   "metadata": {
    "scrolled": false
   },
   "outputs": [
    {
     "data": {
      "image/png": "[encoded data removed]",
      "text/plain": [
       "<Figure size 432x288 with 1 Axes>"
      ]
     },
     "metadata": {
      "needs_background": "light"
     },
     "output_type": "display_data"
    }
   ],
   "source": [
    "df_media_gas_estado.sort_values(by='Preço Médio', ascending=False).head().plot(kind='bar', ylim=5.5);"
   ]
  },
  {
   "cell_type": "code",
   "execution_count": 43,
   "metadata": {},
   "outputs": [
    {
     "name": "stdout",
     "output_type": "stream",
     "text": [
      "OS 5 ESTADOS COM O MAIOR PREÇO MÉDIO DE GASOLINA COMUM NO BIMESTRE.\n"
     ]
    },
    {
     "data": {
      "text/html": [
       "<div>\n",
       "<style scoped>\n",
       "    .dataframe tbody tr th:only-of-type {\n",
       "        vertical-align: middle;\n",
       "    }\n",
       "\n",
       "    .dataframe tbody tr th {\n",
       "        vertical-align: top;\n",
       "    }\n",
       "\n",
       "    .dataframe thead th {\n",
       "        text-align: right;\n",
       "    }\n",
       "</style>\n",
       "<table border=\"1\" class=\"dataframe\">\n",
       "  <thead>\n",
       "    <tr style=\"text-align: right;\">\n",
       "      <th></th>\n",
       "      <th>Preço Médio</th>\n",
       "    </tr>\n",
       "    <tr>\n",
       "      <th>Estado - Sigla</th>\n",
       "      <th></th>\n",
       "    </tr>\n",
       "  </thead>\n",
       "  <tbody>\n",
       "    <tr>\n",
       "      <th>AC</th>\n",
       "      <td>6.211454</td>\n",
       "    </tr>\n",
       "    <tr>\n",
       "      <th>AM</th>\n",
       "      <td>6.188049</td>\n",
       "    </tr>\n",
       "    <tr>\n",
       "      <th>PI</th>\n",
       "      <td>6.075050</td>\n",
       "    </tr>\n",
       "    <tr>\n",
       "      <th>TO</th>\n",
       "      <td>6.046250</td>\n",
       "    </tr>\n",
       "    <tr>\n",
       "      <th>BA</th>\n",
       "      <td>6.030862</td>\n",
       "    </tr>\n",
       "  </tbody>\n",
       "</table>\n",
       "</div>"
      ],
      "text/plain": [
       "                Preço Médio\n",
       "Estado - Sigla             \n",
       "AC                 6.211454\n",
       "AM                 6.188049\n",
       "PI                 6.075050\n",
       "TO                 6.046250\n",
       "BA                 6.030862"
      ]
     },
     "metadata": {},
     "output_type": "display_data"
    }
   ],
   "source": [
    "print('OS 5 ESTADOS COM O MAIOR PREÇO MÉDIO DE GASOLINA COMUM NO BIMESTRE.')\n",
    "display(df_media_gas_estado.sort_values(by='Preço Médio', ascending=False).head())"
   ]
  },
  {
   "cell_type": "code",
   "execution_count": 44,
   "metadata": {
    "scrolled": true
   },
   "outputs": [],
   "source": [
    "# ETANOL\n",
    "\n",
    "media_etanol_estado = dados_agrupados_estado.loc[dados_agrupados_estado['Produto'] == 'Etanol'].groupby(dados_agrupados_estado['Estado - Sigla'])\n",
    "df_media_etanol_estado = media_etanol_estado[['Valor de Venda']].mean()\n",
    "df_media_etanol_estado.columns = ['Preço Médio']"
   ]
  },
  {
   "cell_type": "code",
   "execution_count": 45,
   "metadata": {
    "scrolled": true
   },
   "outputs": [
    {
     "data": {
      "image/png": "[encoded data removed]",
      "text/plain": [
       "<Figure size 432x288 with 1 Axes>"
      ]
     },
     "metadata": {
      "needs_background": "light"
     },
     "output_type": "display_data"
    }
   ],
   "source": [
    "df_media_etanol_estado.sort_values(by='Preço Médio', ascending=False).head().plot(kind='bar', ylim=5.0);"
   ]
  },
  {
   "cell_type": "code",
   "execution_count": 46,
   "metadata": {},
   "outputs": [
    {
     "name": "stdout",
     "output_type": "stream",
     "text": [
      "OS 5 ESTADOS COM O MAIOR PREÇO MÉDIO DE ETANOL NO BIMESTRE.\n"
     ]
    },
    {
     "data": {
      "text/html": [
       "<div>\n",
       "<style scoped>\n",
       "    .dataframe tbody tr th:only-of-type {\n",
       "        vertical-align: middle;\n",
       "    }\n",
       "\n",
       "    .dataframe tbody tr th {\n",
       "        vertical-align: top;\n",
       "    }\n",
       "\n",
       "    .dataframe thead th {\n",
       "        text-align: right;\n",
       "    }\n",
       "</style>\n",
       "<table border=\"1\" class=\"dataframe\">\n",
       "  <thead>\n",
       "    <tr style=\"text-align: right;\">\n",
       "      <th></th>\n",
       "      <th>Preço Médio</th>\n",
       "    </tr>\n",
       "    <tr>\n",
       "      <th>Estado - Sigla</th>\n",
       "      <th></th>\n",
       "    </tr>\n",
       "  </thead>\n",
       "  <tbody>\n",
       "    <tr>\n",
       "      <th>AP</th>\n",
       "      <td>5.896250</td>\n",
       "    </tr>\n",
       "    <tr>\n",
       "      <th>RS</th>\n",
       "      <td>5.660152</td>\n",
       "    </tr>\n",
       "    <tr>\n",
       "      <th>PA</th>\n",
       "      <td>5.624816</td>\n",
       "    </tr>\n",
       "    <tr>\n",
       "      <th>RO</th>\n",
       "      <td>5.599120</td>\n",
       "    </tr>\n",
       "    <tr>\n",
       "      <th>RR</th>\n",
       "      <td>5.568182</td>\n",
       "    </tr>\n",
       "  </tbody>\n",
       "</table>\n",
       "</div>"
      ],
      "text/plain": [
       "                Preço Médio\n",
       "Estado - Sigla             \n",
       "AP                 5.896250\n",
       "RS                 5.660152\n",
       "PA                 5.624816\n",
       "RO                 5.599120\n",
       "RR                 5.568182"
      ]
     },
     "metadata": {},
     "output_type": "display_data"
    }
   ],
   "source": [
    "print('OS 5 ESTADOS COM O MAIOR PREÇO MÉDIO DE ETANOL NO BIMESTRE.')\n",
    "display(df_media_etanol_estado.sort_values(by='Preço Médio', ascending=False).head())"
   ]
  },
  {
   "cell_type": "code",
   "execution_count": 47,
   "metadata": {
    "scrolled": false
   },
   "outputs": [],
   "source": [
    "# 4. Qual o preço médio da gasolina e do etanol por estado?\n",
    "\n",
    "# Fazendo a média bimestral da Gasolina,da Gasolina Aditivada e do Etanol.\n",
    "df_media_comb_estado = pd.concat([df_media_gas_adt_estado, df_media_gas_estado, df_media_etanol_estado], axis=1)\n",
    "df_media_comb_estado.columns = ['Gasolina Aditivada','Gasolina Comum','Etanol']"
   ]
  },
  {
   "cell_type": "code",
   "execution_count": 48,
   "metadata": {},
   "outputs": [
    {
     "data": {
      "image/png": "[encoded data removed]",
      "text/plain": [
       "<Figure size 1800x720 with 8 Axes>"
      ]
     },
     "metadata": {
      "needs_background": "light"
     },
     "output_type": "display_data"
    }
   ],
   "source": [
    "df_media_comb_estado.plot(kind='bar', figsize=(25,10), subplots=True, layout=(2,4) , ylim = 3.5, ylabel = 'Preço Médio dos Combustíveis')\n",
    "plt.tight_layout()"
   ]
  },
  {
   "cell_type": "code",
   "execution_count": 49,
   "metadata": {},
   "outputs": [
    {
     "name": "stdout",
     "output_type": "stream",
     "text": [
      "Tabela com a média dos combustíveis por estado:\n",
      "\n"
     ]
    },
    {
     "data": {
      "text/html": [
       "<style type=\"text/css\">\n",
       "#T_07554_row0_col1, #T_07554_row3_col2, #T_07554_row16_col0 {\n",
       "  background-color: #CF0909;\n",
       "}\n",
       "#T_07554_row3_col0, #T_07554_row3_col1, #T_07554_row12_col2 {\n",
       "  background-color: #0C9E02;\n",
       "}\n",
       "</style>\n",
       "<table id=\"T_07554\">\n",
       "  <thead>\n",
       "    <tr>\n",
       "      <th class=\"blank level0\" >&nbsp;</th>\n",
       "      <th id=\"T_07554_level0_col0\" class=\"col_heading level0 col0\" >Gasolina Aditivada</th>\n",
       "      <th id=\"T_07554_level0_col1\" class=\"col_heading level0 col1\" >Gasolina Comum</th>\n",
       "      <th id=\"T_07554_level0_col2\" class=\"col_heading level0 col2\" >Etanol</th>\n",
       "    </tr>\n",
       "    <tr>\n",
       "      <th class=\"index_name level0\" >Estado - Sigla</th>\n",
       "      <th class=\"blank col0\" >&nbsp;</th>\n",
       "      <th class=\"blank col1\" >&nbsp;</th>\n",
       "      <th class=\"blank col2\" >&nbsp;</th>\n",
       "    </tr>\n",
       "  </thead>\n",
       "  <tbody>\n",
       "    <tr>\n",
       "      <th id=\"T_07554_level0_row0\" class=\"row_heading level0 row0\" >AC</th>\n",
       "      <td id=\"T_07554_row0_col0\" class=\"data row0 col0\" >6.177801</td>\n",
       "      <td id=\"T_07554_row0_col1\" class=\"data row0 col1\" >6.211454</td>\n",
       "      <td id=\"T_07554_row0_col2\" class=\"data row0 col2\" >5.376684</td>\n",
       "    </tr>\n",
       "    <tr>\n",
       "      <th id=\"T_07554_level0_row1\" class=\"row_heading level0 row1\" >AL</th>\n",
       "      <td id=\"T_07554_row1_col0\" class=\"data row1 col0\" >6.101433</td>\n",
       "      <td id=\"T_07554_row1_col1\" class=\"data row1 col1\" >5.944651</td>\n",
       "      <td id=\"T_07554_row1_col2\" class=\"data row1 col2\" >5.240854</td>\n",
       "    </tr>\n",
       "    <tr>\n",
       "      <th id=\"T_07554_level0_row2\" class=\"row_heading level0 row2\" >AM</th>\n",
       "      <td id=\"T_07554_row2_col0\" class=\"data row2 col0\" >6.117741</td>\n",
       "      <td id=\"T_07554_row2_col1\" class=\"data row2 col1\" >6.188049</td>\n",
       "      <td id=\"T_07554_row2_col2\" class=\"data row2 col2\" >4.952985</td>\n",
       "    </tr>\n",
       "    <tr>\n",
       "      <th id=\"T_07554_level0_row3\" class=\"row_heading level0 row3\" >AP</th>\n",
       "      <td id=\"T_07554_row3_col0\" class=\"data row3 col0\" >5.433056</td>\n",
       "      <td id=\"T_07554_row3_col1\" class=\"data row3 col1\" >5.107056</td>\n",
       "      <td id=\"T_07554_row3_col2\" class=\"data row3 col2\" >5.896250</td>\n",
       "    </tr>\n",
       "    <tr>\n",
       "      <th id=\"T_07554_level0_row4\" class=\"row_heading level0 row4\" >BA</th>\n",
       "      <td id=\"T_07554_row4_col0\" class=\"data row4 col0\" >6.140488</td>\n",
       "      <td id=\"T_07554_row4_col1\" class=\"data row4 col1\" >6.030862</td>\n",
       "      <td id=\"T_07554_row4_col2\" class=\"data row4 col2\" >5.074360</td>\n",
       "    </tr>\n",
       "    <tr>\n",
       "      <th id=\"T_07554_level0_row5\" class=\"row_heading level0 row5\" >CE</th>\n",
       "      <td id=\"T_07554_row5_col0\" class=\"data row5 col0\" >6.197571</td>\n",
       "      <td id=\"T_07554_row5_col1\" class=\"data row5 col1\" >5.955275</td>\n",
       "      <td id=\"T_07554_row5_col2\" class=\"data row5 col2\" >5.482219</td>\n",
       "    </tr>\n",
       "    <tr>\n",
       "      <th id=\"T_07554_level0_row6\" class=\"row_heading level0 row6\" >DF</th>\n",
       "      <td id=\"T_07554_row6_col0\" class=\"data row6 col0\" >5.699895</td>\n",
       "      <td id=\"T_07554_row6_col1\" class=\"data row6 col1\" >5.600662</td>\n",
       "      <td id=\"T_07554_row6_col2\" class=\"data row6 col2\" >4.749265</td>\n",
       "    </tr>\n",
       "    <tr>\n",
       "      <th id=\"T_07554_level0_row7\" class=\"row_heading level0 row7\" >ES</th>\n",
       "      <td id=\"T_07554_row7_col0\" class=\"data row7 col0\" >5.931265</td>\n",
       "      <td id=\"T_07554_row7_col1\" class=\"data row7 col1\" >5.796058</td>\n",
       "      <td id=\"T_07554_row7_col2\" class=\"data row7 col2\" >4.963646</td>\n",
       "    </tr>\n",
       "    <tr>\n",
       "      <th id=\"T_07554_level0_row8\" class=\"row_heading level0 row8\" >GO</th>\n",
       "      <td id=\"T_07554_row8_col0\" class=\"data row8 col0\" >5.648403</td>\n",
       "      <td id=\"T_07554_row8_col1\" class=\"data row8 col1\" >5.518703</td>\n",
       "      <td id=\"T_07554_row8_col2\" class=\"data row8 col2\" >4.060479</td>\n",
       "    </tr>\n",
       "    <tr>\n",
       "      <th id=\"T_07554_level0_row9\" class=\"row_heading level0 row9\" >MA</th>\n",
       "      <td id=\"T_07554_row9_col0\" class=\"data row9 col0\" >6.045485</td>\n",
       "      <td id=\"T_07554_row9_col1\" class=\"data row9 col1\" >5.949016</td>\n",
       "      <td id=\"T_07554_row9_col2\" class=\"data row9 col2\" >5.332013</td>\n",
       "    </tr>\n",
       "    <tr>\n",
       "      <th id=\"T_07554_level0_row10\" class=\"row_heading level0 row10\" >MG</th>\n",
       "      <td id=\"T_07554_row10_col0\" class=\"data row10 col0\" >5.829993</td>\n",
       "      <td id=\"T_07554_row10_col1\" class=\"data row10 col1\" >5.669344</td>\n",
       "      <td id=\"T_07554_row10_col2\" class=\"data row10 col2\" >4.250565</td>\n",
       "    </tr>\n",
       "    <tr>\n",
       "      <th id=\"T_07554_level0_row11\" class=\"row_heading level0 row11\" >MS</th>\n",
       "      <td id=\"T_07554_row11_col0\" class=\"data row11 col0\" >5.695257</td>\n",
       "      <td id=\"T_07554_row11_col1\" class=\"data row11 col1\" >5.557874</td>\n",
       "      <td id=\"T_07554_row11_col2\" class=\"data row11 col2\" >4.407469</td>\n",
       "    </tr>\n",
       "    <tr>\n",
       "      <th id=\"T_07554_level0_row12\" class=\"row_heading level0 row12\" >MT</th>\n",
       "      <td id=\"T_07554_row12_col0\" class=\"data row12 col0\" >5.854049</td>\n",
       "      <td id=\"T_07554_row12_col1\" class=\"data row12 col1\" >5.680068</td>\n",
       "      <td id=\"T_07554_row12_col2\" class=\"data row12 col2\" >3.805687</td>\n",
       "    </tr>\n",
       "    <tr>\n",
       "      <th id=\"T_07554_level0_row13\" class=\"row_heading level0 row13\" >PA</th>\n",
       "      <td id=\"T_07554_row13_col0\" class=\"data row13 col0\" >6.174368</td>\n",
       "      <td id=\"T_07554_row13_col1\" class=\"data row13 col1\" >6.014379</td>\n",
       "      <td id=\"T_07554_row13_col2\" class=\"data row13 col2\" >5.624816</td>\n",
       "    </tr>\n",
       "    <tr>\n",
       "      <th id=\"T_07554_level0_row14\" class=\"row_heading level0 row14\" >PB</th>\n",
       "      <td id=\"T_07554_row14_col0\" class=\"data row14 col0\" >5.929968</td>\n",
       "      <td id=\"T_07554_row14_col1\" class=\"data row14 col1\" >5.748032</td>\n",
       "      <td id=\"T_07554_row14_col2\" class=\"data row14 col2\" >5.103019</td>\n",
       "    </tr>\n",
       "    <tr>\n",
       "      <th id=\"T_07554_level0_row15\" class=\"row_heading level0 row15\" >PE</th>\n",
       "      <td id=\"T_07554_row15_col0\" class=\"data row15 col0\" >6.078777</td>\n",
       "      <td id=\"T_07554_row15_col1\" class=\"data row15 col1\" >5.928172</td>\n",
       "      <td id=\"T_07554_row15_col2\" class=\"data row15 col2\" >5.344424</td>\n",
       "    </tr>\n",
       "    <tr>\n",
       "      <th id=\"T_07554_level0_row16\" class=\"row_heading level0 row16\" >PI</th>\n",
       "      <td id=\"T_07554_row16_col0\" class=\"data row16 col0\" >6.314518</td>\n",
       "      <td id=\"T_07554_row16_col1\" class=\"data row16 col1\" >6.075050</td>\n",
       "      <td id=\"T_07554_row16_col2\" class=\"data row16 col2\" >4.987114</td>\n",
       "    </tr>\n",
       "    <tr>\n",
       "      <th id=\"T_07554_level0_row17\" class=\"row_heading level0 row17\" >PR</th>\n",
       "      <td id=\"T_07554_row17_col0\" class=\"data row17 col0\" >5.786076</td>\n",
       "      <td id=\"T_07554_row17_col1\" class=\"data row17 col1\" >5.630792</td>\n",
       "      <td id=\"T_07554_row17_col2\" class=\"data row17 col2\" >4.422551</td>\n",
       "    </tr>\n",
       "    <tr>\n",
       "      <th id=\"T_07554_level0_row18\" class=\"row_heading level0 row18\" >RJ</th>\n",
       "      <td id=\"T_07554_row18_col0\" class=\"data row18 col0\" >5.972310</td>\n",
       "      <td id=\"T_07554_row18_col1\" class=\"data row18 col1\" >5.840389</td>\n",
       "      <td id=\"T_07554_row18_col2\" class=\"data row18 col2\" >4.874418</td>\n",
       "    </tr>\n",
       "    <tr>\n",
       "      <th id=\"T_07554_level0_row19\" class=\"row_heading level0 row19\" >RN</th>\n",
       "      <td id=\"T_07554_row19_col0\" class=\"data row19 col0\" >6.067014</td>\n",
       "      <td id=\"T_07554_row19_col1\" class=\"data row19 col1\" >6.029264</td>\n",
       "      <td id=\"T_07554_row19_col2\" class=\"data row19 col2\" >5.482434</td>\n",
       "    </tr>\n",
       "    <tr>\n",
       "      <th id=\"T_07554_level0_row20\" class=\"row_heading level0 row20\" >RO</th>\n",
       "      <td id=\"T_07554_row20_col0\" class=\"data row20 col0\" >5.956371</td>\n",
       "      <td id=\"T_07554_row20_col1\" class=\"data row20 col1\" >5.833149</td>\n",
       "      <td id=\"T_07554_row20_col2\" class=\"data row20 col2\" >5.599120</td>\n",
       "    </tr>\n",
       "    <tr>\n",
       "      <th id=\"T_07554_level0_row21\" class=\"row_heading level0 row21\" >RR</th>\n",
       "      <td id=\"T_07554_row21_col0\" class=\"data row21 col0\" >6.155534</td>\n",
       "      <td id=\"T_07554_row21_col1\" class=\"data row21 col1\" >6.030085</td>\n",
       "      <td id=\"T_07554_row21_col2\" class=\"data row21 col2\" >5.568182</td>\n",
       "    </tr>\n",
       "    <tr>\n",
       "      <th id=\"T_07554_level0_row22\" class=\"row_heading level0 row22\" >RS</th>\n",
       "      <td id=\"T_07554_row22_col0\" class=\"data row22 col0\" >5.767893</td>\n",
       "      <td id=\"T_07554_row22_col1\" class=\"data row22 col1\" >5.628316</td>\n",
       "      <td id=\"T_07554_row22_col2\" class=\"data row22 col2\" >5.660152</td>\n",
       "    </tr>\n",
       "    <tr>\n",
       "      <th id=\"T_07554_level0_row23\" class=\"row_heading level0 row23\" >SC</th>\n",
       "      <td id=\"T_07554_row23_col0\" class=\"data row23 col0\" >5.782513</td>\n",
       "      <td id=\"T_07554_row23_col1\" class=\"data row23 col1\" >5.675602</td>\n",
       "      <td id=\"T_07554_row23_col2\" class=\"data row23 col2\" >5.214084</td>\n",
       "    </tr>\n",
       "    <tr>\n",
       "      <th id=\"T_07554_level0_row24\" class=\"row_heading level0 row24\" >SE</th>\n",
       "      <td id=\"T_07554_row24_col0\" class=\"data row24 col0\" >5.675429</td>\n",
       "      <td id=\"T_07554_row24_col1\" class=\"data row24 col1\" >5.575627</td>\n",
       "      <td id=\"T_07554_row24_col2\" class=\"data row24 col2\" >5.092656</td>\n",
       "    </tr>\n",
       "    <tr>\n",
       "      <th id=\"T_07554_level0_row25\" class=\"row_heading level0 row25\" >SP</th>\n",
       "      <td id=\"T_07554_row25_col0\" class=\"data row25 col0\" >5.773200</td>\n",
       "      <td id=\"T_07554_row25_col1\" class=\"data row25 col1\" >5.527844</td>\n",
       "      <td id=\"T_07554_row25_col2\" class=\"data row25 col2\" >3.895819</td>\n",
       "    </tr>\n",
       "    <tr>\n",
       "      <th id=\"T_07554_level0_row26\" class=\"row_heading level0 row26\" >TO</th>\n",
       "      <td id=\"T_07554_row26_col0\" class=\"data row26 col0\" >6.176667</td>\n",
       "      <td id=\"T_07554_row26_col1\" class=\"data row26 col1\" >6.046250</td>\n",
       "      <td id=\"T_07554_row26_col2\" class=\"data row26 col2\" >5.151095</td>\n",
       "    </tr>\n",
       "  </tbody>\n",
       "</table>\n"
      ],
      "text/plain": [
       "<pandas.io.formats.style.Styler at 0x167885b0>"
      ]
     },
     "execution_count": 49,
     "metadata": {},
     "output_type": "execute_result"
    }
   ],
   "source": [
    "print('Tabela com a média dos combustíveis por estado:\\n')\n",
    "\n",
    "df_media_comb_estado.style.highlight_max(color='#CF0909', axis=0).highlight_min(color='#0C9E02')"
   ]
  },
  {
   "cell_type": "code",
   "execution_count": 50,
   "metadata": {},
   "outputs": [],
   "source": [
    "# 5-Qual o município que possui o menor preço para a gasolina e para o etanol?\n",
    "\n",
    "# primeiro, criamos um dataframe novo agrupando os dados de Produto e Municipio\n",
    "produto_municipio = conjunto_dados.groupby([\"Produto\", \"Estado - Sigla\", 'Municipio'])"
   ]
  },
  {
   "cell_type": "code",
   "execution_count": 51,
   "metadata": {
    "scrolled": true
   },
   "outputs": [
    {
     "data": {
      "text/html": [
       "<div>\n",
       "<style scoped>\n",
       "    .dataframe tbody tr th:only-of-type {\n",
       "        vertical-align: middle;\n",
       "    }\n",
       "\n",
       "    .dataframe tbody tr th {\n",
       "        vertical-align: top;\n",
       "    }\n",
       "\n",
       "    .dataframe thead th {\n",
       "        text-align: right;\n",
       "    }\n",
       "</style>\n",
       "<table border=\"1\" class=\"dataframe\">\n",
       "  <thead>\n",
       "    <tr style=\"text-align: right;\">\n",
       "      <th></th>\n",
       "      <th></th>\n",
       "      <th></th>\n",
       "      <th>Menor Preço</th>\n",
       "    </tr>\n",
       "    <tr>\n",
       "      <th>Produto</th>\n",
       "      <th>Estado - Sigla</th>\n",
       "      <th>Municipio</th>\n",
       "      <th></th>\n",
       "    </tr>\n",
       "  </thead>\n",
       "  <tbody>\n",
       "    <tr>\n",
       "      <th>Etanol</th>\n",
       "      <th>SP</th>\n",
       "      <th>Presidente Prudente</th>\n",
       "      <td>2.89</td>\n",
       "    </tr>\n",
       "    <tr>\n",
       "      <th>Gasolina</th>\n",
       "      <th>RS</th>\n",
       "      <th>Passo Fundo</th>\n",
       "      <td>4.13</td>\n",
       "    </tr>\n",
       "    <tr>\n",
       "      <th>Gasolina Aditivada</th>\n",
       "      <th>RS</th>\n",
       "      <th>Passo Fundo</th>\n",
       "      <td>4.13</td>\n",
       "    </tr>\n",
       "  </tbody>\n",
       "</table>\n",
       "</div>"
      ],
      "text/plain": [
       "                                                       Menor Preço\n",
       "Produto            Estado - Sigla Municipio                       \n",
       "Etanol             SP             Presidente Prudente         2.89\n",
       "Gasolina           RS             Passo Fundo                 4.13\n",
       "Gasolina Aditivada RS             Passo Fundo                 4.13"
      ]
     },
     "execution_count": 51,
     "metadata": {},
     "output_type": "execute_result"
    }
   ],
   "source": [
    "# Em seguida, extraimos apenas os valores mínimos, de acordo com a pergunta\n",
    "min_municipio = produto_municipio[['Valor de Venda']].min()\n",
    "\n",
    "# Criamos um dataframe contendo apenas os dados que retornavam as querys contendo Etanol, classificamos pelos valor de venda e resetamos o index na primeira linha\n",
    "min_municipio_etanol = min_municipio.query(\"Produto == 'Etanol'\").sort_values(by='Valor de Venda').head(1)\n",
    "\n",
    "# Criamos um dataframe contendo apenas os dados que retornavam as querys contendo Gasolina, classificamos pelos valor de venda e resetamos o index na primeira linha\n",
    "min_municipio_gas = min_municipio.query(\"Produto == 'Gasolina'\").sort_values(by='Valor de Venda').head(1)\n",
    "\n",
    "# Criamos um dataframe contendo apenas os dados que retornavam as querys contendo Gasolina Aditivada, classificamos pelos valor de venda e resetamos o index na primeira linha\n",
    "min_municipio_gas_adi = min_municipio.query(\"Produto == 'Gasolina Aditivada'\").sort_values(by='Valor de Venda').head(1)\n",
    "\n",
    "# Concatenamos os três arquivos\n",
    "minimas = pd.concat([min_municipio_etanol, min_municipio_gas, min_municipio_gas_adi])\n",
    "minimas.columns = ['Menor Preço']\n",
    "minimas"
   ]
  },
  {
   "cell_type": "code",
   "execution_count": 52,
   "metadata": {},
   "outputs": [
    {
     "data": {
      "text/html": [
       "<div>\n",
       "<style scoped>\n",
       "    .dataframe tbody tr th:only-of-type {\n",
       "        vertical-align: middle;\n",
       "    }\n",
       "\n",
       "    .dataframe tbody tr th {\n",
       "        vertical-align: top;\n",
       "    }\n",
       "\n",
       "    .dataframe thead th {\n",
       "        text-align: right;\n",
       "    }\n",
       "</style>\n",
       "<table border=\"1\" class=\"dataframe\">\n",
       "  <thead>\n",
       "    <tr style=\"text-align: right;\">\n",
       "      <th></th>\n",
       "      <th></th>\n",
       "      <th></th>\n",
       "      <th>Maior Preço</th>\n",
       "    </tr>\n",
       "    <tr>\n",
       "      <th>Produto</th>\n",
       "      <th>Estado - Sigla</th>\n",
       "      <th>Municipio</th>\n",
       "      <th></th>\n",
       "    </tr>\n",
       "  </thead>\n",
       "  <tbody>\n",
       "    <tr>\n",
       "      <th>Etanol</th>\n",
       "      <th>RS</th>\n",
       "      <th>Uruguaiana</th>\n",
       "      <td>6.19</td>\n",
       "    </tr>\n",
       "    <tr>\n",
       "      <th>Gasolina</th>\n",
       "      <th>TO</th>\n",
       "      <th>Gurupi</th>\n",
       "      <td>8.75</td>\n",
       "    </tr>\n",
       "    <tr>\n",
       "      <th>Gasolina Aditivada</th>\n",
       "      <th>RJ</th>\n",
       "      <th>Mage</th>\n",
       "      <td>9.27</td>\n",
       "    </tr>\n",
       "  </tbody>\n",
       "</table>\n",
       "</div>"
      ],
      "text/plain": [
       "                                              Maior Preço\n",
       "Produto            Estado - Sigla Municipio              \n",
       "Etanol             RS             Uruguaiana         6.19\n",
       "Gasolina           TO             Gurupi             8.75\n",
       "Gasolina Aditivada RJ             Mage               9.27"
      ]
     },
     "execution_count": 52,
     "metadata": {},
     "output_type": "execute_result"
    }
   ],
   "source": [
    "# 6-Qual o município que possui o maior preço para a gasolina e para o etanol?\n",
    "\n",
    "# extraimos apenas os valores máximos, de acordo com a pergunta\n",
    "max_municipio = produto_municipio[['Valor de Venda']].max()\n",
    "\n",
    "# Criamos um dataframe contendo apenas os dados que retornavam as querys contendo Etanol, classificamos pelos valor de venda e resetamos o index na primeira linha\n",
    "max_municipio_etanol = min_municipio.query(\"Produto == 'Etanol'\").sort_values(by='Valor de Venda', ascending=False).head(1)\n",
    "\n",
    "# Criamos um dataframe contendo apenas os dados que retornavam as querys contendo Gasolina, classificamos pelos valor de venda e resetamos o index na primeira linha\n",
    "max_municipio_gas = max_municipio.query(\"Produto == 'Gasolina'\").sort_values(by='Valor de Venda', ascending=False).head(1)\n",
    "\n",
    "# Criamos um dataframe contendo apenas os dados que retornavam as querys contendo Gasolina Aditivada, classificamos pelos valor de venda e resetamos o index na primeira linha\n",
    "max_municipio_gas_adi = max_municipio.query(\"Produto == 'Gasolina Aditivada'\").sort_values(by='Valor de Venda', ascending=False).head(1)\n",
    "\n",
    "# Concatenamos os três arquivos\n",
    "maximas = pd.concat([max_municipio_etanol, max_municipio_gas, max_municipio_gas_adi])\n",
    "maximas.columns = ['Maior Preço']\n",
    "maximas"
   ]
  },
  {
   "cell_type": "code",
   "execution_count": 80,
   "metadata": {
    "scrolled": false
   },
   "outputs": [
    {
     "data": {
      "text/html": [
       "<style type=\"text/css\">\n",
       "#T_8b27f_row1_col0 {\n",
       "  background-color: #CF0909;\n",
       "}\n",
       "</style>\n",
       "<table id=\"T_8b27f\">\n",
       "  <thead>\n",
       "    <tr>\n",
       "      <th class=\"blank level0\" >&nbsp;</th>\n",
       "      <th id=\"T_8b27f_level0_col0\" class=\"col_heading level0 col0\" >Maior Valor Médio - Gasolina</th>\n",
       "    </tr>\n",
       "    <tr>\n",
       "      <th class=\"index_name level0\" >Regiao - Sigla</th>\n",
       "      <th class=\"blank col0\" >&nbsp;</th>\n",
       "    </tr>\n",
       "  </thead>\n",
       "  <tbody>\n",
       "    <tr>\n",
       "      <th id=\"T_8b27f_level0_row0\" class=\"row_heading level0 row0\" >CO</th>\n",
       "      <td id=\"T_8b27f_row0_col0\" class=\"data row0 col0\" >5.581603</td>\n",
       "    </tr>\n",
       "    <tr>\n",
       "      <th id=\"T_8b27f_level0_row1\" class=\"row_heading level0 row1\" >N</th>\n",
       "      <td id=\"T_8b27f_row1_col0\" class=\"data row1 col0\" >5.972082</td>\n",
       "    </tr>\n",
       "    <tr>\n",
       "      <th id=\"T_8b27f_level0_row2\" class=\"row_heading level0 row2\" >NE</th>\n",
       "      <td id=\"T_8b27f_row2_col0\" class=\"data row2 col0\" >5.955809</td>\n",
       "    </tr>\n",
       "    <tr>\n",
       "      <th id=\"T_8b27f_level0_row3\" class=\"row_heading level0 row3\" >S</th>\n",
       "      <td id=\"T_8b27f_row3_col0\" class=\"data row3 col0\" >5.641161</td>\n",
       "    </tr>\n",
       "    <tr>\n",
       "      <th id=\"T_8b27f_level0_row4\" class=\"row_heading level0 row4\" >SE</th>\n",
       "      <td id=\"T_8b27f_row4_col0\" class=\"data row4 col0\" >5.615655</td>\n",
       "    </tr>\n",
       "  </tbody>\n",
       "</table>\n"
      ],
      "text/plain": [
       "<pandas.io.formats.style.Styler at 0x16ac6580>"
      ]
     },
     "execution_count": 80,
     "metadata": {},
     "output_type": "execute_result"
    }
   ],
   "source": [
    "# 7. Qual a região que possui o maior valor médio da gasolina?\n",
    "\n",
    "# Criando uma cópia do DF original onde temos apenas os registros da Gasolina\n",
    "df_gas = conjunto_dados.query('Produto == \"Gasolina\"').copy()\n",
    "\n",
    "# Ordenando o novo dataframe com o valor de venda da gasolina por região\n",
    "produtos_gas = df_gas.groupby(['Produto', 'Regiao - Sigla'])[['Valor de Venda']].mean()\n",
    "produtos_gas.columns = ['Maior Valor Médio']\n",
    "\n",
    "novo = produtos_gas.unstack(level = 0).copy()\n",
    "novo_gas = novo['Maior Valor Médio']['Gasolina']\n",
    "produtos_gas= pd.DataFrame([novo_gas])\n",
    "produtos_gas = produtos_gas.T\n",
    "produtos_gas = produtos_gas.rename(columns={'Gasolina':'Maior Valor Médio - Gasolina'})\n",
    "\n",
    "produtos_gas.style.highlight_max(color='#CF0909')"
   ]
  },
  {
   "cell_type": "code",
   "execution_count": 54,
   "metadata": {},
   "outputs": [
    {
     "data": {
      "image/png": "[encoded data removed]",
      "text/plain": [
       "<Figure size 720x360 with 1 Axes>"
      ]
     },
     "metadata": {
      "needs_background": "light"
     },
     "output_type": "display_data"
    }
   ],
   "source": [
    "produtos_gas.unstack(level=0).plot(kind='bar', figsize=(10,5), layout=(2,3), ylim=5.0)\n",
    "\n",
    "for index, values in enumerate(produtos_gas['Maior Valor Médio'].values):\n",
    "    plt.text(index, values, str(f'R$ {values:.3f}'), horizontalalignment='center', verticalalignment='bottom', fontdict={'fontweight':500, 'size':12})\n",
    "\n",
    "plt.show()"
   ]
  },
  {
   "cell_type": "code",
   "execution_count": 81,
   "metadata": {},
   "outputs": [
    {
     "data": {
      "text/html": [
       "<style type=\"text/css\">\n",
       "#T_e1fa2_row2_col0 {\n",
       "  background-color: #CF0909;\n",
       "}\n",
       "</style>\n",
       "<table id=\"T_e1fa2\">\n",
       "  <thead>\n",
       "    <tr>\n",
       "      <th class=\"blank level0\" >&nbsp;</th>\n",
       "      <th id=\"T_e1fa2_level0_col0\" class=\"col_heading level0 col0\" >Maior Valor Médio - Gasolina Aditivada</th>\n",
       "    </tr>\n",
       "    <tr>\n",
       "      <th class=\"index_name level0\" >Regiao - Sigla</th>\n",
       "      <th class=\"blank col0\" >&nbsp;</th>\n",
       "    </tr>\n",
       "  </thead>\n",
       "  <tbody>\n",
       "    <tr>\n",
       "      <th id=\"T_e1fa2_level0_row0\" class=\"row_heading level0 row0\" >CO</th>\n",
       "      <td id=\"T_e1fa2_row0_col0\" class=\"data row0 col0\" >5.721266</td>\n",
       "    </tr>\n",
       "    <tr>\n",
       "      <th id=\"T_e1fa2_level0_row1\" class=\"row_heading level0 row1\" >N</th>\n",
       "      <td id=\"T_e1fa2_row1_col0\" class=\"data row1 col0\" >6.105695</td>\n",
       "    </tr>\n",
       "    <tr>\n",
       "      <th id=\"T_e1fa2_level0_row2\" class=\"row_heading level0 row2\" >NE</th>\n",
       "      <td id=\"T_e1fa2_row2_col0\" class=\"data row2 col0\" >6.109450</td>\n",
       "    </tr>\n",
       "    <tr>\n",
       "      <th id=\"T_e1fa2_level0_row3\" class=\"row_heading level0 row3\" >S</th>\n",
       "      <td id=\"T_e1fa2_row3_col0\" class=\"data row3 col0\" >5.777628</td>\n",
       "    </tr>\n",
       "    <tr>\n",
       "      <th id=\"T_e1fa2_level0_row4\" class=\"row_heading level0 row4\" >SE</th>\n",
       "      <td id=\"T_e1fa2_row4_col0\" class=\"data row4 col0\" >5.827207</td>\n",
       "    </tr>\n",
       "  </tbody>\n",
       "</table>\n"
      ],
      "text/plain": [
       "<pandas.io.formats.style.Styler at 0x169bc190>"
      ]
     },
     "execution_count": 81,
     "metadata": {},
     "output_type": "execute_result"
    }
   ],
   "source": [
    "# Criando uma cópia do DF original onde temos apenas os registros da Gasolina Aditivada\n",
    "df_gas_adi = conjunto_dados.query('Produto == \"Gasolina Aditivada\"').copy()\n",
    "\n",
    "# Ordenando o novo dataframe com o valor de venda da gasolina aditivada por região\n",
    "produtos_gas_adi = df_gas_adi.groupby(['Produto', 'Regiao - Sigla'])[['Valor de Venda']].mean()\n",
    "produtos_gas_adi.columns = ['Maior Valor Médio']\n",
    "\n",
    "novo = produtos_gas_adi.unstack(level = 0).copy()\n",
    "novo_gas_adi = novo['Maior Valor Médio']['Gasolina Aditivada']\n",
    "produtos_gas_adi = pd.DataFrame([novo_gas_adi])\n",
    "produtos_gas_adi = produtos_gas_adi.T\n",
    "produtos_gas_adi = produtos_gas_adi.rename(columns={'Gasolina Aditivada':'Maior Valor Médio - Gasolina Aditivada'})\n",
    "\n",
    "produtos_gas_adi.style.highlight_max(color='#CF0909')"
   ]
  },
  {
   "cell_type": "code",
   "execution_count": 56,
   "metadata": {},
   "outputs": [
    {
     "data": {
      "image/png": "[encoded data removed]",
      "text/plain": [
       "<Figure size 720x360 with 1 Axes>"
      ]
     },
     "metadata": {
      "needs_background": "light"
     },
     "output_type": "display_data"
    }
   ],
   "source": [
    "produtos_gas_adi.unstack(level=0).plot(kind='bar', figsize=(10,5), layout=(2,3), ylim=5.0)\n",
    "\n",
    "for index, values in enumerate(produtos_gas_adi['Maior Valor Médio'].values):\n",
    "    plt.text(index, values, str(f'R$ {values:.3f}'), horizontalalignment='center', verticalalignment='bottom', fontdict={'fontweight':500, 'size':12})\n",
    "\n",
    "plt.show()"
   ]
  },
  {
   "cell_type": "code",
   "execution_count": 82,
   "metadata": {
    "scrolled": true
   },
   "outputs": [
    {
     "data": {
      "text/html": [
       "<style type=\"text/css\">\n",
       "#T_e987e_row0_col0 {\n",
       "  background-color: #0C9E02;\n",
       "}\n",
       "</style>\n",
       "<table id=\"T_e987e\">\n",
       "  <thead>\n",
       "    <tr>\n",
       "      <th class=\"blank level0\" >&nbsp;</th>\n",
       "      <th id=\"T_e987e_level0_col0\" class=\"col_heading level0 col0\" >Menor Valor Médio - Etanol</th>\n",
       "    </tr>\n",
       "    <tr>\n",
       "      <th class=\"index_name level0\" >Regiao - Sigla</th>\n",
       "      <th class=\"blank col0\" >&nbsp;</th>\n",
       "    </tr>\n",
       "  </thead>\n",
       "  <tbody>\n",
       "    <tr>\n",
       "      <th id=\"T_e987e_level0_row0\" class=\"row_heading level0 row0\" >CO</th>\n",
       "      <td id=\"T_e987e_row0_col0\" class=\"data row0 col0\" >4.107305</td>\n",
       "    </tr>\n",
       "    <tr>\n",
       "      <th id=\"T_e987e_level0_row1\" class=\"row_heading level0 row1\" >N</th>\n",
       "      <td id=\"T_e987e_row1_col0\" class=\"data row1 col0\" >5.340633</td>\n",
       "    </tr>\n",
       "    <tr>\n",
       "      <th id=\"T_e987e_level0_row2\" class=\"row_heading level0 row2\" >NE</th>\n",
       "      <td id=\"T_e987e_row2_col0\" class=\"data row2 col0\" >5.246069</td>\n",
       "    </tr>\n",
       "    <tr>\n",
       "      <th id=\"T_e987e_level0_row3\" class=\"row_heading level0 row3\" >S</th>\n",
       "      <td id=\"T_e987e_row3_col0\" class=\"data row3 col0\" >4.842372</td>\n",
       "    </tr>\n",
       "    <tr>\n",
       "      <th id=\"T_e987e_level0_row4\" class=\"row_heading level0 row4\" >SE</th>\n",
       "      <td id=\"T_e987e_row4_col0\" class=\"data row4 col0\" >4.149964</td>\n",
       "    </tr>\n",
       "  </tbody>\n",
       "</table>\n"
      ],
      "text/plain": [
       "<pandas.io.formats.style.Styler at 0x16788550>"
      ]
     },
     "execution_count": 82,
     "metadata": {},
     "output_type": "execute_result"
    }
   ],
   "source": [
    "# 8. Qual a região que possui o menor valor médio do etanol?\n",
    "\n",
    "# Criando uma cópia do DF original onde temos apenas os registros do Etanol\n",
    "df_etanol = conjunto_dados.query('Produto == \"Etanol\"').copy()\n",
    "\n",
    "# Ordenando o novo dataframe com o valor de venda do etanol por região\n",
    "produtos_etanol = df_etanol.groupby(['Produto', 'Regiao - Sigla'])[['Valor de Venda']].mean()\n",
    "produtos_etanol.columns = ['Menor Valor Médio']\n",
    "\n",
    "novo = produtos_etanol.unstack(level = 0).copy()\n",
    "novo_et = novo['Menor Valor Médio']['Etanol']\n",
    "produtos_etanol = pd.DataFrame([novo_et])\n",
    "produtos_etanol = produtos_etanol.T\n",
    "produtos_etanol = produtos_etanol.rename(columns={'Etanol':'Menor Valor Médio - Etanol'}) \n",
    "\n",
    "produtos_etanol.style.highlight_min(color='#0C9E02')"
   ]
  },
  {
   "cell_type": "code",
   "execution_count": 58,
   "metadata": {},
   "outputs": [
    {
     "data": {
      "image/png": "[encoded data removed]",
      "text/plain": [
       "<Figure size 720x360 with 1 Axes>"
      ]
     },
     "metadata": {
      "needs_background": "light"
     },
     "output_type": "display_data"
    }
   ],
   "source": [
    "produtos_etanol.unstack(level=0).plot(kind='bar', figsize=(10,5), layout=(2,3), ylim=3.5)\n",
    "\n",
    "for index, values in enumerate(produtos_etanol['Menor Valor Médio'].values):\n",
    "    plt.text(index, values, str(f'R$ {values:.3f}'), horizontalalignment='center', verticalalignment='bottom', fontdict={'fontweight':500, 'size':12})\n",
    "\n",
    "plt.show()"
   ]
  },
  {
   "cell_type": "code",
   "execution_count": 59,
   "metadata": {},
   "outputs": [],
   "source": [
    "#9. Há alguma correlação entre o valor do combustível (gasolina e etanol) e a região onde ele é vendido?\n",
    "#   Há uma correlação positiva muito forte entre os valores do combustível com base na média por região."
   ]
  },
  {
   "cell_type": "code",
   "execution_count": 83,
   "metadata": {
    "scrolled": false
   },
   "outputs": [
    {
     "data": {
      "text/html": [
       "<div>\n",
       "<style scoped>\n",
       "    .dataframe tbody tr th:only-of-type {\n",
       "        vertical-align: middle;\n",
       "    }\n",
       "\n",
       "    .dataframe tbody tr th {\n",
       "        vertical-align: top;\n",
       "    }\n",
       "\n",
       "    .dataframe thead th {\n",
       "        text-align: right;\n",
       "    }\n",
       "</style>\n",
       "<table border=\"1\" class=\"dataframe\">\n",
       "  <thead>\n",
       "    <tr style=\"text-align: right;\">\n",
       "      <th></th>\n",
       "      <th>Etanol</th>\n",
       "      <th>Gasolina</th>\n",
       "      <th>Gasolina Aditivada</th>\n",
       "    </tr>\n",
       "    <tr>\n",
       "      <th>Regiao - Sigla</th>\n",
       "      <th></th>\n",
       "      <th></th>\n",
       "      <th></th>\n",
       "    </tr>\n",
       "  </thead>\n",
       "  <tbody>\n",
       "    <tr>\n",
       "      <th>CO</th>\n",
       "      <td>4.107305</td>\n",
       "      <td>5.581603</td>\n",
       "      <td>5.721266</td>\n",
       "    </tr>\n",
       "    <tr>\n",
       "      <th>N</th>\n",
       "      <td>5.340633</td>\n",
       "      <td>5.972082</td>\n",
       "      <td>6.105695</td>\n",
       "    </tr>\n",
       "    <tr>\n",
       "      <th>NE</th>\n",
       "      <td>5.246069</td>\n",
       "      <td>5.955809</td>\n",
       "      <td>6.109450</td>\n",
       "    </tr>\n",
       "    <tr>\n",
       "      <th>S</th>\n",
       "      <td>4.842372</td>\n",
       "      <td>5.641161</td>\n",
       "      <td>5.777628</td>\n",
       "    </tr>\n",
       "    <tr>\n",
       "      <th>SE</th>\n",
       "      <td>4.149964</td>\n",
       "      <td>5.615655</td>\n",
       "      <td>5.827207</td>\n",
       "    </tr>\n",
       "  </tbody>\n",
       "</table>\n",
       "</div>"
      ],
      "text/plain": [
       "                  Etanol  Gasolina  Gasolina Aditivada\n",
       "Regiao - Sigla                                        \n",
       "CO              4.107305  5.581603            5.721266\n",
       "N               5.340633  5.972082            6.105695\n",
       "NE              5.246069  5.955809            6.109450\n",
       "S               4.842372  5.641161            5.777628\n",
       "SE              4.149964  5.615655            5.827207"
      ]
     },
     "metadata": {},
     "output_type": "display_data"
    }
   ],
   "source": [
    "media_combs_regiao = conjunto_dados.groupby(['Regiao - Sigla','Produto'])[['Valor de Venda']].mean()\n",
    "media_combs_regiao.columns = ['Preço Médio']\n",
    "\n",
    "novo = media_combs_regiao.unstack().copy()\n",
    "novo_etanol = novo['Preço Médio']['Etanol']\n",
    "novo_gas = novo['Preço Médio']['Gasolina']\n",
    "novo_gasadt = novo['Preço Médio']['Gasolina Aditivada']\n",
    "novo_df = pd.DataFrame(data = [novo_etanol,novo_gas,novo_gasadt])\n",
    "nova_media_combs_regiao = novo_df.swapaxes('index','columns')\n",
    "display(nova_media_combs_regiao)"
   ]
  },
  {
   "cell_type": "code",
   "execution_count": 84,
   "metadata": {},
   "outputs": [
    {
     "data": {
      "text/html": [
       "<div>\n",
       "<style scoped>\n",
       "    .dataframe tbody tr th:only-of-type {\n",
       "        vertical-align: middle;\n",
       "    }\n",
       "\n",
       "    .dataframe tbody tr th {\n",
       "        vertical-align: top;\n",
       "    }\n",
       "\n",
       "    .dataframe thead th {\n",
       "        text-align: right;\n",
       "    }\n",
       "</style>\n",
       "<table border=\"1\" class=\"dataframe\">\n",
       "  <thead>\n",
       "    <tr style=\"text-align: right;\">\n",
       "      <th></th>\n",
       "      <th>Etanol</th>\n",
       "      <th>Gasolina</th>\n",
       "      <th>Gasolina Aditivada</th>\n",
       "    </tr>\n",
       "    <tr>\n",
       "      <th>Regiao - Sigla</th>\n",
       "      <th></th>\n",
       "      <th></th>\n",
       "      <th></th>\n",
       "    </tr>\n",
       "  </thead>\n",
       "  <tbody>\n",
       "    <tr>\n",
       "      <th>CO</th>\n",
       "      <td>4.107305</td>\n",
       "      <td>5.581603</td>\n",
       "      <td>5.721266</td>\n",
       "    </tr>\n",
       "    <tr>\n",
       "      <th>N</th>\n",
       "      <td>5.340633</td>\n",
       "      <td>5.972082</td>\n",
       "      <td>6.105695</td>\n",
       "    </tr>\n",
       "    <tr>\n",
       "      <th>NE</th>\n",
       "      <td>5.246069</td>\n",
       "      <td>5.955809</td>\n",
       "      <td>6.109450</td>\n",
       "    </tr>\n",
       "    <tr>\n",
       "      <th>S</th>\n",
       "      <td>4.842372</td>\n",
       "      <td>5.641161</td>\n",
       "      <td>5.777628</td>\n",
       "    </tr>\n",
       "    <tr>\n",
       "      <th>SE</th>\n",
       "      <td>4.149964</td>\n",
       "      <td>5.615655</td>\n",
       "      <td>5.827207</td>\n",
       "    </tr>\n",
       "  </tbody>\n",
       "</table>\n",
       "</div>"
      ],
      "text/plain": [
       "                  Etanol  Gasolina  Gasolina Aditivada\n",
       "Regiao - Sigla                                        \n",
       "CO              4.107305  5.581603            5.721266\n",
       "N               5.340633  5.972082            6.105695\n",
       "NE              5.246069  5.955809            6.109450\n",
       "S               4.842372  5.641161            5.777628\n",
       "SE              4.149964  5.615655            5.827207"
      ]
     },
     "execution_count": 84,
     "metadata": {},
     "output_type": "execute_result"
    }
   ],
   "source": [
    "media_regiao_2 = media_combs_regiao.unstack('Regiao - Sigla', 'Produto')\n",
    "nova_media_rg2 = media_regiao_2['Preço Médio'].copy().T\n",
    "nova_media_rg2.columns.name = ''\n",
    "nova_media_rg2\n",
    "\n",
    "# Plotar gráfico multi-barras e explciar a correlação a partir dai"
   ]
  },
  {
   "cell_type": "code",
   "execution_count": 85,
   "metadata": {},
   "outputs": [
    {
     "data": {
      "image/png": "[encoded data removed]",
      "text/plain": [
       "<Figure size 1080x720 with 1 Axes>"
      ]
     },
     "metadata": {
      "needs_background": "light"
     },
     "output_type": "display_data"
    }
   ],
   "source": [
    "ax = nova_media_rg2.plot()\n",
    "nova_media_rg2.plot(marker = 'o', linestyle = 'none', color = 'g', ax = ax, figsize=(15,10));"
   ]
  },
  {
   "cell_type": "code",
   "execution_count": 63,
   "metadata": {},
   "outputs": [],
   "source": [
    "# 10. Há alguma correlação entre o valor do combustível (gasolina e etanol) e a bandeira que vende ele?"
   ]
  },
  {
   "cell_type": "code",
   "execution_count": 64,
   "metadata": {},
   "outputs": [
    {
     "data": {
      "text/html": [
       "<div>\n",
       "<style scoped>\n",
       "    .dataframe tbody tr th:only-of-type {\n",
       "        vertical-align: middle;\n",
       "    }\n",
       "\n",
       "    .dataframe tbody tr th {\n",
       "        vertical-align: top;\n",
       "    }\n",
       "\n",
       "    .dataframe thead th {\n",
       "        text-align: right;\n",
       "    }\n",
       "</style>\n",
       "<table border=\"1\" class=\"dataframe\">\n",
       "  <thead>\n",
       "    <tr style=\"text-align: right;\">\n",
       "      <th></th>\n",
       "      <th></th>\n",
       "      <th>Valor de Venda</th>\n",
       "    </tr>\n",
       "    <tr>\n",
       "      <th>Bandeira</th>\n",
       "      <th>Produto</th>\n",
       "      <th></th>\n",
       "    </tr>\n",
       "  </thead>\n",
       "  <tbody>\n",
       "    <tr>\n",
       "      <th rowspan=\"3\" valign=\"top\">Alesat</th>\n",
       "      <th>Etanol</th>\n",
       "      <td>4.657715</td>\n",
       "    </tr>\n",
       "    <tr>\n",
       "      <th>Gasolina</th>\n",
       "      <td>5.798276</td>\n",
       "    </tr>\n",
       "    <tr>\n",
       "      <th>Gasolina Aditivada</th>\n",
       "      <td>5.925192</td>\n",
       "    </tr>\n",
       "    <tr>\n",
       "      <th rowspan=\"2\" valign=\"top\">Americanoil</th>\n",
       "      <th>Etanol</th>\n",
       "      <td>5.190000</td>\n",
       "    </tr>\n",
       "    <tr>\n",
       "      <th>Gasolina</th>\n",
       "      <td>5.847826</td>\n",
       "    </tr>\n",
       "    <tr>\n",
       "      <th>...</th>\n",
       "      <th>...</th>\n",
       "      <td>...</td>\n",
       "    </tr>\n",
       "    <tr>\n",
       "      <th rowspan=\"2\" valign=\"top\">Walendowsky</th>\n",
       "      <th>Gasolina</th>\n",
       "      <td>5.852222</td>\n",
       "    </tr>\n",
       "    <tr>\n",
       "      <th>Gasolina Aditivada</th>\n",
       "      <td>5.862222</td>\n",
       "    </tr>\n",
       "    <tr>\n",
       "      <th rowspan=\"3\" valign=\"top\">Watt</th>\n",
       "      <th>Etanol</th>\n",
       "      <td>4.104545</td>\n",
       "    </tr>\n",
       "    <tr>\n",
       "      <th>Gasolina</th>\n",
       "      <td>6.027273</td>\n",
       "    </tr>\n",
       "    <tr>\n",
       "      <th>Gasolina Aditivada</th>\n",
       "      <td>6.960000</td>\n",
       "    </tr>\n",
       "  </tbody>\n",
       "</table>\n",
       "<p>145 rows × 1 columns</p>\n",
       "</div>"
      ],
      "text/plain": [
       "                                Valor de Venda\n",
       "Bandeira    Produto                           \n",
       "Alesat      Etanol                    4.657715\n",
       "            Gasolina                  5.798276\n",
       "            Gasolina Aditivada        5.925192\n",
       "Americanoil Etanol                    5.190000\n",
       "            Gasolina                  5.847826\n",
       "...                                        ...\n",
       "Walendowsky Gasolina                  5.852222\n",
       "            Gasolina Aditivada        5.862222\n",
       "Watt        Etanol                    4.104545\n",
       "            Gasolina                  6.027273\n",
       "            Gasolina Aditivada        6.960000\n",
       "\n",
       "[145 rows x 1 columns]"
      ]
     },
     "execution_count": 64,
     "metadata": {},
     "output_type": "execute_result"
    }
   ],
   "source": [
    "media_combs_bandeira = conjunto_dados.groupby(['Bandeira', 'Produto'])[['Valor de Venda']].mean()\n",
    "media_combs_bandeira"
   ]
  },
  {
   "cell_type": "code",
   "execution_count": 65,
   "metadata": {
    "scrolled": true
   },
   "outputs": [
    {
     "data": {
      "text/html": [
       "<div>\n",
       "<style scoped>\n",
       "    .dataframe tbody tr th:only-of-type {\n",
       "        vertical-align: middle;\n",
       "    }\n",
       "\n",
       "    .dataframe tbody tr th {\n",
       "        vertical-align: top;\n",
       "    }\n",
       "\n",
       "    .dataframe thead tr th {\n",
       "        text-align: left;\n",
       "    }\n",
       "\n",
       "    .dataframe thead tr:last-of-type th {\n",
       "        text-align: right;\n",
       "    }\n",
       "</style>\n",
       "<table border=\"1\" class=\"dataframe\">\n",
       "  <thead>\n",
       "    <tr>\n",
       "      <th></th>\n",
       "      <th colspan=\"3\" halign=\"left\">Valor de Venda</th>\n",
       "    </tr>\n",
       "    <tr>\n",
       "      <th>Produto</th>\n",
       "      <th>Etanol</th>\n",
       "      <th>Gasolina</th>\n",
       "      <th>Gasolina Aditivada</th>\n",
       "    </tr>\n",
       "    <tr>\n",
       "      <th>Bandeira</th>\n",
       "      <th></th>\n",
       "      <th></th>\n",
       "      <th></th>\n",
       "    </tr>\n",
       "  </thead>\n",
       "  <tbody>\n",
       "    <tr>\n",
       "      <th>Alesat</th>\n",
       "      <td>4.657715</td>\n",
       "      <td>5.798276</td>\n",
       "      <td>5.925192</td>\n",
       "    </tr>\n",
       "    <tr>\n",
       "      <th>Americanoil</th>\n",
       "      <td>5.190000</td>\n",
       "      <td>5.847826</td>\n",
       "      <td>5.915333</td>\n",
       "    </tr>\n",
       "    <tr>\n",
       "      <th>Atem' S</th>\n",
       "      <td>5.158268</td>\n",
       "      <td>5.974562</td>\n",
       "      <td>5.916859</td>\n",
       "    </tr>\n",
       "    <tr>\n",
       "      <th>Atlântica</th>\n",
       "      <td>4.942308</td>\n",
       "      <td>5.791750</td>\n",
       "      <td>5.837419</td>\n",
       "    </tr>\n",
       "    <tr>\n",
       "      <th>Branca</th>\n",
       "      <td>4.373859</td>\n",
       "      <td>5.645761</td>\n",
       "      <td>5.762779</td>\n",
       "    </tr>\n",
       "  </tbody>\n",
       "</table>\n",
       "</div>"
      ],
      "text/plain": [
       "            Valor de Venda                             \n",
       "Produto             Etanol  Gasolina Gasolina Aditivada\n",
       "Bandeira                                               \n",
       "Alesat            4.657715  5.798276           5.925192\n",
       "Americanoil       5.190000  5.847826           5.915333\n",
       "Atem' S           5.158268  5.974562           5.916859\n",
       "Atlântica         4.942308  5.791750           5.837419\n",
       "Branca            4.373859  5.645761           5.762779"
      ]
     },
     "execution_count": 65,
     "metadata": {},
     "output_type": "execute_result"
    }
   ],
   "source": [
    "media_bandeira_1 = media_combs_bandeira.unstack()\n",
    "media_bandeira_1.head()\n",
    "\n",
    "# Verificar o que cada bandeira vende, pois isso pode explicar os valores nulos em alguma delas"
   ]
  },
  {
   "cell_type": "code",
   "execution_count": 66,
   "metadata": {},
   "outputs": [
    {
     "data": {
      "text/html": [
       "<div>\n",
       "<style scoped>\n",
       "    .dataframe tbody tr th:only-of-type {\n",
       "        vertical-align: middle;\n",
       "    }\n",
       "\n",
       "    .dataframe tbody tr th {\n",
       "        vertical-align: top;\n",
       "    }\n",
       "\n",
       "    .dataframe thead tr th {\n",
       "        text-align: left;\n",
       "    }\n",
       "</style>\n",
       "<table border=\"1\" class=\"dataframe\">\n",
       "  <thead>\n",
       "    <tr>\n",
       "      <th></th>\n",
       "      <th>Bandeira</th>\n",
       "      <th colspan=\"3\" halign=\"left\">Valor de Venda</th>\n",
       "    </tr>\n",
       "    <tr>\n",
       "      <th>Produto</th>\n",
       "      <th></th>\n",
       "      <th>Etanol</th>\n",
       "      <th>Gasolina</th>\n",
       "      <th>Gasolina Aditivada</th>\n",
       "    </tr>\n",
       "  </thead>\n",
       "  <tbody>\n",
       "    <tr>\n",
       "      <th>0</th>\n",
       "      <td>Alesat</td>\n",
       "      <td>4.657715</td>\n",
       "      <td>5.798276</td>\n",
       "      <td>5.925192</td>\n",
       "    </tr>\n",
       "    <tr>\n",
       "      <th>1</th>\n",
       "      <td>Americanoil</td>\n",
       "      <td>5.190000</td>\n",
       "      <td>5.847826</td>\n",
       "      <td>5.915333</td>\n",
       "    </tr>\n",
       "    <tr>\n",
       "      <th>2</th>\n",
       "      <td>Atem' S</td>\n",
       "      <td>5.158268</td>\n",
       "      <td>5.974562</td>\n",
       "      <td>5.916859</td>\n",
       "    </tr>\n",
       "    <tr>\n",
       "      <th>3</th>\n",
       "      <td>Atlântica</td>\n",
       "      <td>4.942308</td>\n",
       "      <td>5.791750</td>\n",
       "      <td>5.837419</td>\n",
       "    </tr>\n",
       "    <tr>\n",
       "      <th>4</th>\n",
       "      <td>Branca</td>\n",
       "      <td>4.373859</td>\n",
       "      <td>5.645761</td>\n",
       "      <td>5.762779</td>\n",
       "    </tr>\n",
       "  </tbody>\n",
       "</table>\n",
       "</div>"
      ],
      "text/plain": [
       "            Bandeira Valor de Venda                             \n",
       "Produto                      Etanol  Gasolina Gasolina Aditivada\n",
       "0             Alesat       4.657715  5.798276           5.925192\n",
       "1        Americanoil       5.190000  5.847826           5.915333\n",
       "2            Atem' S       5.158268  5.974562           5.916859\n",
       "3          Atlântica       4.942308  5.791750           5.837419\n",
       "4             Branca       4.373859  5.645761           5.762779"
      ]
     },
     "execution_count": 66,
     "metadata": {},
     "output_type": "execute_result"
    }
   ],
   "source": [
    "media_bandeira_1.reset_index(inplace=True)\n",
    "media_bandeira_1.head()"
   ]
  },
  {
   "cell_type": "code",
   "execution_count": 67,
   "metadata": {},
   "outputs": [
    {
     "data": {
      "text/html": [
       "<div>\n",
       "<style scoped>\n",
       "    .dataframe tbody tr th:only-of-type {\n",
       "        vertical-align: middle;\n",
       "    }\n",
       "\n",
       "    .dataframe tbody tr th {\n",
       "        vertical-align: top;\n",
       "    }\n",
       "\n",
       "    .dataframe thead th {\n",
       "        text-align: right;\n",
       "    }\n",
       "</style>\n",
       "<table border=\"1\" class=\"dataframe\">\n",
       "  <thead>\n",
       "    <tr style=\"text-align: right;\">\n",
       "      <th></th>\n",
       "      <th>Regiao - Sigla</th>\n",
       "      <th>Estado - Sigla</th>\n",
       "      <th>Municipio</th>\n",
       "      <th>Revenda</th>\n",
       "      <th>CNPJ da Revenda</th>\n",
       "      <th>Nome da Rua</th>\n",
       "      <th>Numero Rua</th>\n",
       "      <th>Complemento</th>\n",
       "      <th>Bairro</th>\n",
       "      <th>Cep</th>\n",
       "      <th>Produto</th>\n",
       "      <th>Data da Coleta</th>\n",
       "      <th>Valor de Venda</th>\n",
       "      <th>Unidade de Medida</th>\n",
       "      <th>Bandeira</th>\n",
       "      <th>Dias da Semana</th>\n",
       "    </tr>\n",
       "  </thead>\n",
       "  <tbody>\n",
       "    <tr>\n",
       "      <th>4801</th>\n",
       "      <td>S</td>\n",
       "      <td>RS</td>\n",
       "      <td>Sao Gabriel</td>\n",
       "      <td>Jp Santa Lucia Comercio De Combustiveis Ltda</td>\n",
       "      <td>17.695.813/0019-75</td>\n",
       "      <td>Rua Mario Avancini Dos Santos</td>\n",
       "      <td>34</td>\n",
       "      <td>0</td>\n",
       "      <td>Gabrielense</td>\n",
       "      <td>97306-002</td>\n",
       "      <td>Gasolina Aditivada</td>\n",
       "      <td>2022-07-04</td>\n",
       "      <td>7.14</td>\n",
       "      <td>R$ / litro</td>\n",
       "      <td>Sul Combustíveis</td>\n",
       "      <td>Segunda</td>\n",
       "    </tr>\n",
       "    <tr>\n",
       "      <th>4802</th>\n",
       "      <td>S</td>\n",
       "      <td>RS</td>\n",
       "      <td>Sao Gabriel</td>\n",
       "      <td>Jp Santa Lucia Comercio De Combustiveis Ltda</td>\n",
       "      <td>17.695.813/0019-75</td>\n",
       "      <td>Rua Mario Avancini Dos Santos</td>\n",
       "      <td>34</td>\n",
       "      <td>0</td>\n",
       "      <td>Gabrielense</td>\n",
       "      <td>97306-002</td>\n",
       "      <td>Gasolina</td>\n",
       "      <td>2022-07-04</td>\n",
       "      <td>6.99</td>\n",
       "      <td>R$ / litro</td>\n",
       "      <td>Sul Combustíveis</td>\n",
       "      <td>Segunda</td>\n",
       "    </tr>\n",
       "    <tr>\n",
       "      <th>8313</th>\n",
       "      <td>S</td>\n",
       "      <td>RS</td>\n",
       "      <td>Santa Maria</td>\n",
       "      <td>Treino Comercio De Combustiveis - Eireli</td>\n",
       "      <td>33.517.308/0001-68</td>\n",
       "      <td>Rua Assis Brasil</td>\n",
       "      <td>395</td>\n",
       "      <td>0</td>\n",
       "      <td>Itarare</td>\n",
       "      <td>97045-070</td>\n",
       "      <td>Gasolina Aditivada</td>\n",
       "      <td>2022-07-05</td>\n",
       "      <td>6.49</td>\n",
       "      <td>R$ / litro</td>\n",
       "      <td>Sul Combustíveis</td>\n",
       "      <td>Terça</td>\n",
       "    </tr>\n",
       "    <tr>\n",
       "      <th>8314</th>\n",
       "      <td>S</td>\n",
       "      <td>RS</td>\n",
       "      <td>Santa Maria</td>\n",
       "      <td>Treino Comercio De Combustiveis - Eireli</td>\n",
       "      <td>33.517.308/0001-68</td>\n",
       "      <td>Rua Assis Brasil</td>\n",
       "      <td>395</td>\n",
       "      <td>0</td>\n",
       "      <td>Itarare</td>\n",
       "      <td>97045-070</td>\n",
       "      <td>Gasolina</td>\n",
       "      <td>2022-07-05</td>\n",
       "      <td>6.39</td>\n",
       "      <td>R$ / litro</td>\n",
       "      <td>Sul Combustíveis</td>\n",
       "      <td>Terça</td>\n",
       "    </tr>\n",
       "    <tr>\n",
       "      <th>18441</th>\n",
       "      <td>S</td>\n",
       "      <td>RS</td>\n",
       "      <td>Santa Maria</td>\n",
       "      <td>Treino Comercio De Combustiveis - Eireli</td>\n",
       "      <td>33.517.308/0001-68</td>\n",
       "      <td>Rua Assis Brasil</td>\n",
       "      <td>395</td>\n",
       "      <td>0</td>\n",
       "      <td>Itarare</td>\n",
       "      <td>97045-070</td>\n",
       "      <td>Gasolina</td>\n",
       "      <td>2022-07-11</td>\n",
       "      <td>5.83</td>\n",
       "      <td>R$ / litro</td>\n",
       "      <td>Sul Combustíveis</td>\n",
       "      <td>Segunda</td>\n",
       "    </tr>\n",
       "  </tbody>\n",
       "</table>\n",
       "</div>"
      ],
      "text/plain": [
       "      Regiao - Sigla Estado - Sigla    Municipio  \\\n",
       "4801               S             RS  Sao Gabriel   \n",
       "4802               S             RS  Sao Gabriel   \n",
       "8313               S             RS  Santa Maria   \n",
       "8314               S             RS  Santa Maria   \n",
       "18441              S             RS  Santa Maria   \n",
       "\n",
       "                                            Revenda      CNPJ da Revenda  \\\n",
       "4801   Jp Santa Lucia Comercio De Combustiveis Ltda   17.695.813/0019-75   \n",
       "4802   Jp Santa Lucia Comercio De Combustiveis Ltda   17.695.813/0019-75   \n",
       "8313       Treino Comercio De Combustiveis - Eireli   33.517.308/0001-68   \n",
       "8314       Treino Comercio De Combustiveis - Eireli   33.517.308/0001-68   \n",
       "18441      Treino Comercio De Combustiveis - Eireli   33.517.308/0001-68   \n",
       "\n",
       "                         Nome da Rua Numero Rua Complemento       Bairro  \\\n",
       "4801   Rua Mario Avancini Dos Santos         34           0  Gabrielense   \n",
       "4802   Rua Mario Avancini Dos Santos         34           0  Gabrielense   \n",
       "8313                Rua Assis Brasil        395           0      Itarare   \n",
       "8314                Rua Assis Brasil        395           0      Itarare   \n",
       "18441               Rua Assis Brasil        395           0      Itarare   \n",
       "\n",
       "             Cep             Produto Data da Coleta  Valor de Venda  \\\n",
       "4801   97306-002  Gasolina Aditivada     2022-07-04            7.14   \n",
       "4802   97306-002            Gasolina     2022-07-04            6.99   \n",
       "8313   97045-070  Gasolina Aditivada     2022-07-05            6.49   \n",
       "8314   97045-070            Gasolina     2022-07-05            6.39   \n",
       "18441  97045-070            Gasolina     2022-07-11            5.83   \n",
       "\n",
       "      Unidade de Medida          Bandeira Dias da Semana  \n",
       "4801         R$ / litro  Sul Combustíveis        Segunda  \n",
       "4802         R$ / litro  Sul Combustíveis        Segunda  \n",
       "8313         R$ / litro  Sul Combustíveis          Terça  \n",
       "8314         R$ / litro  Sul Combustíveis          Terça  \n",
       "18441        R$ / litro  Sul Combustíveis        Segunda  "
      ]
     },
     "execution_count": 67,
     "metadata": {},
     "output_type": "execute_result"
    }
   ],
   "source": [
    "# Criando um groupby dos registros da SUL COMBUSTÍVEIS e mostrando o df\n",
    "bandeira_sul_comb = conjunto_dados.loc[(conjunto_dados['Bandeira'] == 'Sul Combustíveis'), :].copy()\n",
    "bandeira_sul_comb.head()"
   ]
  },
  {
   "cell_type": "code",
   "execution_count": 68,
   "metadata": {},
   "outputs": [
    {
     "data": {
      "text/plain": [
       "Gasolina Aditivada    20\n",
       "Gasolina              20\n",
       "Name: Produto, dtype: int64"
      ]
     },
     "execution_count": 68,
     "metadata": {},
     "output_type": "execute_result"
    }
   ],
   "source": [
    "# Conferindo os valores únicos desses registros e confirmando que a SUL COMBUSTÍVEIS \n",
    "bandeira_sul_comb['Produto'].value_counts()"
   ]
  },
  {
   "cell_type": "code",
   "execution_count": 69,
   "metadata": {},
   "outputs": [
    {
     "data": {
      "text/html": [
       "<div>\n",
       "<style scoped>\n",
       "    .dataframe tbody tr th:only-of-type {\n",
       "        vertical-align: middle;\n",
       "    }\n",
       "\n",
       "    .dataframe tbody tr th {\n",
       "        vertical-align: top;\n",
       "    }\n",
       "\n",
       "    .dataframe thead th {\n",
       "        text-align: right;\n",
       "    }\n",
       "</style>\n",
       "<table border=\"1\" class=\"dataframe\">\n",
       "  <thead>\n",
       "    <tr style=\"text-align: right;\">\n",
       "      <th></th>\n",
       "      <th>Regiao - Sigla</th>\n",
       "      <th>Estado - Sigla</th>\n",
       "      <th>Municipio</th>\n",
       "      <th>Revenda</th>\n",
       "      <th>CNPJ da Revenda</th>\n",
       "      <th>Nome da Rua</th>\n",
       "      <th>Numero Rua</th>\n",
       "      <th>Complemento</th>\n",
       "      <th>Bairro</th>\n",
       "      <th>Cep</th>\n",
       "      <th>Produto</th>\n",
       "      <th>Data da Coleta</th>\n",
       "      <th>Valor de Venda</th>\n",
       "      <th>Unidade de Medida</th>\n",
       "      <th>Bandeira</th>\n",
       "      <th>Dias da Semana</th>\n",
       "    </tr>\n",
       "  </thead>\n",
       "  <tbody>\n",
       "    <tr>\n",
       "      <th>26062</th>\n",
       "      <td>SE</td>\n",
       "      <td>SP</td>\n",
       "      <td>Sao Joao Da Boa Vista</td>\n",
       "      <td>Comercial De Petroleo 4C Ltda</td>\n",
       "      <td>31.819.835/0001-00</td>\n",
       "      <td>Rua Tiradentes</td>\n",
       "      <td>45</td>\n",
       "      <td>0</td>\n",
       "      <td>Rosario</td>\n",
       "      <td>13870-260</td>\n",
       "      <td>Gasolina</td>\n",
       "      <td>2022-07-13</td>\n",
       "      <td>5.69</td>\n",
       "      <td>R$ / litro</td>\n",
       "      <td>Ruff C.J.</td>\n",
       "      <td>Quarta</td>\n",
       "    </tr>\n",
       "    <tr>\n",
       "      <th>26063</th>\n",
       "      <td>SE</td>\n",
       "      <td>SP</td>\n",
       "      <td>Sao Joao Da Boa Vista</td>\n",
       "      <td>Comercial De Petroleo 4C Ltda</td>\n",
       "      <td>31.819.835/0001-00</td>\n",
       "      <td>Rua Tiradentes</td>\n",
       "      <td>45</td>\n",
       "      <td>0</td>\n",
       "      <td>Rosario</td>\n",
       "      <td>13870-260</td>\n",
       "      <td>Etanol</td>\n",
       "      <td>2022-07-13</td>\n",
       "      <td>4.13</td>\n",
       "      <td>R$ / litro</td>\n",
       "      <td>Ruff C.J.</td>\n",
       "      <td>Quarta</td>\n",
       "    </tr>\n",
       "    <tr>\n",
       "      <th>40685</th>\n",
       "      <td>SE</td>\n",
       "      <td>SP</td>\n",
       "      <td>Sao Joao Da Boa Vista</td>\n",
       "      <td>Comercial De Petroleo 4C Ltda</td>\n",
       "      <td>31.819.835/0001-00</td>\n",
       "      <td>Rua Tiradentes</td>\n",
       "      <td>45</td>\n",
       "      <td>0</td>\n",
       "      <td>Rosario</td>\n",
       "      <td>13870-260</td>\n",
       "      <td>Etanol</td>\n",
       "      <td>2022-07-20</td>\n",
       "      <td>3.99</td>\n",
       "      <td>R$ / litro</td>\n",
       "      <td>Ruff C.J.</td>\n",
       "      <td>Quarta</td>\n",
       "    </tr>\n",
       "    <tr>\n",
       "      <th>40686</th>\n",
       "      <td>SE</td>\n",
       "      <td>SP</td>\n",
       "      <td>Sao Joao Da Boa Vista</td>\n",
       "      <td>Comercial De Petroleo 4C Ltda</td>\n",
       "      <td>31.819.835/0001-00</td>\n",
       "      <td>Rua Tiradentes</td>\n",
       "      <td>45</td>\n",
       "      <td>0</td>\n",
       "      <td>Rosario</td>\n",
       "      <td>13870-260</td>\n",
       "      <td>Gasolina</td>\n",
       "      <td>2022-07-20</td>\n",
       "      <td>5.69</td>\n",
       "      <td>R$ / litro</td>\n",
       "      <td>Ruff C.J.</td>\n",
       "      <td>Quarta</td>\n",
       "    </tr>\n",
       "    <tr>\n",
       "      <th>51314</th>\n",
       "      <td>SE</td>\n",
       "      <td>SP</td>\n",
       "      <td>Sao Joao Da Boa Vista</td>\n",
       "      <td>Comercial De Petroleo 4C Ltda</td>\n",
       "      <td>31.819.835/0001-00</td>\n",
       "      <td>Rua Tiradentes</td>\n",
       "      <td>45</td>\n",
       "      <td>0</td>\n",
       "      <td>Rosario</td>\n",
       "      <td>13870-260</td>\n",
       "      <td>Etanol</td>\n",
       "      <td>2022-07-26</td>\n",
       "      <td>3.99</td>\n",
       "      <td>R$ / litro</td>\n",
       "      <td>Ruff C.J.</td>\n",
       "      <td>Terça</td>\n",
       "    </tr>\n",
       "  </tbody>\n",
       "</table>\n",
       "</div>"
      ],
      "text/plain": [
       "      Regiao - Sigla Estado - Sigla              Municipio  \\\n",
       "26062             SE             SP  Sao Joao Da Boa Vista   \n",
       "26063             SE             SP  Sao Joao Da Boa Vista   \n",
       "40685             SE             SP  Sao Joao Da Boa Vista   \n",
       "40686             SE             SP  Sao Joao Da Boa Vista   \n",
       "51314             SE             SP  Sao Joao Da Boa Vista   \n",
       "\n",
       "                             Revenda      CNPJ da Revenda     Nome da Rua  \\\n",
       "26062  Comercial De Petroleo 4C Ltda   31.819.835/0001-00  Rua Tiradentes   \n",
       "26063  Comercial De Petroleo 4C Ltda   31.819.835/0001-00  Rua Tiradentes   \n",
       "40685  Comercial De Petroleo 4C Ltda   31.819.835/0001-00  Rua Tiradentes   \n",
       "40686  Comercial De Petroleo 4C Ltda   31.819.835/0001-00  Rua Tiradentes   \n",
       "51314  Comercial De Petroleo 4C Ltda   31.819.835/0001-00  Rua Tiradentes   \n",
       "\n",
       "      Numero Rua Complemento   Bairro        Cep   Produto Data da Coleta  \\\n",
       "26062         45           0  Rosario  13870-260  Gasolina     2022-07-13   \n",
       "26063         45           0  Rosario  13870-260    Etanol     2022-07-13   \n",
       "40685         45           0  Rosario  13870-260    Etanol     2022-07-20   \n",
       "40686         45           0  Rosario  13870-260  Gasolina     2022-07-20   \n",
       "51314         45           0  Rosario  13870-260    Etanol     2022-07-26   \n",
       "\n",
       "       Valor de Venda Unidade de Medida   Bandeira Dias da Semana  \n",
       "26062            5.69        R$ / litro  Ruff C.J.         Quarta  \n",
       "26063            4.13        R$ / litro  Ruff C.J.         Quarta  \n",
       "40685            3.99        R$ / litro  Ruff C.J.         Quarta  \n",
       "40686            5.69        R$ / litro  Ruff C.J.         Quarta  \n",
       "51314            3.99        R$ / litro  Ruff C.J.          Terça  "
      ]
     },
     "execution_count": 69,
     "metadata": {},
     "output_type": "execute_result"
    }
   ],
   "source": [
    "# Criando um groupby dos registros da RUFF C.J. e mostrando o df\n",
    "bandeira_ruff_comb = conjunto_dados.loc[(conjunto_dados['Bandeira'] == 'Ruff C.J.'), :].copy()\n",
    "bandeira_ruff_comb.head()"
   ]
  },
  {
   "cell_type": "code",
   "execution_count": 70,
   "metadata": {
    "scrolled": true
   },
   "outputs": [
    {
     "data": {
      "text/plain": [
       "Gasolina    6\n",
       "Etanol      6\n",
       "Name: Produto, dtype: int64"
      ]
     },
     "execution_count": 70,
     "metadata": {},
     "output_type": "execute_result"
    }
   ],
   "source": [
    "bandeira_ruff_comb['Produto'].value_counts()"
   ]
  },
  {
   "cell_type": "code",
   "execution_count": 71,
   "metadata": {
    "scrolled": true
   },
   "outputs": [
    {
     "data": {
      "text/html": [
       "<div>\n",
       "<style scoped>\n",
       "    .dataframe tbody tr th:only-of-type {\n",
       "        vertical-align: middle;\n",
       "    }\n",
       "\n",
       "    .dataframe tbody tr th {\n",
       "        vertical-align: top;\n",
       "    }\n",
       "\n",
       "    .dataframe thead tr th {\n",
       "        text-align: left;\n",
       "    }\n",
       "\n",
       "    .dataframe thead tr:last-of-type th {\n",
       "        text-align: right;\n",
       "    }\n",
       "</style>\n",
       "<table border=\"1\" class=\"dataframe\">\n",
       "  <thead>\n",
       "    <tr>\n",
       "      <th></th>\n",
       "      <th></th>\n",
       "      <th>Bandeira</th>\n",
       "      <th colspan=\"3\" halign=\"left\">Valor de Venda</th>\n",
       "    </tr>\n",
       "    <tr>\n",
       "      <th></th>\n",
       "      <th>Produto</th>\n",
       "      <th></th>\n",
       "      <th>Etanol</th>\n",
       "      <th>Gasolina</th>\n",
       "      <th>Gasolina Aditivada</th>\n",
       "    </tr>\n",
       "    <tr>\n",
       "      <th></th>\n",
       "      <th>Produto</th>\n",
       "      <th></th>\n",
       "      <th></th>\n",
       "      <th></th>\n",
       "      <th></th>\n",
       "    </tr>\n",
       "  </thead>\n",
       "  <tbody>\n",
       "    <tr>\n",
       "      <th>Bandeira</th>\n",
       "      <th></th>\n",
       "      <td>1.000000</td>\n",
       "      <td>-0.186898</td>\n",
       "      <td>-0.162000</td>\n",
       "      <td>0.027486</td>\n",
       "    </tr>\n",
       "    <tr>\n",
       "      <th rowspan=\"3\" valign=\"top\">Valor de Venda</th>\n",
       "      <th>Etanol</th>\n",
       "      <td>-0.186898</td>\n",
       "      <td>1.000000</td>\n",
       "      <td>0.501727</td>\n",
       "      <td>0.261135</td>\n",
       "    </tr>\n",
       "    <tr>\n",
       "      <th>Gasolina</th>\n",
       "      <td>-0.162000</td>\n",
       "      <td>0.501727</td>\n",
       "      <td>1.000000</td>\n",
       "      <td>0.840504</td>\n",
       "    </tr>\n",
       "    <tr>\n",
       "      <th>Gasolina Aditivada</th>\n",
       "      <td>0.027486</td>\n",
       "      <td>0.261135</td>\n",
       "      <td>0.840504</td>\n",
       "      <td>1.000000</td>\n",
       "    </tr>\n",
       "  </tbody>\n",
       "</table>\n",
       "</div>"
      ],
      "text/plain": [
       "                                   Bandeira Valor de Venda            \\\n",
       "Produto                                             Etanol  Gasolina   \n",
       "               Produto                                                 \n",
       "Bandeira                           1.000000      -0.186898 -0.162000   \n",
       "Valor de Venda Etanol             -0.186898       1.000000  0.501727   \n",
       "               Gasolina           -0.162000       0.501727  1.000000   \n",
       "               Gasolina Aditivada  0.027486       0.261135  0.840504   \n",
       "\n",
       "                                                      \n",
       "Produto                           Gasolina Aditivada  \n",
       "               Produto                                \n",
       "Bandeira                                    0.027486  \n",
       "Valor de Venda Etanol                       0.261135  \n",
       "               Gasolina                     0.840504  \n",
       "               Gasolina Aditivada           1.000000  "
      ]
     },
     "execution_count": 71,
     "metadata": {},
     "output_type": "execute_result"
    }
   ],
   "source": [
    "media_bandeira_1['Bandeira'] = media_bandeira_1['Bandeira'].astype('category').cat.codes\n",
    "media_bandeira_1.corr()"
   ]
  },
  {
   "cell_type": "code",
   "execution_count": 72,
   "metadata": {},
   "outputs": [],
   "source": [
    "# IDEIAS\n",
    "\n",
    "# - Pegar as principais bandeiras (que vende todos os combs e esta presente em todas regioes) e plotar\n",
    "#   um gráfico de barras\n",
    "\n",
    "# - Fazer igual aquele gráfico de barras azuis que o José fez nos testes dele (cada barra uma bandeira\n",
    "#   e seus preços médios)\n",
    "#        - separar por combustivel"
   ]
  },
  {
   "cell_type": "code",
   "execution_count": 73,
   "metadata": {},
   "outputs": [],
   "source": [
    "#media_bandeira2 = media_combustivel_bandeira.unstack('Bandeira')\n",
    "#media_bandeira2"
   ]
  },
  {
   "cell_type": "code",
   "execution_count": 74,
   "metadata": {},
   "outputs": [],
   "source": [
    "#correlacao4 = media_bandeira2.corr()\n",
    "#correlacao4"
   ]
  },
  {
   "cell_type": "code",
   "execution_count": 75,
   "metadata": {},
   "outputs": [],
   "source": [
    "#sns.heatmap(media_bandeira_1, annot = True, fmt=\".1f\")"
   ]
  },
  {
   "cell_type": "code",
   "execution_count": 76,
   "metadata": {},
   "outputs": [
    {
     "data": {
      "text/html": [
       "<div>\n",
       "<style scoped>\n",
       "    .dataframe tbody tr th:only-of-type {\n",
       "        vertical-align: middle;\n",
       "    }\n",
       "\n",
       "    .dataframe tbody tr th {\n",
       "        vertical-align: top;\n",
       "    }\n",
       "\n",
       "    .dataframe thead th {\n",
       "        text-align: right;\n",
       "    }\n",
       "</style>\n",
       "<table border=\"1\" class=\"dataframe\">\n",
       "  <thead>\n",
       "    <tr style=\"text-align: right;\">\n",
       "      <th></th>\n",
       "      <th></th>\n",
       "      <th>Preço Médio</th>\n",
       "    </tr>\n",
       "    <tr>\n",
       "      <th>Regiao - Sigla</th>\n",
       "      <th>Produto</th>\n",
       "      <th></th>\n",
       "    </tr>\n",
       "  </thead>\n",
       "  <tbody>\n",
       "    <tr>\n",
       "      <th rowspan=\"3\" valign=\"top\">CO</th>\n",
       "      <th>Etanol</th>\n",
       "      <td>4.107305</td>\n",
       "    </tr>\n",
       "    <tr>\n",
       "      <th>Gasolina</th>\n",
       "      <td>5.581603</td>\n",
       "    </tr>\n",
       "    <tr>\n",
       "      <th>Gasolina Aditivada</th>\n",
       "      <td>5.721266</td>\n",
       "    </tr>\n",
       "    <tr>\n",
       "      <th rowspan=\"3\" valign=\"top\">N</th>\n",
       "      <th>Etanol</th>\n",
       "      <td>5.340633</td>\n",
       "    </tr>\n",
       "    <tr>\n",
       "      <th>Gasolina</th>\n",
       "      <td>5.972082</td>\n",
       "    </tr>\n",
       "    <tr>\n",
       "      <th>Gasolina Aditivada</th>\n",
       "      <td>6.105695</td>\n",
       "    </tr>\n",
       "    <tr>\n",
       "      <th rowspan=\"3\" valign=\"top\">NE</th>\n",
       "      <th>Etanol</th>\n",
       "      <td>5.246069</td>\n",
       "    </tr>\n",
       "    <tr>\n",
       "      <th>Gasolina</th>\n",
       "      <td>5.955809</td>\n",
       "    </tr>\n",
       "    <tr>\n",
       "      <th>Gasolina Aditivada</th>\n",
       "      <td>6.109450</td>\n",
       "    </tr>\n",
       "    <tr>\n",
       "      <th rowspan=\"3\" valign=\"top\">S</th>\n",
       "      <th>Etanol</th>\n",
       "      <td>4.842372</td>\n",
       "    </tr>\n",
       "    <tr>\n",
       "      <th>Gasolina</th>\n",
       "      <td>5.641161</td>\n",
       "    </tr>\n",
       "    <tr>\n",
       "      <th>Gasolina Aditivada</th>\n",
       "      <td>5.777628</td>\n",
       "    </tr>\n",
       "    <tr>\n",
       "      <th rowspan=\"3\" valign=\"top\">SE</th>\n",
       "      <th>Etanol</th>\n",
       "      <td>4.149964</td>\n",
       "    </tr>\n",
       "    <tr>\n",
       "      <th>Gasolina</th>\n",
       "      <td>5.615655</td>\n",
       "    </tr>\n",
       "    <tr>\n",
       "      <th>Gasolina Aditivada</th>\n",
       "      <td>5.827207</td>\n",
       "    </tr>\n",
       "  </tbody>\n",
       "</table>\n",
       "</div>"
      ],
      "text/plain": [
       "                                   Preço Médio\n",
       "Regiao - Sigla Produto                        \n",
       "CO             Etanol                 4.107305\n",
       "               Gasolina               5.581603\n",
       "               Gasolina Aditivada     5.721266\n",
       "N              Etanol                 5.340633\n",
       "               Gasolina               5.972082\n",
       "               Gasolina Aditivada     6.105695\n",
       "NE             Etanol                 5.246069\n",
       "               Gasolina               5.955809\n",
       "               Gasolina Aditivada     6.109450\n",
       "S              Etanol                 4.842372\n",
       "               Gasolina               5.641161\n",
       "               Gasolina Aditivada     5.777628\n",
       "SE             Etanol                 4.149964\n",
       "               Gasolina               5.615655\n",
       "               Gasolina Aditivada     5.827207"
      ]
     },
     "execution_count": 76,
     "metadata": {},
     "output_type": "execute_result"
    }
   ],
   "source": [
    "media_combs_regiao = conjunto_dados.groupby(['Regiao - Sigla','Produto'])[['Valor de Venda']].mean()\n",
    "media_combs_regiao.columns = ['Preço Médio']\n",
    "media_combs_regiao"
   ]
  },
  {
   "cell_type": "code",
   "execution_count": 77,
   "metadata": {},
   "outputs": [
    {
     "data": {
      "text/html": [
       "<style type=\"text/css\">\n",
       "#T_86cda_row0_col0 {\n",
       "  background-color: #67000d;\n",
       "  color: #f1f1f1;\n",
       "}\n",
       "#T_86cda_row1_col0 {\n",
       "  background-color: #e22e27;\n",
       "  color: #f1f1f1;\n",
       "}\n",
       "#T_86cda_row2_col0 {\n",
       "  background-color: #e53228;\n",
       "  color: #f1f1f1;\n",
       "}\n",
       "#T_86cda_row3_col0 {\n",
       "  background-color: #fee5d9;\n",
       "  color: #000000;\n",
       "}\n",
       "#T_86cda_row4_col0 {\n",
       "  background-color: #fff5f0;\n",
       "  color: #000000;\n",
       "}\n",
       "</style>\n",
       "<table id=\"T_86cda\">\n",
       "  <thead>\n",
       "    <tr>\n",
       "      <th class=\"blank level0\" >&nbsp;</th>\n",
       "      <th id=\"T_86cda_level0_col0\" class=\"col_heading level0 col0\" >Valor de Venda</th>\n",
       "    </tr>\n",
       "    <tr>\n",
       "      <th class=\"index_name level0\" >Dias da Semana</th>\n",
       "      <th class=\"blank col0\" >&nbsp;</th>\n",
       "    </tr>\n",
       "  </thead>\n",
       "  <tbody>\n",
       "    <tr>\n",
       "      <th id=\"T_86cda_level0_row0\" class=\"row_heading level0 row0\" >Sexta</th>\n",
       "      <td id=\"T_86cda_row0_col0\" class=\"data row0 col0\" > R$ 5.444</td>\n",
       "    </tr>\n",
       "    <tr>\n",
       "      <th id=\"T_86cda_level0_row1\" class=\"row_heading level0 row1\" >Segunda</th>\n",
       "      <td id=\"T_86cda_row1_col0\" class=\"data row1 col0\" > R$ 5.394</td>\n",
       "    </tr>\n",
       "    <tr>\n",
       "      <th id=\"T_86cda_level0_row2\" class=\"row_heading level0 row2\" >Terça</th>\n",
       "      <td id=\"T_86cda_row2_col0\" class=\"data row2 col0\" > R$ 5.393</td>\n",
       "    </tr>\n",
       "    <tr>\n",
       "      <th id=\"T_86cda_level0_row3\" class=\"row_heading level0 row3\" >Quarta</th>\n",
       "      <td id=\"T_86cda_row3_col0\" class=\"data row3 col0\" > R$ 5.307</td>\n",
       "    </tr>\n",
       "    <tr>\n",
       "      <th id=\"T_86cda_level0_row4\" class=\"row_heading level0 row4\" >Quinta</th>\n",
       "      <td id=\"T_86cda_row4_col0\" class=\"data row4 col0\" > R$ 5.293</td>\n",
       "    </tr>\n",
       "  </tbody>\n",
       "</table>\n"
      ],
      "text/plain": [
       "<pandas.io.formats.style.Styler at 0x1d0e12b0>"
      ]
     },
     "execution_count": 77,
     "metadata": {},
     "output_type": "execute_result"
    }
   ],
   "source": [
    "# EXTRA 1: Qual dia da semana possui o valor dos combustíveis mais caros?\n",
    "# Inicialmente fizemos um dataframe agrupando a média do valor de venda por dias da semana. Foi verificado que os dados estão contidos em dias úteis.\n",
    "vendasemana = conjunto_dados.groupby(['Dias da Semana'])[['Valor de Venda']].mean()\n",
    "# Classificamos pelo Valor de venda para o maior número\n",
    "vendasemana.sort_values('Valor de Venda',inplace=True,ascending=False)\n",
    "# Estilizamos para o formato de 3 números após a vírgula\n",
    "vendasemana.style.format(' R$ {:,.3f}').background_gradient(cmap='Reds')\n",
    "# Sextas possuem valores mais caros em todos os combustíveis.\n",
    "# offtopic: Podemos colocar como gráfico de barras também\n",
    "#sns.barplot(x=vendasemana.index,y='Valor de Venda',data = vendasemana)\n"
   ]
  },
  {
   "cell_type": "code",
   "execution_count": 78,
   "metadata": {},
   "outputs": [
    {
     "data": {
      "text/html": [
       "<style type=\"text/css\">\n",
       "#T_6e1d6_row0_col0, #T_6e1d6_row3_col0 {\n",
       "  background-color: #fff5f0;\n",
       "  color: #000000;\n",
       "}\n",
       "#T_6e1d6_row1_col0 {\n",
       "  background-color: #b61319;\n",
       "  color: #f1f1f1;\n",
       "}\n",
       "#T_6e1d6_row2_col0 {\n",
       "  background-color: #860811;\n",
       "  color: #f1f1f1;\n",
       "}\n",
       "#T_6e1d6_row4_col0 {\n",
       "  background-color: #bb141a;\n",
       "  color: #f1f1f1;\n",
       "}\n",
       "#T_6e1d6_row5_col0 {\n",
       "  background-color: #920a13;\n",
       "  color: #f1f1f1;\n",
       "}\n",
       "#T_6e1d6_row6_col0 {\n",
       "  background-color: #ffebe2;\n",
       "  color: #000000;\n",
       "}\n",
       "#T_6e1d6_row7_col0 {\n",
       "  background-color: #a10e15;\n",
       "  color: #f1f1f1;\n",
       "}\n",
       "#T_6e1d6_row8_col0, #T_6e1d6_row11_col0 {\n",
       "  background-color: #67000d;\n",
       "  color: #f1f1f1;\n",
       "}\n",
       "#T_6e1d6_row9_col0 {\n",
       "  background-color: #ffefe8;\n",
       "  color: #000000;\n",
       "}\n",
       "#T_6e1d6_row10_col0 {\n",
       "  background-color: #960b13;\n",
       "  color: #f1f1f1;\n",
       "}\n",
       "#T_6e1d6_row12_col0 {\n",
       "  background-color: #fee8dd;\n",
       "  color: #000000;\n",
       "}\n",
       "#T_6e1d6_row13_col0 {\n",
       "  background-color: #aa1016;\n",
       "  color: #f1f1f1;\n",
       "}\n",
       "#T_6e1d6_row14_col0 {\n",
       "  background-color: #6d010e;\n",
       "  color: #f1f1f1;\n",
       "}\n",
       "</style>\n",
       "<table id=\"T_6e1d6\">\n",
       "  <thead>\n",
       "    <tr>\n",
       "      <th class=\"blank\" >&nbsp;</th>\n",
       "      <th class=\"blank level0\" >&nbsp;</th>\n",
       "      <th id=\"T_6e1d6_level0_col0\" class=\"col_heading level0 col0\" >Média</th>\n",
       "    </tr>\n",
       "    <tr>\n",
       "      <th class=\"index_name level0\" >Dias da Semana</th>\n",
       "      <th class=\"index_name level1\" >Produto</th>\n",
       "      <th class=\"blank col0\" >&nbsp;</th>\n",
       "    </tr>\n",
       "  </thead>\n",
       "  <tbody>\n",
       "    <tr>\n",
       "      <th id=\"T_6e1d6_level0_row0\" class=\"row_heading level0 row0\" rowspan=\"3\">Quarta</th>\n",
       "      <th id=\"T_6e1d6_level1_row0\" class=\"row_heading level1 row0\" >Etanol</th>\n",
       "      <td id=\"T_6e1d6_row0_col0\" class=\"data row0 col0\" > R$ 4.450</td>\n",
       "    </tr>\n",
       "    <tr>\n",
       "      <th id=\"T_6e1d6_level1_row1\" class=\"row_heading level1 row1\" >Gasolina</th>\n",
       "      <td id=\"T_6e1d6_row1_col0\" class=\"data row1 col0\" > R$ 5.670</td>\n",
       "    </tr>\n",
       "    <tr>\n",
       "      <th id=\"T_6e1d6_level1_row2\" class=\"row_heading level1 row2\" >Gasolina Aditivada</th>\n",
       "      <td id=\"T_6e1d6_row2_col0\" class=\"data row2 col0\" > R$ 5.846</td>\n",
       "    </tr>\n",
       "    <tr>\n",
       "      <th id=\"T_6e1d6_level0_row3\" class=\"row_heading level0 row3\" rowspan=\"3\">Quinta</th>\n",
       "      <th id=\"T_6e1d6_level1_row3\" class=\"row_heading level1 row3\" >Etanol</th>\n",
       "      <td id=\"T_6e1d6_row3_col0\" class=\"data row3 col0\" > R$ 4.445</td>\n",
       "    </tr>\n",
       "    <tr>\n",
       "      <th id=\"T_6e1d6_level1_row4\" class=\"row_heading level1 row4\" >Gasolina</th>\n",
       "      <td id=\"T_6e1d6_row4_col0\" class=\"data row4 col0\" > R$ 5.644</td>\n",
       "    </tr>\n",
       "    <tr>\n",
       "      <th id=\"T_6e1d6_level1_row5\" class=\"row_heading level1 row5\" >Gasolina Aditivada</th>\n",
       "      <td id=\"T_6e1d6_row5_col0\" class=\"data row5 col0\" > R$ 5.808</td>\n",
       "    </tr>\n",
       "    <tr>\n",
       "      <th id=\"T_6e1d6_level0_row6\" class=\"row_heading level0 row6\" rowspan=\"3\">Segunda</th>\n",
       "      <th id=\"T_6e1d6_level1_row6\" class=\"row_heading level1 row6\" >Etanol</th>\n",
       "      <td id=\"T_6e1d6_row6_col0\" class=\"data row6 col0\" > R$ 4.533</td>\n",
       "    </tr>\n",
       "    <tr>\n",
       "      <th id=\"T_6e1d6_level1_row7\" class=\"row_heading level1 row7\" >Gasolina</th>\n",
       "      <td id=\"T_6e1d6_row7_col0\" class=\"data row7 col0\" > R$ 5.763</td>\n",
       "    </tr>\n",
       "    <tr>\n",
       "      <th id=\"T_6e1d6_level1_row8\" class=\"row_heading level1 row8\" >Gasolina Aditivada</th>\n",
       "      <td id=\"T_6e1d6_row8_col0\" class=\"data row8 col0\" > R$ 5.937</td>\n",
       "    </tr>\n",
       "    <tr>\n",
       "      <th id=\"T_6e1d6_level0_row9\" class=\"row_heading level0 row9\" rowspan=\"3\">Sexta</th>\n",
       "      <th id=\"T_6e1d6_level1_row9\" class=\"row_heading level1 row9\" >Etanol</th>\n",
       "      <td id=\"T_6e1d6_row9_col0\" class=\"data row9 col0\" > R$ 4.501</td>\n",
       "    </tr>\n",
       "    <tr>\n",
       "      <th id=\"T_6e1d6_level1_row10\" class=\"row_heading level1 row10\" >Gasolina</th>\n",
       "      <td id=\"T_6e1d6_row10_col0\" class=\"data row10 col0\" > R$ 5.796</td>\n",
       "    </tr>\n",
       "    <tr>\n",
       "      <th id=\"T_6e1d6_level1_row11\" class=\"row_heading level1 row11\" >Gasolina Aditivada</th>\n",
       "      <td id=\"T_6e1d6_row11_col0\" class=\"data row11 col0\" > R$ 5.940</td>\n",
       "    </tr>\n",
       "    <tr>\n",
       "      <th id=\"T_6e1d6_level0_row12\" class=\"row_heading level0 row12\" rowspan=\"3\">Terça</th>\n",
       "      <th id=\"T_6e1d6_level1_row12\" class=\"row_heading level1 row12\" >Etanol</th>\n",
       "      <td id=\"T_6e1d6_row12_col0\" class=\"data row12 col0\" > R$ 4.567</td>\n",
       "    </tr>\n",
       "    <tr>\n",
       "      <th id=\"T_6e1d6_level1_row13\" class=\"row_heading level1 row13\" >Gasolina</th>\n",
       "      <td id=\"T_6e1d6_row13_col0\" class=\"data row13 col0\" > R$ 5.729</td>\n",
       "    </tr>\n",
       "    <tr>\n",
       "      <th id=\"T_6e1d6_level1_row14\" class=\"row_heading level1 row14\" >Gasolina Aditivada</th>\n",
       "      <td id=\"T_6e1d6_row14_col0\" class=\"data row14 col0\" > R$ 5.917</td>\n",
       "    </tr>\n",
       "  </tbody>\n",
       "</table>\n"
      ],
      "text/plain": [
       "<pandas.io.formats.style.Styler at 0x1d0e1ee0>"
      ]
     },
     "execution_count": 78,
     "metadata": {},
     "output_type": "execute_result"
    }
   ],
   "source": [
    "# Ainda o EXTRA 1\n",
    "# Para os combustiveis separadamente\n",
    "vendaprodutosemana = conjunto_dados.groupby(['Dias da Semana', 'Produto'])[['Valor de Venda']].mean()\n",
    "vendaprodutosemana.columns = ['Média']\n",
    "#vendaprodutosemana.sort_values('Média',inplace=True,ascending=False)\n",
    "vendaprodutosemana.style.format(' R$ {:,.3f}').background_gradient(cmap='Reds')\n",
    "# Gasolina aditivada na sexta é o valor mais caro."
   ]
  }
 ],
 "metadata": {
  "kernelspec": {
   "display_name": "Python 3 (ipykernel)",
   "language": "python",
   "name": "python3"
  },
  "language_info": {
   "codemirror_mode": {
    "name": "ipython",
    "version": 3
   },
   "file_extension": ".py",
   "mimetype": "text/x-python",
   "name": "python",
   "nbconvert_exporter": "python",
   "pygments_lexer": "ipython3",
   "version": "3.9.12"
  },
  "vscode": {
   "interpreter": {
    "hash": "11938c6bc6919ae2720b4d5011047913343b08a43b18698fd82dedb0d4417594"
   }
  }
 },
 "nbformat": 4,
 "nbformat_minor": 2
}
